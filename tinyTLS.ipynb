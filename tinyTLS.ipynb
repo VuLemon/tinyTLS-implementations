{
 "cells": [
  {
   "cell_type": "markdown",
   "metadata": {},
   "source": [
    "# Tiny-TLS 1.3 Toy Implementation for COSI107a, Spring 2025\n",
    "\n",
    "This document contains the implementation of a toy version of TLS 1.3, to be used as material for Brandeis' COSI107a course. The goal is to implement a minimalist version of TLS 1.3 that can communicate with a server using the protocol.\n",
    "\n",
    "This is a work in progress, and it is expected that changes will be made to the protocol as we move forward\n"
   ]
  },
  {
   "cell_type": "markdown",
   "metadata": {},
   "source": [
    "## 1. Import the necessary libraries ✅\n",
    "\n",
    "Since we're working with TLS in Python, it is helpful to use Python libraries that allow us to pack our data into binary form. TLS protocol specifies exact byte length and format, and we'll be doing a lot of conversion between numbers and bytes. We'll use the Python Struct library for this purpose\n",
    "\n",
    "We'll also be importing the x25519 curve from the Cryptography library to generate the key used in our messages\n",
    "\n"
   ]
  },
  {
   "cell_type": "code",
   "execution_count": 245,
   "metadata": {},
   "outputs": [],
   "source": [
    "import struct\n",
    "\n",
    "from cryptography.hazmat.primitives.asymmetric import x25519\n",
    "from cryptography.hazmat.primitives import serialization, hashes\n",
    "from cryptography.hazmat.primitives.kdf import hkdf\n",
    "from cryptography.hazmat.primitives.ciphers.aead import AESGCM\n",
    "from cryptography.hazmat.primitives.ciphers import Cipher, algorithms, modes\n",
    "from cryptography.hazmat.primitives.hmac import HMAC\n",
    "from cryptography.hazmat.backends import default_backend\n",
    "\n",
    "import socket\n",
    "import time\n",
    "from urllib.parse import urlparse\n",
    "\n",
    "\n",
    "import os #for random nonce generation"
   ]
  },
  {
   "cell_type": "markdown",
   "metadata": {},
   "source": [
    "# 2a. Define some helper functions 🟨\n",
    "\n",
    "TLS represents all of its messages in byte form. As such, some elements (such as the content length) must be converted from integer to big edian, specifically with 2 bytes. We also need to be able to join the distinct elements in a message into a single byte slice\n"
   ]
  },
  {
   "cell_type": "code",
   "execution_count": 246,
   "metadata": {},
   "outputs": [],
   "source": [
    "def u16_to_byte(x: int) -> bytes:\n",
    "    return struct.pack('>H', x) # Use the struct package to pack a number into big-edian 2 bytes\n",
    "\n",
    "def concatenate(*bufs: bytes) -> bytes: # Concatenate multiple byte slices into one singular byte slice\n",
    "    return b''.join(bufs)\n",
    "\n",
    "def print_bytes_as_hex(b: bytes) -> None: # This is to print the bytes as hex strings. Easier to double check this way\n",
    "    hex_string = ' '.join([f'{x:02x}' for x in b])\n",
    "    print(hex_string)"
   ]
  },
  {
   "cell_type": "markdown",
   "metadata": {},
   "source": [
    "# 2b. Define our private key and public key ✅\n",
    "\n",
    "We can then generate the public key and private key using the x25519 curve from Cryptography\n"
   ]
  },
  {
   "cell_type": "code",
   "execution_count": 247,
   "metadata": {},
   "outputs": [
    {
     "name": "stdout",
     "output_type": "stream",
     "text": [
      "b'\\x008\\x9b\\xb4\\xcd3\\xe0\\xba\\x85\\xbf\\xca,\\xb4\\xfd\\x8a\\xd2\\xda\\xe7zv\\xb7\\xf1\\xf6!\\x02\\x8f\\xa9GJ\\xe2!R'\n",
      "b'\\x07\\x83i\\x99\\xe3e\"\\x1a\\xe6\\xd3Sf\\xb9:\\xae\\xa6d5R8\\xf1f\\x1c\\x97\\x1d\\xc0\\x89\\x1d*F\\xa7r'\n"
     ]
    }
   ],
   "source": [
    "def key_pair() -> bytes:\n",
    "    private_key = x25519.X25519PrivateKey.generate()\n",
    "    public_key = private_key.public_key()\n",
    "    return private_key, public_key\n",
    "\n",
    "private_key, public_key = key_pair()\n",
    "\n",
    "print(private_key.private_bytes(\n",
    "    encoding=serialization.Encoding.Raw,\n",
    "    format=serialization.PrivateFormat.Raw,\n",
    "    encryption_algorithm=serialization.NoEncryption()\n",
    "    ))\n",
    "print(public_key.public_bytes(\n",
    "    encoding=serialization.Encoding.Raw,\n",
    "    format=serialization.PublicFormat.Raw\n",
    "    )) \n"
   ]
  },
  {
   "cell_type": "markdown",
   "metadata": {},
   "source": [
    "Notice how each time we run the code, the public_key is different. This is intended behavior, as it prevents attackers from being able to predict our key pairs"
   ]
  },
  {
   "cell_type": "markdown",
   "metadata": {},
   "source": [
    "# 3. The Extension Blueprint: 🟨\n",
    "\n",
    "Extensions play a large part in shaping a TLS message. From negotiating supported key group to exchanging keys, all of these are achieved using extensions. Luckily for us, these different extensions have a common blueprint\n",
    "\n"
   ]
  },
  {
   "cell_type": "code",
   "execution_count": 248,
   "metadata": {},
   "outputs": [
    {
     "name": "stdout",
     "output_type": "stream",
     "text": [
      "00 0a 00 02 00 1d\n"
     ]
    }
   ],
   "source": [
    "def extension(id: int, content: bytes) -> bytes:\n",
    "    return concatenate(\n",
    "        u16_to_byte(id),                         #The ID of the extension. (e.g 0x0a = Supported Group)\n",
    "        u16_to_byte(len(content)),               #Length of content\n",
    "        content                                  #The actual content itself\n",
    "    )\n",
    "\n",
    "print_bytes_as_hex(extension(0x0a, bytes([0x00, 0x1d]))) #Example Supported Group extension\n"
   ]
  },
  {
   "cell_type": "markdown",
   "metadata": {},
   "source": [
    "# 4. The ClientHello 🟨\n",
    "\n",
    "With those building blocks, we can now write our first TLS message: The ClientHello. The ClientHello is always the first message to be sent in a TLS handshake, indicating that the client wants to connect with the server\n",
    "\n",
    "The ClientHello has these components, in this order:\n",
    "1. ProtocolVersion (Negotiate which version of TLS we're using)\n",
    "2. Random Nonce (32 bit, for key generation)\n",
    "3. Legacy Session ID (For our purposes, we won't be using sessions)\n",
    "4. Cipher Suites (contains a suite of cipher - how to actually encrypt the key once we have it)\n",
    "5. Legacy Compression Method (For TLS 1.3, this is null)\n",
    "6. Extensions \n",
    "\n",
    "The code for it is as follows:"
   ]
  },
  {
   "cell_type": "code",
   "execution_count": 249,
   "metadata": {},
   "outputs": [
    {
     "name": "stdout",
     "output_type": "stream",
     "text": [
      "16 03 01 00 9b 01 00 00 97 03 03 27 39 3d ac d6 47 ce 9b 9b a3 47 ee b3 52 85 64 8a 7e 9a 4a 34 5d 7b 11 48 62 8f 31 9f b4 ce b6 00 00 02 13 02 01 00 00 6c 00 00 00 17 00 15 00 00 12 77 77 77 2e 63 6c 6f 75 64 66 6c 61 72 65 2e 63 6f 6d 00 0a 00 04 00 02 00 1d 00 0d 00 14 00 12 04 03 08 04 04 01 05 03 08 05 05 01 08 06 06 01 02 01 00 33 00 26 00 24 00 1d 00 20 07 83 69 99 e3 65 22 1a e6 d3 53 66 b9 3a ae a6 64 35 52 38 f1 66 1c 97 1d c0 89 1d 2a 46 a7 72 00 2b 00 03 02 03 04\n",
      "01 00 00 97 03 03 27 39 3d ac d6 47 ce 9b 9b a3 47 ee b3 52 85 64 8a 7e 9a 4a 34 5d 7b 11 48 62 8f 31 9f b4 ce b6 00 00 02 13 02 01 00 00 6c 00 00 00 17 00 15 00 00 12 77 77 77 2e 63 6c 6f 75 64 66 6c 61 72 65 2e 63 6f 6d 00 0a 00 04 00 02 00 1d 00 0d 00 14 00 12 04 03 08 04 04 01 05 03 08 05 05 01 08 06 06 01 02 01 00 33 00 26 00 24 00 1d 00 20 07 83 69 99 e3 65 22 1a e6 d3 53 66 b9 3a ae a6 64 35 52 38 f1 66 1c 97 1d c0 89 1d 2a 46 a7 72 00 2b 00 03 02 03 04\n"
     ]
    }
   ],
   "source": [
    "def client_hello() -> bytes:\n",
    "    client_random = os.urandom(32)\n",
    "    def key_share(pubkey: bytes) -> bytes:      # Encode our public key to be sent over the message\n",
    "        return concatenate(\n",
    "            u16_to_byte(len(pubkey) + 4),       # +4 represents the 4 extra byte before the pubkey (2 bytes for the x25519, 2 bytes for len of pubkey)\n",
    "            u16_to_byte(0x1d),                  # 0x1d is the value for x25519 key\n",
    "            u16_to_byte(len(pubkey)),           \n",
    "            pubkey\n",
    "        )\n",
    "    \n",
    "    def DNI(domain: str) -> bytes:\n",
    "        return concatenate(\n",
    "            u16_to_byte(len(bytes(domain,'utf-8')) + 3),\n",
    "            bytes([0x00]),\n",
    "            u16_to_byte(len(bytes(domain,'utf-8'))),\n",
    "            bytes(domain, 'utf-8')\n",
    "        )\n",
    "    \n",
    "    def extensions() -> bytes: #This intializes the extensions we need in our message\n",
    "        return concatenate(\n",
    "            extension(0x00, DNI('www.cloudflare.com')),\n",
    "            extension(0x0a, bytes([0x00, 0x02, 0x00, 0x1d])), #Supported Group extensions. Currently only contains the x25519 curve\n",
    "            extension(0x0d, bytes([0x00, 0x12, 0x04, 0x03, 0x08, 0x04, 0x04, 0x01, 0x05, 0x03, 0x08, 0x05, 0x05, 0x01, 0x08, 0x06, 0x06, 0x01, 0x02, 0x01])),\n",
    "            extension(0x33, key_share(public_key.public_bytes(\n",
    "                                encoding=serialization.Encoding.Raw,\n",
    "                                format=serialization.PublicFormat.Raw\n",
    "                            ))), #Key Share. Contains the public key generated from the x25519 curve\n",
    "            extension(0x2b, bytes([0x02, 0x03, 0x04])) #TLS Version. This is how we negotiate TLS 1.3\n",
    "        )\n",
    "    \n",
    "    def handshake() -> bytes: #This constitutes our actual ClientHello message\n",
    "        return concatenate(\n",
    "            bytes([0x03, 0x03]),                          # This value is for TLS 1.2. TLS 1.3 must disguise itself as TLS 1.2 to be received, after which it negotiates into TLS 1.3 through the TLS 1.3 extension\n",
    "            client_random,                             # Random Nonce for key\n",
    "            bytes([0x00]),                                # Session ID. Empty for our purposes\n",
    "            bytes([0x00, 0x02, 0x13, 0x02]),              # Cipher Suite. We have a single cipher for our cipher suite (SHA384)\n",
    "                                                          # I'm aware that there are 2 SHA384 ciphers: AES and CHACHA. I've included one here. Not sure\n",
    "                                                          # if we need the other one or not\n",
    "            bytes([0x01, 0x00]),                          # Compression Method. Empty for our purposes\n",
    "            u16_to_byte(len(extensions())),\n",
    "            extensions()\n",
    "        )\n",
    "    \n",
    "    return concatenate(                                 #Include record layers for TLS 1.3 to complete message\n",
    "        bytes([0x16, 0x03, 0x01]),\n",
    "        u16_to_byte(len(handshake()) + 4),\n",
    "        bytes([0x01,0x00]),\n",
    "        u16_to_byte(len(handshake())),\n",
    "        handshake()\n",
    "    ), client_random\n",
    "\n",
    "client_hello_msg, client_random = client_hello()\n",
    "print_bytes_as_hex(client_hello_msg)\n",
    "client_hello_no_record = client_hello_msg[5:] #This is to calculate the transcript hash\n",
    "print_bytes_as_hex(client_hello_no_record)\n",
    "\n",
    "\n",
    "## To check the validity of the ClientHello, copy paste the ClientHello into the openSSL_debug.py script and run it. Server should give back a response"
   ]
  },
  {
   "cell_type": "markdown",
   "metadata": {},
   "source": [
    "# 5. Sending the ClientHello: 🟨\n",
    "Since we now have the ClientHello, the next step would be to send it over to a public domain and see if the server responds. For this part, we'll be using www.cloudbase.com, as it supports TLS 1.3, and the cipher suite matches with our clientHello.\n"
   ]
  },
  {
   "cell_type": "code",
   "execution_count": 250,
   "metadata": {},
   "outputs": [
    {
     "name": "stdout",
     "output_type": "stream",
     "text": [
      "Attempting to connect to www.cloudflare.com:443\n",
      "Connected to server.\n",
      "Sent ClientHello (160 bytes)\n",
      "\n",
      "Waiting for server response...\n",
      "\n",
      "Received 2820 new bytes\n",
      "16 03 03 00 5a 02 00 00 56 03 03 ee a5 fc 0a 6d da f4 0b ca 67 5c 07 1c 67 66 63 b0 5e c1 51 b5 70 37 82 d1 9a f9 7c 08 d5 a1 2b 00 13 02 00 00 2e 00 33 00 24 00 1d 00 20 a5 bb b0 d3 4e 8b e5 e7 92 8a 53 49 d8 4b d5 1b d5 22 67 2d f7 c9 53 b8 59 88 83 d3 db ff 1c 6c 00 2b 00 02 03 04 14 03 03 00 01 01 17 03 03 0a 9a d8 fc 1a 6f a4 60 55 a2 3e 66 da fe e0 65 5d 76 09 55 a4 26 11 76 fb 4d c2 98 05 8b 35 f7 4c 65 86 ba d4 e2 b5 a4 63 bf e2 bb b3 27 2c dd 2c 76 f1 57 49 a1 2f ac 70 de 4f d4 e6 6f 08 d5 cd 39 46 08 da e1 57 de 9f 1a a8 b1 bc 08 59 69 36 62 92 f0 bd 50 33 f3 7b 04 a4 54 f9 19 2b b0 5f 36 27 d2 b2 54 bc e3 b0 88 e6 0b cf 50 25 ba c3 2b 65 19 7c 4b 6a 36 5b 65 3f d2 f5 ae 7c e1 9e 65 f5 64 40 9e d2 81 7a 5c dc 98 a2 08 b4 19 96 2e 50 70 b6 72 64 b9 b9 44 12 5b 38 18 2b ae 4f 60 8e a2 43 d1 3f 6c d1 bc fb 24 59 e4 38 d6 72 4b f2 3c 66 9e bb 07 71 1a ac e7 d8 a1 32 2c b8 b2 fa 7c fc 77 2e 0c 9f d1 23 2c 86 62 c6 eb 4b 79 30 77 a5 96 48 fc 5a 27 78 81 54 48 87 0d 75 21 3e b8 b9 bf c2 58 26 25 29 aa 35 fc 50 c5 17 ee 76 2b 02 ac 5d 85 34 b9 2a 23 1b 06 d4 a1 7d 09 29 9b 6c b5 04 1e 6e 04 fc 15 2d ba 57 1f 4d c0 2d 8e 00 1d 68 91 c1 7a 2d 6d c5 90 b7 a8 2c 4e 99 fd 16 61 31 79 6c b2 3f e6 6c 84 f9 2b 7f 2c e7 b0 7b 4a ca aa d5 79 f7 6e 1c 10 19 8b a6 02 58 71 dc c7 03 76 a7 7f bc a2 6f da 43 64 1b 53 a3 b3 b1 db ae e3 e3 3f d0 31 d7 b8 59 48 73 80 5f c9 cd 52 ba 84 77 5c e8 94 f1 1c eb 84 15 28 2e d4 e6 9e 8a 6a 78 53 8c 4e d4 08 fc cd 5f 56 0f 31 b0 7b 67 31 1f 14 d4 4b e3 d5 7b 1d 14 78 e7 e4 bc eb dc 93 77 c0 6d 30 27 29 38 2c dd 01 cb 81 f8 60 5a 31 b4 13 e0 47 d1 1a 01 43 93 49 1b e1 b4 ba ef 8f 90 56 db 30 45 5b de 97 24 d6 4a d0 d8 47 72 b9 da f3 5b 32 f0 84 d6 47 4b 7d 1b 5b e1 59 7e 8f 6f 07 d8 d0 c3 38 e9 8a 9b d6 34 4a bc d8 6b 18 d2 bf 66 71 93 d7 6d 47 16 1c 33 4d 07 ef e2 61 c1 cf c0 83 98 8b f0 a2 15 2d 05 e3 79 e0 5e c6 61 16 63 07 b2 68 b2 8f e2 2e 1c b8 83 52 99 e4 55 95 91 41 31 0c 5d 22 c4 26 e6 fc a4 75 31 f7 57 d6 34 6b 92 6a 34 b3 70 35 1a 21 87 73 a6 4d e1 d8 76 74 41 8c 1d 94 4e 1a 4d e8 bf 3c 35 3d 39 f9 7c 58 c1 6b e5 6c f8 4a 85 2a 9d e3 65 25 41 10 96 16 fb e5 74 c1 e6 86 3a d9 e1 c6 00 ee 4e 70 91 9f 7e fa 9d 3a 67 ca c6 55 f5 a7 07 4b 20 a8 08 c2 db 76 3d 59 c8 e5 2a 6f c8 4d 7c 71 65 26 07 eb 90 1c 67 79 72 eb ff b6 12 4a 97 29 4a c9 b6 1c 28 de 8a 8b 13 9d 22 16 1d 86 aa 2a d1 73 4e 31 a7 33 42 b3 aa 3b b4 b7 ab 7d f9 bd ba 10 7a bb 3d 00 70 8c f2 42 6b 44 d4 44 7c d4 33 90 6d af e7 b1 4b 0b 89 be d2 b8 c9 51 d4 04 07 9b af bc 12 af 59 f4 bb c4 de 5b 7f e1 55 ef 85 23 6f 3d 6f 11 74 ae c2 85 93 d2 ab 83 55 b6 c9 2c d2 5f c1 83 bd 88 0a 38 8a 3d e7 af be f1 9b 7d ea bd 3d a0 c6 8c 6f da 01 55 b9 92 ed 56 64 7e 93 5a 78 30 76 77 65 0b 3b b9 f5 73 87 a7 20 b6 e6 f0 38 7f 8c 7e 6d a4 40 fd 35 07 54 89 02 86 36 3c 24 1d 75 7c 09 1e 00 96 c7 42 ff 53 5f 7e d1 5c 80 04 41 ce f6 0c 62 b1 5d 6f 1c 90 55 9e 9f 49 f4 db 17 1d 29 38 a7 a3 d1 ea 95 58 11 ad b6 9b c0 91 83 93 aa e0 8a ec fa 64 df 0d 50 ae f6 17 c0 9c a7 d3 60 29 7c 53 13 c6 f8 4c 3e 0f e4 aa fb 51 06 87 17 75 9b eb 5b 4c a0 ab 1d e4 66 5d 45 c1 5e 84 77 4e 18 4a 6c e3 03 af da 16 c3 83 04 df ac 31 8f 4d 32 d5 ab 06 9c 3f 22 b3 0e 90 b8 9e b9 30 42 ba 60 c5 14 a1 cf 58 3a 90 37 df 76 dd 87 16 55 04 45 ce 8a 99 b3 88 47 c8 32 9e 9f bf 1c 4d a1 e9 7f a2 16 87 c9 fe 90 91 35 13 f7 ca da e8 0e 65 65 23 06 24 6a 85 e9 40 b4 fd a0 81 f4 9a ea 41 aa b5 12 d3 76 ce 9e 87 e4 17 fd 82 0c 9a e5 2b 93 a0 85 64 cc bc 32 60 1b 3f e5 15 a4 4d dc 0f 4a de 6d 9a 5c 9e e2 2c 14 96 8f 46 6c 07 e7 31 62 cd 90 35 62 5c 1a cd 14 70 78 4d 73 05 f4 7b c4 b3 65 b6 b1 0c 96 f6 ed e7 fe 7b 48 33 4d 9e f3 71 76 6b ef d5 64 73 75 0a 31 cc 23 6c 85 9e 58 ab 7a 76 21 c3 e5 43 b7 a3 f9 4c 2f 4f 08 7b d2 f6 48 fd 55 b4 00 60 0f 2b 97 03 38 9b b0 54 dd e9 06 87 70 ab 53 7a 81 d6 6e 44 d8 9b c3 09 de 45 49 20 12 2f 44 4d 2a 81 b6 1d da 88 b2 33 5d 93 93 06 90 8a 0a 99 0e 1c 19 97 bf 0f cb e0 02 1e 67 7e b8 0b a0 4b 0e 96 cf 84 64 62 41 ff 8b c4 66 c0 f9 a7 25 13 a9 3d 84 dc 1b 08 ce e3 c8 75 4d 63 55 06 14 67 09 7d b6 66 f1 3e 18 0a 92 48 7d 38 85 49 b4 23 02 6d fe 62 1e 35 08 f1 70 07 1d 39 25 54 49 52 b1 b9 9e b8 aa ca 84 a2 d4 86 8b c3 5c 15 eb 79 ea 64 4b f6 94 09 bb ee d7 df 43 f8 d6 2a 55 49 a0 92 e8 43 9b 88 4b 20 eb fe 2b 25 c1 cc 81 fc 0d d6 64 b6 d9 2c a4 27 a3 e1 f9 d8 90 40 9f b5 8a b0 de 82 61 93 9f b9 91 99 16 62 14 2a 2e 0e c1 c8 32 f2 e3 5c 87 09 28 3b fb 1a 9a 8c b5 0c 6b 94 78 81 3b 17 fb 22 95 64 20 22 32 df 0e 45 24 7f e9 b8 14 e1 42 1f 7f 79 03 01 18 6c b2 b6 00 ab 5f e4 6b 95 2b 8f d2 81 2c a4 0c 6f 98 08 b7 17 1b b1 1b 80 f9 ff 4b a7 77 7c 4e cb aa 3d 58 93 70 2d 0f 5f 58 90 97 b1 66 21 f1 d7 0f 5b b4 1e 05 41 8f a6 f2 c0 09 fb 8c 83 a1 93 58 28 88 99 5a 1b f8 73 91 23 a1 f5 45 ab fc cb 10 14 a0 24 10 85 bc 38 2e 37 c3 cd 12 24 0c b7 8f ae 0d 40 6c 04 37 c9 19 52 7b 06 b0 ff d6 48 f4 b9 2f 97 47 68 10 7b 98 d1 08 d7 b2 18 d8 de 1f 5c 3b 49 5b 85 69 f2 39 39 e1 34 a5 7d f6 06 c9 36 ba 35 08 30 36 00 1f 44 0a 51 62 5f bf ed 29 c3 df 28 6d f4 77 cb 65 3b a3 0d 35 93 b7 7c 57 34 41 45 a5 26 ce 93 04 ce fb f3 11 60 87 08 17 a1 9a 8f 62 0a be a5 6b 7e 41 33 13 3a 8b 25 2e 3e ef f3 68 d3 4a 74 6a f5 33 96 ce 55 f4 ec 26 4b d5 6e 86 eb 28 97 5c 46 15 fc bf d5 2f bb c0 40 27 a0 e4 6d ba f4 53 b0 2d 9c fc df d1 aa 74 26 eb f5 84 9b b8 8b 9b fb 1a ca 0c 41 fc 61 c1 35 64 3a d6 62 57 14 03 bc b1 1b e6 26 52 2a 0c 61 74 de 7c c2 33 e4 38 ec f5 67 dc eb 65 06 df 73 d2 2f 83 54 34 3f 63 5d dc ae b8 b1 3f cc d7 d0 d8 6b e0 50 8a 3f d7 a5 f0 2c ca 07 40 9c 40 30 6f 18 a7 8a a2 77 bc ca 65 a7 92 2e 1a c5 2d 42 43 dd 08 5d 3f 6f 8d 3f 17 5f 43 aa da 0a 12 65 de e7 45 22 a3 fa 00 cc 36 71 90 2b 05 c2 3e 25 35 97 6c a2 b7 b3 8e 0a c6 cf 7b c3 8b 29 6f 0a af 23 e4 2f 4c 0e dd 77 eb 02 75 00 5c 94 65 41 e1 6a 71 24 c6 cb 0e 48 eb aa ab 7b 5e 9c 7a 45 51 5f 5a 9b 74 ca 26 a1 11 d7 3b e3 1b 4c 8e 66 12 2b 16 f8 39 2d 36 30 21 e7 33 47 e5 a1 d9 a4 be 52 cc ae 1d d5 69 b3 d7 fd dc 2d 0e 7e ad 58 86 38 4a e9 19 f0 1a 92 42 66 ff 1c 7c b0 bb e3 87 4b 4d c1 e2 a7 a3 1a b1 93 df c8 16 98 79 34 04 1a 6c d0 56 5f 6b bf bd d4 0f 02 09 7e dc 07 b3 e3 43 e7 66 8e c6 57 f5 93 9c 1b ea 4c d2 7b e5 e5 25 91 41 c2 4c 05 88 39 14 0d 7e 9f e7 91 c4 ac bf 61 52 45 5c 4c 96 c9 a1 50 66 ef 35 b4 a1 dc 71 c1 c2 7d 7f 8c 66 d6 8e dd 9c 0f b4 6f 0f fb ca b8 dc 49 2c d1 27 3b f5 6c 3a bb f1 ec df 5d be 56 3e d4 1f c2 5a df 85 94 c3 b2 da 7c 3f 91 3d 2b 6f 73 7f 3e d7 22 4e 40 52 5e 84 0c 15 d2 eb a7 37 86 f3 21 ae d8 b6 66 01 db 04 7c 60 36 6f d6 25 4a 5e f2 33 3a 7e 2d dd d3 b8 07 2d 06 19 5d 69 6c 35 ef 8b e1 94 82 a7 ee 4f 69 61 0a 83 46 e0 65 31 dc 6f 8e 66 65 b2 71 8f 27 c8 c7 b7 f0 22 1a dd f2 9d 1d 6b 8b cc ab 7f 9b ba 32 9b cf 52 25 70 c5 89 c6 08 57 09 c6 1c d3 ac 96 f7 37 c0 cb c8 e7 97 32 b7 a0 4e 17 df 81 c1 ee 0e ad 6f c9 76 3d 7e a1 a4 94 46 ed 12 14 31 9f 36 fb 93 d2 0f f1 66 11 83 16 04 11 40 50 df e6 8c da 12 41 9c 4d 5a e5 ec 53 e4 de 80 9e 56 94 ec 59 48 77 88 11 74 fa bb 73 7d ea 7f 6e 94 ca b0 ad 7e 7b ea f1 b7 0e b5 9d 0b 4c 45 76 fb 33 23 43 19 0e 51 c6 fc 96 73 01 53 9c 27 a9 c6 a7 fb d7 95 e9 c7 f3 bd 69 65 69 75 80 10 ee b5 8c 07 c5 8b 2c ac 54 b2 1c a3 fc eb fe 59 f4 f9 d5 eb 48 5e e8 5e 7c a6 0c dc 3f a7 4d 03 75 7b 3f 3c 66 36 12 19 fc c0 91 06 41 05 b1 ad 9c c9 95 e5 70 a9 41 c9 14 b1 eb 7d c8 f9 3f d3 d5 d9 09 6a 19 1d c5 8d 64 49 bc 03 e9 d3 55 99 60 4d 2b 8f 41 e4 68 6b 26 36 97 0e 02 b3 6d 99 a1 dd 35 87 fb 59 04 37 e7 62 12 c1 68 80 b8 57 88 9c 1a f2 54 5c 31 e0 65 ac a4 38 85 55 78 e2 e8 22 9d 64 71 a4 95 82 4d d7 a5 c6 87 4a a6 11 c7 ef 06 34 4a f1 07 cc 82 c0 78 3f c7 3b 2a 5e 74 6c d7 d6 62 78 27 fc 04 e3 d9 f4 50 c2 3c 85 0f d7 fe 1b 4e c6 a6 6c 56 a3 24 3f 96 3e 71 e6 b1 0d 63 7f 4d be 34 3b fc 2e a5 ad 4e ea ae 58 23 d0 d5 f6 6e b8 d7 64 be 49 b3 66 ae fc de b3 84 be af cc ff 5c 46 e3 c9 ff 42 a6 e9 2f d9 05 60 84 b4 1e 1d 4f 5b 36 29 fb 4d 03 45 96 b4 99 fe 2c cf 3e 38 53 db b7 7f 1a 34 03 6c b6 17 87 71 7a dd 14 56 59 67 be fb e5 90 48 cd a8 1f 12 a3 63 b0 c4 e9 40 6c ed 9b 4b a8 b7 2e 1f 42 af c3 8d b8 de 49 82 65 c3 07 71 20 4f d0 a7 b5 e8 fb 7b 68 37 7c a9 dd 6d 25 0e d1 a1 00 c3 d8 d9 b5 f1 5d 17 a2 ed ae f7 2c 87 75 84 f8 cf 97 49 10 61 5a af 49 f3 bb fd b6 a6 8c a7 c1 5c e6 36 62 59 9d 53 78 b6 1d 33 62 e0 82 c1 72 80 33 6b 5a 49 c5 fe 0d 07 db 38 33 01 8f 12 a2 1d 96 9e 78 51 0d 3c bc 98 fa 5d f3 2c b2 85 32 ec 0b bb 19 74 2d 08 fb 14 4b f1 02 eb 6c 97 d8 86 ec 90 27 fa 4d 5c 45 cb 56 98 96 d0 da f2 59 6b 9d b9 24 23 ba\n",
      "None\n",
      "\n",
      "==================================================\n",
      "Record Type: Handshake\n",
      "TLS Version: 1.2/1.3\n",
      "Handshake Type: Server Hello\n",
      "Message Length: 86\n",
      "\n",
      "Message Payload:\n",
      "Hex: 02 00 00 56 03 03 ee a5 fc 0a 6d da f4 0b ca 67 5c 07 1c 67 66 63 b0 5e c1 51 b5 70 37 82 d1 9a f9 7c 08 d5 a1 2b 00 13 02 00 00 2e 00 33 00 24 00 1d 00 20 a5 bb b0 d3 4e 8b e5 e7 92 8a 53 49 d8 4b d5 1b d5 22 67 2d f7 c9 53 b8 59 88 83 d3 db ff 1c 6c 00 2b 00 02 03 04\n",
      "\n",
      "==================================================\n",
      "Record Type: Change Cipher Spec\n",
      "TLS Version: 1.2/1.3\n",
      "\n",
      "Record Payload:\n",
      "Hex: 01\n",
      "\n",
      "==================================================\n",
      "Record Type: Application Data\n",
      "TLS Version: 1.2/1.3\n",
      "\n",
      "Record Payload:\n",
      "Hex: 17 03 03 0a 9a d8 fc 1a 6f a4 60 55 a2 3e 66 da fe e0 65 5d 76 09 55 a4 26 11 76 fb 4d c2 98 05 8b 35 f7 4c 65 86 ba d4 e2 b5 a4 63 bf e2 bb b3 27 2c dd 2c 76 f1 57 49 a1 2f ac 70 de 4f d4 e6 6f 08 d5 cd 39 46 08 da e1 57 de 9f 1a a8 b1 bc 08 59 69 36 62 92 f0 bd 50 33 f3 7b 04 a4 54 f9 19 2b b0 5f 36 27 d2 b2 54 bc e3 b0 88 e6 0b cf 50 25 ba c3 2b 65 19 7c 4b 6a 36 5b 65 3f d2 f5 ae 7c e1 9e 65 f5 64 40 9e d2 81 7a 5c dc 98 a2 08 b4 19 96 2e 50 70 b6 72 64 b9 b9 44 12 5b 38 18 2b ae 4f 60 8e a2 43 d1 3f 6c d1 bc fb 24 59 e4 38 d6 72 4b f2 3c 66 9e bb 07 71 1a ac e7 d8 a1 32 2c b8 b2 fa 7c fc 77 2e 0c 9f d1 23 2c 86 62 c6 eb 4b 79 30 77 a5 96 48 fc 5a 27 78 81 54 48 87 0d 75 21 3e b8 b9 bf c2 58 26 25 29 aa 35 fc 50 c5 17 ee 76 2b 02 ac 5d 85 34 b9 2a 23 1b 06 d4 a1 7d 09 29 9b 6c b5 04 1e 6e 04 fc 15 2d ba 57 1f 4d c0 2d 8e 00 1d 68 91 c1 7a 2d 6d c5 90 b7 a8 2c 4e 99 fd 16 61 31 79 6c b2 3f e6 6c 84 f9 2b 7f 2c e7 b0 7b 4a ca aa d5 79 f7 6e 1c 10 19 8b a6 02 58 71 dc c7 03 76 a7 7f bc a2 6f da 43 64 1b 53 a3 b3 b1 db ae e3 e3 3f d0 31 d7 b8 59 48 73 80 5f c9 cd 52 ba 84 77 5c e8 94 f1 1c eb 84 15 28 2e d4 e6 9e 8a 6a 78 53 8c 4e d4 08 fc cd 5f 56 0f 31 b0 7b 67 31 1f 14 d4 4b e3 d5 7b 1d 14 78 e7 e4 bc eb dc 93 77 c0 6d 30 27 29 38 2c dd 01 cb 81 f8 60 5a 31 b4 13 e0 47 d1 1a 01 43 93 49 1b e1 b4 ba ef 8f 90 56 db 30 45 5b de 97 24 d6 4a d0 d8 47 72 b9 da f3 5b 32 f0 84 d6 47 4b 7d 1b 5b e1 59 7e 8f 6f 07 d8 d0 c3 38 e9 8a 9b d6 34 4a bc d8 6b 18 d2 bf 66 71 93 d7 6d 47 16 1c 33 4d 07 ef e2 61 c1 cf c0 83 98 8b f0 a2 15 2d 05 e3 79 e0 5e c6 61 16 63 07 b2 68 b2 8f e2 2e 1c b8 83 52 99 e4 55 95 91 41 31 0c 5d 22 c4 26 e6 fc a4 75 31 f7 57 d6 34 6b 92 6a 34 b3 70 35 1a 21 87 73 a6 4d e1 d8 76 74 41 8c 1d 94 4e 1a 4d e8 bf 3c 35 3d 39 f9 7c 58 c1 6b e5 6c f8 4a 85 2a 9d e3 65 25 41 10 96 16 fb e5 74 c1 e6 86 3a d9 e1 c6 00 ee 4e 70 91 9f 7e fa 9d 3a 67 ca c6 55 f5 a7 07 4b 20 a8 08 c2 db 76 3d 59 c8 e5 2a 6f c8 4d 7c 71 65 26 07 eb 90 1c 67 79 72 eb ff b6 12 4a 97 29 4a c9 b6 1c 28 de 8a 8b 13 9d 22 16 1d 86 aa 2a d1 73 4e 31 a7 33 42 b3 aa 3b b4 b7 ab 7d f9 bd ba 10 7a bb 3d 00 70 8c f2 42 6b 44 d4 44 7c d4 33 90 6d af e7 b1 4b 0b 89 be d2 b8 c9 51 d4 04 07 9b af bc 12 af 59 f4 bb c4 de 5b 7f e1 55 ef 85 23 6f 3d 6f 11 74 ae c2 85 93 d2 ab 83 55 b6 c9 2c d2 5f c1 83 bd 88 0a 38 8a 3d e7 af be f1 9b 7d ea bd 3d a0 c6 8c 6f da 01 55 b9 92 ed 56 64 7e 93 5a 78 30 76 77 65 0b 3b b9 f5 73 87 a7 20 b6 e6 f0 38 7f 8c 7e 6d a4 40 fd 35 07 54 89 02 86 36 3c 24 1d 75 7c 09 1e 00 96 c7 42 ff 53 5f 7e d1 5c 80 04 41 ce f6 0c 62 b1 5d 6f 1c 90 55 9e 9f 49 f4 db 17 1d 29 38 a7 a3 d1 ea 95 58 11 ad b6 9b c0 91 83 93 aa e0 8a ec fa 64 df 0d 50 ae f6 17 c0 9c a7 d3 60 29 7c 53 13 c6 f8 4c 3e 0f e4 aa fb 51 06 87 17 75 9b eb 5b 4c a0 ab 1d e4 66 5d 45 c1 5e 84 77 4e 18 4a 6c e3 03 af da 16 c3 83 04 df ac 31 8f 4d 32 d5 ab 06 9c 3f 22 b3 0e 90 b8 9e b9 30 42 ba 60 c5 14 a1 cf 58 3a 90 37 df 76 dd 87 16 55 04 45 ce 8a 99 b3 88 47 c8 32 9e 9f bf 1c 4d a1 e9 7f a2 16 87 c9 fe 90 91 35 13 f7 ca da e8 0e 65 65 23 06 24 6a 85 e9 40 b4 fd a0 81 f4 9a ea 41 aa b5 12 d3 76 ce 9e 87 e4 17 fd 82 0c 9a e5 2b 93 a0 85 64 cc bc 32 60 1b 3f e5 15 a4 4d dc 0f 4a de 6d 9a 5c 9e e2 2c 14 96 8f 46 6c 07 e7 31 62 cd 90 35 62 5c 1a cd 14 70 78 4d 73 05 f4 7b c4 b3 65 b6 b1 0c 96 f6 ed e7 fe 7b 48 33 4d 9e f3 71 76 6b ef d5 64 73 75 0a 31 cc 23 6c 85 9e 58 ab 7a 76 21 c3 e5 43 b7 a3 f9 4c 2f 4f 08 7b d2 f6 48 fd 55 b4 00 60 0f 2b 97 03 38 9b b0 54 dd e9 06 87 70 ab 53 7a 81 d6 6e 44 d8 9b c3 09 de 45 49 20 12 2f 44 4d 2a 81 b6 1d da 88 b2 33 5d 93 93 06 90 8a 0a 99 0e 1c 19 97 bf 0f cb e0 02 1e 67 7e b8 0b a0 4b 0e 96 cf 84 64 62 41 ff 8b c4 66 c0 f9 a7 25 13 a9 3d 84 dc 1b 08 ce e3 c8 75 4d 63 55 06 14 67 09 7d b6 66 f1 3e 18 0a 92 48 7d 38 85 49 b4 23 02 6d fe 62 1e 35 08 f1 70 07 1d 39 25 54 49 52 b1 b9 9e b8 aa ca 84 a2 d4 86 8b c3 5c 15 eb 79 ea 64 4b f6 94 09 bb ee d7 df 43 f8 d6 2a 55 49 a0 92 e8 43 9b 88 4b 20 eb fe 2b 25 c1 cc 81 fc 0d d6 64 b6 d9 2c a4 27 a3 e1 f9 d8 90 40 9f b5 8a b0 de 82 61 93 9f b9 91 99 16 62 14 2a 2e 0e c1 c8 32 f2 e3 5c 87 09 28 3b fb 1a 9a 8c b5 0c 6b 94 78 81 3b 17 fb 22 95 64 20 22 32 df 0e 45 24 7f e9 b8 14 e1 42 1f 7f 79 03 01 18 6c b2 b6 00 ab 5f e4 6b 95 2b 8f d2 81 2c a4 0c 6f 98 08 b7 17 1b b1 1b 80 f9 ff 4b a7 77 7c 4e cb aa 3d 58 93 70 2d 0f 5f 58 90 97 b1 66 21 f1 d7 0f 5b b4 1e 05 41 8f a6 f2 c0 09 fb 8c 83 a1 93 58 28 88 99 5a 1b f8 73 91 23 a1 f5 45 ab fc cb 10 14 a0 24 10 85 bc 38 2e 37 c3 cd 12 24 0c b7 8f ae 0d 40 6c 04 37 c9 19 52 7b 06 b0 ff d6 48 f4 b9 2f 97 47 68 10 7b 98 d1 08 d7 b2 18 d8 de 1f 5c 3b 49 5b 85 69 f2 39 39 e1 34 a5 7d f6 06 c9 36 ba 35 08 30 36 00 1f 44 0a 51 62 5f bf ed 29 c3 df 28 6d f4 77 cb 65 3b a3 0d 35 93 b7 7c 57 34 41 45 a5 26 ce 93 04 ce fb f3 11 60 87 08 17 a1 9a 8f 62 0a be a5 6b 7e 41 33 13 3a 8b 25 2e 3e ef f3 68 d3 4a 74 6a f5 33 96 ce 55 f4 ec 26 4b d5 6e 86 eb 28 97 5c 46 15 fc bf d5 2f bb c0 40 27 a0 e4 6d ba f4 53 b0 2d 9c fc df d1 aa 74 26 eb f5 84 9b b8 8b 9b fb 1a ca 0c 41 fc 61 c1 35 64 3a d6 62 57 14 03 bc b1 1b e6 26 52 2a 0c 61 74 de 7c c2 33 e4 38 ec f5 67 dc eb 65 06 df 73 d2 2f 83 54 34 3f 63 5d dc ae b8 b1 3f cc d7 d0 d8 6b e0 50 8a 3f d7 a5 f0 2c ca 07 40 9c 40 30 6f 18 a7 8a a2 77 bc ca 65 a7 92 2e 1a c5 2d 42 43 dd 08 5d 3f 6f 8d 3f 17 5f 43 aa da 0a 12 65 de e7 45 22 a3 fa 00 cc 36 71 90 2b 05 c2 3e 25 35 97 6c a2 b7 b3 8e 0a c6 cf 7b c3 8b 29 6f 0a af 23 e4 2f 4c 0e dd 77 eb 02 75 00 5c 94 65 41 e1 6a 71 24 c6 cb 0e 48 eb aa ab 7b 5e 9c 7a 45 51 5f 5a 9b 74 ca 26 a1 11 d7 3b e3 1b 4c 8e 66 12 2b 16 f8 39 2d 36 30 21 e7 33 47 e5 a1 d9 a4 be 52 cc ae 1d d5 69 b3 d7 fd dc 2d 0e 7e ad 58 86 38 4a e9 19 f0 1a 92 42 66 ff 1c 7c b0 bb e3 87 4b 4d c1 e2 a7 a3 1a b1 93 df c8 16 98 79 34 04 1a 6c d0 56 5f 6b bf bd d4 0f 02 09 7e dc 07 b3 e3 43 e7 66 8e c6 57 f5 93 9c 1b ea 4c d2 7b e5 e5 25 91 41 c2 4c 05 88 39 14 0d 7e 9f e7 91 c4 ac bf 61 52 45 5c 4c 96 c9 a1 50 66 ef 35 b4 a1 dc 71 c1 c2 7d 7f 8c 66 d6 8e dd 9c 0f b4 6f 0f fb ca b8 dc 49 2c d1 27 3b f5 6c 3a bb f1 ec df 5d be 56 3e d4 1f c2 5a df 85 94 c3 b2 da 7c 3f 91 3d 2b 6f 73 7f 3e d7 22 4e 40 52 5e 84 0c 15 d2 eb a7 37 86 f3 21 ae d8 b6 66 01 db 04 7c 60 36 6f d6 25 4a 5e f2 33 3a 7e 2d dd d3 b8 07 2d 06 19 5d 69 6c 35 ef 8b e1 94 82 a7 ee 4f 69 61 0a 83 46 e0 65 31 dc 6f 8e 66 65 b2 71 8f 27 c8 c7 b7 f0 22 1a dd f2 9d 1d 6b 8b cc ab 7f 9b ba 32 9b cf 52 25 70 c5 89 c6 08 57 09 c6 1c d3 ac 96 f7 37 c0 cb c8 e7 97 32 b7 a0 4e 17 df 81 c1 ee 0e ad 6f c9 76 3d 7e a1 a4 94 46 ed 12 14 31 9f 36 fb 93 d2 0f f1 66 11 83 16 04 11 40 50 df e6 8c da 12 41 9c 4d 5a e5 ec 53 e4 de 80 9e 56 94 ec 59 48 77 88 11 74 fa bb 73 7d ea 7f 6e 94 ca b0 ad 7e 7b ea f1 b7 0e b5 9d 0b 4c 45 76 fb 33 23 43 19 0e 51 c6 fc 96 73 01 53 9c 27 a9 c6 a7 fb d7 95 e9 c7 f3 bd 69 65 69 75 80 10 ee b5 8c 07 c5 8b 2c ac 54 b2 1c a3 fc eb fe 59 f4 f9 d5 eb 48 5e e8 5e 7c a6 0c dc 3f a7 4d 03 75 7b 3f 3c 66 36 12 19 fc c0 91 06 41 05 b1 ad 9c c9 95 e5 70 a9 41 c9 14 b1 eb 7d c8 f9 3f d3 d5 d9 09 6a 19 1d c5 8d 64 49 bc 03 e9 d3 55 99 60 4d 2b 8f 41 e4 68 6b 26 36 97 0e 02 b3 6d 99 a1 dd 35 87 fb 59 04 37 e7 62 12 c1 68 80 b8 57 88 9c 1a f2 54 5c 31 e0 65 ac a4 38 85 55 78 e2 e8 22 9d 64 71 a4 95 82 4d d7 a5 c6 87 4a a6 11 c7 ef 06 34 4a f1 07 cc 82 c0 78 3f c7 3b 2a 5e 74 6c d7 d6 62 78 27 fc 04 e3 d9 f4 50 c2 3c 85 0f d7 fe 1b 4e c6 a6 6c 56 a3 24 3f 96 3e 71 e6 b1 0d 63 7f 4d be 34 3b fc 2e a5 ad 4e ea ae 58 23 d0 d5 f6 6e b8 d7 64 be 49 b3 66 ae fc de b3 84 be af cc ff 5c 46 e3 c9 ff 42 a6 e9 2f d9 05 60 84 b4 1e 1d 4f 5b 36 29 fb 4d 03 45 96 b4 99 fe 2c cf 3e 38 53 db b7 7f 1a 34 03 6c b6 17 87 71 7a dd 14 56 59 67 be fb e5 90 48 cd a8 1f 12 a3 63 b0 c4 e9 40 6c ed 9b 4b a8 b7 2e 1f 42 af c3 8d b8 de 49 82 65 c3 07 71 20 4f d0 a7 b5 e8 fb 7b 68 37 7c a9 dd 6d 25 0e d1 a1 00 c3 d8 d9 b5 f1 5d 17 a2 ed ae f7 2c 87 75 84 f8 cf 97 49 10 61 5a af 49 f3 bb fd b6 a6 8c a7 c1 5c e6 36 62 59 9d 53 78 b6 1d 33 62 e0 82 c1 72 80 33 6b 5a 49 c5 fe 0d 07 db 38 33 01 8f 12 a2 1d 96 9e 78 51 0d 3c bc 98 fa 5d f3 2c b2 85 32 ec 0b bb 19 74 2d 08 fb 14 4b f1 02 eb 6c 97 d8 86 ec 90 27 fa 4d 5c 45 cb 56 98 96 d0 da f2 59 6b 9d b9 24 23 ba\n",
      "\n",
      "Extracted Data:\n",
      "\n",
      "Server Hello (without record header):\n",
      "02 00 00 56 03 03 ee a5 fc 0a 6d da f4 0b ca 67 5c 07 1c 67 66 63 b0 5e c1 51 b5 70 37 82 d1 9a f9 7c 08 d5 a1 2b 00 13 02 00 00 2e 00 33 00 24 00 1d 00 20 a5 bb b0 d3 4e 8b e5 e7 92 8a 53 49 d8 4b d5 1b d5 22 67 2d f7 c9 53 b8 59 88 83 d3 db ff 1c 6c 00 2b 00 02 03 04\n",
      "None\n",
      "\n",
      "Encrypted Payload (with record header):\n",
      "17 03 03 0a 9a d8 fc 1a 6f a4 60 55 a2 3e 66 da fe e0 65 5d 76 09 55 a4 26 11 76 fb 4d c2 98 05 8b 35 f7 4c 65 86 ba d4 e2 b5 a4 63 bf e2 bb b3 27 2c dd 2c 76 f1 57 49 a1 2f ac 70 de 4f d4 e6 6f 08 d5 cd 39 46 08 da e1 57 de 9f 1a a8 b1 bc 08 59 69 36 62 92 f0 bd 50 33 f3 7b 04 a4 54 f9 19 2b b0 5f 36 27 d2 b2 54 bc e3 b0 88 e6 0b cf 50 25 ba c3 2b 65 19 7c 4b 6a 36 5b 65 3f d2 f5 ae 7c e1 9e 65 f5 64 40 9e d2 81 7a 5c dc 98 a2 08 b4 19 96 2e 50 70 b6 72 64 b9 b9 44 12 5b 38 18 2b ae 4f 60 8e a2 43 d1 3f 6c d1 bc fb 24 59 e4 38 d6 72 4b f2 3c 66 9e bb 07 71 1a ac e7 d8 a1 32 2c b8 b2 fa 7c fc 77 2e 0c 9f d1 23 2c 86 62 c6 eb 4b 79 30 77 a5 96 48 fc 5a 27 78 81 54 48 87 0d 75 21 3e b8 b9 bf c2 58 26 25 29 aa 35 fc 50 c5 17 ee 76 2b 02 ac 5d 85 34 b9 2a 23 1b 06 d4 a1 7d 09 29 9b 6c b5 04 1e 6e 04 fc 15 2d ba 57 1f 4d c0 2d 8e 00 1d 68 91 c1 7a 2d 6d c5 90 b7 a8 2c 4e 99 fd 16 61 31 79 6c b2 3f e6 6c 84 f9 2b 7f 2c e7 b0 7b 4a ca aa d5 79 f7 6e 1c 10 19 8b a6 02 58 71 dc c7 03 76 a7 7f bc a2 6f da 43 64 1b 53 a3 b3 b1 db ae e3 e3 3f d0 31 d7 b8 59 48 73 80 5f c9 cd 52 ba 84 77 5c e8 94 f1 1c eb 84 15 28 2e d4 e6 9e 8a 6a 78 53 8c 4e d4 08 fc cd 5f 56 0f 31 b0 7b 67 31 1f 14 d4 4b e3 d5 7b 1d 14 78 e7 e4 bc eb dc 93 77 c0 6d 30 27 29 38 2c dd 01 cb 81 f8 60 5a 31 b4 13 e0 47 d1 1a 01 43 93 49 1b e1 b4 ba ef 8f 90 56 db 30 45 5b de 97 24 d6 4a d0 d8 47 72 b9 da f3 5b 32 f0 84 d6 47 4b 7d 1b 5b e1 59 7e 8f 6f 07 d8 d0 c3 38 e9 8a 9b d6 34 4a bc d8 6b 18 d2 bf 66 71 93 d7 6d 47 16 1c 33 4d 07 ef e2 61 c1 cf c0 83 98 8b f0 a2 15 2d 05 e3 79 e0 5e c6 61 16 63 07 b2 68 b2 8f e2 2e 1c b8 83 52 99 e4 55 95 91 41 31 0c 5d 22 c4 26 e6 fc a4 75 31 f7 57 d6 34 6b 92 6a 34 b3 70 35 1a 21 87 73 a6 4d e1 d8 76 74 41 8c 1d 94 4e 1a 4d e8 bf 3c 35 3d 39 f9 7c 58 c1 6b e5 6c f8 4a 85 2a 9d e3 65 25 41 10 96 16 fb e5 74 c1 e6 86 3a d9 e1 c6 00 ee 4e 70 91 9f 7e fa 9d 3a 67 ca c6 55 f5 a7 07 4b 20 a8 08 c2 db 76 3d 59 c8 e5 2a 6f c8 4d 7c 71 65 26 07 eb 90 1c 67 79 72 eb ff b6 12 4a 97 29 4a c9 b6 1c 28 de 8a 8b 13 9d 22 16 1d 86 aa 2a d1 73 4e 31 a7 33 42 b3 aa 3b b4 b7 ab 7d f9 bd ba 10 7a bb 3d 00 70 8c f2 42 6b 44 d4 44 7c d4 33 90 6d af e7 b1 4b 0b 89 be d2 b8 c9 51 d4 04 07 9b af bc 12 af 59 f4 bb c4 de 5b 7f e1 55 ef 85 23 6f 3d 6f 11 74 ae c2 85 93 d2 ab 83 55 b6 c9 2c d2 5f c1 83 bd 88 0a 38 8a 3d e7 af be f1 9b 7d ea bd 3d a0 c6 8c 6f da 01 55 b9 92 ed 56 64 7e 93 5a 78 30 76 77 65 0b 3b b9 f5 73 87 a7 20 b6 e6 f0 38 7f 8c 7e 6d a4 40 fd 35 07 54 89 02 86 36 3c 24 1d 75 7c 09 1e 00 96 c7 42 ff 53 5f 7e d1 5c 80 04 41 ce f6 0c 62 b1 5d 6f 1c 90 55 9e 9f 49 f4 db 17 1d 29 38 a7 a3 d1 ea 95 58 11 ad b6 9b c0 91 83 93 aa e0 8a ec fa 64 df 0d 50 ae f6 17 c0 9c a7 d3 60 29 7c 53 13 c6 f8 4c 3e 0f e4 aa fb 51 06 87 17 75 9b eb 5b 4c a0 ab 1d e4 66 5d 45 c1 5e 84 77 4e 18 4a 6c e3 03 af da 16 c3 83 04 df ac 31 8f 4d 32 d5 ab 06 9c 3f 22 b3 0e 90 b8 9e b9 30 42 ba 60 c5 14 a1 cf 58 3a 90 37 df 76 dd 87 16 55 04 45 ce 8a 99 b3 88 47 c8 32 9e 9f bf 1c 4d a1 e9 7f a2 16 87 c9 fe 90 91 35 13 f7 ca da e8 0e 65 65 23 06 24 6a 85 e9 40 b4 fd a0 81 f4 9a ea 41 aa b5 12 d3 76 ce 9e 87 e4 17 fd 82 0c 9a e5 2b 93 a0 85 64 cc bc 32 60 1b 3f e5 15 a4 4d dc 0f 4a de 6d 9a 5c 9e e2 2c 14 96 8f 46 6c 07 e7 31 62 cd 90 35 62 5c 1a cd 14 70 78 4d 73 05 f4 7b c4 b3 65 b6 b1 0c 96 f6 ed e7 fe 7b 48 33 4d 9e f3 71 76 6b ef d5 64 73 75 0a 31 cc 23 6c 85 9e 58 ab 7a 76 21 c3 e5 43 b7 a3 f9 4c 2f 4f 08 7b d2 f6 48 fd 55 b4 00 60 0f 2b 97 03 38 9b b0 54 dd e9 06 87 70 ab 53 7a 81 d6 6e 44 d8 9b c3 09 de 45 49 20 12 2f 44 4d 2a 81 b6 1d da 88 b2 33 5d 93 93 06 90 8a 0a 99 0e 1c 19 97 bf 0f cb e0 02 1e 67 7e b8 0b a0 4b 0e 96 cf 84 64 62 41 ff 8b c4 66 c0 f9 a7 25 13 a9 3d 84 dc 1b 08 ce e3 c8 75 4d 63 55 06 14 67 09 7d b6 66 f1 3e 18 0a 92 48 7d 38 85 49 b4 23 02 6d fe 62 1e 35 08 f1 70 07 1d 39 25 54 49 52 b1 b9 9e b8 aa ca 84 a2 d4 86 8b c3 5c 15 eb 79 ea 64 4b f6 94 09 bb ee d7 df 43 f8 d6 2a 55 49 a0 92 e8 43 9b 88 4b 20 eb fe 2b 25 c1 cc 81 fc 0d d6 64 b6 d9 2c a4 27 a3 e1 f9 d8 90 40 9f b5 8a b0 de 82 61 93 9f b9 91 99 16 62 14 2a 2e 0e c1 c8 32 f2 e3 5c 87 09 28 3b fb 1a 9a 8c b5 0c 6b 94 78 81 3b 17 fb 22 95 64 20 22 32 df 0e 45 24 7f e9 b8 14 e1 42 1f 7f 79 03 01 18 6c b2 b6 00 ab 5f e4 6b 95 2b 8f d2 81 2c a4 0c 6f 98 08 b7 17 1b b1 1b 80 f9 ff 4b a7 77 7c 4e cb aa 3d 58 93 70 2d 0f 5f 58 90 97 b1 66 21 f1 d7 0f 5b b4 1e 05 41 8f a6 f2 c0 09 fb 8c 83 a1 93 58 28 88 99 5a 1b f8 73 91 23 a1 f5 45 ab fc cb 10 14 a0 24 10 85 bc 38 2e 37 c3 cd 12 24 0c b7 8f ae 0d 40 6c 04 37 c9 19 52 7b 06 b0 ff d6 48 f4 b9 2f 97 47 68 10 7b 98 d1 08 d7 b2 18 d8 de 1f 5c 3b 49 5b 85 69 f2 39 39 e1 34 a5 7d f6 06 c9 36 ba 35 08 30 36 00 1f 44 0a 51 62 5f bf ed 29 c3 df 28 6d f4 77 cb 65 3b a3 0d 35 93 b7 7c 57 34 41 45 a5 26 ce 93 04 ce fb f3 11 60 87 08 17 a1 9a 8f 62 0a be a5 6b 7e 41 33 13 3a 8b 25 2e 3e ef f3 68 d3 4a 74 6a f5 33 96 ce 55 f4 ec 26 4b d5 6e 86 eb 28 97 5c 46 15 fc bf d5 2f bb c0 40 27 a0 e4 6d ba f4 53 b0 2d 9c fc df d1 aa 74 26 eb f5 84 9b b8 8b 9b fb 1a ca 0c 41 fc 61 c1 35 64 3a d6 62 57 14 03 bc b1 1b e6 26 52 2a 0c 61 74 de 7c c2 33 e4 38 ec f5 67 dc eb 65 06 df 73 d2 2f 83 54 34 3f 63 5d dc ae b8 b1 3f cc d7 d0 d8 6b e0 50 8a 3f d7 a5 f0 2c ca 07 40 9c 40 30 6f 18 a7 8a a2 77 bc ca 65 a7 92 2e 1a c5 2d 42 43 dd 08 5d 3f 6f 8d 3f 17 5f 43 aa da 0a 12 65 de e7 45 22 a3 fa 00 cc 36 71 90 2b 05 c2 3e 25 35 97 6c a2 b7 b3 8e 0a c6 cf 7b c3 8b 29 6f 0a af 23 e4 2f 4c 0e dd 77 eb 02 75 00 5c 94 65 41 e1 6a 71 24 c6 cb 0e 48 eb aa ab 7b 5e 9c 7a 45 51 5f 5a 9b 74 ca 26 a1 11 d7 3b e3 1b 4c 8e 66 12 2b 16 f8 39 2d 36 30 21 e7 33 47 e5 a1 d9 a4 be 52 cc ae 1d d5 69 b3 d7 fd dc 2d 0e 7e ad 58 86 38 4a e9 19 f0 1a 92 42 66 ff 1c 7c b0 bb e3 87 4b 4d c1 e2 a7 a3 1a b1 93 df c8 16 98 79 34 04 1a 6c d0 56 5f 6b bf bd d4 0f 02 09 7e dc 07 b3 e3 43 e7 66 8e c6 57 f5 93 9c 1b ea 4c d2 7b e5 e5 25 91 41 c2 4c 05 88 39 14 0d 7e 9f e7 91 c4 ac bf 61 52 45 5c 4c 96 c9 a1 50 66 ef 35 b4 a1 dc 71 c1 c2 7d 7f 8c 66 d6 8e dd 9c 0f b4 6f 0f fb ca b8 dc 49 2c d1 27 3b f5 6c 3a bb f1 ec df 5d be 56 3e d4 1f c2 5a df 85 94 c3 b2 da 7c 3f 91 3d 2b 6f 73 7f 3e d7 22 4e 40 52 5e 84 0c 15 d2 eb a7 37 86 f3 21 ae d8 b6 66 01 db 04 7c 60 36 6f d6 25 4a 5e f2 33 3a 7e 2d dd d3 b8 07 2d 06 19 5d 69 6c 35 ef 8b e1 94 82 a7 ee 4f 69 61 0a 83 46 e0 65 31 dc 6f 8e 66 65 b2 71 8f 27 c8 c7 b7 f0 22 1a dd f2 9d 1d 6b 8b cc ab 7f 9b ba 32 9b cf 52 25 70 c5 89 c6 08 57 09 c6 1c d3 ac 96 f7 37 c0 cb c8 e7 97 32 b7 a0 4e 17 df 81 c1 ee 0e ad 6f c9 76 3d 7e a1 a4 94 46 ed 12 14 31 9f 36 fb 93 d2 0f f1 66 11 83 16 04 11 40 50 df e6 8c da 12 41 9c 4d 5a e5 ec 53 e4 de 80 9e 56 94 ec 59 48 77 88 11 74 fa bb 73 7d ea 7f 6e 94 ca b0 ad 7e 7b ea f1 b7 0e b5 9d 0b 4c 45 76 fb 33 23 43 19 0e 51 c6 fc 96 73 01 53 9c 27 a9 c6 a7 fb d7 95 e9 c7 f3 bd 69 65 69 75 80 10 ee b5 8c 07 c5 8b 2c ac 54 b2 1c a3 fc eb fe 59 f4 f9 d5 eb 48 5e e8 5e 7c a6 0c dc 3f a7 4d 03 75 7b 3f 3c 66 36 12 19 fc c0 91 06 41 05 b1 ad 9c c9 95 e5 70 a9 41 c9 14 b1 eb 7d c8 f9 3f d3 d5 d9 09 6a 19 1d c5 8d 64 49 bc 03 e9 d3 55 99 60 4d 2b 8f 41 e4 68 6b 26 36 97 0e 02 b3 6d 99 a1 dd 35 87 fb 59 04 37 e7 62 12 c1 68 80 b8 57 88 9c 1a f2 54 5c 31 e0 65 ac a4 38 85 55 78 e2 e8 22 9d 64 71 a4 95 82 4d d7 a5 c6 87 4a a6 11 c7 ef 06 34 4a f1 07 cc 82 c0 78 3f c7 3b 2a 5e 74 6c d7 d6 62 78 27 fc 04 e3 d9 f4 50 c2 3c 85 0f d7 fe 1b 4e c6 a6 6c 56 a3 24 3f 96 3e 71 e6 b1 0d 63 7f 4d be 34 3b fc 2e a5 ad 4e ea ae 58 23 d0 d5 f6 6e b8 d7 64 be 49 b3 66 ae fc de b3 84 be af cc ff 5c 46 e3 c9 ff 42 a6 e9 2f d9 05 60 84 b4 1e 1d 4f 5b 36 29 fb 4d 03 45 96 b4 99 fe 2c cf 3e 38 53 db b7 7f 1a 34 03 6c b6 17 87 71 7a dd 14 56 59 67 be fb e5 90 48 cd a8 1f 12 a3 63 b0 c4 e9 40 6c ed 9b 4b a8 b7 2e 1f 42 af c3 8d b8 de 49 82 65 c3 07 71 20 4f d0 a7 b5 e8 fb 7b 68 37 7c a9 dd 6d 25 0e d1 a1 00 c3 d8 d9 b5 f1 5d 17 a2 ed ae f7 2c 87 75 84 f8 cf 97 49 10 61 5a af 49 f3 bb fd b6 a6 8c a7 c1 5c e6 36 62 59 9d 53 78 b6 1d 33 62 e0 82 c1 72 80 33 6b 5a 49 c5 fe 0d 07 db 38 33 01 8f 12 a2 1d 96 9e 78 51 0d 3c bc 98 fa 5d f3 2c b2 85 32 ec 0b bb 19 74 2d 08 fb 14 4b f1 02 eb 6c 97 d8 86 ec 90 27 fa 4d 5c 45 cb 56 98 96 d0 da f2 59 6b 9d b9 24 23 ba\n",
      "None\n"
     ]
    }
   ],
   "source": [
    "server_hello_no_record = b\"\"\n",
    "encrypted_payload = b\"\"\n",
    "\n",
    "\n",
    "\n",
    "def parse_tls_record(data):\n",
    "    #Parse a TLS record and return its components\n",
    "    if len(data) < 5:  # Minimum TLS record length\n",
    "        return None, None, None, data\n",
    "    \n",
    "    content_type = data[0] #Parse the record header to see which type of record this is.\n",
    "    if (data[1] == 3) and (data[2] == 3):\n",
    "        version = \"1.2/1.3\"\n",
    "    length = int.from_bytes(data[3:5], byteorder='big')\n",
    "    \n",
    "    if len(data) < length + 5:\n",
    "        return None, None, None, data\n",
    "        \n",
    "    if content_type == 0x17:\n",
    "        payload = data[:5+length]  # Include the header for application data. We need the header for the decryption algorithm\n",
    "        remaining_data = data[5+length:]\n",
    "    else:\n",
    "        payload = data[5:5+length]  # Original behavior for other types\n",
    "        remaining_data = data[5+length:]\n",
    "    \n",
    "    content_type_names = { #Dictionary indicating the types of TLS records we may receive\n",
    "        0x14: \"Change Cipher Spec\",\n",
    "        0x15: \"Alert\",\n",
    "        0x16: \"Handshake\",\n",
    "        0x17: \"Application Data\"\n",
    "    }\n",
    "    \n",
    "    type_name = content_type_names.get(content_type, f\"Unknown ({content_type})\")\n",
    "    \n",
    "    return type_name, version, payload, remaining_data\n",
    "\n",
    "def parse_handshake_message(data): #This is exclusive for Handshake messages. We'll primarily use this to identify serverHellos.\n",
    "    \"\"\"Parse a TLS handshake message.\"\"\"\n",
    "    if len(data) < 4:\n",
    "        return None, None, None\n",
    "        \n",
    "    msg_type = data[0]\n",
    "    length = int.from_bytes(data[1:4], byteorder='big')\n",
    "    \n",
    "    handshake_types = {\n",
    "        0x00: \"Hello Request\",\n",
    "        0x01: \"Client Hello\",\n",
    "        0x02: \"Server Hello\",\n",
    "        0x0b: \"Certificate\",\n",
    "        0x0c: \"Server Key Exchange\",\n",
    "        0x0d: \"Certificate Request\",\n",
    "        0x0e: \"Server Hello Done\",\n",
    "        0x0f: \"Certificate Verify\",\n",
    "        0x10: \"Client Key Exchange\",\n",
    "        0x14: \"Finished\",\n",
    "        0x08: \"Encrypted Extensions\",  # Added TLS 1.3 message types\n",
    "        0x13: \"Certificate Status\"\n",
    "    }\n",
    "    \n",
    "    type_name = handshake_types.get(msg_type, f\"Unknown ({msg_type})\")\n",
    "    if len(data) >= 4+length:\n",
    "        payload = data[:4+length]\n",
    "    \n",
    "    return type_name, length, payload\n",
    "\n",
    "def format_bytes(data):\n",
    "    \"\"\"Format bytes as a hexadecimal string with ASCII representation.\"\"\"\n",
    "    hex_dump = ' '.join(f'{b:02x}' for b in data)\n",
    "    return f\"Hex: {hex_dump}\"\n",
    "\n",
    "def receive_all_data(sock, timeout=5):\n",
    "    \"\"\"Receive all data from the socket until timeout or connection close.\"\"\"\n",
    "    buffer = b\"\"\n",
    "    sock.settimeout(timeout)\n",
    "    start_time = time.time()\n",
    "    \n",
    "    while True:\n",
    "        try:\n",
    "            chunk = sock.recv(16384)\n",
    "            if not chunk:  # Connection closed by server\n",
    "                break\n",
    "            buffer += chunk\n",
    "            \n",
    "            # Check timeout\n",
    "            if time.time() - start_time > timeout:\n",
    "                break\n",
    "                \n",
    "        except socket.timeout:\n",
    "            break\n",
    "            \n",
    "    return buffer\n",
    "# Parse the URL to get the hostname\n",
    "parsed_url = urlparse('https://www.cloudflare.com/')\n",
    "host = parsed_url.hostname\n",
    "port = 443\n",
    "s = socket.socket(socket.AF_INET, socket.SOCK_STREAM)\n",
    "s.settimeout(5)\n",
    "print(f\"Attempting to connect to {host}:{port}\")\n",
    "s.connect((host, port))\n",
    "print(\"Connected to server.\")\n",
    "\n",
    "# Your existing client_hello\n",
    "try:\n",
    "    \n",
    "    bytes_sent = s.sendall(client_hello_msg)\n",
    "    print(f\"Sent ClientHello ({len(client_hello_msg)} bytes)\")\n",
    "    \n",
    "    print(\"\\nWaiting for server response...\")\n",
    "    try:\n",
    "        buffer = receive_all_data(s)\n",
    "        print(f\"\\nReceived {len(buffer)} new bytes\")\n",
    "        print(print_bytes_as_hex(buffer))\n",
    "\n",
    "\n",
    "        \n",
    "        # Process all complete TLS records in the buffer\n",
    "        while buffer:\n",
    "            record_type, version, payload, remaining = parse_tls_record(buffer)\n",
    "            if record_type is None:  # Incomplete record\n",
    "                break\n",
    "                \n",
    "            buffer = remaining\n",
    "            print(\"\\n\" + \"=\"*50)\n",
    "            print(f\"Record Type: {record_type}\")\n",
    "            print(f\"TLS Version: {version}\")\n",
    "            \n",
    "            if record_type == \"Handshake\":\n",
    "                msg_type, msg_length, msg_payload = parse_handshake_message(payload)\n",
    "                if msg_type:\n",
    "                    print(f\"Handshake Type: {msg_type}\")\n",
    "                    print(f\"Message Length: {msg_length}\")\n",
    "                    if msg_payload:\n",
    "                        print(\"\\nMessage Payload:\")\n",
    "                        print(format_bytes(msg_payload))\n",
    "                        server_hello_no_record = msg_payload\n",
    "            else:\n",
    "                print(\"\\nRecord Payload:\")\n",
    "                if record_type == \"Application Data\":\n",
    "                    encrypted_payload = payload\n",
    "                print(format_bytes(payload))\n",
    "            \n",
    "    except socket.timeout:\n",
    "        print(\"Timeout while waiting for server response\")\n",
    "            \n",
    "except ConnectionRefusedError:\n",
    "    print(\"Connection refused. Is the OpenSSL server running?\")\n",
    "except socket.timeout:\n",
    "    print(\"Connection attempt timed out\")\n",
    "except Exception as e:\n",
    "    print(f\"Error: {e}\")\n",
    "\n",
    "print(\"\\nExtracted Data:\")\n",
    "if server_hello_no_record:\n",
    "    print(\"\\nServer Hello (without record header):\")\n",
    "    print(print_bytes_as_hex(server_hello_no_record))\n",
    "if encrypted_payload:\n",
    "    print(\"\\nEncrypted Payload (with record header):\")\n",
    "    print(print_bytes_as_hex(encrypted_payload))"
   ]
  },
  {
   "cell_type": "markdown",
   "metadata": {},
   "source": [
    "# 6. Parsing the ServerHello ✅\n",
    "\n",
    "Once the ClientHello is sent, the server responds with its own message. This message contains the ServerHello, the CipherChangeSpec, and the encrypted payload. Assuming that our ClientHello message is configured correctly, the server will respond with its chosen cipher suite and its own key. \n",
    "\n",
    "We are particularly interested in the server's key and server random, which we use to establish cryptographic parameters. We can then extract these properties and start the key calculation process"
   ]
  },
  {
   "cell_type": "markdown",
   "metadata": {},
   "source": [
    "# 6a. Creating a Parser class ✅\n",
    "\n",
    "The ServerHello message isn't always of the same size. Certain elements like the sessionID, as well as the content of extensions, may have variable length depending on the message itself. That's why we can't just extract the information based on indexes alone. We need a parser that would keep track of what element we're at and how many bytes we have to skip forward\n"
   ]
  },
  {
   "cell_type": "code",
   "execution_count": 251,
   "metadata": {},
   "outputs": [],
   "source": [
    "\n",
    "class Parser:\n",
    "    def __init__(self, data: bytes) -> None:\n",
    "        self.data = data\n",
    "        self.cursor = 0\n",
    "    \n",
    "    def skip(self, position: int) -> None:\n",
    "        self.cursor += position\n",
    "\n",
    "    def read(self, position: int) -> bytes:\n",
    "        result = self.data[self.cursor : self.cursor + position]\n",
    "        self.cursor += position\n",
    "        return result \n",
    "    \n",
    "    def read_uint8_prefixed(self) -> bytes:                           #Most extensions with variable lengths have bytes that denote their length. We can use this to skip forward appropriately \n",
    "        length = self.data[self.cursor]\n",
    "        print(length)\n",
    "        self.cursor += 1\n",
    "        result = self.data[self.cursor : self.cursor + length]\n",
    "        self.cursor += length\n",
    "        return result\n",
    "\n",
    "    def read_uint16_prefixed(self) -> bytes:\n",
    "        length = int.from_bytes(self.data[self.cursor:self.cursor + 2], 'big') #Since some lengths are represented with 2 bytes, we need to convert them \n",
    "        self.cursor += 2\n",
    "        result = self.data[self.cursor:self.cursor + length]\n",
    "        self.cursor += length\n",
    "        return result\n"
   ]
  },
  {
   "cell_type": "markdown",
   "metadata": {},
   "source": [
    "# 6b. Parsing the ServerHello ✅\n",
    "\n",
    "With our Parser class, we can now parse the ServerHello to extract the ServerRandom and the public key. Keep in mind that we are only dealing with 1 cipher suite, 1 cryptographic and as such expects only 1 public key. A full version of TLS 1.3 will be much more complex"
   ]
  },
  {
   "cell_type": "code",
   "execution_count": 252,
   "metadata": {},
   "outputs": [
    {
     "name": "stdout",
     "output_type": "stream",
     "text": [
      "0\n",
      "ee a5 fc 0a 6d da f4 0b ca 67 5c 07 1c 67 66 63 b0 5e c1 51 b5 70 37 82 d1 9a f9 7c 08 d5 a1 2b\n",
      "a5 bb b0 d3 4e 8b e5 e7 92 8a 53 49 d8 4b d5 1b d5 22 67 2d f7 c9 53 b8 59 88 83 d3 db ff 1c 6c\n"
     ]
    }
   ],
   "source": [
    "def server_hello_parser(msg: bytes):\n",
    "    parser = Parser(msg)\n",
    "    parser.skip(4)                                  #Skip HandShake Header\n",
    "    parser.skip(2)                                  #Skip Server Version\n",
    "    server_random = parser.read(32)                 #Get the serverRandom\n",
    "    parser.read_uint8_prefixed()                    #Skip SessionID\n",
    "    parser.skip(2)                                  #Skip Cipher Suite\n",
    "    parser.skip(1)                                  #Skip Compression Method\n",
    "    public_key = None\n",
    "    extensions = parser.read_uint16_prefixed()\n",
    "    extension_reader = Parser(extensions)\n",
    "    while(extension_reader.cursor < len(extensions)):\n",
    "        extension_type = extension_reader.read(2)\n",
    "        extension_data = extension_reader.read_uint16_prefixed()\n",
    "        if (extension_type == b'\\x00\\x33'):\n",
    "            data = Parser(extension_data)\n",
    "            data.skip(2)\n",
    "            public_key = data.read_uint16_prefixed()\n",
    "    return server_random, public_key\n",
    "\n",
    "\n",
    "#Pre-generated server_hello_msg, used for debugging purposes\n",
    "#server_hello_no_record = bytes.fromhex(\"02 00 00 76 03 03 70 71 72 73 74 75 76 77 78 79 7a 7b 7c 7d 7e 7f 80 81 82 83 84 85 86 87 88 89 8a 8b 8c 8d 8e 8f 20 e0 e1 e2 e3 e4 e5 e6 e7 e8 e9 ea eb ec ed ee ef f0 f1 f2 f3 f4 f5 f6 f7 f8 f9 fa fb fc fd fe ff 13 02 00 00 2e 00 2b 00 02 03 04 00 33 00 24 00 1d 00 20 9f d7 ad 6d cf f4 29 8d d3 f9 6d 5b 1b 2a f9 10 a0 53 5b 14 88 d7 f8 fa bb 34 9a 98 28 80 b6 15\")\n",
    "#Run the script with the pre-generated server hello and compare with https://tls13.xargs.org/#server-handshake-keys-calc to see if the script is working\n",
    "#Current serverHello generated from www.cloudbase.com. Right now I'm copy-pasting from the terminal when I run the debug.py script. Also parser is ignoring the record header.\n",
    "server_random, public_key = server_hello_parser(server_hello_no_record)\n",
    "print_bytes_as_hex(server_random)\n",
    "print_bytes_as_hex(public_key)\n",
    "\n",
    "\n",
    "           \n",
    "\n",
    "        \n",
    "        \n",
    "        \n"
   ]
  },
  {
   "cell_type": "markdown",
   "metadata": {},
   "source": [
    "# 7. Key Derivation ✅\n",
    "\n",
    "Now that we have our private key and the server has sent back their public key, we can now encrypt our data to the server via key calculations. We can break down the key calculations into a few steps"
   ]
  },
  {
   "cell_type": "markdown",
   "metadata": {},
   "source": [
    "# 7a. Transcript Hash ✅\n",
    "\n",
    "Transcript Hash refers to the hash of the ClientHello and the ServerHello messages. The idea is to associate these messages with the keys we are about to derive: These keys work with these messages. That way, even if an attacker somehow got hold of our keys, it would not work with whatever messages they try to send\n",
    "\n"
   ]
  },
  {
   "cell_type": "code",
   "execution_count": 253,
   "metadata": {},
   "outputs": [
    {
     "name": "stdout",
     "output_type": "stream",
     "text": [
      "01 00 00 97 03 03 27 39 3d ac d6 47 ce 9b 9b a3 47 ee b3 52 85 64 8a 7e 9a 4a 34 5d 7b 11 48 62 8f 31 9f b4 ce b6 00 00 02 13 02 01 00 00 6c 00 00 00 17 00 15 00 00 12 77 77 77 2e 63 6c 6f 75 64 66 6c 61 72 65 2e 63 6f 6d 00 0a 00 04 00 02 00 1d 00 0d 00 14 00 12 04 03 08 04 04 01 05 03 08 05 05 01 08 06 06 01 02 01 00 33 00 26 00 24 00 1d 00 20 07 83 69 99 e3 65 22 1a e6 d3 53 66 b9 3a ae a6 64 35 52 38 f1 66 1c 97 1d c0 89 1d 2a 46 a7 72 00 2b 00 03 02 03 04\n",
      "02 00 00 56 03 03 ee a5 fc 0a 6d da f4 0b ca 67 5c 07 1c 67 66 63 b0 5e c1 51 b5 70 37 82 d1 9a f9 7c 08 d5 a1 2b 00 13 02 00 00 2e 00 33 00 24 00 1d 00 20 a5 bb b0 d3 4e 8b e5 e7 92 8a 53 49 d8 4b d5 1b d5 22 67 2d f7 c9 53 b8 59 88 83 d3 db ff 1c 6c 00 2b 00 02 03 04\n",
      "84 cf b7 9b 47 52 d8 aa f5 73 14 2c 21 59 44 cb 9a c8 b7 9c a8 a4 d8 3e 33 3c 09 16 17 a4 11 18 e7 1a e7 a3 22 25 97 5a 62 9f 6e 6a 32 3b 23 27\n"
     ]
    }
   ],
   "source": [
    "def transcript_hash(client: bytes, server: bytes) -> bytes:\n",
    "    digest = hashes.Hash(hashes.SHA384()) # We'll be using SHA384 to create the hash for our messages.\n",
    "    digest.update(client)     # Note that both the ClientHello and ServerHello is used here\n",
    "    digest.update(server)\n",
    "    transcript_hash = digest.finalize()\n",
    "    return transcript_hash\n",
    "\n",
    "print_bytes_as_hex(client_hello_no_record)       #This is the clientHello message we generated from our code\n",
    "print_bytes_as_hex(server_hello_no_record)       #Right now, this server_hello is pre-generated for testing purposes. We'll be parsing an actual server hello when the entire thing is ready\n",
    "\n",
    "# Testing value for transcript hash calculations\n",
    "# client_hello_no_record = bytes.fromhex(\"01 00 00 f4 03 03 00 01 02 03 04 05 06 07 08 09 0a 0b 0c 0d 0e 0f 10 11 12 13 14 15 16 17 18 19 1a 1b 1c 1d 1e 1f 20 e0 e1 e2 e3 e4 e5 e6 e7 e8 e9 ea eb ec ed ee ef f0 f1 f2 f3 f4 f5 f6 f7 f8 f9 fa fb fc fd fe ff 00 08 13 02 13 03 13 01 00 ff 01 00 00 a3 00 00 00 18 00 16 00 00 13 65 78 61 6d 70 6c 65 2e 75 6c 66 68 65 69 6d 2e 6e 65 74 00 0b 00 04 03 00 01 02 00 0a 00 16 00 14 00 1d 00 17 00 1e 00 19 00 18 01 00 01 01 01 02 01 03 01 04 00 23 00 00 00 16 00 00 00 17 00 00 00 0d 00 1e 00 1c 04 03 05 03 06 03 08 07 08 08 08 09 08 0a 08 0b 08 04 08 05 08 06 04 01 05 01 06 01 00 2b 00 03 02 03 04 00 2d 00 02 01 01 00 33 00 26 00 24 00 1d 00 20 35 80 72 d6 36 58 80 d1 ae ea 32 9a df 91 21 38 38 51 ed 21 a2 8e 3b 75 e9 65 d0 d2 cd 16 62 54\")\n",
    "# server_hello_no_record = bytes.fromhex(\"02 00 00 76 03 03 70 71 72 73 74 75 76 77 78 79 7a 7b 7c 7d 7e 7f 80 81 82 83 84 85 86 87 88 89 8a 8b 8c 8d 8e 8f 20 e0 e1 e2 e3 e4 e5 e6 e7 e8 e9 ea eb ec ed ee ef f0 f1 f2 f3 f4 f5 f6 f7 f8 f9 fa fb fc fd fe ff 13 02 00 00 2e 00 2b 00 02 03 04 00 33 00 24 00 1d 00 20 9f d7 ad 6d cf f4 29 8d d3 f9 6d 5b 1b 2a f9 10 a0 53 5b 14 88 d7 f8 fa bb 34 9a 98 28 80 b6 15\")\n",
    "\n",
    "\n",
    "hello_hash = transcript_hash(client_hello_no_record, server_hello_no_record)\n",
    "print_bytes_as_hex(hello_hash)"
   ]
  },
  {
   "cell_type": "markdown",
   "metadata": {},
   "source": [
    "# 7b. Shared secret ✅\n",
    "The idea of the key exchange is that given the private key and the public key of the other party, both client and server can perform calculations to arrive at the same number. Essentially, client private x server public = server private x client public. This is called the shared secret. We'll perform the calculations on our side while the server does it on theirs.\n"
   ]
  },
  {
   "cell_type": "code",
   "execution_count": 254,
   "metadata": {},
   "outputs": [
    {
     "name": "stdout",
     "output_type": "stream",
     "text": [
      "0a 3a 2d 7d 63 f5 4e 83 09 dd 17 60 e5 e1 c3 56 68 f0 20 f8 fb 8e df a0 1b 4b d1 e2 c1 87 6a 37\n"
     ]
    }
   ],
   "source": [
    "# Our public key right now is raw bytes. Our private key, on the other hand, is a x25519PrivateKey object. The most convenient way to calculate the \n",
    "# shared secret is to turn the public key into a x25519PublicKey object and leverage the built in methods to generate the shared secret\n",
    "\n",
    "\n",
    "#Test key exchange\n",
    "# test_client_private_key = x25519.X25519PrivateKey.from_private_bytes(bytes.fromhex(\"202122232425262728292a2b2c2d2e2f303132333435363738393a3b3c3d3e3f\"))\n",
    "# test_client_public_key = test_client_private_key.public_key()\n",
    "# print_bytes_as_hex(test_client_public_key.public_bytes(\n",
    "#     encoding=serialization.Encoding.Raw,\n",
    "#     format=serialization.PublicFormat.Raw\n",
    "#     ))\n",
    "\n",
    "# test_server_private_key = x25519.X25519PrivateKey.from_private_bytes(bytes.fromhex(\"909192939495969798999a9b9c9d9e9fa0a1a2a3a4a5a6a7a8a9aaabacadaeaf\"))\n",
    "# test_server_public_key = test_server_private_key.public_key()\n",
    "# print_bytes_as_hex(test_server_public_key.public_bytes(\n",
    "#     encoding=serialization.Encoding.Raw,\n",
    "#     format=serialization.PublicFormat.Raw\n",
    "#     ))\n",
    "\n",
    "# test_shared_secret = test_client_private_key.exchange(test_server_public_key)\n",
    "# print_bytes_as_hex(test_shared_secret)\n",
    "\n",
    "\n",
    "server_public_key = x25519.X25519PublicKey.from_public_bytes(public_key) \n",
    "# private_key = x25519.X25519PrivateKey.from_private_bytes(bytes.fromhex(\"202122232425262728292a2b2c2d2e2f303132333435363738393a3b3c3d3e3f\"))\n",
    "shared_secret = private_key.exchange(server_public_key)\n",
    "print_bytes_as_hex(shared_secret)\n",
    "\n",
    "\n",
    "\n",
    "\n",
    "\n"
   ]
  },
  {
   "cell_type": "markdown",
   "metadata": {},
   "source": [
    "# 7c. Early Secret, Derived Secret, Handshake Secret ✅\n",
    "We then go on to generate the early secret, the derived secret and finally the handshake secret. \n",
    "\n",
    "- Early secret is for 0-RTT data (essentially data sent with pre-shared keys). Since we're not using PSKs, this is a bunch of 0 bytes.\n",
    "- Derived secret is mainly used as salt, mixed in with the early secret to get the handshake key. This way, even if an attacker has the early secret, it's hard to determine the handshake key\n",
    "\n",
    "Each of these secrets have a \"label\" associated with them to identify their use, usually with the format \"tls13 + ID of the component\". \n",
    "\n",
    "* Note 1: We can pass in the label directly into the HKDF info parameter, or we can make a method that will append the TLS13 infront and add the necessary bytes for length, after which it is passed into the infor parameter. To avoid hardcoding, I went with the second options. If this example works, we can go back and try hardcoding the labels to see if it affects anything\n"
   ]
  },
  {
   "cell_type": "code",
   "execution_count": 255,
   "metadata": {},
   "outputs": [],
   "source": [
    "## REMEMBER TO CHANGE IT BACK TO SHA256 AFTER TESTING. Algorithm goes back to SHA256, Length goes back to 32.\n",
    "\n",
    "\n",
    "# UNCOMMENT THIS FOR TESTING. SHOULD WORK FOR SHA384 IMPLEMENTATIONS:\n",
    "\n",
    "# shared_secret = bytes.fromhex('df4a291baa1eb7cfa6934b29b474baad2697e29f1f920dcc77c8a0a088447624')\n",
    "# hello_hash = bytes.fromhex('e05f64fcd082bdb0dce473adf669c2769f257a1c75a51b7887468b5e0e7a7de4f4d34555112077f16e079019d5a845bd')\n",
    "\n",
    "\n",
    "\n",
    "\n",
    "# TLS specs make use of 2 methods: HKDF-Extract and HKDF-Expand. HKDF-Extract can be found in hkdf.HKDF()_extract(). HKDF-Expand is hkdf.HKDFExpand()\n",
    "# Define our own hkdf_expand_label. This is basically calling HKDF to derive secrets, with an added step of configuring the labels associated with the component.\n",
    "\n",
    "def hkdf_expand_label(secret: bytes, label: str, context: bytes, length: int) -> bytes:\n",
    "    # Construct the HkdfLabel as specified in TLS 1.3\n",
    "    label = b\"tls13 \" + label.encode('utf-8')\n",
    "    hkdf_label = (\n",
    "        struct.pack(\"!H\", length) +  # 2 bytes for length\n",
    "        struct.pack(\"!B\", len(label)) + label +  # 1 byte for label length + label\n",
    "        struct.pack(\"!B\", len(context)) + context  # 1 byte for context length + context\n",
    "    )\n",
    "    \n",
    "    # Use HKDF-Expand\n",
    "    encryption = hkdf.HKDFExpand(\n",
    "        algorithm=hashes.SHA384(),\n",
    "        length=length,\n",
    "        info=hkdf_label,\n",
    "    )\n",
    "    \n",
    "    return encryption.derive(secret)\n",
    "\n",
    "\n",
    "early_secret = hkdf.HKDF(\n",
    "    algorithm=hashes.SHA384(), #We negotiated SHA256 in our cipher suite\n",
    "    length=48,\n",
    "    salt=b'\\x00',\n",
    "    info=b'\\x00'\n",
    ")._extract(b'\\x00' * 48) #The first input key is simply 00\n",
    "\n",
    "empty_hash = hashes.Hash(hashes.SHA384())\n",
    "empty_hash.update(b\"\")  # Empty string\n",
    "empty_hash = empty_hash.finalize()\n",
    "\n",
    "# We then derive another secret called the derived secret from the early secret\n",
    "derived_secret = hkdf_expand_label(\n",
    "    secret = early_secret,\n",
    "    label=\"derived\",\n",
    "    context=empty_hash,\n",
    "    length=48\n",
    ")\n",
    "\n",
    "# The derived secret is mixed into the early secret to get the handshake secret\n",
    "handshake_secret = hkdf.HKDF(\n",
    "    algorithm=hashes.SHA384(),\n",
    "    length=48,\n",
    "    salt=derived_secret,  # derived_secret is used as salt\n",
    "    info=None\n",
    ")._extract(shared_secret)"
   ]
  },
  {
   "cell_type": "markdown",
   "metadata": {},
   "source": [
    "# 7d. Traffic Secrets and Key derivation ✅\n",
    "\n",
    "Now that we have our handshake secret, we can now move on to derive the traffic secrets, and subsequently the keys and IVs for both the client and the server"
   ]
  },
  {
   "cell_type": "code",
   "execution_count": 256,
   "metadata": {},
   "outputs": [
    {
     "name": "stdout",
     "output_type": "stream",
     "text": [
      "handshake secret: dc3cab30347db5d4f391c6460d4ceb576d6aacc9e5ac50754722f72bce7d30bb07e63143fa6d07fc07c61905d4fe4e9d\n",
      "client secret: 9c8d4bfc445895673137d595fe6bfc907cf0ab4b8ef096ccf5d978e0ddbd5f6f6f56d9f04f35342f47537494c46e4368\n",
      "server secret: 05784f3f6d273041922fbb861189e3a5864a2ce1e09bbca74876420a3c7cfd74b37a3504c746ce06821a21293a25ad44\n",
      "client handshake key: 8d2a3dd3d8bbcfb8071a85411f5740e0793e8cf2016edcc603311079cd4f30ab\n",
      "client handshake iv: 95ab5c503c379f52c0ec4293\n",
      "server handshake key: 95c2513984fde991996b559e225cb71940c25c2765341850a249eab03b64de67\n",
      "server handshake iv: 1a6d170715b63e8ff92f0799\n"
     ]
    }
   ],
   "source": [
    "# Deriving the secrets and subsequent keys + IVs.\n",
    "client_secret = hkdf_expand_label(\n",
    "    secret = handshake_secret, \n",
    "    label = \"c hs traffic\", \n",
    "    context = hello_hash, \n",
    "    length = 48\n",
    ")\n",
    "\n",
    "server_secret = hkdf_expand_label(\n",
    "    secret = handshake_secret,\n",
    "    label = \"s hs traffic\",\n",
    "    context = hello_hash,\n",
    "    length = 48\n",
    ")\n",
    "\n",
    "\n",
    "client_handshake_key = hkdf_expand_label(\n",
    "    secret = client_secret,\n",
    "    label = \"key\",\n",
    "    context = b\"\",\n",
    "    length = 32\n",
    ")\n",
    "\n",
    "server_handshake_key = hkdf_expand_label(\n",
    "    secret = server_secret,\n",
    "    label = \"key\",\n",
    "    context = b\"\",\n",
    "    length = 32\n",
    ")\n",
    "\n",
    "client_handshake_iv = hkdf_expand_label(\n",
    "    secret = client_secret,\n",
    "    label = \"iv\",\n",
    "    context = b\"\",\n",
    "    length = 12\n",
    ")\n",
    "\n",
    "server_handshake_iv = hkdf_expand_label(\n",
    "    secret = server_secret,\n",
    "    label = \"iv\",\n",
    "    context = b\"\",\n",
    "    length = 12\n",
    ")\n",
    "\n",
    "\n",
    "\n",
    "\n",
    "print(\"handshake secret: \" + handshake_secret.hex())\n",
    "print(\"client secret: \" + client_secret.hex())\n",
    "print(\"server secret: \" + server_secret.hex())\n",
    "print(\"client handshake key: \" + client_handshake_key.hex())\n",
    "print(\"client handshake iv: \"+ client_handshake_iv.hex())\n",
    "print(\"server handshake key: \" + server_handshake_key.hex())\n",
    "print(\"server handshake iv: \" + server_handshake_iv.hex())\n"
   ]
  },
  {
   "cell_type": "markdown",
   "metadata": {},
   "source": [
    "## 8. Decryption ✅\n",
    "\n",
    "Now that we have the keys and IVs, the next step would be to decrypt the encrypted records. When sending the ClientHello, the server sends back a massive binary dump, including the ServerHello, the change cipher specs, and the actual payload, which is encrypted. We will use the keys and ivs generated to decrypt these records.\n",
    "\n",
    "Normally, you'll see a bunch of records, each with its own content, from the server encrypted extension, certificates, etc. However, Cloudbase has aggregated all of these into a single record. What we're really interested in is the server's finished message."
   ]
  },
  {
   "cell_type": "code",
   "execution_count": 257,
   "metadata": {},
   "outputs": [
    {
     "name": "stdout",
     "output_type": "stream",
     "text": [
      "08 00 00 06 00 04 00 00 00 00 0b 00 09 f8 00 00 09 f4 00 03 c4 30 82 03 c0 30 82 03 66 a0 03 02 01 02 02 10 12 c6 55 b2 e7 0b ce 7c 13 1a 7c e5 a2 e0 e7 00 30 0a 06 08 2a 86 48 ce 3d 04 03 02 30 3b 31 0b 30 09 06 03 55 04 06 13 02 55 53 31 1e 30 1c 06 03 55 04 0a 13 15 47 6f 6f 67 6c 65 20 54 72 75 73 74 20 53 65 72 76 69 63 65 73 31 0c 30 0a 06 03 55 04 03 13 03 57 45 31 30 1e 17 0d 32 35 30 33 30 31 31 37 34 34 32 30 5a 17 0d 32 35 30 35 33 30 31 38 34 34 31 38 5a 30 1d 31 1b 30 19 06 03 55 04 03 13 12 77 77 77 2e 63 6c 6f 75 64 66 6c 61 72 65 2e 63 6f 6d 30 59 30 13 06 07 2a 86 48 ce 3d 02 01 06 08 2a 86 48 ce 3d 03 01 07 03 42 00 04 50 1f b6 ee 9c c2 99 12 65 31 48 92 cb ec fa 69 ea d3 d4 4c 52 03 d6 cd d9 60 3d 2a 1c b0 04 a0 84 ff 88 84 fc dd 83 41 74 5e 1c ad 8b bd 2f e3 10 30 44 25 30 e3 f6 23 af 73 c6 2e 82 9f 33 5c a3 82 02 68 30 82 02 64 30 0e 06 03 55 1d 0f 01 01 ff 04 04 03 02 07 80 30 13 06 03 55 1d 25 04 0c 30 0a 06 08 2b 06 01 05 05 07 03 01 30 0c 06 03 55 1d 13 01 01 ff 04 02 30 00 30 1d 06 03 55 1d 0e 04 16 04 14 28 2b 73 97 4e 16 4d aa c5 35 1c 9f 60 11 38 ee 65 e6 7a a3 30 1f 06 03 55 1d 23 04 18 30 16 80 14 90 77 92 35 67 c4 ff a8 cc a9 e6 7b d9 80 79 7b cc 93 f9 38 30 5e 06 08 2b 06 01 05 05 07 01 01 04 52 30 50 30 27 06 08 2b 06 01 05 05 07 30 01 86 1b 68 74 74 70 3a 2f 2f 6f 2e 70 6b 69 2e 67 6f 6f 67 2f 73 2f 77 65 31 2f 45 73 59 30 25 06 08 2b 06 01 05 05 07 30 02 86 19 68 74 74 70 3a 2f 2f 69 2e 70 6b 69 2e 67 6f 6f 67 2f 77 65 31 2e 63 72 74 30 3a 06 03 55 1d 11 04 33 30 31 82 12 77 77 77 2e 63 6c 6f 75 64 66 6c 61 72 65 2e 63 6f 6d 82 1b 62 6c 6f 67 2e 61 70 69 2e 77 77 77 2e 63 6c 6f 75 64 66 6c 61 72 65 2e 63 6f 6d 30 13 06 03 55 1d 20 04 0c 30 0a 30 08 06 06 67 81 0c 01 02 01 30 36 06 03 55 1d 1f 04 2f 30 2d 30 2b a0 29 a0 27 86 25 68 74 74 70 3a 2f 2f 63 2e 70 6b 69 2e 67 6f 6f 67 2f 77 65 31 2f 6a 6b 49 6a 44 6b 44 71 46 42 63 2e 63 72 6c 30 82 01 04 06 0a 2b 06 01 04 01 d6 79 02 04 02 04 81 f5 04 81 f2 00 f0 00 76 00 cf 11 56 ee d5 2e 7c af f3 87 5b d9 69 2e 9b e9 1a 71 67 4a b0 17 ec ac 01 d2 5b 77 ce cc 3b 08 00 00 01 95 53 06 0d 09 00 00 04 03 00 47 30 45 02 21 00 ac 69 06 08 e0 e8 26 4f 24 ec 3e 7a 16 bc af fd 71 33 de 66 a8 3e 17 df 46 f5 9c b2 8d 6a ce ca 02 20 5a 14 a8 04 22 28 9a 9f 9f 50 d1 8d ee 64 c6 7f 52 23 0b 5a 75 2d b5 a8 90 1c f7 9f 43 d0 d2 97 00 76 00 7d 59 1e 12 e1 78 2a 7b 1c 61 67 7c 5e fd f8 d0 87 5c 14 a0 4e 95 9e b9 03 2f d9 0e 8c 2e 79 b8 00 00 01 95 53 06 0c f8 00 00 04 03 00 47 30 45 02 20 5f ca 15 9d ef 27 89 fb 5a ed 8c e3 5d 6b 67 aa 91 ef 3b 30 8d ca 4c 06 91 c6 e9 d0 93 02 6b 79 02 21 00 98 ab 71 ab fb c0 0f 49 db 60 93 b0 60 d1 a3 31 46 9c a5 c0 39 3f d0 44 d0 3b 77 8e 4d 36 3a aa 30 0a 06 08 2a 86 48 ce 3d 04 03 02 03 48 00 30 45 02 20 2c 8f 76 ba 44 71 46 2a 0e b3 23 a7 60 86 e9 51 b8 0a 3a 6d 7c 09 41 bd d1 78 d0 14 42 96 fb 61 02 21 00 b2 93 53 b4 a3 c0 bb 68 1c aa eb 67 ec 95 d3 10 98 fe 48 e6 44 21 ca 05 cf 7a 2e 67 ee d1 6b dd 00 00 00 02 a3 30 82 02 9f 30 82 02 25 a0 03 02 01 02 02 10 7f f3 19 77 97 2c 22 4a 76 15 5d 13 b6 d6 85 e3 30 0a 06 08 2a 86 48 ce 3d 04 03 03 30 47 31 0b 30 09 06 03 55 04 06 13 02 55 53 31 22 30 20 06 03 55 04 0a 13 19 47 6f 6f 67 6c 65 20 54 72 75 73 74 20 53 65 72 76 69 63 65 73 20 4c 4c 43 31 14 30 12 06 03 55 04 03 13 0b 47 54 53 20 52 6f 6f 74 20 52 34 30 1e 17 0d 32 33 31 32 31 33 30 39 30 30 30 30 5a 17 0d 32 39 30 32 32 30 31 34 30 30 30 30 5a 30 3b 31 0b 30 09 06 03 55 04 06 13 02 55 53 31 1e 30 1c 06 03 55 04 0a 13 15 47 6f 6f 67 6c 65 20 54 72 75 73 74 20 53 65 72 76 69 63 65 73 31 0c 30 0a 06 03 55 04 03 13 03 57 45 31 30 59 30 13 06 07 2a 86 48 ce 3d 02 01 06 08 2a 86 48 ce 3d 03 01 07 03 42 00 04 6f cd 3a fe 67 57 47 4c 21 03 85 40 c2 47 5d bb 58 47 0f 40 c1 5c 17 85 c6 19 37 e7 d5 7c ed 86 4b 9b 81 d9 d7 1a 13 a5 0a 03 f8 98 c4 c6 e8 9e ff 10 59 8f 2c 26 98 f5 e6 26 25 bb 0f 02 fa 56 a3 81 fe 30 81 fb 30 0e 06 03 55 1d 0f 01 01 ff 04 04 03 02 01 86 30 1d 06 03 55 1d 25 04 16 30 14 06 08 2b 06 01 05 05 07 03 01 06 08 2b 06 01 05 05 07 03 02 30 12 06 03 55 1d 13 01 01 ff 04 08 30 06 01 01 ff 02 01 00 30 1d 06 03 55 1d 0e 04 16 04 14 90 77 92 35 67 c4 ff a8 cc a9 e6 7b d9 80 79 7b cc 93 f9 38 30 1f 06 03 55 1d 23 04 18 30 16 80 14 80 4c d6 eb 74 ff 49 36 a3 d5 d8 fc b5 3e c5 6a f0 94 1d 8c 30 34 06 08 2b 06 01 05 05 07 01 01 04 28 30 26 30 24 06 08 2b 06 01 05 05 07 30 02 86 18 68 74 74 70 3a 2f 2f 69 2e 70 6b 69 2e 67 6f 6f 67 2f 72 34 2e 63 72 74 30 2b 06 03 55 1d 1f 04 24 30 22 30 20 a0 1e a0 1c 86 1a 68 74 74 70 3a 2f 2f 63 2e 70 6b 69 2e 67 6f 6f 67 2f 72 2f 72 34 2e 63 72 6c 30 13 06 03 55 1d 20 04 0c 30 0a 30 08 06 06 67 81 0c 01 02 01 30 0a 06 08 2a 86 48 ce 3d 04 03 03 03 68 00 30 65 02 31 00 e7 02 ab 51 d6 f7 43 95 ce 75 fe d1 11 94 d5 cc 40 41 7a 26 be d8 0c f3 32 2d 3d 90 ae 15 0f 23 48 12 52 8f 3e 64 79 13 af f5 a6 2c 02 6e 55 b1 02 30 26 89 cc 68 01 62 e7 89 ab 7e 17 e8 14 d6 44 7e e3 4c 49 0e bf 6c 80 62 34 b8 b2 a1 7e 3a 16 88 50 bc a7 88 a0 9f 7d 73 1e ec 52 41 4d ee e2 56 00 00 00 03 7e 30 82 03 7a 30 82 02 62 a0 03 02 01 02 02 10 7f e5 30 bf 33 13 43 be dd 82 16 10 49 3d 8a 1b 30 0d 06 09 2a 86 48 86 f7 0d 01 01 0b 05 00 30 57 31 0b 30 09 06 03 55 04 06 13 02 42 45 31 19 30 17 06 03 55 04 0a 13 10 47 6c 6f 62 61 6c 53 69 67 6e 20 6e 76 2d 73 61 31 10 30 0e 06 03 55 04 0b 13 07 52 6f 6f 74 20 43 41 31 1b 30 19 06 03 55 04 03 13 12 47 6c 6f 62 61 6c 53 69 67 6e 20 52 6f 6f 74 20 43 41 30 1e 17 0d 32 33 31 31 31 35 30 33 34 33 32 31 5a 17 0d 32 38 30 31 32 38 30 30 30 30 34 32 5a 30 47 31 0b 30 09 06 03 55 04 06 13 02 55 53 31 22 30 20 06 03 55 04 0a 13 19 47 6f 6f 67 6c 65 20 54 72 75 73 74 20 53 65 72 76 69 63 65 73 20 4c 4c 43 31 14 30 12 06 03 55 04 03 13 0b 47 54 53 20 52 6f 6f 74 20 52 34 30 76 30 10 06 07 2a 86 48 ce 3d 02 01 06 05 2b 81 04 00 22 03 62 00 04 f3 74 73 a7 68 8b 60 ae 43 b8 35 c5 81 30 7b 4b 49 9d fb c1 61 ce e6 de 46 bd 6b d5 61 18 35 ae 40 dd 73 f7 89 91 30 5a eb 3c ee 85 7c a2 40 76 3b a9 c6 b8 47 d8 2a e7 92 91 6a 73 e9 b1 72 39 9f 29 9f a2 98 d3 5f 5e 58 86 65 0f a1 84 65 06 d1 dc 8b c9 c7 73 c8 8c 6a 2f e5 c4 ab d1 1d 8a a3 81 ff 30 81 fc 30 0e 06 03 55 1d 0f 01 01 ff 04 04 03 02 01 86 30 1d 06 03 55 1d 25 04 16 30 14 06 08 2b 06 01 05 05 07 03 01 06 08 2b 06 01 05 05 07 03 02 30 0f 06 03 55 1d 13 01 01 ff 04 05 30 03 01 01 ff 30 1d 06 03 55 1d 0e 04 16 04 14 80 4c d6 eb 74 ff 49 36 a3 d5 d8 fc b5 3e c5 6a f0 94 1d 8c 30 1f 06 03 55 1d 23 04 18 30 16 80 14 60 7b 66 1a 45 0d 97 ca 89 50 2f 7d 04 cd 34 a8 ff fc fd 4b 30 36 06 08 2b 06 01 05 05 07 01 01 04 2a 30 28 30 26 06 08 2b 06 01 05 05 07 30 02 86 1a 68 74 74 70 3a 2f 2f 69 2e 70 6b 69 2e 67 6f 6f 67 2f 67 73 72 31 2e 63 72 74 30 2d 06 03 55 1d 1f 04 26 30 24 30 22 a0 20 a0 1e 86 1c 68 74 74 70 3a 2f 2f 63 2e 70 6b 69 2e 67 6f 6f 67 2f 72 2f 67 73 72 31 2e 63 72 6c 30 13 06 03 55 1d 20 04 0c 30 0a 30 08 06 06 67 81 0c 01 02 01 30 0d 06 09 2a 86 48 86 f7 0d 01 01 0b 05 00 03 82 01 01 00 18 42 bb 0f 06 d6 03 87 96 e3 3f 63 81 0f 09 a4 a1 68 48 0c 39 22 73 9e f8 cb 4e 2d 7f 31 e9 9f e7 09 a1 d2 36 0f 84 ac 79 eb 10 e9 b0 eb 6a b6 7b 0b 7d 1d 74 b8 9b 65 ab 68 2a 2c 2c dd 42 fd c6 71 0b cf 87 2d f7 6b c8 0f 6e 05 7d 56 e2 23 58 58 f9 25 ba 16 85 47 90 d7 96 20 fd 06 09 b6 8c e0 2e ae 55 d1 79 75 35 2c 31 5b 3f 65 bc cd 9c 87 42 a7 91 b1 9b 1e 5e 8e f1 1a bb ca 2d 47 f0 ac 90 63 7e 86 bf d6 e4 6b d3 d6 d3 01 8e 05 8a 67 58 b8 ff f7 a6 84 0d 49 1b 50 5b 3f 3a 0b 25 0b f2 12 8b 5c d3 79 57 8d 36 82 ce ff 26 11 b7 a9 f1 1a 99 ed ad 82 3e c8 11 6e eb d3 3c 1c 1c 38 c0 41 9a e1 5e 53 cf 3e 15 20 57 eb ee e2 3f 48 a5 f1 be 19 d1 01 6a 23 0c 0c 1d fb 3f 2f a2 b5 bd ea 6e a3 1b 46 ce 2e 02 67 af 33 26 98 aa d5 4b d2 a9 36 c5 26 3b 5b 0f 8b 1e 88 c1 e5 00 00 0f 00 00 4b 04 03 00 47 30 45 02 21 00 d8 14 ae ef 00 05 fd 61 30 01 7d ec a5 fb 5d b2 2c 8c 10 0e f4 ac ae 3c 49 8d ce 20 b3 f6 85 cd 02 20 50 5e 9a f4 45 3f 96 00 00 ea e4 cb 28 91 69 a4 47 0b 5e 3b f8 bb 70 1e 3c b0 31 4c 1b 9d 99 57 14 00 00 30 18 85 95 b3 aa 5d 18 29 f5 2d e3 e4 1e 62 a8 b6 71 14 ff b6 7c c4 0d 17 d0 b0 54 3d 0d 91 f1 01 d4 41 73 41 f0 17 ba 9c c1 ad 74 f8 dd 5d b2 19 16\n",
      "2645\n",
      "Server handshake: \n",
      "08 00 00 06 00 04 00 00 00 00 0b 00 09 f8 00 00 09 f4 00 03 c4 30 82 03 c0 30 82 03 66 a0 03 02 01 02 02 10 12 c6 55 b2 e7 0b ce 7c 13 1a 7c e5 a2 e0 e7 00 30 0a 06 08 2a 86 48 ce 3d 04 03 02 30 3b 31 0b 30 09 06 03 55 04 06 13 02 55 53 31 1e 30 1c 06 03 55 04 0a 13 15 47 6f 6f 67 6c 65 20 54 72 75 73 74 20 53 65 72 76 69 63 65 73 31 0c 30 0a 06 03 55 04 03 13 03 57 45 31 30 1e 17 0d 32 35 30 33 30 31 31 37 34 34 32 30 5a 17 0d 32 35 30 35 33 30 31 38 34 34 31 38 5a 30 1d 31 1b 30 19 06 03 55 04 03 13 12 77 77 77 2e 63 6c 6f 75 64 66 6c 61 72 65 2e 63 6f 6d 30 59 30 13 06 07 2a 86 48 ce 3d 02 01 06 08 2a 86 48 ce 3d 03 01 07 03 42 00 04 50 1f b6 ee 9c c2 99 12 65 31 48 92 cb ec fa 69 ea d3 d4 4c 52 03 d6 cd d9 60 3d 2a 1c b0 04 a0 84 ff 88 84 fc dd 83 41 74 5e 1c ad 8b bd 2f e3 10 30 44 25 30 e3 f6 23 af 73 c6 2e 82 9f 33 5c a3 82 02 68 30 82 02 64 30 0e 06 03 55 1d 0f 01 01 ff 04 04 03 02 07 80 30 13 06 03 55 1d 25 04 0c 30 0a 06 08 2b 06 01 05 05 07 03 01 30 0c 06 03 55 1d 13 01 01 ff 04 02 30 00 30 1d 06 03 55 1d 0e 04 16 04 14 28 2b 73 97 4e 16 4d aa c5 35 1c 9f 60 11 38 ee 65 e6 7a a3 30 1f 06 03 55 1d 23 04 18 30 16 80 14 90 77 92 35 67 c4 ff a8 cc a9 e6 7b d9 80 79 7b cc 93 f9 38 30 5e 06 08 2b 06 01 05 05 07 01 01 04 52 30 50 30 27 06 08 2b 06 01 05 05 07 30 01 86 1b 68 74 74 70 3a 2f 2f 6f 2e 70 6b 69 2e 67 6f 6f 67 2f 73 2f 77 65 31 2f 45 73 59 30 25 06 08 2b 06 01 05 05 07 30 02 86 19 68 74 74 70 3a 2f 2f 69 2e 70 6b 69 2e 67 6f 6f 67 2f 77 65 31 2e 63 72 74 30 3a 06 03 55 1d 11 04 33 30 31 82 12 77 77 77 2e 63 6c 6f 75 64 66 6c 61 72 65 2e 63 6f 6d 82 1b 62 6c 6f 67 2e 61 70 69 2e 77 77 77 2e 63 6c 6f 75 64 66 6c 61 72 65 2e 63 6f 6d 30 13 06 03 55 1d 20 04 0c 30 0a 30 08 06 06 67 81 0c 01 02 01 30 36 06 03 55 1d 1f 04 2f 30 2d 30 2b a0 29 a0 27 86 25 68 74 74 70 3a 2f 2f 63 2e 70 6b 69 2e 67 6f 6f 67 2f 77 65 31 2f 6a 6b 49 6a 44 6b 44 71 46 42 63 2e 63 72 6c 30 82 01 04 06 0a 2b 06 01 04 01 d6 79 02 04 02 04 81 f5 04 81 f2 00 f0 00 76 00 cf 11 56 ee d5 2e 7c af f3 87 5b d9 69 2e 9b e9 1a 71 67 4a b0 17 ec ac 01 d2 5b 77 ce cc 3b 08 00 00 01 95 53 06 0d 09 00 00 04 03 00 47 30 45 02 21 00 ac 69 06 08 e0 e8 26 4f 24 ec 3e 7a 16 bc af fd 71 33 de 66 a8 3e 17 df 46 f5 9c b2 8d 6a ce ca 02 20 5a 14 a8 04 22 28 9a 9f 9f 50 d1 8d ee 64 c6 7f 52 23 0b 5a 75 2d b5 a8 90 1c f7 9f 43 d0 d2 97 00 76 00 7d 59 1e 12 e1 78 2a 7b 1c 61 67 7c 5e fd f8 d0 87 5c 14 a0 4e 95 9e b9 03 2f d9 0e 8c 2e 79 b8 00 00 01 95 53 06 0c f8 00 00 04 03 00 47 30 45 02 20 5f ca 15 9d ef 27 89 fb 5a ed 8c e3 5d 6b 67 aa 91 ef 3b 30 8d ca 4c 06 91 c6 e9 d0 93 02 6b 79 02 21 00 98 ab 71 ab fb c0 0f 49 db 60 93 b0 60 d1 a3 31 46 9c a5 c0 39 3f d0 44 d0 3b 77 8e 4d 36 3a aa 30 0a 06 08 2a 86 48 ce 3d 04 03 02 03 48 00 30 45 02 20 2c 8f 76 ba 44 71 46 2a 0e b3 23 a7 60 86 e9 51 b8 0a 3a 6d 7c 09 41 bd d1 78 d0 14 42 96 fb 61 02 21 00 b2 93 53 b4 a3 c0 bb 68 1c aa eb 67 ec 95 d3 10 98 fe 48 e6 44 21 ca 05 cf 7a 2e 67 ee d1 6b dd 00 00 00 02 a3 30 82 02 9f 30 82 02 25 a0 03 02 01 02 02 10 7f f3 19 77 97 2c 22 4a 76 15 5d 13 b6 d6 85 e3 30 0a 06 08 2a 86 48 ce 3d 04 03 03 30 47 31 0b 30 09 06 03 55 04 06 13 02 55 53 31 22 30 20 06 03 55 04 0a 13 19 47 6f 6f 67 6c 65 20 54 72 75 73 74 20 53 65 72 76 69 63 65 73 20 4c 4c 43 31 14 30 12 06 03 55 04 03 13 0b 47 54 53 20 52 6f 6f 74 20 52 34 30 1e 17 0d 32 33 31 32 31 33 30 39 30 30 30 30 5a 17 0d 32 39 30 32 32 30 31 34 30 30 30 30 5a 30 3b 31 0b 30 09 06 03 55 04 06 13 02 55 53 31 1e 30 1c 06 03 55 04 0a 13 15 47 6f 6f 67 6c 65 20 54 72 75 73 74 20 53 65 72 76 69 63 65 73 31 0c 30 0a 06 03 55 04 03 13 03 57 45 31 30 59 30 13 06 07 2a 86 48 ce 3d 02 01 06 08 2a 86 48 ce 3d 03 01 07 03 42 00 04 6f cd 3a fe 67 57 47 4c 21 03 85 40 c2 47 5d bb 58 47 0f 40 c1 5c 17 85 c6 19 37 e7 d5 7c ed 86 4b 9b 81 d9 d7 1a 13 a5 0a 03 f8 98 c4 c6 e8 9e ff 10 59 8f 2c 26 98 f5 e6 26 25 bb 0f 02 fa 56 a3 81 fe 30 81 fb 30 0e 06 03 55 1d 0f 01 01 ff 04 04 03 02 01 86 30 1d 06 03 55 1d 25 04 16 30 14 06 08 2b 06 01 05 05 07 03 01 06 08 2b 06 01 05 05 07 03 02 30 12 06 03 55 1d 13 01 01 ff 04 08 30 06 01 01 ff 02 01 00 30 1d 06 03 55 1d 0e 04 16 04 14 90 77 92 35 67 c4 ff a8 cc a9 e6 7b d9 80 79 7b cc 93 f9 38 30 1f 06 03 55 1d 23 04 18 30 16 80 14 80 4c d6 eb 74 ff 49 36 a3 d5 d8 fc b5 3e c5 6a f0 94 1d 8c 30 34 06 08 2b 06 01 05 05 07 01 01 04 28 30 26 30 24 06 08 2b 06 01 05 05 07 30 02 86 18 68 74 74 70 3a 2f 2f 69 2e 70 6b 69 2e 67 6f 6f 67 2f 72 34 2e 63 72 74 30 2b 06 03 55 1d 1f 04 24 30 22 30 20 a0 1e a0 1c 86 1a 68 74 74 70 3a 2f 2f 63 2e 70 6b 69 2e 67 6f 6f 67 2f 72 2f 72 34 2e 63 72 6c 30 13 06 03 55 1d 20 04 0c 30 0a 30 08 06 06 67 81 0c 01 02 01 30 0a 06 08 2a 86 48 ce 3d 04 03 03 03 68 00 30 65 02 31 00 e7 02 ab 51 d6 f7 43 95 ce 75 fe d1 11 94 d5 cc 40 41 7a 26 be d8 0c f3 32 2d 3d 90 ae 15 0f 23 48 12 52 8f 3e 64 79 13 af f5 a6 2c 02 6e 55 b1 02 30 26 89 cc 68 01 62 e7 89 ab 7e 17 e8 14 d6 44 7e e3 4c 49 0e bf 6c 80 62 34 b8 b2 a1 7e 3a 16 88 50 bc a7 88 a0 9f 7d 73 1e ec 52 41 4d ee e2 56 00 00 00 03 7e 30 82 03 7a 30 82 02 62 a0 03 02 01 02 02 10 7f e5 30 bf 33 13 43 be dd 82 16 10 49 3d 8a 1b 30 0d 06 09 2a 86 48 86 f7 0d 01 01 0b 05 00 30 57 31 0b 30 09 06 03 55 04 06 13 02 42 45 31 19 30 17 06 03 55 04 0a 13 10 47 6c 6f 62 61 6c 53 69 67 6e 20 6e 76 2d 73 61 31 10 30 0e 06 03 55 04 0b 13 07 52 6f 6f 74 20 43 41 31 1b 30 19 06 03 55 04 03 13 12 47 6c 6f 62 61 6c 53 69 67 6e 20 52 6f 6f 74 20 43 41 30 1e 17 0d 32 33 31 31 31 35 30 33 34 33 32 31 5a 17 0d 32 38 30 31 32 38 30 30 30 30 34 32 5a 30 47 31 0b 30 09 06 03 55 04 06 13 02 55 53 31 22 30 20 06 03 55 04 0a 13 19 47 6f 6f 67 6c 65 20 54 72 75 73 74 20 53 65 72 76 69 63 65 73 20 4c 4c 43 31 14 30 12 06 03 55 04 03 13 0b 47 54 53 20 52 6f 6f 74 20 52 34 30 76 30 10 06 07 2a 86 48 ce 3d 02 01 06 05 2b 81 04 00 22 03 62 00 04 f3 74 73 a7 68 8b 60 ae 43 b8 35 c5 81 30 7b 4b 49 9d fb c1 61 ce e6 de 46 bd 6b d5 61 18 35 ae 40 dd 73 f7 89 91 30 5a eb 3c ee 85 7c a2 40 76 3b a9 c6 b8 47 d8 2a e7 92 91 6a 73 e9 b1 72 39 9f 29 9f a2 98 d3 5f 5e 58 86 65 0f a1 84 65 06 d1 dc 8b c9 c7 73 c8 8c 6a 2f e5 c4 ab d1 1d 8a a3 81 ff 30 81 fc 30 0e 06 03 55 1d 0f 01 01 ff 04 04 03 02 01 86 30 1d 06 03 55 1d 25 04 16 30 14 06 08 2b 06 01 05 05 07 03 01 06 08 2b 06 01 05 05 07 03 02 30 0f 06 03 55 1d 13 01 01 ff 04 05 30 03 01 01 ff 30 1d 06 03 55 1d 0e 04 16 04 14 80 4c d6 eb 74 ff 49 36 a3 d5 d8 fc b5 3e c5 6a f0 94 1d 8c 30 1f 06 03 55 1d 23 04 18 30 16 80 14 60 7b 66 1a 45 0d 97 ca 89 50 2f 7d 04 cd 34 a8 ff fc fd 4b 30 36 06 08 2b 06 01 05 05 07 01 01 04 2a 30 28 30 26 06 08 2b 06 01 05 05 07 30 02 86 1a 68 74 74 70 3a 2f 2f 69 2e 70 6b 69 2e 67 6f 6f 67 2f 67 73 72 31 2e 63 72 74 30 2d 06 03 55 1d 1f 04 26 30 24 30 22 a0 20 a0 1e 86 1c 68 74 74 70 3a 2f 2f 63 2e 70 6b 69 2e 67 6f 6f 67 2f 72 2f 67 73 72 31 2e 63 72 6c 30 13 06 03 55 1d 20 04 0c 30 0a 30 08 06 06 67 81 0c 01 02 01 30 0d 06 09 2a 86 48 86 f7 0d 01 01 0b 05 00 03 82 01 01 00 18 42 bb 0f 06 d6 03 87 96 e3 3f 63 81 0f 09 a4 a1 68 48 0c 39 22 73 9e f8 cb 4e 2d 7f 31 e9 9f e7 09 a1 d2 36 0f 84 ac 79 eb 10 e9 b0 eb 6a b6 7b 0b 7d 1d 74 b8 9b 65 ab 68 2a 2c 2c dd 42 fd c6 71 0b cf 87 2d f7 6b c8 0f 6e 05 7d 56 e2 23 58 58 f9 25 ba 16 85 47 90 d7 96 20 fd 06 09 b6 8c e0 2e ae 55 d1 79 75 35 2c 31 5b 3f 65 bc cd 9c 87 42 a7 91 b1 9b 1e 5e 8e f1 1a bb ca 2d 47 f0 ac 90 63 7e 86 bf d6 e4 6b d3 d6 d3 01 8e 05 8a 67 58 b8 ff f7 a6 84 0d 49 1b 50 5b 3f 3a 0b 25 0b f2 12 8b 5c d3 79 57 8d 36 82 ce ff 26 11 b7 a9 f1 1a 99 ed ad 82 3e c8 11 6e eb d3 3c 1c 1c 38 c0 41 9a e1 5e 53 cf 3e 15 20 57 eb ee e2 3f 48 a5 f1 be 19 d1 01 6a 23 0c 0c 1d fb 3f 2f a2 b5 bd ea 6e a3 1b 46 ce 2e 02 67 af 33 26 98 aa d5 4b d2 a9 36 c5 26 3b 5b 0f 8b 1e 88 c1 e5 00 00 0f 00 00 4b 04 03 00 47 30 45 02 21 00 d8 14 ae ef 00 05 fd 61 30 01 7d ec a5 fb 5d b2 2c 8c 10 0e f4 ac ae 3c 49 8d ce 20 b3 f6 85 cd 02 20 50 5e 9a f4 45 3f 96 00 00 ea e4 cb 28 91 69 a4 47 0b 5e 3b f8 bb 70 1e 3c b0 31 4c 1b 9d 99 57\n",
      "Finished message: \n",
      "14 00 00 30 18 85 95 b3 aa 5d 18 29 f5 2d e3 e4 1e 62 a8 b6 71 14 ff b6 7c c4 0d 17 d0 b0 54 3d 0d 91 f1 01 d4 41 73 41 f0 17 ba 9c c1 ad 74 f8 dd 5d b2 19\n"
     ]
    }
   ],
   "source": [
    "def decrypt(key, iv, wrapper):\n",
    "    # Split the wrapper into additional authenticated data (AAD) and ciphertext\n",
    "    additional = wrapper[:5]\n",
    "    ciphertext = wrapper[5:]\n",
    "    \n",
    "    # Initialize AES-GCM with the provided key\n",
    "    aesgcm = AESGCM(key)\n",
    "    \n",
    "    # Decrypt the ciphertext\n",
    "    try:\n",
    "        plaintext = aesgcm.decrypt(iv, ciphertext, additional)\n",
    "    except Exception as e:\n",
    "        raise ValueError(f\"Decryption failed: {e}\")\n",
    "    \n",
    "    return plaintext\n",
    "\n",
    "def find_finished_message(payload: bytes) -> int:\n",
    "   # Look for Finished message header: 14 00 00 30 (for SHA384)\n",
    "   finished_header = bytes([0x14, 0x00, 0x00, 0x30])\n",
    "   return payload.find(finished_header)\n",
    "\n",
    "\n",
    "\n",
    "# Right now I'm doing a lot of copy pasting. I run the openSSL_debug script to retrieve the server's response, and then replace the serverHello, as well as the encrypted record under this line. Managed to decrypt the thing.\n",
    "\n",
    "payload = decrypt(server_handshake_key, server_handshake_iv, encrypted_payload)\n",
    "print_bytes_as_hex(payload)\n",
    "\n",
    "# Get index where Finished message starts\n",
    "finished_index = find_finished_message(payload)\n",
    "print(finished_index)\n",
    "\n",
    "# Get everything before the Finished message\n",
    "server_handshake_no_finished = payload[:finished_index] if finished_index != -1 else payload\n",
    "server_handshake_finished_message = payload[finished_index:-1]\n",
    "\n",
    "print(\"Server handshake: \")\n",
    "print_bytes_as_hex(server_handshake_no_finished)\n",
    "print(\"Finished message: \")\n",
    "print_bytes_as_hex(server_handshake_finished_message)\n",
    "\n",
    "\n",
    "#Test payload:\n",
    "#server_handshake_key = bytes.fromhex(\"9f13575ce3f8cfc1df64a77ceaffe89700b492ad31b4fab01c4792be1b266b7f\")\n",
    "#server_handshake_iv = bytes.fromhex(\"9563bc8b590f671f488d2da3\")\n",
    "#encrypted_payload = bytes.fromhex(\"17 03 03 00 17 6b e0 2f 9d a7 c2 dc 9d de f5 6f 24 68 b9 0a df a2 51 01 ab 03 44 ae\")\n",
    "#payload = decrypt(server_handshake_key, server_handshake_iv, encrypted_payload)\n",
    "#print(\"Test payload: \" + payload.hex())\n",
    "\n",
    "\n",
    "\n"
   ]
  },
  {
   "cell_type": "markdown",
   "metadata": {},
   "source": [
    "# 9. Application keys:\n",
    "The application keys are nearly the last step when it comes to finishing the handshake. The handshake keys were there decrypt the server's response, containing encrypted extensions, certificates, etc. Once we decrypt the encryption, we then use them to generate another set of keys, called application keys. This will be the main keys we use to communicate with the server. The code themselves are basically the same as the ones used to generate handshake hash"
   ]
  },
  {
   "cell_type": "markdown",
   "metadata": {},
   "source": [
    "# 9a. Application Key Hash:\n",
    "Generate a hash of all the messages up until this point: (Client Hello, Server Hello, [unwrapped] Encrypted Extensions, [unwrapped] Server Certificate, [unwrapped] Server Certificate Verify, [unwrapped] Server Finished). This will be used to generate the application key"
   ]
  },
  {
   "cell_type": "code",
   "execution_count": 258,
   "metadata": {},
   "outputs": [
    {
     "name": "stdout",
     "output_type": "stream",
     "text": [
      "f2 6f 36 fa 94 66 3a 96 53 3d ad 0c 27 1a b7 0b e3 5f 8f d0 fb bc e2 b9 68 af c7 41 ba 0f 43 b0 99 ba cf 53 43 38 18 ad 50 f6 94 20 1b 31 01 31\n"
     ]
    }
   ],
   "source": [
    "## ------- Potential bug in application_key_hash generation ------------\n",
    "\n",
    "def application_key_hash(client: bytes, server: bytes, payload: bytes) -> bytes:\n",
    "    digest = hashes.Hash(hashes.SHA384()) # We'll be using SHA384 to create the hash for our messages.\n",
    "    digest.update(client)     # Note that both the ClientHello and ServerHello is used here\n",
    "    digest.update(server)\n",
    "    digest.update(payload)\n",
    "    application_key_hash = digest.finalize()\n",
    "    return application_key_hash\n",
    "\n",
    "application_context = application_key_hash(client_hello_no_record, server_hello_no_record, server_handshake_no_finished)\n",
    "print_bytes_as_hex(application_context)\n",
    "\n",
    "## -------- Potential bug in application_key_hash generation --------------\n"
   ]
  },
  {
   "cell_type": "markdown",
   "metadata": {},
   "source": [
    "# 9b. Application key generation ✅\n",
    "Same procedure with the handshake keys"
   ]
  },
  {
   "cell_type": "code",
   "execution_count": 259,
   "metadata": {},
   "outputs": [
    {
     "name": "stdout",
     "output_type": "stream",
     "text": [
      "client secret: 9c8d4bfc445895673137d595fe6bfc907cf0ab4b8ef096ccf5d978e0ddbd5f6f6f56d9f04f35342f47537494c46e4368\n",
      "server secret: 05784f3f6d273041922fbb861189e3a5864a2ce1e09bbca74876420a3c7cfd74b37a3504c746ce06821a21293a25ad44\n",
      "client app key: 974f386980eca90566babb2d3b89e37c13882518758a361e8e71321bacc400bf\n",
      "client app iv: 04fd85fcf911cef11a2fb5b4\n",
      "server app key: 2a0c388431a3a2b474b92dd6f61662716a3eef8f0711df56cecb855e88ec7ed8\n",
      "server app iv: 9f14dba06437401dd869474b\n"
     ]
    }
   ],
   "source": [
    "# TestValues. Uncomment this and compare with https://tls13.xargs.org/#server-handshake-keys-calc\n",
    "# handshake_secret = bytes.fromhex(\"bdbbe8757494bef20de932598294ea65b5e6bf6dc5c02a960a2de2eaa9b07c929078d2caa0936231c38d1725f179d299\")\n",
    "# application_context = bytes.fromhex(\"fa6800169a6baac19159524fa7b9721b41be3c9db6f3f93fa5ff7e3db3ece204d2b456c51046e40ec5312c55a86126f5\")\n",
    "# client_secret = bytes.fromhex(\"db89d2d6df0e84fed74a2288f8fd4d0959f790ff23946cdf4c26d85e51bebd42ae184501972f8d30c4a3e4a3693d0ef0\")\n",
    "\n",
    "zeros = bytes([0] * 32)\n",
    "derived_secret = hkdf_expand_label(\n",
    "    secret = handshake_secret,\n",
    "    label=\"derived\",\n",
    "    context=empty_hash,\n",
    "    length=48\n",
    ")\n",
    "master_secret = hkdf.HKDF(\n",
    "    algorithm=hashes.SHA384(),\n",
    "    length=48,\n",
    "    salt=derived_secret,  # derived_secret is used as salt\n",
    "    info=None\n",
    ")._extract(b'\\x00' * 48)\n",
    "\n",
    "\n",
    "client_app_secret = hkdf_expand_label(\n",
    "    secret = master_secret,\n",
    "    label=\"c ap traffic\",\n",
    "    context = application_context,\n",
    "    length = 48\n",
    ")\n",
    "\n",
    "server_app_secret = hkdf_expand_label(\n",
    "    secret = master_secret,\n",
    "    label = \"s ap traffic\",\n",
    "    context = application_context,\n",
    "    length = 48\n",
    ")\n",
    "\n",
    "\n",
    "client_app_key = hkdf_expand_label(\n",
    "    secret = client_app_secret,\n",
    "    label = \"key\",\n",
    "    context = b\"\",\n",
    "    length = 32\n",
    ")\n",
    "\n",
    "server_app_key = hkdf_expand_label(\n",
    "    secret = server_app_secret,\n",
    "    label = \"key\",\n",
    "    context = b\"\",\n",
    "    length = 32\n",
    ")\n",
    "\n",
    "client_app_iv = hkdf_expand_label(\n",
    "    secret = client_app_secret,\n",
    "    label = \"iv\",\n",
    "    context = b\"\",\n",
    "    length = 12\n",
    ")\n",
    "\n",
    "server_app_iv = hkdf_expand_label(\n",
    "    secret = server_app_secret,\n",
    "    label = \"iv\",\n",
    "    context = b\"\",\n",
    "    length = 12\n",
    ")\n",
    "\n",
    "print(\"client secret: \" + client_secret.hex())\n",
    "print(\"server secret: \" + server_secret.hex())\n",
    "print(\"client app key: \" + client_app_key.hex())\n",
    "print(\"client app iv: \"+ client_app_iv.hex())\n",
    "print(\"server app key: \" + server_app_key.hex())\n",
    "print(\"server app iv: \" + server_app_iv.hex())"
   ]
  },
  {
   "cell_type": "markdown",
   "metadata": {},
   "source": [
    "# 10. Generate the finished message\n",
    "The last step would be to generate the Finished message and send it to the server. After that, we're finished with the handshake, and can start sending over HTTP requests"
   ]
  },
  {
   "cell_type": "code",
   "execution_count": 260,
   "metadata": {},
   "outputs": [
    {
     "name": "stdout",
     "output_type": "stream",
     "text": [
      "14 00 00 30 92 19 5a 7d cb 8c d1 08 2c ec cd 9d ad 4a e8 3f c0 87 be 89 95 24 d5 ce 9c d1 1d cf c3 fd 0e f1 f8 08 b7 37 6e 12 dd 19 d0 d8 c0 ae 4c fa 43 94 16\n",
      "17 03 03 00 45 80 4e 49 da aa d5 27 49 1c d1 08 0b 56 0c d3 69 a8 ae 64 e2 71 3c f4 cc e5 7a cb d4 35 95 bf 0f 75 28 dc ab c4 70 33 d5 79 17 0c ab 7a 99 56 13 e3 0e 4b 0d 93 5e 68 18 53 ff 43 11 8c b0 94 aa 9d 63 6c 20 52\n"
     ]
    }
   ],
   "source": [
    "def calculate_verify_data(client_handshake_secret: bytes, transcript_hash: bytes) -> bytes:\n",
    "    # First derive the finished key using HKDF-Expand-Label\n",
    "    finished_key = hkdf_expand_label(\n",
    "        secret=client_handshake_secret, \n",
    "        label=\"finished\", \n",
    "        context=b\"\", \n",
    "        length=48  # SHA-384 output size\n",
    "    )\n",
    "    \n",
    "    # Calculate the transcript hash using SHA-384\n",
    "    \n",
    "    # Create HMAC of the transcript hash using finished_key\n",
    "    h = HMAC(finished_key, hashes.SHA384())\n",
    "    h.update(transcript_hash)\n",
    "    return h.finalize()\n",
    "\n",
    "def create_client_finished_message(client_handshake_key: bytes, client_handshake_iv: bytes, client_handshake_secret: bytes, \n",
    "                                   transcript_hash: bytes) -> bytes:\n",
    "    # Get the verify_data using the function above\n",
    "    verify_data = calculate_verify_data(client_handshake_secret, transcript_hash)\n",
    "    \n",
    "    # Create the Finished message structure\n",
    "    msg = bytes([0x14, 0x00, 0x00]) + len(verify_data).to_bytes(1, 'big')  # Type and length\n",
    "    msg += verify_data                      # The HMAC\n",
    "    msg += bytes([0x16])                    # Handshake message type\n",
    "    \n",
    "    # Record layer header as AAD\n",
    "    print_bytes_as_hex(msg)\n",
    "    msg_len = len(msg) + 16  # AES-GCM adds a 16-byte authentication tag\n",
    "    additional = bytes([0x17, 0x03, 0x03]) + msg_len.to_bytes(2, 'big')\n",
    "    \n",
    "    # Encrypt using AES-GCM\n",
    "    aesgcm = AESGCM(client_handshake_key)\n",
    "    encrypted = aesgcm.encrypt(client_handshake_iv, msg, additional)\n",
    "    \n",
    "    # Return the full TLS record\n",
    "    return additional + encrypted\n",
    "\n",
    "\n",
    "finished_message = create_client_finished_message(\n",
    "    client_handshake_key=client_handshake_key,\n",
    "    client_handshake_iv=client_handshake_iv,\n",
    "    client_handshake_secret= client_secret,\n",
    "    transcript_hash = application_context\n",
    "    )\n",
    "print_bytes_as_hex(finished_message)\n"
   ]
  },
  {
   "cell_type": "code",
   "execution_count": 261,
   "metadata": {},
   "outputs": [
    {
     "name": "stdout",
     "output_type": "stream",
     "text": [
      "Sent Client Finished message (74 bytes)\n",
      "Received response after Finished: 24 bytes\n",
      "17 03 03 00 13 64 0e 89 77 76 24 5b 19 de f8 6c 0d 10 d0 f2 8d d7 84 dc\n"
     ]
    }
   ],
   "source": [
    "s.sendall(finished_message)\n",
    "print(f\"Sent Client Finished message ({len(finished_message)} bytes)\")\n",
    "\n",
    "# Receive response after Finished\n",
    "response = receive_all_data(s)\n",
    "print(f\"Received response after Finished: {len(response)} bytes\")\n",
    "print_bytes_as_hex(response)\n",
    "\n",
    "\n",
    "\n"
   ]
  },
  {
   "cell_type": "code",
   "execution_count": 262,
   "metadata": {},
   "outputs": [
    {
     "ename": "InvalidTag",
     "evalue": "",
     "output_type": "error",
     "traceback": [
      "\u001b[0;31m---------------------------------------------------------------------------\u001b[0m",
      "\u001b[0;31mInvalidTag\u001b[0m                                Traceback (most recent call last)",
      "\u001b[0;32m/var/folders/gc/nmwb_jjd5z34hsx9h6fv2dvh0000gn/T/ipykernel_43910/2094538833.py\u001b[0m in \u001b[0;36m<module>\u001b[0;34m\u001b[0m\n\u001b[1;32m      7\u001b[0m )])\n\u001b[1;32m      8\u001b[0m \u001b[0maesgcm\u001b[0m \u001b[0;34m=\u001b[0m \u001b[0mAESGCM\u001b[0m\u001b[0;34m(\u001b[0m\u001b[0mserver_app_key\u001b[0m\u001b[0;34m)\u001b[0m\u001b[0;34m\u001b[0m\u001b[0;34m\u001b[0m\u001b[0m\n\u001b[0;32m----> 9\u001b[0;31m \u001b[0mplaintext\u001b[0m \u001b[0;34m=\u001b[0m \u001b[0maesgcm\u001b[0m\u001b[0;34m.\u001b[0m\u001b[0mdecrypt\u001b[0m\u001b[0;34m(\u001b[0m\u001b[0mnonce\u001b[0m\u001b[0;34m,\u001b[0m \u001b[0mciphertext\u001b[0m\u001b[0;34m,\u001b[0m \u001b[0madditional\u001b[0m\u001b[0;34m)\u001b[0m\u001b[0;34m\u001b[0m\u001b[0;34m\u001b[0m\u001b[0m\n\u001b[0m",
      "\u001b[0;32m~/opt/anaconda3/lib/python3.9/site-packages/cryptography/hazmat/primitives/ciphers/aead.py\u001b[0m in \u001b[0;36mdecrypt\u001b[0;34m(self, nonce, data, associated_data)\u001b[0m\n\u001b[1;32m    200\u001b[0m \u001b[0;34m\u001b[0m\u001b[0m\n\u001b[1;32m    201\u001b[0m         \u001b[0mself\u001b[0m\u001b[0;34m.\u001b[0m\u001b[0m_check_params\u001b[0m\u001b[0;34m(\u001b[0m\u001b[0mnonce\u001b[0m\u001b[0;34m,\u001b[0m \u001b[0mdata\u001b[0m\u001b[0;34m,\u001b[0m \u001b[0massociated_data\u001b[0m\u001b[0;34m)\u001b[0m\u001b[0;34m\u001b[0m\u001b[0;34m\u001b[0m\u001b[0m\n\u001b[0;32m--> 202\u001b[0;31m         \u001b[0;32mreturn\u001b[0m \u001b[0maead\u001b[0m\u001b[0;34m.\u001b[0m\u001b[0m_decrypt\u001b[0m\u001b[0;34m(\u001b[0m\u001b[0mbackend\u001b[0m\u001b[0;34m,\u001b[0m \u001b[0mself\u001b[0m\u001b[0;34m,\u001b[0m \u001b[0mnonce\u001b[0m\u001b[0;34m,\u001b[0m \u001b[0mdata\u001b[0m\u001b[0;34m,\u001b[0m \u001b[0massociated_data\u001b[0m\u001b[0;34m,\u001b[0m \u001b[0;36m16\u001b[0m\u001b[0;34m)\u001b[0m\u001b[0;34m\u001b[0m\u001b[0;34m\u001b[0m\u001b[0m\n\u001b[0m\u001b[1;32m    203\u001b[0m \u001b[0;34m\u001b[0m\u001b[0m\n\u001b[1;32m    204\u001b[0m     def _check_params(\n",
      "\u001b[0;32m~/opt/anaconda3/lib/python3.9/site-packages/cryptography/hazmat/backends/openssl/aead.py\u001b[0m in \u001b[0;36m_decrypt\u001b[0;34m(backend, cipher, nonce, data, associated_data, tag_length)\u001b[0m\n\u001b[1;32m    161\u001b[0m         \u001b[0;32mif\u001b[0m \u001b[0mres\u001b[0m \u001b[0;34m==\u001b[0m \u001b[0;36m0\u001b[0m\u001b[0;34m:\u001b[0m\u001b[0;34m\u001b[0m\u001b[0;34m\u001b[0m\u001b[0m\n\u001b[1;32m    162\u001b[0m             \u001b[0mbackend\u001b[0m\u001b[0;34m.\u001b[0m\u001b[0m_consume_errors\u001b[0m\u001b[0;34m(\u001b[0m\u001b[0;34m)\u001b[0m\u001b[0;34m\u001b[0m\u001b[0;34m\u001b[0m\u001b[0m\n\u001b[0;32m--> 163\u001b[0;31m             \u001b[0;32mraise\u001b[0m \u001b[0mInvalidTag\u001b[0m\u001b[0;34m\u001b[0m\u001b[0;34m\u001b[0m\u001b[0m\n\u001b[0m\u001b[1;32m    164\u001b[0m \u001b[0;34m\u001b[0m\u001b[0m\n\u001b[1;32m    165\u001b[0m     \u001b[0;32mreturn\u001b[0m \u001b[0mprocessed_data\u001b[0m\u001b[0;34m\u001b[0m\u001b[0;34m\u001b[0m\u001b[0m\n",
      "\u001b[0;31mInvalidTag\u001b[0m: "
     ]
    }
   ],
   "source": [
    "additional = response[:5]  # 17 03 03 00 13\n",
    "ciphertext = response[5:]  # 81 b7 90...\n",
    "sequence_number = 0\n",
    "nonce = bytes([x ^ y for x, y in zip(\n",
    "    server_app_iv,\n",
    "    sequence_number.to_bytes(12, byteorder='big')\n",
    ")])\n",
    "aesgcm = AESGCM(server_app_key)\n",
    "plaintext = aesgcm.decrypt(nonce, ciphertext, additional)"
   ]
  },
  {
   "cell_type": "markdown",
   "metadata": {},
   "source": [
    "# 11. Decrypting the handshake response:\n"
   ]
  },
  {
   "cell_type": "code",
   "execution_count": null,
   "metadata": {},
   "outputs": [],
   "source": []
  },
  {
   "cell_type": "code",
   "execution_count": null,
   "metadata": {},
   "outputs": [],
   "source": []
  }
 ],
 "metadata": {
  "kernelspec": {
   "display_name": "Python 3",
   "language": "python",
   "name": "python3"
  },
  "language_info": {
   "codemirror_mode": {
    "name": "ipython",
    "version": 3
   },
   "file_extension": ".py",
   "mimetype": "text/x-python",
   "name": "python",
   "nbconvert_exporter": "python",
   "pygments_lexer": "ipython3",
   "version": "3.9.7"
  }
 },
 "nbformat": 4,
 "nbformat_minor": 2
}
