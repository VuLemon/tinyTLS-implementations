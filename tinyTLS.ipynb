{
 "cells": [
  {
   "cell_type": "markdown",
   "metadata": {},
   "source": [
    "# Tiny-TLS 1.3 Toy Implementation for COSI107a, Spring 2025, version 0.1\n",
    "\n",
    "This document contains the implementation of a toy version of TLS 1.3, to be used as material for Brandeis' COSI107a course. The goal is to implement a minimalist version of TLS 1.3 that can communicate with a server using the protocol.\n",
    "\n",
    "This is a work in progress, and it is expected that changes will be made to the protocol as we move forward\n"
   ]
  },
  {
   "cell_type": "markdown",
   "metadata": {},
   "source": [
    "## 1. Import the necessary libraries\n",
    "\n",
    "Since we're working with TLS in Python, it is helpful to use Python libraries that allow us to pack our data into binary form. TLS protocol specifies exact byte length and format, and we'll be doing a lot of conversion between numbers and bytes. We'll use the Python Struct library for this purpose\n",
    "\n",
    "We'll also be importing the x25519 curve from the Cryptography library to generate the key used in our messages\n",
    "\n"
   ]
  },
  {
   "cell_type": "code",
   "execution_count": 2,
   "metadata": {},
   "outputs": [],
   "source": [
    "import struct\n",
    "from cryptography.hazmat.primitives.asymmetric import x25519\n",
    "import cryptography.hazmat.primitives.serialization\n",
    "import os #for random nonce generation"
   ]
  },
  {
   "cell_type": "markdown",
   "metadata": {},
   "source": [
    "# 2a. Define some helper functions\n",
    "\n",
    "TLS represents all of its messages in byte form. As such, some elements (such as the content length) must be converted from integer to big edian, specifically with 2 bytes. We also need to be able to join the distinct elements in a message into a single byte slice\n"
   ]
  },
  {
   "cell_type": "code",
   "execution_count": 3,
   "metadata": {},
   "outputs": [],
   "source": [
    "def u16_to_byte(x: int) -> bytes:\n",
    "    return struct.pack('>H', x) # Use the struct package to pack a number into big-edian 2 bytes\n",
    "\n",
    "def concatenate(*bufs: bytes) -> bytes: # Concatenate multiple byte slices into one singular byte slice\n",
    "    return b''.join(bufs)\n",
    "\n"
   ]
  },
  {
   "cell_type": "markdown",
   "metadata": {},
   "source": [
    "# 2b. Define our private key and public key\n",
    "\n",
    "We can then generate the public key and private key using the x25519 curve from Cryptography\n"
   ]
  },
  {
   "cell_type": "code",
   "execution_count": 4,
   "metadata": {},
   "outputs": [
    {
     "name": "stdout",
     "output_type": "stream",
     "text": [
      "b'\\x80N\\xa4\\x11\\xb3H\\xa0\\xc2\\x9c\\xe1Aa\\xb9@\\xa3\\x02Lef\\x15\\x8a\\xc9\\x1b\\xa3>\\x03\\x98~ \\x8a\\xf6F'\n"
     ]
    }
   ],
   "source": [
    "def key_pair() -> bytes:\n",
    "    private_key = x25519.X25519PrivateKey.generate()\n",
    "    public_key = private_key.public_key().public_bytes(\n",
    "    encoding=cryptography.hazmat.primitives.serialization.Encoding.Raw,\n",
    "    format=cryptography.hazmat.primitives.serialization.PublicFormat.Raw\n",
    "    )\n",
    "    return public_key\n",
    "\n",
    "print(key_pair())\n"
   ]
  },
  {
   "cell_type": "markdown",
   "metadata": {},
   "source": [
    "Notice how each time we run the code, the public_key is different. This is intended behavior, as it prevents attackers from being able to predict our key pairs"
   ]
  },
  {
   "cell_type": "markdown",
   "metadata": {},
   "source": [
    "# 3. The Extension Blueprint:\n",
    "\n",
    "Extensions play a large part in shaping a TLS message. From negotiating supported key group to exchanging keys, all of these are achieved using extensions. Luckily for us, these different extensions have a common blueprint\n",
    "\n"
   ]
  },
  {
   "cell_type": "code",
   "execution_count": 12,
   "metadata": {},
   "outputs": [
    {
     "name": "stdout",
     "output_type": "stream",
     "text": [
      "b'\\x00\\n\\x00\\x02\\x00\\x1d'\n"
     ]
    }
   ],
   "source": [
    "def extension(id: int, content: bytes) -> bytes:\n",
    "    return concatenate(\n",
    "        u16_to_byte(id),                         #The ID of the extension. (e.g 0x0a = Supported Group)\n",
    "        u16_to_byte(len(content)),               #Length of content\n",
    "        content                                  #The actual content itself\n",
    "    )\n",
    "\n",
    "print(extension(0x0a, bytes([0x00, 0x1d]))) #Example Supported Group extension\n"
   ]
  },
  {
   "cell_type": "markdown",
   "metadata": {},
   "source": [
    "# 4. The ClientHello\n",
    "\n",
    "With those building blocks, we can now write our first TLS message: The ClientHello. The ClientHello is always the first message to be sent in a TLS handshake, indicating that the client wants to connect with the server\n",
    "\n",
    "The ClientHello has these components, in this order:\n",
    "1. ProtocolVersion (Negotiate which version of TLS we're using)\n",
    "2. Random Nonce (32 bit, for key generation)\n",
    "3. Legacy Session ID (For our purposes, we won't be using sessions)\n",
    "4. Cipher Suites (contains a suite of cipher - how to actually encrypt the key once we have it)\n",
    "5. Legacy Compression Method (For TLS 1.3, this is null)\n",
    "6. Extensions \n",
    "\n",
    "The code for it is as follows:"
   ]
  },
  {
   "cell_type": "code",
   "execution_count": 20,
   "metadata": {},
   "outputs": [
    {
     "name": "stdout",
     "output_type": "stream",
     "text": [
      "b'\\x00\\x00\\x00\\x15\\x00\\x13\\x00\\x00\\x10www.brandeis.edu'\n",
      "b'\\x16\\x03\\x01\\x00\\x80\\x01\\x00|\\x03\\x030\\r\\x8e\\xa2:\\x15\\xef>\\xd3\\xbaD\\x1f\\x1fi&T\\xb7\\x04\\xbc\\x7fC\\xf40\\xb0\\x1d\\xee\\xee\\xee\\x9bbj\\xfe\\x00\\x02\\x13\\x02\\x01\\x00\\x00R\\x00\\x00\\x00\\x15\\x00\\x13\\x00\\x00\\x10www.brandeis.edu\\x00\\n\\x00\\x04\\x00\\x02\\x00\\x1d\\x003\\x00&\\x00$\\x00\\x1d\\x00 `[\\\\\\x0b\\x03\\x04A\\xc4K+A\\x07\\x18o\\x08\\xa4b\\x89D\\xd1\\xc60\\x04\\xcdoJ\\xc8\\x05\\xfe\\x9a\\xa2K\\x00+\\x00\\x03\\x02\\x03\\x04'\n"
     ]
    }
   ],
   "source": [
    "def client_hello() -> bytes:\n",
    "\n",
    "    def key_share(pubkey: bytes) -> bytes:      # Encode our public key to be sent over the message\n",
    "        return concatenate(\n",
    "            u16_to_byte(len(pubkey) + 4),       # +4 represents the 4 extra byte before the pubkey (2 bytes for the x25519, 2 bytes for len of pubkey)\n",
    "            u16_to_byte(0x1d),                  # 0x1d is the value for x25519 key\n",
    "            u16_to_byte(len(pubkey)),           \n",
    "            pubkey\n",
    "        )\n",
    "    \n",
    "    def DNI(domain: str) -> bytes:\n",
    "        return concatenate(\n",
    "            u16_to_byte(len(bytes(domain,'utf-8')) + 3),\n",
    "            bytes([0x00]),\n",
    "            u16_to_byte(len(bytes(domain,'utf-8'))),\n",
    "            bytes(domain, 'utf-8')\n",
    "        )\n",
    "    \n",
    "    def extensions() -> bytes: #This intializes the extensions we need in our message\n",
    "        return concatenate(\n",
    "            extension(0x00, DNI('www.brandeis.edu')),\n",
    "            extension(0x0a, bytes([0x00, 0x02, 0x00, 0x1d])), #Supported Group extensions. Currently only contains the x25519 curve\n",
    "            extension(0x33, key_share(key_pair())), #Key Share. Contains the public key generated from the x25519 curve\n",
    "            extension(0x2b, bytes([0x02, 0x03, 0x04])) #TLS Version. This is how we negotiate TLS 1.3\n",
    "        )\n",
    "    \n",
    "    def handshake() -> bytes: #This constitutes our actual ClientHello message\n",
    "        return concatenate(\n",
    "            bytes([0x03, 0x03]),                          # This value is for TLS 1.2. TLS 1.3 must disguise itself as TLS 1.2 to be received, after which it negotiates into TLS 1.3 through the TLS 1.3 extension\n",
    "            os.urandom(32),                             # Random Nonce for key\n",
    "            bytes(0x00),                                # Session ID. Empty for our purposes\n",
    "            bytes([0x00, 0x02, 0x13, 0x02]),              # Cipher Suite. We have a single cipher for our cipher suite\n",
    "            bytes([0x01, 0x00]),                          # Compression Method. Empty for our purposes\n",
    "            u16_to_byte(len(extensions())),\n",
    "            extensions()\n",
    "        )\n",
    "    \n",
    "    print(extension(0x00, DNI('www.brandeis.edu')))\n",
    "    \n",
    "    return concatenate(                                 #Include record layers for TLS 1.3 to complete message\n",
    "        bytes([0x16, 0x03, 0x01]),\n",
    "        u16_to_byte(len(handshake()) + 4),\n",
    "        bytes([0x01]),\n",
    "        u16_to_byte(len(handshake())),\n",
    "        handshake()\n",
    "    )\n",
    "print(client_hello())\n",
    "        "
   ]
  },
  {
   "cell_type": "markdown",
   "metadata": {},
   "source": [
    "# 5. Parsing the ServerHello\n",
    "\n",
    "Once the ClientHello is sent, the server responds with its own message, called the ServerHello. Assuming that our ClientHello message is configured correctly, the server will respond with its chosen cipher suite and its own key. \n",
    "\n",
    "We are particularly interested in the server's key and server random, which we use to establish cryptographic parameters. We can then extract these properties and start the key calculation process"
   ]
  },
  {
   "cell_type": "markdown",
   "metadata": {},
   "source": [
    "# 5a. Creating a Parser class \n",
    "\n",
    "The ServerHello message isn't always of the same size. Certain elements like the sessionID, as well as the content of extensions, may have variable length depending on the message itself. That's why we can't just extract the information based on indexes alone. We need a parser that would keep track of what element we're at and how many bytes we have to skip forward\n"
   ]
  },
  {
   "cell_type": "code",
   "execution_count": 38,
   "metadata": {},
   "outputs": [],
   "source": [
    "\n",
    "class Parser:\n",
    "    def __init__(self, data: bytes) -> None:\n",
    "        self.data = data\n",
    "        self.cursor = 0\n",
    "    \n",
    "    def skip(self, position: int) -> None:\n",
    "        self.cursor += position\n",
    "\n",
    "    def read(self, position: int) -> bytes:\n",
    "        result = self.data[self.cursor : self.cursor + position]\n",
    "        self.cursor += position\n",
    "        return result \n",
    "    \n",
    "    def read_uint8_prefixed(self) -> bytes:                           #Most extensions with variable lengths have bytes that denote their length. We can use this to skip forward appropriately \n",
    "        length = self.data[self.cursor]\n",
    "        self.cursor += 1\n",
    "        result = self.data[self.cursor : self.cursor + length]\n",
    "        self.cursor += length\n",
    "        return result\n",
    "\n",
    "    def read_uint16_prefixed(self) -> bytes:\n",
    "        length = int.from_bytes(self.data[self.cursor:self.cursor + 2], 'big') #Since some lengths are represented with 2 bytes, we need to convert them \n",
    "        self.cursor += 2\n",
    "        result = self.data[self.cursor:self.cursor + length]\n",
    "        self.cursor += length\n",
    "        return result\n"
   ]
  },
  {
   "cell_type": "markdown",
   "metadata": {},
   "source": [
    "# 5b. Parsing the ServerHello\n",
    "\n",
    "With our Parser class, we can now parse the ServerHello to extract the ServerRandom and the public key. Keep in mind that we are only dealing with 1 cipher suite, 1 cryptographic and as such expects only 1 public key. A full version of TLS 1.3 will be much more complex"
   ]
  },
  {
   "cell_type": "code",
   "execution_count": 51,
   "metadata": {},
   "outputs": [
    {
     "data": {
      "text/plain": [
       "(b'pqrstuvwxyz{|}~\\x7f\\x80\\x81\\x82\\x83\\x84\\x85\\x86\\x87\\x88\\x89\\x8a\\x8b\\x8c\\x8d\\x8e\\x8f',\n",
       " b'\\x9f\\xd7\\xadm\\xcf\\xf4)\\x8d\\xd3\\xf9m[\\x1b*\\xf9\\x10\\xa0S[\\x14\\x88\\xd7\\xf8\\xfa\\xbb4\\x9a\\x98(\\x80\\xb6\\x15')"
      ]
     },
     "execution_count": 51,
     "metadata": {},
     "output_type": "execute_result"
    }
   ],
   "source": [
    "def server_hello_parser(msg: bytes):\n",
    "    parser = Parser(msg)\n",
    "    parser.skip(4)                                  #Skip HandShake Header\n",
    "    parser.skip(2)                                  #Skip Server Version\n",
    "    server_random = parser.read(32)                 #Get the serverRandom\n",
    "    parser.read_uint8_prefixed()                    #Skip SessionID\n",
    "    parser.skip(2)                                  #Skip Cipher Suite\n",
    "    parser.skip(1)                                  #Skip Compression Method\n",
    "    public_key = None\n",
    "    extensions = parser.read_uint16_prefixed()\n",
    "    extension_reader = Parser(extensions)\n",
    "    while(extension_reader.cursor < len(extensions)):\n",
    "        extension_type = extension_reader.read(2)\n",
    "        extension_data = extension_reader.read_uint16_prefixed()\n",
    "        if (extension_type == b'\\x00\\x33'):\n",
    "            data = Parser(extension_data)\n",
    "            data.skip(2)\n",
    "            public_key = data.read_uint16_prefixed()\n",
    "    return server_random, public_key\n",
    "\n",
    "    # extension_number = int.from_bytes(parser.read(2), 'big')\n",
    "    # print(extension_number)\n",
    "    # for i in range (extension_number):\n",
    "    #     extension_type = parser.read(2)\n",
    "    #     extension_content = parser.read_uint16_prefixed()\n",
    "    #     if extension_type == 0x0033:\n",
    "    #         print(\"Key_Share Identified\")\n",
    "    #         extension_parser = Parser(extension_content)\n",
    "    #         extension_parser.skip(2)\n",
    "    #         public_key = extension_parser.read_uint16_prefixed()\n",
    "    # return server_random, public_key\n",
    "\n",
    "server_hello = b'\\x02\\x00\\x00\\x76\\x03\\x03\\x70\\x71\\x72\\x73\\x74\\x75\\x76\\x77\\x78\\x79\\x7a\\x7b\\x7c\\x7d\\x7e\\x7f\\x80\\x81\\x82\\x83\\x84\\x85\\x86\\x87\\x88\\x89\\x8a\\x8b\\x8c\\x8d\\x8e\\x8f\\x20\\xe0\\xe1\\xe2\\xe3\\xe4\\xe5\\xe6\\xe7\\xe8\\xe9\\xea\\xeb\\xec\\xed\\xee\\xef\\xf0\\xf1\\xf2\\xf3\\xf4\\xf5\\xf6\\xf7\\xf8\\xf9\\xfa\\xfb\\xfc\\xfd\\xfe\\xff\\x13\\x02\\x00\\x00\\x2e\\x00\\x2b\\x00\\x02\\x03\\x04\\x00\\x33\\x00\\x24\\x00\\x1d\\x00\\x20\\x9f\\xd7\\xad\\x6d\\xcf\\xf4\\x29\\x8d\\xd3\\xf9\\x6d\\x5b\\x1b\\x2a\\xf9\\x10\\xa0\\x53\\x5b\\x14\\x88\\xd7\\xf8\\xfa\\xbb\\x34\\x9a\\x98\\x28\\x80\\xb6\\x15'\n",
    "server_hello_parser(server_hello)\n",
    "\n",
    "\n",
    "           \n",
    "\n",
    "        \n",
    "        \n",
    "        \n"
   ]
  },
  {
   "cell_type": "code",
   "execution_count": null,
   "metadata": {},
   "outputs": [],
   "source": []
  }
 ],
 "metadata": {
  "kernelspec": {
   "display_name": "Python 3",
   "language": "python",
   "name": "python3"
  },
  "language_info": {
   "codemirror_mode": {
    "name": "ipython",
    "version": 3
   },
   "file_extension": ".py",
   "mimetype": "text/x-python",
   "name": "python",
   "nbconvert_exporter": "python",
   "pygments_lexer": "ipython3",
   "version": "3.9.7"
  }
 },
 "nbformat": 4,
 "nbformat_minor": 2
}
