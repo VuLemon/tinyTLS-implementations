{
 "cells": [
  {
   "cell_type": "markdown",
   "metadata": {},
   "source": [
    "# Tiny-TLS 1.3 Toy Implementation for COSI107a, Spring 2025, version 0.1\n",
    "\n",
    "This document contains the implementation of a toy version of TLS 1.3, to be used as material for Brandeis' COSI107a course. The goal is to implement a minimalist version of TLS 1.3 that can communicate with a server using the protocol.\n",
    "\n",
    "This is a work in progress, and it is expected that changes will be made to the protocol as we move forward\n"
   ]
  },
  {
   "cell_type": "markdown",
   "metadata": {},
   "source": [
    "## 1. Import the necessary libraries\n",
    "\n",
    "Since we're working with TLS in Python, it is helpful to use Python libraries that allow us to pack our data into binary form. TLS protocol specifies exact byte length and format, and we'll be doing a lot of conversion between numbers and bytes. We'll use the Python Struct library for this purpose\n",
    "\n",
    "We'll also be importing the x25519 curve from the Cryptography library to generate the key used in our messages\n",
    "\n"
   ]
  },
  {
   "cell_type": "code",
   "execution_count": 299,
   "metadata": {},
   "outputs": [],
   "source": [
    "import struct\n",
    "\n",
    "from cryptography.hazmat.primitives.asymmetric import x25519\n",
    "from cryptography.hazmat.primitives import serialization, hashes\n",
    "from cryptography.hazmat.primitives.kdf import hkdf\n",
    "from cryptography.hazmat.primitives.ciphers.aead import AESGCM\n",
    "from cryptography.hazmat.primitives.ciphers import Cipher, algorithms, modes\n",
    "from cryptography.hazmat.primitives.hmac import HMAC\n",
    "from cryptography.hazmat.backends import default_backend\n",
    "\n",
    "import socket\n",
    "import time\n",
    "from urllib.parse import urlparse\n",
    "\n",
    "\n",
    "import os #for random nonce generation"
   ]
  },
  {
   "cell_type": "markdown",
   "metadata": {},
   "source": [
    "# 2a. Define some helper functions\n",
    "\n",
    "TLS represents all of its messages in byte form. As such, some elements (such as the content length) must be converted from integer to big edian, specifically with 2 bytes. We also need to be able to join the distinct elements in a message into a single byte slice\n"
   ]
  },
  {
   "cell_type": "code",
   "execution_count": 300,
   "metadata": {},
   "outputs": [],
   "source": [
    "def u16_to_byte(x: int) -> bytes:\n",
    "    return struct.pack('>H', x) # Use the struct package to pack a number into big-edian 2 bytes\n",
    "\n",
    "def concatenate(*bufs: bytes) -> bytes: # Concatenate multiple byte slices into one singular byte slice\n",
    "    return b''.join(bufs)\n",
    "\n",
    "def print_bytes_as_hex(b: bytes) -> None: # This is to print the bytes as hex strings. Easier to double check this way\n",
    "    hex_string = ' '.join([f'{x:02x}' for x in b])\n",
    "    print(hex_string)"
   ]
  },
  {
   "cell_type": "markdown",
   "metadata": {},
   "source": [
    "# 2b. Define our private key and public key\n",
    "\n",
    "We can then generate the public key and private key using the x25519 curve from Cryptography\n"
   ]
  },
  {
   "cell_type": "code",
   "execution_count": 301,
   "metadata": {},
   "outputs": [
    {
     "name": "stdout",
     "output_type": "stream",
     "text": [
      "(<cryptography.hazmat.backends.openssl.x25519._X25519PrivateKey object at 0x7fb170ff4e80>, b'@:\\xd9J\\x11\\xb1\\x16\\x03H\\x03C\\xd4\\xf9_7\\x0e\\x12\\xad\\xb2=\\xbb6\\x84\\xac\\xaa\\xc9\\xacTx\\xdb\\x05`')\n"
     ]
    }
   ],
   "source": [
    "def key_pair() -> bytes:\n",
    "    private_key = x25519.X25519PrivateKey.generate()\n",
    "    public_key = private_key.public_key().public_bytes(\n",
    "    encoding=serialization.Encoding.Raw,\n",
    "    format=serialization.PublicFormat.Raw\n",
    "    )\n",
    "    return private_key, public_key\n",
    "\n",
    "print(key_pair())\n"
   ]
  },
  {
   "cell_type": "markdown",
   "metadata": {},
   "source": [
    "Notice how each time we run the code, the public_key is different. This is intended behavior, as it prevents attackers from being able to predict our key pairs"
   ]
  },
  {
   "cell_type": "markdown",
   "metadata": {},
   "source": [
    "# 3. The Extension Blueprint:\n",
    "\n",
    "Extensions play a large part in shaping a TLS message. From negotiating supported key group to exchanging keys, all of these are achieved using extensions. Luckily for us, these different extensions have a common blueprint\n",
    "\n"
   ]
  },
  {
   "cell_type": "code",
   "execution_count": 302,
   "metadata": {},
   "outputs": [
    {
     "name": "stdout",
     "output_type": "stream",
     "text": [
      "00 0a 00 02 00 1d\n"
     ]
    }
   ],
   "source": [
    "def extension(id: int, content: bytes) -> bytes:\n",
    "    return concatenate(\n",
    "        u16_to_byte(id),                         #The ID of the extension. (e.g 0x0a = Supported Group)\n",
    "        u16_to_byte(len(content)),               #Length of content\n",
    "        content                                  #The actual content itself\n",
    "    )\n",
    "\n",
    "print_bytes_as_hex(extension(0x0a, bytes([0x00, 0x1d]))) #Example Supported Group extension\n"
   ]
  },
  {
   "cell_type": "markdown",
   "metadata": {},
   "source": [
    "# 4. The ClientHello\n",
    "\n",
    "With those building blocks, we can now write our first TLS message: The ClientHello. The ClientHello is always the first message to be sent in a TLS handshake, indicating that the client wants to connect with the server\n",
    "\n",
    "The ClientHello has these components, in this order:\n",
    "1. ProtocolVersion (Negotiate which version of TLS we're using)\n",
    "2. Random Nonce (32 bit, for key generation)\n",
    "3. Legacy Session ID (For our purposes, we won't be using sessions)\n",
    "4. Cipher Suites (contains a suite of cipher - how to actually encrypt the key once we have it)\n",
    "5. Legacy Compression Method (For TLS 1.3, this is null)\n",
    "6. Extensions \n",
    "\n",
    "The code for it is as follows:"
   ]
  },
  {
   "cell_type": "code",
   "execution_count": 303,
   "metadata": {},
   "outputs": [
    {
     "name": "stdout",
     "output_type": "stream",
     "text": [
      "16 03 01 00 9b 01 00 00 97 03 03 ce 0e 4b 66 4a 89 52 23 f3 48 6e 8b 7d 3d 93 28 f6 51 75 04 21 46 ec e5 9f 4f fd 37 c9 65 d0 68 00 00 02 13 02 01 00 00 6c 00 00 00 17 00 15 00 00 12 77 77 77 2e 63 6c 6f 75 64 66 6c 61 72 65 2e 63 6f 6d 00 0a 00 04 00 02 00 1d 00 0d 00 14 00 12 04 03 08 04 04 01 05 03 08 05 05 01 08 06 06 01 02 01 00 33 00 26 00 24 00 1d 00 20 cb b0 78 1e 41 f9 db 91 66 91 14 94 5e 64 51 44 b2 c6 52 b2 4f 0c 61 69 7b 80 69 ba fc 2c 27 46 00 2b 00 03 02 03 04\n"
     ]
    }
   ],
   "source": [
    "private_key, public_key = key_pair()\n",
    "\n",
    "def client_hello() -> bytes:\n",
    "    client_random = os.urandom(32)\n",
    "    def key_share(pubkey: bytes) -> bytes:      # Encode our public key to be sent over the message\n",
    "        return concatenate(\n",
    "            u16_to_byte(len(pubkey) + 4),       # +4 represents the 4 extra byte before the pubkey (2 bytes for the x25519, 2 bytes for len of pubkey)\n",
    "            u16_to_byte(0x1d),                  # 0x1d is the value for x25519 key\n",
    "            u16_to_byte(len(pubkey)),           \n",
    "            pubkey\n",
    "        )\n",
    "    \n",
    "    def DNI(domain: str) -> bytes:\n",
    "        return concatenate(\n",
    "            u16_to_byte(len(bytes(domain,'utf-8')) + 3),\n",
    "            bytes([0x00]),\n",
    "            u16_to_byte(len(bytes(domain,'utf-8'))),\n",
    "            bytes(domain, 'utf-8')\n",
    "        )\n",
    "    \n",
    "    def extensions() -> bytes: #This intializes the extensions we need in our message\n",
    "        return concatenate(\n",
    "            extension(0x00, DNI('www.cloudflare.com')),\n",
    "            extension(0x0a, bytes([0x00, 0x02, 0x00, 0x1d])), #Supported Group extensions. Currently only contains the x25519 curve\n",
    "            extension(0x0d, bytes([0x00, 0x12, 0x04, 0x03, 0x08, 0x04, 0x04, 0x01, 0x05, 0x03, 0x08, 0x05, 0x05, 0x01, 0x08, 0x06, 0x06, 0x01, 0x02, 0x01])),\n",
    "            extension(0x33, key_share(public_key)), #Key Share. Contains the public key generated from the x25519 curve\n",
    "            extension(0x2b, bytes([0x02, 0x03, 0x04])) #TLS Version. This is how we negotiate TLS 1.3\n",
    "        )\n",
    "    \n",
    "    def handshake() -> bytes: #This constitutes our actual ClientHello message\n",
    "        return concatenate(\n",
    "            bytes([0x03, 0x03]),                          # This value is for TLS 1.2. TLS 1.3 must disguise itself as TLS 1.2 to be received, after which it negotiates into TLS 1.3 through the TLS 1.3 extension\n",
    "            client_random,                             # Random Nonce for key\n",
    "            bytes([0x00]),                                # Session ID. Empty for our purposes\n",
    "            bytes([0x00, 0x02, 0x13, 0x02]),              # Cipher Suite. We have a single cipher for our cipher suite (SHA384)\n",
    "                                                          # I'm aware that there are 2 SHA384 ciphers: AES and CHACHA. I've included one here. Not sure\n",
    "                                                          # if we need the other one or not\n",
    "            bytes([0x01, 0x00]),                          # Compression Method. Empty for our purposes\n",
    "            u16_to_byte(len(extensions())),\n",
    "            extensions()\n",
    "        )\n",
    "    \n",
    "    return concatenate(                                 #Include record layers for TLS 1.3 to complete message\n",
    "        bytes([0x16, 0x03, 0x01]),\n",
    "        u16_to_byte(len(handshake()) + 4),\n",
    "        bytes([0x01,0x00]),\n",
    "        u16_to_byte(len(handshake())),\n",
    "        handshake()\n",
    "    ), client_random\n",
    "\n",
    "client_hello_msg, client_random = client_hello()\n",
    "print_bytes_as_hex(client_hello_msg)\n",
    "client_hello_no_record = client_hello_msg[5:] #This is to calculate the transcript hash\n",
    "\n",
    "\n",
    "## To check the validity of the ClientHello, copy paste the ClientHello into the openSSL_debug.py script and run it. Server should give back a response"
   ]
  },
  {
   "cell_type": "markdown",
   "metadata": {},
   "source": [
    "# 5. Sending the ClientHello:\n",
    "Since we now have the ClientHello, the next step would be to send it over to a public domain and see if the server responds. For this part, we'll be using www.cloudbase.com, as it supports TLS 1.3, and the cipher suite matches with our clientHello.\n"
   ]
  },
  {
   "cell_type": "code",
   "execution_count": 304,
   "metadata": {},
   "outputs": [
    {
     "name": "stdout",
     "output_type": "stream",
     "text": [
      "Attempting to connect to www.cloudflare.com:443\n",
      "Connected to server.\n",
      "Sent ClientHello (160 bytes)\n",
      "\n",
      "Waiting for server response...\n",
      "\n",
      "Received 2813 new bytes\n",
      "16 03 03 00 5a 02 00 00 56 03 03 7b 63 f1 74 91 ca f8 49 95 c2 5c 66 e5 db 30 28 88 f1 6a f3 5d be 7e 59 85 c2 cb 86 59 37 67 7a 00 13 02 00 00 2e 00 33 00 24 00 1d 00 20 31 2e d9 ac a1 29 5a cc b9 45 47 60 0d 73 66 52 bc 91 64 00 61 df 89 90 95 eb 0a 2b 60 2a 01 0b 00 2b 00 02 03 04 14 03 03 00 01 01 17 03 03 0a 93 b8 f1 1e 2c 9d 6b dd 2a 24 03 ae 63 52 11 a9 07 09 0c b5 6f b3 80 f0 69 5d d2 26 33 bb 43 61 d8 07 ba ab bd 40 ad bd f0 74 3e 21 8d 40 b3 64 89 d7 af 1a e3 fa 15 3c 2f 71 e1 cf e8 0a 4a b6 29 6a c6 f8 55 5d da e1 b1 4c cc 3d 6b f3 a2 08 c7 01 fe 46 20 30 bf 99 f2 d7 c1 02 6c 38 24 a9 90 25 3f 82 e7 06 54 c6 93 6f 86 41 f8 5a 3d d0 8a da 34 e5 cc a0 59 25 6a 05 a7 03 b7 6d ce 6c 68 3c 71 32 53 01 c2 b4 85 5a e1 f9 3d fc 59 2e 45 7f 80 ef 41 c3 9e 07 7b 9b 91 93 15 09 94 09 ef 6a 6b 34 a8 e0 13 50 75 6a 0a d6 2c 15 7d ac 79 eb 39 26 cd f3 8e 91 08 63 79 9f 9d b2 5b cd 12 ba e5 f6 28 79 d9 53 87 73 4c 43 fb b3 12 7f 5f be 81 27 84 b2 70 12 a5 3e 9b 87 1c 8a 36 dc cd 6f 2a ba df 4d b4 8e 4b 40 15 1f 08 1b 06 01 6b 98 59 ae 44 85 51 36 9c 06 1b dd 23 c7 65 47 42 1a 63 b6 c6 bc 37 d5 18 e0 aa 82 f2 20 1e 8a fa f2 23 93 30 7d d6 56 e0 2d 73 fe 46 40 dc 79 b4 8f 05 c2 2d 88 35 0f 54 06 32 51 28 1f 64 62 81 ee dc ab 16 ba a1 90 0a e0 ed 15 a6 09 47 db 4e 10 b8 78 26 fe d7 da cf bb b3 b9 a6 7f 13 22 77 5f 0e 7c dc fe f6 42 af ed 52 78 2b 3b 9e 27 74 80 91 09 0d d2 b5 0f e3 23 68 bb 5f 09 4d d4 11 37 d4 7c 54 c3 74 2d 15 e0 0c 04 8d 8f be 1c e8 33 27 3f 77 65 f5 65 59 e3 e1 44 71 85 2b 19 79 c5 09 3b 79 83 8b 7d e0 4c 0c f4 9e d3 31 2b 9b 81 b6 5c 69 1c 68 b9 13 f0 18 fc 81 0c 70 4d 1c 70 9c ef 2b a6 bc 92 6a 67 0e 42 72 ba 8a c1 e7 6c 3a ec 6e 01 54 61 71 1c 86 ea 1a 49 b8 cf 2c 93 94 83 66 1e e9 62 6b 08 1c c0 3f 55 73 67 81 35 52 03 3b 5f 25 c6 0c fe 77 51 15 86 32 87 ca 0a cc 6b 2f 14 52 46 a8 ff 78 6f bf 79 b5 4d 67 b9 d4 f7 32 5c 97 00 e0 cb f5 71 a1 03 a7 1f b2 9e 26 86 90 56 af 50 ac 26 09 fc 5e 66 b7 31 65 b6 d8 af 71 d7 d3 a0 44 5c 3e b8 82 fb 4a d3 f4 16 1f 4b c5 33 07 10 5d 50 24 6b ab 5d 73 d3 88 29 08 63 71 bc 04 f0 25 0c 28 a9 32 c1 d9 aa 70 2c 58 ae 5d 7a 16 c3 20 d4 87 fc 1e 3c 34 89 6c ed eb 90 13 d9 fc 4f 42 57 a2 76 59 05 db d6 ac c7 ff 2e 4c 02 17 67 02 0d 30 20 e2 24 93 99 94 61 f8 68 e6 77 99 82 48 cd 5e ae 34 64 be a9 f8 48 db da ee 53 41 65 5d ab 6a d7 f9 b3 af 96 5c 52 4c ce a3 fa b0 6b 65 7b 93 0b 94 d8 74 fe c6 05 56 35 70 3a ba e5 7a 73 e2 0e e2 a4 b9 52 05 c5 a6 9a 30 5f 4e 88 18 59 68 a1 d1 30 14 a3 31 3b dd 1a 72 3a 5a 6e 49 fa 28 25 a0 ad 05 6c 23 a2 03 64 b3 25 45 99 d4 84 d2 16 4d 5f de 8b a1 fc 16 57 9e 23 ec 39 45 11 da 89 de a8 05 42 54 2c 05 e9 e9 1a c2 dc 00 5d db 3c f7 ea 91 68 f9 56 71 25 bc f0 67 49 69 5d 3e fe 08 4f 48 78 5d 99 65 d9 67 90 55 41 fa 5e d6 63 30 96 14 97 fc 7f c7 7d 97 fa 10 3b d7 89 8f 4c 34 23 3a 41 e8 bd 03 21 02 8b cb d7 b5 b0 9f c7 76 33 65 99 6f a7 b0 fc a2 9d d4 e4 45 e8 d6 98 02 85 a2 6b c5 22 9d ce f3 36 5e 1a b6 3f 80 3d c4 df dc 22 20 d4 48 a6 09 6f ff 6d 07 c9 5e 51 2d 9a b7 c2 de c3 93 f9 64 02 3f bd 37 21 9d 3e ec 64 b0 9e 0d 7d fe 83 54 db e0 ff aa 99 b4 89 d6 30 54 4c 47 fe 9b 20 64 b1 f0 09 cc 97 43 d4 eb f5 19 5f 6d f2 2d 0b 91 48 3d 69 91 8d d9 1d e7 6e 63 ff c5 a6 6e 16 19 24 75 82 22 30 32 f5 f2 50 45 67 65 68 2a 8a d9 a6 5c 77 f7 c2 7a d7 b5 c2 fc 5a 6f d7 98 f5 09 bc 75 23 dc cb 53 61 83 6a a3 bc 4f 36 8f b6 c9 27 03 b7 61 66 d8 1a d3 63 26 d4 da 37 c1 fb 6e 04 22 f5 08 33 c4 e3 bd e8 b3 3c 30 41 6e aa 78 db c1 3e ad b0 e0 27 7e 7c cb 65 f7 06 05 18 d4 84 df 12 52 11 9b d5 12 3d 74 07 20 07 7f dd f3 c4 6c 56 72 64 67 51 30 c8 94 b3 9b 54 3d 09 73 6a 98 a2 cb d4 27 0b a8 3e c9 c5 ba cc f7 6f 8f 4f 58 38 50 2e 34 a6 d4 40 24 2d a0 68 aa 06 1b 96 40 9c 5f fc 5c 9d 58 18 49 58 e7 41 16 c7 7d 66 02 e3 47 54 76 63 92 ea 1d d4 22 ed c1 94 cb b9 ef 7d 9d 0f fc ce 3f c0 32 85 d6 87 6f f9 e1 68 12 ae 9b e7 28 7a 9c ee 6d 43 68 7d bf 99 bf ee 73 71 7b cb d2 43 74 ae d1 6a 30 26 bd 18 21 30 8f 21 7c 19 42 b7 1c b7 96 53 31 0b 3a f2 a6 3b bc ef ce bb 56 4d 06 94 5d 16 34 e7 75 cc a7 b7 73 0d 19 0d 14 4a 6b 5d 12 73 ac 15 56 9f a5 08 04 7b 59 b7 4c e3 7e dc 81 58 81 63 68 57 41 28 5f 43 d2 ce a1 59 bf c3 89 c7 bb 5c 61 65 94 0c 58 34 1a c9 9c 79 a2 02 49 6a 1a 85 67 e1 80 ee 90 9a e4 44 a1 59 c8 a0 47 4b d1 3b 62 f5 9f e3 04 f8 47 36 c9 56 b6 a3 d9 8a ea 79 f9 d4 20 3b bc 11 7a b8 30 4e fc 28 63 61 47 8f 2b 59 77 88 8e d1 6d 07 a2 f2 b6 97 b7 f1 70 30 9f 38 14 17 29 27 ef 7b 50 60 21 54 5f 25 e4 f9 41 45 ab 71 65 99 0c 67 39 f5 0b 94 ef 34 99 88 5a 5e 38 8f cd 5d 6f a3 be 79 64 17 d1 a7 40 f1 a9 bf 9b 3d 13 86 d1 4f 90 63 10 1b cb ea 7f f3 18 88 85 77 bf bc c1 c4 de e7 6c a1 01 72 59 ea bc 51 43 3c a7 6a e3 8b 08 af 89 d3 e6 65 73 c7 83 1e 6b 83 f2 c2 79 bd 45 94 88 8c 15 7c 91 87 67 3e b4 c0 1c 9b 94 72 36 e8 ac 04 28 cb 32 c4 fc be fe ae a9 1e b2 bb 0b 0e fc e2 0c 0e 68 f8 14 17 01 df 85 de 25 21 72 d3 5f 5b 43 96 f6 69 0c 52 57 5d 7c 60 f9 1d 0c ce 6d 4f d0 86 9b 2b d0 c7 1d 6f 14 61 7c 71 de 32 ae 8e e7 c7 db 77 97 a7 d1 ab 04 25 54 87 ac 84 bb 8e 58 14 58 13 06 97 42 18 53 02 0d 78 cd fd be b5 44 e4 cd 9e 3e 1f 74 e7 df 22 30 5d 72 89 40 9b 23 3e e6 80 36 17 f6 1d 4f 0d 5d 15 60 50 dd ea c4 6f 0e 95 02 5e 8b 75 1e 27 79 f7 44 53 9d 93 fe 3f d5 f2 bc ee 44 a9 3b a1 88 28 8b 15 22 45 07 cc f9 66 49 a5 08 9c 5c 71 36 ec 72 95 1a 93 d0 f1 06 52 fd 66 f7 0d 84 19 9e fc cb ee 8a 12 6d 03 3c ea aa 22 11 dd 84 42 ca 6b f8 49 65 0a 8f 16 35 37 ba 21 32 d6 fb 1b 00 8d 8f dc e0 45 52 ed d9 aa 7a 32 15 7c 1c 13 bf 40 5c f6 2b f4 70 4f 69 22 78 4b 72 ee 8a f8 8f 63 67 9a 9c b5 c3 a9 8a d6 c2 61 3f cf 59 30 73 45 8c b3 83 11 3a c0 60 b0 f5 e4 36 3e 79 e7 81 bf 3a 10 1e 6c f9 64 f6 92 17 47 66 5a 48 67 c8 98 e5 6e a2 65 67 75 c5 c5 f8 18 70 b8 cf 79 e6 34 f3 51 ce 83 88 40 50 12 3f 27 3d 3a 07 60 dd 19 80 26 36 47 0b e8 26 95 5b d6 ba 1c b2 0e f8 ef 99 bc 23 c0 a8 15 75 b1 68 14 e7 7d 72 5d 07 c6 30 9d dc 37 0d b5 85 e5 30 21 16 c8 1c df b2 93 fd df 1c 42 4f 30 02 fe 6a c1 d6 be 9e e0 17 59 d4 aa 68 4d 86 68 e9 42 38 61 cd 7d 6d c2 5c 90 fd 5f 2d 27 26 5a b8 6d 41 35 b2 44 d9 54 89 d6 50 5a 84 fa 25 f2 28 90 15 9a 43 81 b2 57 c8 ba 93 b5 58 6c a5 e8 f9 cd 4d 76 40 c6 51 3a 13 dc 7d fc d4 b1 b8 b1 d3 24 9c 58 9c 93 53 f5 03 61 db 3b 6e 12 a3 7b 4d c3 9d 63 ff d6 15 2f 1d 70 bf 54 f9 b1 55 4f db 2e 1d 4f 49 5c b8 83 da 57 41 81 d6 56 4f ef 5e 3a f7 66 c7 9b fc 0b 9b ab 8a ad 69 e2 aa e9 39 ee bb 03 c1 e1 c0 8c ab e4 2d a1 36 4e 92 a1 83 7c 27 b8 08 7e 3c fb 51 cd df bf 59 1b 7d 4b 54 88 1a ea 6c 26 c4 46 90 e4 84 e2 65 91 78 c7 df c2 95 2a 17 58 89 98 ca 07 a3 a8 41 25 1e e6 2c ee 85 e2 46 39 95 2c 0f e9 55 4e 8b 1f 7e 88 7e 41 c3 aa 2f 8f 9f 48 b6 17 de dc cb a1 9e be ba 6f 9f 48 dc 62 77 0f 73 8c e1 e7 ef 21 c2 c6 96 73 89 ee 2f c7 fa 7e 9b 6e ce 9b f0 fe fd cd 67 a7 02 55 ae 5f 22 92 40 fa b6 2c df 6b d8 95 73 7f e5 d7 bd df ee 00 d2 22 1e 2a 58 90 e9 e6 93 fc c5 bb b2 12 68 ae 1d bb 7e b7 f7 ef 82 b2 77 cb 92 27 1b 3d d4 44 b8 e5 cc fc f4 82 88 24 8c 0f 87 f8 21 07 0e 2a 2b 35 73 c9 0b fa 80 8c 65 ed f8 9f 1b a1 c8 38 2f 18 43 84 bd 91 b3 d1 9e 94 3a a5 cc 21 a3 94 be 1f e0 51 0c a1 af 74 6f ea ae bb 82 bf c2 92 07 4a 56 bb 5d 32 18 b8 b3 90 69 68 0a 11 a8 cd 74 6c 9a 50 16 a5 ae 07 0c e2 3f 76 11 ed 53 23 f1 f0 78 77 cf 97 d1 ca b9 23 e9 40 fd 30 70 a3 cc c3 be ab 67 a8 4e 07 4a 06 be a1 50 63 d4 77 cc 66 0c 30 d0 83 82 0f 70 c6 d5 f0 85 ba e9 8a f3 6f fa 17 aa 6b 6d 4b 18 e5 db 29 70 58 2a 70 b1 7d e6 fe c9 2f 66 66 4b c6 c0 b7 19 55 e9 2c 12 83 ad b9 56 90 4f 63 8c a4 a2 2e ea 5f 7d bd 7f d4 14 b6 25 7e 1a 2c 8a 46 31 ba 8b 4b 3a 5c 1c 21 9d e1 28 95 d9 9b b2 1a 3d 67 ad 72 66 c7 e8 3b 01 5d 86 93 98 dd c9 52 d3 22 fc b7 67 aa 16 38 4b 4f 0f b4 36 a7 1d dc 29 1b 0a dc a5 a9 f8 b7 bb 0d 8c 20 a3 2e a3 a4 9c 45 20 59 0b 87 92 5b 5b 09 eb a5 57 f5 86 e6 e9 18 0d 7e 10 d1 13 94 2a d4 92 3b a8 32 e8 29 0a ec 80 23 03 3b 5f 40 15 0f 19 58 07 29 8d c9 22 ff 64 ad 61 e8 9f e3 15 ac 95 f1 02 b8 38 c9 38 67 74 fb ab f3 49 5c c8 f4 39 be d9 31 43 4b ef 50 f1 0a 88 a8 9e a0 78 f8 8c 79 0b 02 75 f6 21 46 60 08 5c 61 95 f1 9e e0 db 9b 7a 8b 7f 29 df cd 27 5c a0 f5 8d 7d a8 b2 25 30 7b 9c e1 17 74 ee 3b fb 41 30 db 5d f2 bf 5b 79 52 29 0d 13 e5 76 fd 14 ab b7 f1 fd 50 8b 9a 99 a5 fd 32 95 df f5 49 d3 03 5f 3a d4 85 2e ba 0a ef a4 14 16 69 8b 34 c1 43 58 38 f0 fd fb 75 e1 58 b6 d3 1e 22 14 a2 68 5b ea 4f fc bc 41 cc 59 81 16 bb 25 48 6c 4d d7 6d 8d 47 e6 61 68 99 66 9f d5 af 5d 5e 4f 39 02 9e 1e 99 f6 14 bb 0b c5 dc c0 10 a2 18 bf\n",
      "None\n",
      "\n",
      "==================================================\n",
      "Record Type: Handshake\n",
      "TLS Version: 1.2/1.3\n",
      "Handshake Type: Server Hello\n",
      "Message Length: 86\n",
      "\n",
      "Message Payload:\n",
      "Hex: 02 00 00 56 03 03 7b 63 f1 74 91 ca f8 49 95 c2 5c 66 e5 db 30 28 88 f1 6a f3 5d be 7e 59 85 c2 cb 86 59 37 67 7a 00 13 02 00 00 2e 00 33 00 24 00 1d 00 20 31 2e d9 ac a1 29 5a cc b9 45 47 60 0d 73 66 52 bc 91 64 00 61 df 89 90 95 eb 0a 2b 60 2a 01 0b 00 2b 00 02 03 04\n",
      "\n",
      "==================================================\n",
      "Record Type: Change Cipher Spec\n",
      "TLS Version: 1.2/1.3\n",
      "\n",
      "Record Payload:\n",
      "Hex: 01\n",
      "\n",
      "==================================================\n",
      "Record Type: Application Data\n",
      "TLS Version: 1.2/1.3\n",
      "\n",
      "Record Payload:\n",
      "Hex: 17 03 03 0a 93 b8 f1 1e 2c 9d 6b dd 2a 24 03 ae 63 52 11 a9 07 09 0c b5 6f b3 80 f0 69 5d d2 26 33 bb 43 61 d8 07 ba ab bd 40 ad bd f0 74 3e 21 8d 40 b3 64 89 d7 af 1a e3 fa 15 3c 2f 71 e1 cf e8 0a 4a b6 29 6a c6 f8 55 5d da e1 b1 4c cc 3d 6b f3 a2 08 c7 01 fe 46 20 30 bf 99 f2 d7 c1 02 6c 38 24 a9 90 25 3f 82 e7 06 54 c6 93 6f 86 41 f8 5a 3d d0 8a da 34 e5 cc a0 59 25 6a 05 a7 03 b7 6d ce 6c 68 3c 71 32 53 01 c2 b4 85 5a e1 f9 3d fc 59 2e 45 7f 80 ef 41 c3 9e 07 7b 9b 91 93 15 09 94 09 ef 6a 6b 34 a8 e0 13 50 75 6a 0a d6 2c 15 7d ac 79 eb 39 26 cd f3 8e 91 08 63 79 9f 9d b2 5b cd 12 ba e5 f6 28 79 d9 53 87 73 4c 43 fb b3 12 7f 5f be 81 27 84 b2 70 12 a5 3e 9b 87 1c 8a 36 dc cd 6f 2a ba df 4d b4 8e 4b 40 15 1f 08 1b 06 01 6b 98 59 ae 44 85 51 36 9c 06 1b dd 23 c7 65 47 42 1a 63 b6 c6 bc 37 d5 18 e0 aa 82 f2 20 1e 8a fa f2 23 93 30 7d d6 56 e0 2d 73 fe 46 40 dc 79 b4 8f 05 c2 2d 88 35 0f 54 06 32 51 28 1f 64 62 81 ee dc ab 16 ba a1 90 0a e0 ed 15 a6 09 47 db 4e 10 b8 78 26 fe d7 da cf bb b3 b9 a6 7f 13 22 77 5f 0e 7c dc fe f6 42 af ed 52 78 2b 3b 9e 27 74 80 91 09 0d d2 b5 0f e3 23 68 bb 5f 09 4d d4 11 37 d4 7c 54 c3 74 2d 15 e0 0c 04 8d 8f be 1c e8 33 27 3f 77 65 f5 65 59 e3 e1 44 71 85 2b 19 79 c5 09 3b 79 83 8b 7d e0 4c 0c f4 9e d3 31 2b 9b 81 b6 5c 69 1c 68 b9 13 f0 18 fc 81 0c 70 4d 1c 70 9c ef 2b a6 bc 92 6a 67 0e 42 72 ba 8a c1 e7 6c 3a ec 6e 01 54 61 71 1c 86 ea 1a 49 b8 cf 2c 93 94 83 66 1e e9 62 6b 08 1c c0 3f 55 73 67 81 35 52 03 3b 5f 25 c6 0c fe 77 51 15 86 32 87 ca 0a cc 6b 2f 14 52 46 a8 ff 78 6f bf 79 b5 4d 67 b9 d4 f7 32 5c 97 00 e0 cb f5 71 a1 03 a7 1f b2 9e 26 86 90 56 af 50 ac 26 09 fc 5e 66 b7 31 65 b6 d8 af 71 d7 d3 a0 44 5c 3e b8 82 fb 4a d3 f4 16 1f 4b c5 33 07 10 5d 50 24 6b ab 5d 73 d3 88 29 08 63 71 bc 04 f0 25 0c 28 a9 32 c1 d9 aa 70 2c 58 ae 5d 7a 16 c3 20 d4 87 fc 1e 3c 34 89 6c ed eb 90 13 d9 fc 4f 42 57 a2 76 59 05 db d6 ac c7 ff 2e 4c 02 17 67 02 0d 30 20 e2 24 93 99 94 61 f8 68 e6 77 99 82 48 cd 5e ae 34 64 be a9 f8 48 db da ee 53 41 65 5d ab 6a d7 f9 b3 af 96 5c 52 4c ce a3 fa b0 6b 65 7b 93 0b 94 d8 74 fe c6 05 56 35 70 3a ba e5 7a 73 e2 0e e2 a4 b9 52 05 c5 a6 9a 30 5f 4e 88 18 59 68 a1 d1 30 14 a3 31 3b dd 1a 72 3a 5a 6e 49 fa 28 25 a0 ad 05 6c 23 a2 03 64 b3 25 45 99 d4 84 d2 16 4d 5f de 8b a1 fc 16 57 9e 23 ec 39 45 11 da 89 de a8 05 42 54 2c 05 e9 e9 1a c2 dc 00 5d db 3c f7 ea 91 68 f9 56 71 25 bc f0 67 49 69 5d 3e fe 08 4f 48 78 5d 99 65 d9 67 90 55 41 fa 5e d6 63 30 96 14 97 fc 7f c7 7d 97 fa 10 3b d7 89 8f 4c 34 23 3a 41 e8 bd 03 21 02 8b cb d7 b5 b0 9f c7 76 33 65 99 6f a7 b0 fc a2 9d d4 e4 45 e8 d6 98 02 85 a2 6b c5 22 9d ce f3 36 5e 1a b6 3f 80 3d c4 df dc 22 20 d4 48 a6 09 6f ff 6d 07 c9 5e 51 2d 9a b7 c2 de c3 93 f9 64 02 3f bd 37 21 9d 3e ec 64 b0 9e 0d 7d fe 83 54 db e0 ff aa 99 b4 89 d6 30 54 4c 47 fe 9b 20 64 b1 f0 09 cc 97 43 d4 eb f5 19 5f 6d f2 2d 0b 91 48 3d 69 91 8d d9 1d e7 6e 63 ff c5 a6 6e 16 19 24 75 82 22 30 32 f5 f2 50 45 67 65 68 2a 8a d9 a6 5c 77 f7 c2 7a d7 b5 c2 fc 5a 6f d7 98 f5 09 bc 75 23 dc cb 53 61 83 6a a3 bc 4f 36 8f b6 c9 27 03 b7 61 66 d8 1a d3 63 26 d4 da 37 c1 fb 6e 04 22 f5 08 33 c4 e3 bd e8 b3 3c 30 41 6e aa 78 db c1 3e ad b0 e0 27 7e 7c cb 65 f7 06 05 18 d4 84 df 12 52 11 9b d5 12 3d 74 07 20 07 7f dd f3 c4 6c 56 72 64 67 51 30 c8 94 b3 9b 54 3d 09 73 6a 98 a2 cb d4 27 0b a8 3e c9 c5 ba cc f7 6f 8f 4f 58 38 50 2e 34 a6 d4 40 24 2d a0 68 aa 06 1b 96 40 9c 5f fc 5c 9d 58 18 49 58 e7 41 16 c7 7d 66 02 e3 47 54 76 63 92 ea 1d d4 22 ed c1 94 cb b9 ef 7d 9d 0f fc ce 3f c0 32 85 d6 87 6f f9 e1 68 12 ae 9b e7 28 7a 9c ee 6d 43 68 7d bf 99 bf ee 73 71 7b cb d2 43 74 ae d1 6a 30 26 bd 18 21 30 8f 21 7c 19 42 b7 1c b7 96 53 31 0b 3a f2 a6 3b bc ef ce bb 56 4d 06 94 5d 16 34 e7 75 cc a7 b7 73 0d 19 0d 14 4a 6b 5d 12 73 ac 15 56 9f a5 08 04 7b 59 b7 4c e3 7e dc 81 58 81 63 68 57 41 28 5f 43 d2 ce a1 59 bf c3 89 c7 bb 5c 61 65 94 0c 58 34 1a c9 9c 79 a2 02 49 6a 1a 85 67 e1 80 ee 90 9a e4 44 a1 59 c8 a0 47 4b d1 3b 62 f5 9f e3 04 f8 47 36 c9 56 b6 a3 d9 8a ea 79 f9 d4 20 3b bc 11 7a b8 30 4e fc 28 63 61 47 8f 2b 59 77 88 8e d1 6d 07 a2 f2 b6 97 b7 f1 70 30 9f 38 14 17 29 27 ef 7b 50 60 21 54 5f 25 e4 f9 41 45 ab 71 65 99 0c 67 39 f5 0b 94 ef 34 99 88 5a 5e 38 8f cd 5d 6f a3 be 79 64 17 d1 a7 40 f1 a9 bf 9b 3d 13 86 d1 4f 90 63 10 1b cb ea 7f f3 18 88 85 77 bf bc c1 c4 de e7 6c a1 01 72 59 ea bc 51 43 3c a7 6a e3 8b 08 af 89 d3 e6 65 73 c7 83 1e 6b 83 f2 c2 79 bd 45 94 88 8c 15 7c 91 87 67 3e b4 c0 1c 9b 94 72 36 e8 ac 04 28 cb 32 c4 fc be fe ae a9 1e b2 bb 0b 0e fc e2 0c 0e 68 f8 14 17 01 df 85 de 25 21 72 d3 5f 5b 43 96 f6 69 0c 52 57 5d 7c 60 f9 1d 0c ce 6d 4f d0 86 9b 2b d0 c7 1d 6f 14 61 7c 71 de 32 ae 8e e7 c7 db 77 97 a7 d1 ab 04 25 54 87 ac 84 bb 8e 58 14 58 13 06 97 42 18 53 02 0d 78 cd fd be b5 44 e4 cd 9e 3e 1f 74 e7 df 22 30 5d 72 89 40 9b 23 3e e6 80 36 17 f6 1d 4f 0d 5d 15 60 50 dd ea c4 6f 0e 95 02 5e 8b 75 1e 27 79 f7 44 53 9d 93 fe 3f d5 f2 bc ee 44 a9 3b a1 88 28 8b 15 22 45 07 cc f9 66 49 a5 08 9c 5c 71 36 ec 72 95 1a 93 d0 f1 06 52 fd 66 f7 0d 84 19 9e fc cb ee 8a 12 6d 03 3c ea aa 22 11 dd 84 42 ca 6b f8 49 65 0a 8f 16 35 37 ba 21 32 d6 fb 1b 00 8d 8f dc e0 45 52 ed d9 aa 7a 32 15 7c 1c 13 bf 40 5c f6 2b f4 70 4f 69 22 78 4b 72 ee 8a f8 8f 63 67 9a 9c b5 c3 a9 8a d6 c2 61 3f cf 59 30 73 45 8c b3 83 11 3a c0 60 b0 f5 e4 36 3e 79 e7 81 bf 3a 10 1e 6c f9 64 f6 92 17 47 66 5a 48 67 c8 98 e5 6e a2 65 67 75 c5 c5 f8 18 70 b8 cf 79 e6 34 f3 51 ce 83 88 40 50 12 3f 27 3d 3a 07 60 dd 19 80 26 36 47 0b e8 26 95 5b d6 ba 1c b2 0e f8 ef 99 bc 23 c0 a8 15 75 b1 68 14 e7 7d 72 5d 07 c6 30 9d dc 37 0d b5 85 e5 30 21 16 c8 1c df b2 93 fd df 1c 42 4f 30 02 fe 6a c1 d6 be 9e e0 17 59 d4 aa 68 4d 86 68 e9 42 38 61 cd 7d 6d c2 5c 90 fd 5f 2d 27 26 5a b8 6d 41 35 b2 44 d9 54 89 d6 50 5a 84 fa 25 f2 28 90 15 9a 43 81 b2 57 c8 ba 93 b5 58 6c a5 e8 f9 cd 4d 76 40 c6 51 3a 13 dc 7d fc d4 b1 b8 b1 d3 24 9c 58 9c 93 53 f5 03 61 db 3b 6e 12 a3 7b 4d c3 9d 63 ff d6 15 2f 1d 70 bf 54 f9 b1 55 4f db 2e 1d 4f 49 5c b8 83 da 57 41 81 d6 56 4f ef 5e 3a f7 66 c7 9b fc 0b 9b ab 8a ad 69 e2 aa e9 39 ee bb 03 c1 e1 c0 8c ab e4 2d a1 36 4e 92 a1 83 7c 27 b8 08 7e 3c fb 51 cd df bf 59 1b 7d 4b 54 88 1a ea 6c 26 c4 46 90 e4 84 e2 65 91 78 c7 df c2 95 2a 17 58 89 98 ca 07 a3 a8 41 25 1e e6 2c ee 85 e2 46 39 95 2c 0f e9 55 4e 8b 1f 7e 88 7e 41 c3 aa 2f 8f 9f 48 b6 17 de dc cb a1 9e be ba 6f 9f 48 dc 62 77 0f 73 8c e1 e7 ef 21 c2 c6 96 73 89 ee 2f c7 fa 7e 9b 6e ce 9b f0 fe fd cd 67 a7 02 55 ae 5f 22 92 40 fa b6 2c df 6b d8 95 73 7f e5 d7 bd df ee 00 d2 22 1e 2a 58 90 e9 e6 93 fc c5 bb b2 12 68 ae 1d bb 7e b7 f7 ef 82 b2 77 cb 92 27 1b 3d d4 44 b8 e5 cc fc f4 82 88 24 8c 0f 87 f8 21 07 0e 2a 2b 35 73 c9 0b fa 80 8c 65 ed f8 9f 1b a1 c8 38 2f 18 43 84 bd 91 b3 d1 9e 94 3a a5 cc 21 a3 94 be 1f e0 51 0c a1 af 74 6f ea ae bb 82 bf c2 92 07 4a 56 bb 5d 32 18 b8 b3 90 69 68 0a 11 a8 cd 74 6c 9a 50 16 a5 ae 07 0c e2 3f 76 11 ed 53 23 f1 f0 78 77 cf 97 d1 ca b9 23 e9 40 fd 30 70 a3 cc c3 be ab 67 a8 4e 07 4a 06 be a1 50 63 d4 77 cc 66 0c 30 d0 83 82 0f 70 c6 d5 f0 85 ba e9 8a f3 6f fa 17 aa 6b 6d 4b 18 e5 db 29 70 58 2a 70 b1 7d e6 fe c9 2f 66 66 4b c6 c0 b7 19 55 e9 2c 12 83 ad b9 56 90 4f 63 8c a4 a2 2e ea 5f 7d bd 7f d4 14 b6 25 7e 1a 2c 8a 46 31 ba 8b 4b 3a 5c 1c 21 9d e1 28 95 d9 9b b2 1a 3d 67 ad 72 66 c7 e8 3b 01 5d 86 93 98 dd c9 52 d3 22 fc b7 67 aa 16 38 4b 4f 0f b4 36 a7 1d dc 29 1b 0a dc a5 a9 f8 b7 bb 0d 8c 20 a3 2e a3 a4 9c 45 20 59 0b 87 92 5b 5b 09 eb a5 57 f5 86 e6 e9 18 0d 7e 10 d1 13 94 2a d4 92 3b a8 32 e8 29 0a ec 80 23 03 3b 5f 40 15 0f 19 58 07 29 8d c9 22 ff 64 ad 61 e8 9f e3 15 ac 95 f1 02 b8 38 c9 38 67 74 fb ab f3 49 5c c8 f4 39 be d9 31 43 4b ef 50 f1 0a 88 a8 9e a0 78 f8 8c 79 0b 02 75 f6 21 46 60 08 5c 61 95 f1 9e e0 db 9b 7a 8b 7f 29 df cd 27 5c a0 f5 8d 7d a8 b2 25 30 7b 9c e1 17 74 ee 3b fb 41 30 db 5d f2 bf 5b 79 52 29 0d 13 e5 76 fd 14 ab b7 f1 fd 50 8b 9a 99 a5 fd 32 95 df f5 49 d3 03 5f 3a d4 85 2e ba 0a ef a4 14 16 69 8b 34 c1 43 58 38 f0 fd fb 75 e1 58 b6 d3 1e 22 14 a2 68 5b ea 4f fc bc 41 cc 59 81 16 bb 25 48 6c 4d d7 6d 8d 47 e6 61 68 99 66 9f d5 af 5d 5e 4f 39 02 9e 1e 99 f6 14 bb 0b c5 dc c0 10 a2 18 bf\n",
      "\n",
      "Extracted Data:\n",
      "\n",
      "Server Hello (without record header):\n",
      "02 00 00 56 03 03 7b 63 f1 74 91 ca f8 49 95 c2 5c 66 e5 db 30 28 88 f1 6a f3 5d be 7e 59 85 c2 cb 86 59 37 67 7a 00 13 02 00 00 2e 00 33 00 24 00 1d 00 20 31 2e d9 ac a1 29 5a cc b9 45 47 60 0d 73 66 52 bc 91 64 00 61 df 89 90 95 eb 0a 2b 60 2a 01 0b 00 2b 00 02 03 04\n",
      "None\n",
      "\n",
      "Encrypted Payload (with record header):\n",
      "17 03 03 0a 93 b8 f1 1e 2c 9d 6b dd 2a 24 03 ae 63 52 11 a9 07 09 0c b5 6f b3 80 f0 69 5d d2 26 33 bb 43 61 d8 07 ba ab bd 40 ad bd f0 74 3e 21 8d 40 b3 64 89 d7 af 1a e3 fa 15 3c 2f 71 e1 cf e8 0a 4a b6 29 6a c6 f8 55 5d da e1 b1 4c cc 3d 6b f3 a2 08 c7 01 fe 46 20 30 bf 99 f2 d7 c1 02 6c 38 24 a9 90 25 3f 82 e7 06 54 c6 93 6f 86 41 f8 5a 3d d0 8a da 34 e5 cc a0 59 25 6a 05 a7 03 b7 6d ce 6c 68 3c 71 32 53 01 c2 b4 85 5a e1 f9 3d fc 59 2e 45 7f 80 ef 41 c3 9e 07 7b 9b 91 93 15 09 94 09 ef 6a 6b 34 a8 e0 13 50 75 6a 0a d6 2c 15 7d ac 79 eb 39 26 cd f3 8e 91 08 63 79 9f 9d b2 5b cd 12 ba e5 f6 28 79 d9 53 87 73 4c 43 fb b3 12 7f 5f be 81 27 84 b2 70 12 a5 3e 9b 87 1c 8a 36 dc cd 6f 2a ba df 4d b4 8e 4b 40 15 1f 08 1b 06 01 6b 98 59 ae 44 85 51 36 9c 06 1b dd 23 c7 65 47 42 1a 63 b6 c6 bc 37 d5 18 e0 aa 82 f2 20 1e 8a fa f2 23 93 30 7d d6 56 e0 2d 73 fe 46 40 dc 79 b4 8f 05 c2 2d 88 35 0f 54 06 32 51 28 1f 64 62 81 ee dc ab 16 ba a1 90 0a e0 ed 15 a6 09 47 db 4e 10 b8 78 26 fe d7 da cf bb b3 b9 a6 7f 13 22 77 5f 0e 7c dc fe f6 42 af ed 52 78 2b 3b 9e 27 74 80 91 09 0d d2 b5 0f e3 23 68 bb 5f 09 4d d4 11 37 d4 7c 54 c3 74 2d 15 e0 0c 04 8d 8f be 1c e8 33 27 3f 77 65 f5 65 59 e3 e1 44 71 85 2b 19 79 c5 09 3b 79 83 8b 7d e0 4c 0c f4 9e d3 31 2b 9b 81 b6 5c 69 1c 68 b9 13 f0 18 fc 81 0c 70 4d 1c 70 9c ef 2b a6 bc 92 6a 67 0e 42 72 ba 8a c1 e7 6c 3a ec 6e 01 54 61 71 1c 86 ea 1a 49 b8 cf 2c 93 94 83 66 1e e9 62 6b 08 1c c0 3f 55 73 67 81 35 52 03 3b 5f 25 c6 0c fe 77 51 15 86 32 87 ca 0a cc 6b 2f 14 52 46 a8 ff 78 6f bf 79 b5 4d 67 b9 d4 f7 32 5c 97 00 e0 cb f5 71 a1 03 a7 1f b2 9e 26 86 90 56 af 50 ac 26 09 fc 5e 66 b7 31 65 b6 d8 af 71 d7 d3 a0 44 5c 3e b8 82 fb 4a d3 f4 16 1f 4b c5 33 07 10 5d 50 24 6b ab 5d 73 d3 88 29 08 63 71 bc 04 f0 25 0c 28 a9 32 c1 d9 aa 70 2c 58 ae 5d 7a 16 c3 20 d4 87 fc 1e 3c 34 89 6c ed eb 90 13 d9 fc 4f 42 57 a2 76 59 05 db d6 ac c7 ff 2e 4c 02 17 67 02 0d 30 20 e2 24 93 99 94 61 f8 68 e6 77 99 82 48 cd 5e ae 34 64 be a9 f8 48 db da ee 53 41 65 5d ab 6a d7 f9 b3 af 96 5c 52 4c ce a3 fa b0 6b 65 7b 93 0b 94 d8 74 fe c6 05 56 35 70 3a ba e5 7a 73 e2 0e e2 a4 b9 52 05 c5 a6 9a 30 5f 4e 88 18 59 68 a1 d1 30 14 a3 31 3b dd 1a 72 3a 5a 6e 49 fa 28 25 a0 ad 05 6c 23 a2 03 64 b3 25 45 99 d4 84 d2 16 4d 5f de 8b a1 fc 16 57 9e 23 ec 39 45 11 da 89 de a8 05 42 54 2c 05 e9 e9 1a c2 dc 00 5d db 3c f7 ea 91 68 f9 56 71 25 bc f0 67 49 69 5d 3e fe 08 4f 48 78 5d 99 65 d9 67 90 55 41 fa 5e d6 63 30 96 14 97 fc 7f c7 7d 97 fa 10 3b d7 89 8f 4c 34 23 3a 41 e8 bd 03 21 02 8b cb d7 b5 b0 9f c7 76 33 65 99 6f a7 b0 fc a2 9d d4 e4 45 e8 d6 98 02 85 a2 6b c5 22 9d ce f3 36 5e 1a b6 3f 80 3d c4 df dc 22 20 d4 48 a6 09 6f ff 6d 07 c9 5e 51 2d 9a b7 c2 de c3 93 f9 64 02 3f bd 37 21 9d 3e ec 64 b0 9e 0d 7d fe 83 54 db e0 ff aa 99 b4 89 d6 30 54 4c 47 fe 9b 20 64 b1 f0 09 cc 97 43 d4 eb f5 19 5f 6d f2 2d 0b 91 48 3d 69 91 8d d9 1d e7 6e 63 ff c5 a6 6e 16 19 24 75 82 22 30 32 f5 f2 50 45 67 65 68 2a 8a d9 a6 5c 77 f7 c2 7a d7 b5 c2 fc 5a 6f d7 98 f5 09 bc 75 23 dc cb 53 61 83 6a a3 bc 4f 36 8f b6 c9 27 03 b7 61 66 d8 1a d3 63 26 d4 da 37 c1 fb 6e 04 22 f5 08 33 c4 e3 bd e8 b3 3c 30 41 6e aa 78 db c1 3e ad b0 e0 27 7e 7c cb 65 f7 06 05 18 d4 84 df 12 52 11 9b d5 12 3d 74 07 20 07 7f dd f3 c4 6c 56 72 64 67 51 30 c8 94 b3 9b 54 3d 09 73 6a 98 a2 cb d4 27 0b a8 3e c9 c5 ba cc f7 6f 8f 4f 58 38 50 2e 34 a6 d4 40 24 2d a0 68 aa 06 1b 96 40 9c 5f fc 5c 9d 58 18 49 58 e7 41 16 c7 7d 66 02 e3 47 54 76 63 92 ea 1d d4 22 ed c1 94 cb b9 ef 7d 9d 0f fc ce 3f c0 32 85 d6 87 6f f9 e1 68 12 ae 9b e7 28 7a 9c ee 6d 43 68 7d bf 99 bf ee 73 71 7b cb d2 43 74 ae d1 6a 30 26 bd 18 21 30 8f 21 7c 19 42 b7 1c b7 96 53 31 0b 3a f2 a6 3b bc ef ce bb 56 4d 06 94 5d 16 34 e7 75 cc a7 b7 73 0d 19 0d 14 4a 6b 5d 12 73 ac 15 56 9f a5 08 04 7b 59 b7 4c e3 7e dc 81 58 81 63 68 57 41 28 5f 43 d2 ce a1 59 bf c3 89 c7 bb 5c 61 65 94 0c 58 34 1a c9 9c 79 a2 02 49 6a 1a 85 67 e1 80 ee 90 9a e4 44 a1 59 c8 a0 47 4b d1 3b 62 f5 9f e3 04 f8 47 36 c9 56 b6 a3 d9 8a ea 79 f9 d4 20 3b bc 11 7a b8 30 4e fc 28 63 61 47 8f 2b 59 77 88 8e d1 6d 07 a2 f2 b6 97 b7 f1 70 30 9f 38 14 17 29 27 ef 7b 50 60 21 54 5f 25 e4 f9 41 45 ab 71 65 99 0c 67 39 f5 0b 94 ef 34 99 88 5a 5e 38 8f cd 5d 6f a3 be 79 64 17 d1 a7 40 f1 a9 bf 9b 3d 13 86 d1 4f 90 63 10 1b cb ea 7f f3 18 88 85 77 bf bc c1 c4 de e7 6c a1 01 72 59 ea bc 51 43 3c a7 6a e3 8b 08 af 89 d3 e6 65 73 c7 83 1e 6b 83 f2 c2 79 bd 45 94 88 8c 15 7c 91 87 67 3e b4 c0 1c 9b 94 72 36 e8 ac 04 28 cb 32 c4 fc be fe ae a9 1e b2 bb 0b 0e fc e2 0c 0e 68 f8 14 17 01 df 85 de 25 21 72 d3 5f 5b 43 96 f6 69 0c 52 57 5d 7c 60 f9 1d 0c ce 6d 4f d0 86 9b 2b d0 c7 1d 6f 14 61 7c 71 de 32 ae 8e e7 c7 db 77 97 a7 d1 ab 04 25 54 87 ac 84 bb 8e 58 14 58 13 06 97 42 18 53 02 0d 78 cd fd be b5 44 e4 cd 9e 3e 1f 74 e7 df 22 30 5d 72 89 40 9b 23 3e e6 80 36 17 f6 1d 4f 0d 5d 15 60 50 dd ea c4 6f 0e 95 02 5e 8b 75 1e 27 79 f7 44 53 9d 93 fe 3f d5 f2 bc ee 44 a9 3b a1 88 28 8b 15 22 45 07 cc f9 66 49 a5 08 9c 5c 71 36 ec 72 95 1a 93 d0 f1 06 52 fd 66 f7 0d 84 19 9e fc cb ee 8a 12 6d 03 3c ea aa 22 11 dd 84 42 ca 6b f8 49 65 0a 8f 16 35 37 ba 21 32 d6 fb 1b 00 8d 8f dc e0 45 52 ed d9 aa 7a 32 15 7c 1c 13 bf 40 5c f6 2b f4 70 4f 69 22 78 4b 72 ee 8a f8 8f 63 67 9a 9c b5 c3 a9 8a d6 c2 61 3f cf 59 30 73 45 8c b3 83 11 3a c0 60 b0 f5 e4 36 3e 79 e7 81 bf 3a 10 1e 6c f9 64 f6 92 17 47 66 5a 48 67 c8 98 e5 6e a2 65 67 75 c5 c5 f8 18 70 b8 cf 79 e6 34 f3 51 ce 83 88 40 50 12 3f 27 3d 3a 07 60 dd 19 80 26 36 47 0b e8 26 95 5b d6 ba 1c b2 0e f8 ef 99 bc 23 c0 a8 15 75 b1 68 14 e7 7d 72 5d 07 c6 30 9d dc 37 0d b5 85 e5 30 21 16 c8 1c df b2 93 fd df 1c 42 4f 30 02 fe 6a c1 d6 be 9e e0 17 59 d4 aa 68 4d 86 68 e9 42 38 61 cd 7d 6d c2 5c 90 fd 5f 2d 27 26 5a b8 6d 41 35 b2 44 d9 54 89 d6 50 5a 84 fa 25 f2 28 90 15 9a 43 81 b2 57 c8 ba 93 b5 58 6c a5 e8 f9 cd 4d 76 40 c6 51 3a 13 dc 7d fc d4 b1 b8 b1 d3 24 9c 58 9c 93 53 f5 03 61 db 3b 6e 12 a3 7b 4d c3 9d 63 ff d6 15 2f 1d 70 bf 54 f9 b1 55 4f db 2e 1d 4f 49 5c b8 83 da 57 41 81 d6 56 4f ef 5e 3a f7 66 c7 9b fc 0b 9b ab 8a ad 69 e2 aa e9 39 ee bb 03 c1 e1 c0 8c ab e4 2d a1 36 4e 92 a1 83 7c 27 b8 08 7e 3c fb 51 cd df bf 59 1b 7d 4b 54 88 1a ea 6c 26 c4 46 90 e4 84 e2 65 91 78 c7 df c2 95 2a 17 58 89 98 ca 07 a3 a8 41 25 1e e6 2c ee 85 e2 46 39 95 2c 0f e9 55 4e 8b 1f 7e 88 7e 41 c3 aa 2f 8f 9f 48 b6 17 de dc cb a1 9e be ba 6f 9f 48 dc 62 77 0f 73 8c e1 e7 ef 21 c2 c6 96 73 89 ee 2f c7 fa 7e 9b 6e ce 9b f0 fe fd cd 67 a7 02 55 ae 5f 22 92 40 fa b6 2c df 6b d8 95 73 7f e5 d7 bd df ee 00 d2 22 1e 2a 58 90 e9 e6 93 fc c5 bb b2 12 68 ae 1d bb 7e b7 f7 ef 82 b2 77 cb 92 27 1b 3d d4 44 b8 e5 cc fc f4 82 88 24 8c 0f 87 f8 21 07 0e 2a 2b 35 73 c9 0b fa 80 8c 65 ed f8 9f 1b a1 c8 38 2f 18 43 84 bd 91 b3 d1 9e 94 3a a5 cc 21 a3 94 be 1f e0 51 0c a1 af 74 6f ea ae bb 82 bf c2 92 07 4a 56 bb 5d 32 18 b8 b3 90 69 68 0a 11 a8 cd 74 6c 9a 50 16 a5 ae 07 0c e2 3f 76 11 ed 53 23 f1 f0 78 77 cf 97 d1 ca b9 23 e9 40 fd 30 70 a3 cc c3 be ab 67 a8 4e 07 4a 06 be a1 50 63 d4 77 cc 66 0c 30 d0 83 82 0f 70 c6 d5 f0 85 ba e9 8a f3 6f fa 17 aa 6b 6d 4b 18 e5 db 29 70 58 2a 70 b1 7d e6 fe c9 2f 66 66 4b c6 c0 b7 19 55 e9 2c 12 83 ad b9 56 90 4f 63 8c a4 a2 2e ea 5f 7d bd 7f d4 14 b6 25 7e 1a 2c 8a 46 31 ba 8b 4b 3a 5c 1c 21 9d e1 28 95 d9 9b b2 1a 3d 67 ad 72 66 c7 e8 3b 01 5d 86 93 98 dd c9 52 d3 22 fc b7 67 aa 16 38 4b 4f 0f b4 36 a7 1d dc 29 1b 0a dc a5 a9 f8 b7 bb 0d 8c 20 a3 2e a3 a4 9c 45 20 59 0b 87 92 5b 5b 09 eb a5 57 f5 86 e6 e9 18 0d 7e 10 d1 13 94 2a d4 92 3b a8 32 e8 29 0a ec 80 23 03 3b 5f 40 15 0f 19 58 07 29 8d c9 22 ff 64 ad 61 e8 9f e3 15 ac 95 f1 02 b8 38 c9 38 67 74 fb ab f3 49 5c c8 f4 39 be d9 31 43 4b ef 50 f1 0a 88 a8 9e a0 78 f8 8c 79 0b 02 75 f6 21 46 60 08 5c 61 95 f1 9e e0 db 9b 7a 8b 7f 29 df cd 27 5c a0 f5 8d 7d a8 b2 25 30 7b 9c e1 17 74 ee 3b fb 41 30 db 5d f2 bf 5b 79 52 29 0d 13 e5 76 fd 14 ab b7 f1 fd 50 8b 9a 99 a5 fd 32 95 df f5 49 d3 03 5f 3a d4 85 2e ba 0a ef a4 14 16 69 8b 34 c1 43 58 38 f0 fd fb 75 e1 58 b6 d3 1e 22 14 a2 68 5b ea 4f fc bc 41 cc 59 81 16 bb 25 48 6c 4d d7 6d 8d 47 e6 61 68 99 66 9f d5 af 5d 5e 4f 39 02 9e 1e 99 f6 14 bb 0b c5 dc c0 10 a2 18 bf\n",
      "None\n"
     ]
    }
   ],
   "source": [
    "server_hello_no_record = b\"\"\n",
    "encrypted_payload = b\"\"\n",
    "\n",
    "\n",
    "\n",
    "def parse_tls_record(data):\n",
    "    #Parse a TLS record and return its components\n",
    "    if len(data) < 5:  # Minimum TLS record length\n",
    "        return None, None, None, data\n",
    "    \n",
    "    content_type = data[0] #Parse the record header to see which type of record this is.\n",
    "    if (data[1] == 3) and (data[2] == 3):\n",
    "        version = \"1.2/1.3\"\n",
    "    length = int.from_bytes(data[3:5], byteorder='big')\n",
    "    \n",
    "    if len(data) < length + 5:\n",
    "        return None, None, None, data\n",
    "        \n",
    "    if content_type == 0x17:\n",
    "        payload = data[:5+length]  # Include the header for application data. We need the header for the decryption algorithm\n",
    "        remaining_data = data[5+length:]\n",
    "    else:\n",
    "        payload = data[5:5+length]  # Original behavior for other types\n",
    "        remaining_data = data[5+length:]\n",
    "    \n",
    "    content_type_names = { #Dictionary indicating the types of TLS records we may receive\n",
    "        0x14: \"Change Cipher Spec\",\n",
    "        0x15: \"Alert\",\n",
    "        0x16: \"Handshake\",\n",
    "        0x17: \"Application Data\"\n",
    "    }\n",
    "    \n",
    "    type_name = content_type_names.get(content_type, f\"Unknown ({content_type})\")\n",
    "    \n",
    "    return type_name, version, payload, remaining_data\n",
    "\n",
    "def parse_handshake_message(data): #This is exclusive for Handshake messages. We'll primarily use this to identify serverHellos.\n",
    "    \"\"\"Parse a TLS handshake message.\"\"\"\n",
    "    if len(data) < 4:\n",
    "        return None, None, None\n",
    "        \n",
    "    msg_type = data[0]\n",
    "    length = int.from_bytes(data[1:4], byteorder='big')\n",
    "    \n",
    "    handshake_types = {\n",
    "        0x00: \"Hello Request\",\n",
    "        0x01: \"Client Hello\",\n",
    "        0x02: \"Server Hello\",\n",
    "        0x0b: \"Certificate\",\n",
    "        0x0c: \"Server Key Exchange\",\n",
    "        0x0d: \"Certificate Request\",\n",
    "        0x0e: \"Server Hello Done\",\n",
    "        0x0f: \"Certificate Verify\",\n",
    "        0x10: \"Client Key Exchange\",\n",
    "        0x14: \"Finished\",\n",
    "        0x08: \"Encrypted Extensions\",  # Added TLS 1.3 message types\n",
    "        0x13: \"Certificate Status\"\n",
    "    }\n",
    "    \n",
    "    type_name = handshake_types.get(msg_type, f\"Unknown ({msg_type})\")\n",
    "    if len(data) >= 4+length:\n",
    "        payload = data[:4+length]\n",
    "    \n",
    "    return type_name, length, payload\n",
    "\n",
    "def format_bytes(data):\n",
    "    \"\"\"Format bytes as a hexadecimal string with ASCII representation.\"\"\"\n",
    "    hex_dump = ' '.join(f'{b:02x}' for b in data)\n",
    "    return f\"Hex: {hex_dump}\"\n",
    "\n",
    "def receive_all_data(sock, timeout=5):\n",
    "    \"\"\"Receive all data from the socket until timeout or connection close.\"\"\"\n",
    "    buffer = b\"\"\n",
    "    sock.settimeout(timeout)\n",
    "    start_time = time.time()\n",
    "    \n",
    "    while True:\n",
    "        try:\n",
    "            chunk = sock.recv(16384)\n",
    "            if not chunk:  # Connection closed by server\n",
    "                break\n",
    "            buffer += chunk\n",
    "            \n",
    "            # Check timeout\n",
    "            if time.time() - start_time > timeout:\n",
    "                break\n",
    "                \n",
    "        except socket.timeout:\n",
    "            break\n",
    "            \n",
    "    return buffer\n",
    "# Parse the URL to get the hostname\n",
    "parsed_url = urlparse('https://www.cloudflare.com/')\n",
    "host = parsed_url.hostname\n",
    "port = 443\n",
    "s = socket.socket(socket.AF_INET, socket.SOCK_STREAM)\n",
    "s.settimeout(5)\n",
    "print(f\"Attempting to connect to {host}:{port}\")\n",
    "s.connect((host, port))\n",
    "print(\"Connected to server.\")\n",
    "\n",
    "# Your existing client_hello\n",
    "try:\n",
    "    \n",
    "    bytes_sent = s.sendall(client_hello_msg)\n",
    "    print(f\"Sent ClientHello ({len(client_hello_msg)} bytes)\")\n",
    "    \n",
    "    print(\"\\nWaiting for server response...\")\n",
    "    try:\n",
    "        buffer = receive_all_data(s)\n",
    "        print(f\"\\nReceived {len(buffer)} new bytes\")\n",
    "        print(print_bytes_as_hex(buffer))\n",
    "\n",
    "\n",
    "        \n",
    "        # Process all complete TLS records in the buffer\n",
    "        while buffer:\n",
    "            record_type, version, payload, remaining = parse_tls_record(buffer)\n",
    "            if record_type is None:  # Incomplete record\n",
    "                break\n",
    "                \n",
    "            buffer = remaining\n",
    "            print(\"\\n\" + \"=\"*50)\n",
    "            print(f\"Record Type: {record_type}\")\n",
    "            print(f\"TLS Version: {version}\")\n",
    "            \n",
    "            if record_type == \"Handshake\":\n",
    "                msg_type, msg_length, msg_payload = parse_handshake_message(payload)\n",
    "                if msg_type:\n",
    "                    print(f\"Handshake Type: {msg_type}\")\n",
    "                    print(f\"Message Length: {msg_length}\")\n",
    "                    if msg_payload:\n",
    "                        print(\"\\nMessage Payload:\")\n",
    "                        print(format_bytes(msg_payload))\n",
    "                        server_hello_no_record = msg_payload\n",
    "            else:\n",
    "                print(\"\\nRecord Payload:\")\n",
    "                if record_type == \"Application Data\":\n",
    "                    encrypted_payload = payload\n",
    "                print(format_bytes(payload))\n",
    "            \n",
    "    except socket.timeout:\n",
    "        print(\"Timeout while waiting for server response\")\n",
    "            \n",
    "except ConnectionRefusedError:\n",
    "    print(\"Connection refused. Is the OpenSSL server running?\")\n",
    "except socket.timeout:\n",
    "    print(\"Connection attempt timed out\")\n",
    "except Exception as e:\n",
    "    print(f\"Error: {e}\")\n",
    "\n",
    "print(\"\\nExtracted Data:\")\n",
    "if server_hello_no_record:\n",
    "    print(\"\\nServer Hello (without record header):\")\n",
    "    print(print_bytes_as_hex(server_hello_no_record))\n",
    "if encrypted_payload:\n",
    "    print(\"\\nEncrypted Payload (with record header):\")\n",
    "    print(print_bytes_as_hex(encrypted_payload))"
   ]
  },
  {
   "cell_type": "markdown",
   "metadata": {},
   "source": [
    "# 6. Parsing the ServerHello\n",
    "\n",
    "Once the ClientHello is sent, the server responds with its own message. This message contains the ServerHello, the CipherChangeSpec, and the encrypted payload. Assuming that our ClientHello message is configured correctly, the server will respond with its chosen cipher suite and its own key. \n",
    "\n",
    "We are particularly interested in the server's key and server random, which we use to establish cryptographic parameters. We can then extract these properties and start the key calculation process"
   ]
  },
  {
   "cell_type": "markdown",
   "metadata": {},
   "source": [
    "# 6a. Creating a Parser class \n",
    "\n",
    "The ServerHello message isn't always of the same size. Certain elements like the sessionID, as well as the content of extensions, may have variable length depending on the message itself. That's why we can't just extract the information based on indexes alone. We need a parser that would keep track of what element we're at and how many bytes we have to skip forward\n"
   ]
  },
  {
   "cell_type": "code",
   "execution_count": 305,
   "metadata": {},
   "outputs": [],
   "source": [
    "\n",
    "class Parser:\n",
    "    def __init__(self, data: bytes) -> None:\n",
    "        self.data = data\n",
    "        self.cursor = 0\n",
    "    \n",
    "    def skip(self, position: int) -> None:\n",
    "        self.cursor += position\n",
    "\n",
    "    def read(self, position: int) -> bytes:\n",
    "        result = self.data[self.cursor : self.cursor + position]\n",
    "        self.cursor += position\n",
    "        return result \n",
    "    \n",
    "    def read_uint8_prefixed(self) -> bytes:                           #Most extensions with variable lengths have bytes that denote their length. We can use this to skip forward appropriately \n",
    "        length = self.data[self.cursor]\n",
    "        self.cursor += 1\n",
    "        result = self.data[self.cursor : self.cursor + length]\n",
    "        self.cursor += length\n",
    "        return result\n",
    "\n",
    "    def read_uint16_prefixed(self) -> bytes:\n",
    "        length = int.from_bytes(self.data[self.cursor:self.cursor + 2], 'big') #Since some lengths are represented with 2 bytes, we need to convert them \n",
    "        self.cursor += 2\n",
    "        result = self.data[self.cursor:self.cursor + length]\n",
    "        self.cursor += length\n",
    "        return result\n"
   ]
  },
  {
   "cell_type": "markdown",
   "metadata": {},
   "source": [
    "# 6b. Parsing the ServerHello\n",
    "\n",
    "With our Parser class, we can now parse the ServerHello to extract the ServerRandom and the public key. Keep in mind that we are only dealing with 1 cipher suite, 1 cryptographic and as such expects only 1 public key. A full version of TLS 1.3 will be much more complex"
   ]
  },
  {
   "cell_type": "code",
   "execution_count": 306,
   "metadata": {},
   "outputs": [
    {
     "name": "stdout",
     "output_type": "stream",
     "text": [
      "7b 63 f1 74 91 ca f8 49 95 c2 5c 66 e5 db 30 28 88 f1 6a f3 5d be 7e 59 85 c2 cb 86 59 37 67 7a\n",
      "31 2e d9 ac a1 29 5a cc b9 45 47 60 0d 73 66 52 bc 91 64 00 61 df 89 90 95 eb 0a 2b 60 2a 01 0b\n"
     ]
    }
   ],
   "source": [
    "def server_hello_parser(msg: bytes):\n",
    "    parser = Parser(msg)\n",
    "    parser.skip(4)                                  #Skip HandShake Header\n",
    "    parser.skip(2)                                  #Skip Server Version\n",
    "    server_random = parser.read(32)                 #Get the serverRandom\n",
    "    parser.read_uint8_prefixed()                    #Skip SessionID\n",
    "    parser.skip(2)                                  #Skip Cipher Suite\n",
    "    parser.skip(1)                                  #Skip Compression Method\n",
    "    public_key = None\n",
    "    extensions = parser.read_uint16_prefixed()\n",
    "    extension_reader = Parser(extensions)\n",
    "    while(extension_reader.cursor < len(extensions)):\n",
    "        extension_type = extension_reader.read(2)\n",
    "        extension_data = extension_reader.read_uint16_prefixed()\n",
    "        if (extension_type == b'\\x00\\x33'):\n",
    "            data = Parser(extension_data)\n",
    "            data.skip(2)\n",
    "            public_key = data.read_uint16_prefixed()\n",
    "    return server_random, public_key\n",
    "\n",
    "\n",
    "#Pre-generated server_hello_msg, used for debugging purposes\n",
    "#server_hello_msg = b'\\x02\\x00\\x00\\x76\\x03\\x03\\x70\\x71\\x72\\x73\\x74\\x75\\x76\\x77\\x78\\x79\\x7a\\x7b\\x7c\\x7d\\x7e\\x7f\\x80\\x81\\x82\\x83\\x84\\x85\\x86\\x87\\x88\\x89\\x8a\\x8b\\x8c\\x8d\\x8e\\x8f\\x20\\xe0\\xe1\\xe2\\xe3\\xe4\\xe5\\xe6\\xe7\\xe8\\xe9\\xea\\xeb\\xec\\xed\\xee\\xef\\xf0\\xf1\\xf2\\xf3\\xf4\\xf5\\xf6\\xf7\\xf8\\xf9\\xfa\\xfb\\xfc\\xfd\\xfe\\xff\\x13\\x02\\x00\\x00\\x2e\\x00\\x2b\\x00\\x02\\x03\\x04\\x00\\x33\\x00\\x24\\x00\\x1d\\x00\\x20\\x9f\\xd7\\xad\\x6d\\xcf\\xf4\\x29\\x8d\\xd3\\xf9\\x6d\\x5b\\x1b\\x2a\\xf9\\x10\\xa0\\x53\\x5b\\x14\\x88\\xd7\\xf8\\xfa\\xbb\\x34\\x9a\\x98\\x28\\x80\\xb6\\x15'\n",
    "#Run the script with the pre-generated server hello and compare with https://tls13.xargs.org/#server-handshake-keys-calc to see if the script is working\n",
    "#Current serverHello generated from www.cloudbase.com. Right now I'm copy-pasting from the terminal when I run the debug.py script. Also parser is ignoring the record header.\n",
    "server_random, public_key = server_hello_parser(server_hello_no_record)\n",
    "print_bytes_as_hex(server_random)\n",
    "print_bytes_as_hex(public_key)\n",
    "\n",
    "\n",
    "           \n",
    "\n",
    "        \n",
    "        \n",
    "        \n"
   ]
  },
  {
   "cell_type": "markdown",
   "metadata": {},
   "source": [
    "# 7. Key Derivation\n",
    "\n",
    "Now that we have our private key and the server has sent back their public key, we can now encrypt our data to the server via key calculations. We can break down the key calculations into a few steps"
   ]
  },
  {
   "cell_type": "markdown",
   "metadata": {},
   "source": [
    "# 7a. Transcript Hash\n",
    "\n",
    "Transcript Hash refers to the hash of the ClientHello and the ServerHello messages. The idea is to associate these messages with the keys we are about to derive: These keys work with these messages. That way, even if an attacker somehow got hold of our keys, it would not work with whatever messages they try to send\n",
    "\n"
   ]
  },
  {
   "cell_type": "code",
   "execution_count": 307,
   "metadata": {},
   "outputs": [
    {
     "name": "stdout",
     "output_type": "stream",
     "text": [
      "01 00 00 97 03 03 ce 0e 4b 66 4a 89 52 23 f3 48 6e 8b 7d 3d 93 28 f6 51 75 04 21 46 ec e5 9f 4f fd 37 c9 65 d0 68 00 00 02 13 02 01 00 00 6c 00 00 00 17 00 15 00 00 12 77 77 77 2e 63 6c 6f 75 64 66 6c 61 72 65 2e 63 6f 6d 00 0a 00 04 00 02 00 1d 00 0d 00 14 00 12 04 03 08 04 04 01 05 03 08 05 05 01 08 06 06 01 02 01 00 33 00 26 00 24 00 1d 00 20 cb b0 78 1e 41 f9 db 91 66 91 14 94 5e 64 51 44 b2 c6 52 b2 4f 0c 61 69 7b 80 69 ba fc 2c 27 46 00 2b 00 03 02 03 04\n",
      "02 00 00 56 03 03 7b 63 f1 74 91 ca f8 49 95 c2 5c 66 e5 db 30 28 88 f1 6a f3 5d be 7e 59 85 c2 cb 86 59 37 67 7a 00 13 02 00 00 2e 00 33 00 24 00 1d 00 20 31 2e d9 ac a1 29 5a cc b9 45 47 60 0d 73 66 52 bc 91 64 00 61 df 89 90 95 eb 0a 2b 60 2a 01 0b 00 2b 00 02 03 04\n",
      "ce bf f6 c1 97 c2 13 c6 bd bc ee 7d c1 fb 2c cd 95 a5 b8 ac 0e dc 1b 5f 7f 21 5c f7 25 85 54 e2 f9 e0 63 7b 6f 00 a1 08 ca c7 39 17 cb 6d cc 4c\n"
     ]
    }
   ],
   "source": [
    "def transcript_hash(client: bytes, server: bytes) -> bytes:\n",
    "    digest = hashes.Hash(hashes.SHA384()) # We'll be using SHA384 to create the hash for our messages.\n",
    "    digest.update(client)     # Note that both the ClientHello and ServerHello is used here\n",
    "    digest.update(server)\n",
    "    transcript_hash = digest.finalize()\n",
    "    return transcript_hash\n",
    "\n",
    "print_bytes_as_hex(client_hello_no_record)       #This is the clientHello message we generated from our code\n",
    "print_bytes_as_hex(server_hello_no_record)       #Right now, this server_hello is pre-generated for testing purposes. We'll be parsing an actual server hello when the entire thing is ready\n",
    "\n",
    "hello_hash = transcript_hash(client_hello_no_record, server_hello_no_record)\n",
    "print_bytes_as_hex(hello_hash)"
   ]
  },
  {
   "cell_type": "markdown",
   "metadata": {},
   "source": [
    "# 7b. Shared secret\n",
    "The idea of the key exchange is that given the private key and the public key of the other party, both client and server can perform calculations to arrive at the same number. Essentially, client private x server public = server private x client public. This is called the shared secret. We'll perform the calculations on our side while the server does it on theirs.\n"
   ]
  },
  {
   "cell_type": "code",
   "execution_count": 308,
   "metadata": {},
   "outputs": [
    {
     "name": "stdout",
     "output_type": "stream",
     "text": [
      "96 70 f3 6b bc f8 36 8a cf 12 1e 5e 47 60 fc 15 09 e1 4c 62 a0 ed cd 7c 84 fd ab 26 3a d7 bb 39\n"
     ]
    }
   ],
   "source": [
    "# Our public key right now is raw bytes. Our private key, on the other hand, is a x25519PrivateKey object. The most convenient way to calculate the \n",
    "# shared secret is to turn the public key into a x25519PublicKey object and leverage the built in methods to generate the shared secret\n",
    "\n",
    "server_public_key = x25519.X25519PublicKey.from_public_bytes(public_key) \n",
    "shared_secret = private_key.exchange(server_public_key)\n",
    "print_bytes_as_hex(shared_secret)\n",
    "\n"
   ]
  },
  {
   "cell_type": "markdown",
   "metadata": {},
   "source": [
    "# 7c. Early Secret, Derived Secret, Handshake Secret\n",
    "We then go on to generate the early secret, the derived secret and finally the handshake secret. \n",
    "\n",
    "- Early secret is for 0-RTT data (essentially data sent with pre-shared keys). Since we're not using PSKs, this is a bunch of 0 bytes.\n",
    "- Derived secret is mainly used as salt, mixed in with the early secret to get the handshake key. This way, even if an attacker has the early secret, it's hard to determine the handshake key\n",
    "\n",
    "Each of these secrets have a \"label\" associated with them to identify their use, usually with the format \"tls13 + ID of the component\". \n",
    "\n",
    "* Note 1: We can pass in the label directly into the HKDF info parameter, or we can make a method that will append the TLS13 infront and add the necessary bytes for length, after which it is passed into the infor parameter. To avoid hardcoding, I went with the second options. If this example works, we can go back and try hardcoding the labels to see if it affects anything\n"
   ]
  },
  {
   "cell_type": "code",
   "execution_count": 309,
   "metadata": {},
   "outputs": [],
   "source": [
    "## REMEMBER TO CHANGE IT BACK TO SHA256 AFTER TESTING. Algorithm goes back to SHA256, Length goes back to 32.\n",
    "\n",
    "\n",
    "# UNCOMMENT THIS FOR TESTING. SHOULD WORK FOR SHA384 IMPLEMENTATIONS:\n",
    "\n",
    "shared_secret = bytes.fromhex('df4a291baa1eb7cfa6934b29b474baad2697e29f1f920dcc77c8a0a088447624')\n",
    "hello_hash = bytes.fromhex('e05f64fcd082bdb0dce473adf669c2769f257a1c75a51b7887468b5e0e7a7de4f4d34555112077f16e079019d5a845bd')\n",
    "\n",
    "# expected result\n",
    "# handshake secret: bdbbe8757494bef20de932598294ea65b5e6bf6dc5c02a960a2de2eaa9b07c929078d2caa09362.31c38d1725f179d299\n",
    "# client secret: db89d2d6df0e84fed74a2288f8fd4d0959f790ff23946cdf4c26d85e51bebd42ae184501972f8d30c4a3e4a3693d0ef0\n",
    "# server secret: 23323da031634b241dd37d61032b62a4f450584d1f7f47983ba2f7cc0cdcc39a68f481f2b019f9403a3051908a5d1622\n",
    "# client handshake key: 1135b4826a9a70257e5a391ad93093dfd7c4214812f493b3e3daae1eb2b1ac69\n",
    "# client handshake iv: 4256d2e0e88babdd05eb2f27\n",
    "# server handshake key: 9f13575ce3f8cfc1df64a77ceaffe89700b492ad31b4fab01c4792be1b266b7f\n",
    "# server handshake iv: 9563bc8b590f671f488d2da3\n",
    "\n",
    "\n",
    "# TLS specs make use of 2 methods: HKDF-Extract and HKDF-Expand. HKDF-Extract can be found in hkdf.HKDF()_extract(). HKDF-Expand is hkdf.HKDFExpand()\n",
    "\n",
    "\n",
    "#Define our own hkdf_expand_label. This is basically calling HKDF to derive secrets, with an added step of configuring the labels associated with the component.\n",
    "\n",
    "def hkdf_expand_label(secret: bytes, label: str, context: bytes, length: int) -> bytes:\n",
    "    # Construct the HkdfLabel as specified in TLS 1.3\n",
    "    label = b\"tls13 \" + label.encode('utf-8')\n",
    "    hkdf_label = (\n",
    "        struct.pack(\"!H\", length) +  # 2 bytes for length\n",
    "        struct.pack(\"!B\", len(label)) + label +  # 1 byte for label length + label\n",
    "        struct.pack(\"!B\", len(context)) + context  # 1 byte for context length + context\n",
    "    )\n",
    "    \n",
    "    # Use HKDF-Expand\n",
    "    encryption = hkdf.HKDFExpand(\n",
    "        algorithm=hashes.SHA384(),\n",
    "        length=length,\n",
    "        info=hkdf_label,\n",
    "    )\n",
    "    \n",
    "    return encryption.derive(secret)\n",
    "\n",
    "\n",
    "early_secret = hkdf.HKDF(\n",
    "    algorithm=hashes.SHA384(), #We negotiated SHA256 in our cipher suite\n",
    "    length=48,\n",
    "    salt=b'\\x00',\n",
    "    info=b'\\x00'\n",
    ")._extract(b'\\x00' * 48) #The first input key is simply 00\n",
    "\n",
    "empty_hash = hashes.Hash(hashes.SHA384())\n",
    "empty_hash.update(b\"\")  # Empty string\n",
    "empty_hash = empty_hash.finalize()\n",
    "\n",
    "# We then derive another secret called the derived secret from the early secret\n",
    "derived_secret = hkdf_expand_label(\n",
    "    secret = early_secret,\n",
    "    label=\"derived\",\n",
    "    context=empty_hash,\n",
    "    length=48\n",
    ")\n",
    "\n",
    "# The derived secret is mixed into the early secret to get the handshake secret\n",
    "handshake_secret = hkdf.HKDF(\n",
    "    algorithm=hashes.SHA384(),\n",
    "    length=48,\n",
    "    salt=derived_secret,  # derived_secret is used as salt\n",
    "    info=None\n",
    ")._extract(shared_secret)"
   ]
  },
  {
   "cell_type": "markdown",
   "metadata": {},
   "source": [
    "# 7d. Traffic Secrets and Key derivation\n",
    "\n",
    "Now that we have our handshake secret, we can now move on to derive the traffic secrets, and subsequently the keys and IVs for both the client and the server"
   ]
  },
  {
   "cell_type": "code",
   "execution_count": 310,
   "metadata": {},
   "outputs": [
    {
     "name": "stdout",
     "output_type": "stream",
     "text": [
      "handshake secret: bdbbe8757494bef20de932598294ea65b5e6bf6dc5c02a960a2de2eaa9b07c929078d2caa0936231c38d1725f179d299\n",
      "client secret: db89d2d6df0e84fed74a2288f8fd4d0959f790ff23946cdf4c26d85e51bebd42ae184501972f8d30c4a3e4a3693d0ef0\n",
      "server secret: 23323da031634b241dd37d61032b62a4f450584d1f7f47983ba2f7cc0cdcc39a68f481f2b019f9403a3051908a5d1622\n",
      "client handshake key: 1135b4826a9a70257e5a391ad93093dfd7c4214812f493b3e3daae1eb2b1ac69\n",
      "client handshake iv: 4256d2e0e88babdd05eb2f27\n",
      "server handshake key: 9f13575ce3f8cfc1df64a77ceaffe89700b492ad31b4fab01c4792be1b266b7f\n",
      "server handshake iv: 9563bc8b590f671f488d2da3\n"
     ]
    }
   ],
   "source": [
    "# Deriving the secrets and subsequent keys + IVs.\n",
    "client_secret = hkdf_expand_label(\n",
    "    secret = handshake_secret, \n",
    "    label = \"c hs traffic\", \n",
    "    context = hello_hash, \n",
    "    length = 48\n",
    ")\n",
    "\n",
    "server_secret = hkdf_expand_label(\n",
    "    secret = handshake_secret,\n",
    "    label = \"s hs traffic\",\n",
    "    context = hello_hash,\n",
    "    length = 48\n",
    ")\n",
    "\n",
    "\n",
    "client_handshake_key = hkdf_expand_label(\n",
    "    secret = client_secret,\n",
    "    label = \"key\",\n",
    "    context = b\"\",\n",
    "    length = 32\n",
    ")\n",
    "\n",
    "server_handshake_key = hkdf_expand_label(\n",
    "    secret = server_secret,\n",
    "    label = \"key\",\n",
    "    context = b\"\",\n",
    "    length = 32\n",
    ")\n",
    "\n",
    "client_handshake_iv = hkdf_expand_label(\n",
    "    secret = client_secret,\n",
    "    label = \"iv\",\n",
    "    context = b\"\",\n",
    "    length = 12\n",
    ")\n",
    "\n",
    "server_handshake_iv = hkdf_expand_label(\n",
    "    secret = server_secret,\n",
    "    label = \"iv\",\n",
    "    context = b\"\",\n",
    "    length = 12\n",
    ")\n",
    "\n",
    "\n",
    "\n",
    "\n",
    "print(\"handshake secret: \" + handshake_secret.hex())\n",
    "print(\"client secret: \" + client_secret.hex())\n",
    "print(\"server secret: \" + server_secret.hex())\n",
    "print(\"client handshake key: \" + client_handshake_key.hex())\n",
    "print(\"client handshake iv: \"+ client_handshake_iv.hex())\n",
    "print(\"server handshake key: \" + server_handshake_key.hex())\n",
    "print(\"server handshake iv: \" + server_handshake_iv.hex())\n"
   ]
  },
  {
   "cell_type": "markdown",
   "metadata": {},
   "source": [
    "## 8. Decryption\n",
    "\n",
    "Now that we have the keys and IVs, the next step would be to decrypt the encrypted records. When sending the ClientHello, the server sends back a massive binary dump, including the ServerHello, the change cipher specs, and the actual payload, which is encrypted. We will use the keys and ivs generated to decrypt these records.\n",
    "\n",
    "Normally, you'll see a bunch of records, each with its own content, from the server encrypted extension, certificates, etc. However, Cloudbase has aggregated all of these into a single record. What we're really interested in is the server's finished message, which"
   ]
  },
  {
   "cell_type": "code",
   "execution_count": 311,
   "metadata": {},
   "outputs": [
    {
     "ename": "ValueError",
     "evalue": "Decryption failed: ",
     "output_type": "error",
     "traceback": [
      "\u001b[0;31m---------------------------------------------------------------------------\u001b[0m",
      "\u001b[0;31mInvalidTag\u001b[0m                                Traceback (most recent call last)",
      "\u001b[0;32m/var/folders/gc/nmwb_jjd5z34hsx9h6fv2dvh0000gn/T/ipykernel_42504/1120359851.py\u001b[0m in \u001b[0;36mdecrypt\u001b[0;34m(key, iv, wrapper)\u001b[0m\n\u001b[1;32m     10\u001b[0m     \u001b[0;32mtry\u001b[0m\u001b[0;34m:\u001b[0m\u001b[0;34m\u001b[0m\u001b[0;34m\u001b[0m\u001b[0m\n\u001b[0;32m---> 11\u001b[0;31m         \u001b[0mplaintext\u001b[0m \u001b[0;34m=\u001b[0m \u001b[0maesgcm\u001b[0m\u001b[0;34m.\u001b[0m\u001b[0mdecrypt\u001b[0m\u001b[0;34m(\u001b[0m\u001b[0miv\u001b[0m\u001b[0;34m,\u001b[0m \u001b[0mciphertext\u001b[0m\u001b[0;34m,\u001b[0m \u001b[0madditional\u001b[0m\u001b[0;34m)\u001b[0m\u001b[0;34m\u001b[0m\u001b[0;34m\u001b[0m\u001b[0m\n\u001b[0m\u001b[1;32m     12\u001b[0m     \u001b[0;32mexcept\u001b[0m \u001b[0mException\u001b[0m \u001b[0;32mas\u001b[0m \u001b[0me\u001b[0m\u001b[0;34m:\u001b[0m\u001b[0;34m\u001b[0m\u001b[0;34m\u001b[0m\u001b[0m\n",
      "\u001b[0;32m~/opt/anaconda3/lib/python3.9/site-packages/cryptography/hazmat/primitives/ciphers/aead.py\u001b[0m in \u001b[0;36mdecrypt\u001b[0;34m(self, nonce, data, associated_data)\u001b[0m\n\u001b[1;32m    201\u001b[0m         \u001b[0mself\u001b[0m\u001b[0;34m.\u001b[0m\u001b[0m_check_params\u001b[0m\u001b[0;34m(\u001b[0m\u001b[0mnonce\u001b[0m\u001b[0;34m,\u001b[0m \u001b[0mdata\u001b[0m\u001b[0;34m,\u001b[0m \u001b[0massociated_data\u001b[0m\u001b[0;34m)\u001b[0m\u001b[0;34m\u001b[0m\u001b[0;34m\u001b[0m\u001b[0m\n\u001b[0;32m--> 202\u001b[0;31m         \u001b[0;32mreturn\u001b[0m \u001b[0maead\u001b[0m\u001b[0;34m.\u001b[0m\u001b[0m_decrypt\u001b[0m\u001b[0;34m(\u001b[0m\u001b[0mbackend\u001b[0m\u001b[0;34m,\u001b[0m \u001b[0mself\u001b[0m\u001b[0;34m,\u001b[0m \u001b[0mnonce\u001b[0m\u001b[0;34m,\u001b[0m \u001b[0mdata\u001b[0m\u001b[0;34m,\u001b[0m \u001b[0massociated_data\u001b[0m\u001b[0;34m,\u001b[0m \u001b[0;36m16\u001b[0m\u001b[0;34m)\u001b[0m\u001b[0;34m\u001b[0m\u001b[0;34m\u001b[0m\u001b[0m\n\u001b[0m\u001b[1;32m    203\u001b[0m \u001b[0;34m\u001b[0m\u001b[0m\n",
      "\u001b[0;32m~/opt/anaconda3/lib/python3.9/site-packages/cryptography/hazmat/backends/openssl/aead.py\u001b[0m in \u001b[0;36m_decrypt\u001b[0;34m(backend, cipher, nonce, data, associated_data, tag_length)\u001b[0m\n\u001b[1;32m    162\u001b[0m             \u001b[0mbackend\u001b[0m\u001b[0;34m.\u001b[0m\u001b[0m_consume_errors\u001b[0m\u001b[0;34m(\u001b[0m\u001b[0;34m)\u001b[0m\u001b[0;34m\u001b[0m\u001b[0;34m\u001b[0m\u001b[0m\n\u001b[0;32m--> 163\u001b[0;31m             \u001b[0;32mraise\u001b[0m \u001b[0mInvalidTag\u001b[0m\u001b[0;34m\u001b[0m\u001b[0;34m\u001b[0m\u001b[0m\n\u001b[0m\u001b[1;32m    164\u001b[0m \u001b[0;34m\u001b[0m\u001b[0m\n",
      "\u001b[0;31mInvalidTag\u001b[0m: ",
      "\nDuring handling of the above exception, another exception occurred:\n",
      "\u001b[0;31mValueError\u001b[0m                                Traceback (most recent call last)",
      "\u001b[0;32m/var/folders/gc/nmwb_jjd5z34hsx9h6fv2dvh0000gn/T/ipykernel_42504/1120359851.py\u001b[0m in \u001b[0;36m<module>\u001b[0;34m\u001b[0m\n\u001b[1;32m     24\u001b[0m \u001b[0;31m# Right now I'm doing a lot of copy pasting. I run the openSSL_debug script to retrieve the server's response, and then replace the serverHello, as well as the encrypted record under this line. Managed to decrypt the thing.\u001b[0m\u001b[0;34m\u001b[0m\u001b[0;34m\u001b[0m\u001b[0m\n\u001b[1;32m     25\u001b[0m \u001b[0;34m\u001b[0m\u001b[0m\n\u001b[0;32m---> 26\u001b[0;31m \u001b[0mpayload\u001b[0m \u001b[0;34m=\u001b[0m \u001b[0mdecrypt\u001b[0m\u001b[0;34m(\u001b[0m\u001b[0mserver_handshake_key\u001b[0m\u001b[0;34m,\u001b[0m \u001b[0mserver_handshake_iv\u001b[0m\u001b[0;34m,\u001b[0m \u001b[0mencrypted_payload\u001b[0m\u001b[0;34m)\u001b[0m\u001b[0;34m\u001b[0m\u001b[0;34m\u001b[0m\u001b[0m\n\u001b[0m\u001b[1;32m     27\u001b[0m \u001b[0mprint_bytes_as_hex\u001b[0m\u001b[0;34m(\u001b[0m\u001b[0mpayload\u001b[0m\u001b[0;34m)\u001b[0m\u001b[0;34m\u001b[0m\u001b[0;34m\u001b[0m\u001b[0m\n\u001b[1;32m     28\u001b[0m \u001b[0;34m\u001b[0m\u001b[0m\n",
      "\u001b[0;32m/var/folders/gc/nmwb_jjd5z34hsx9h6fv2dvh0000gn/T/ipykernel_42504/1120359851.py\u001b[0m in \u001b[0;36mdecrypt\u001b[0;34m(key, iv, wrapper)\u001b[0m\n\u001b[1;32m     11\u001b[0m         \u001b[0mplaintext\u001b[0m \u001b[0;34m=\u001b[0m \u001b[0maesgcm\u001b[0m\u001b[0;34m.\u001b[0m\u001b[0mdecrypt\u001b[0m\u001b[0;34m(\u001b[0m\u001b[0miv\u001b[0m\u001b[0;34m,\u001b[0m \u001b[0mciphertext\u001b[0m\u001b[0;34m,\u001b[0m \u001b[0madditional\u001b[0m\u001b[0;34m)\u001b[0m\u001b[0;34m\u001b[0m\u001b[0;34m\u001b[0m\u001b[0m\n\u001b[1;32m     12\u001b[0m     \u001b[0;32mexcept\u001b[0m \u001b[0mException\u001b[0m \u001b[0;32mas\u001b[0m \u001b[0me\u001b[0m\u001b[0;34m:\u001b[0m\u001b[0;34m\u001b[0m\u001b[0;34m\u001b[0m\u001b[0m\n\u001b[0;32m---> 13\u001b[0;31m         \u001b[0;32mraise\u001b[0m \u001b[0mValueError\u001b[0m\u001b[0;34m(\u001b[0m\u001b[0;34mf\"Decryption failed: {e}\"\u001b[0m\u001b[0;34m)\u001b[0m\u001b[0;34m\u001b[0m\u001b[0;34m\u001b[0m\u001b[0m\n\u001b[0m\u001b[1;32m     14\u001b[0m \u001b[0;34m\u001b[0m\u001b[0m\n\u001b[1;32m     15\u001b[0m     \u001b[0;32mreturn\u001b[0m \u001b[0mplaintext\u001b[0m\u001b[0;34m\u001b[0m\u001b[0;34m\u001b[0m\u001b[0m\n",
      "\u001b[0;31mValueError\u001b[0m: Decryption failed: "
     ]
    }
   ],
   "source": [
    "def decrypt(key, iv, wrapper):\n",
    "    # Split the wrapper into additional authenticated data (AAD) and ciphertext\n",
    "    additional = wrapper[:5]\n",
    "    ciphertext = wrapper[5:]\n",
    "    \n",
    "    # Initialize AES-GCM with the provided key\n",
    "    aesgcm = AESGCM(key)\n",
    "    \n",
    "    # Decrypt the ciphertext\n",
    "    try:\n",
    "        plaintext = aesgcm.decrypt(iv, ciphertext, additional)\n",
    "    except Exception as e:\n",
    "        raise ValueError(f\"Decryption failed: {e}\")\n",
    "    \n",
    "    return plaintext\n",
    "\n",
    "def find_finished_message(payload: bytes) -> int:\n",
    "   # Look for Finished message header: 14 00 00 30 (for SHA384)\n",
    "   finished_header = bytes([0x14, 0x00, 0x00, 0x30])\n",
    "   return payload.find(finished_header)\n",
    "\n",
    "\n",
    "\n",
    "# Right now I'm doing a lot of copy pasting. I run the openSSL_debug script to retrieve the server's response, and then replace the serverHello, as well as the encrypted record under this line. Managed to decrypt the thing.\n",
    "\n",
    "payload = decrypt(server_handshake_key, server_handshake_iv, encrypted_payload)\n",
    "print_bytes_as_hex(payload)\n",
    "\n",
    "# Get index where Finished message starts\n",
    "finished_index = find_finished_message(payload)\n",
    "print(finished_index)\n",
    "\n",
    "# Get everything before the Finished message\n",
    "server_handshake_no_finished = payload[:finished_index] if finished_index != -1 else payload\n",
    "server_handshake_finished_message = payload[finished_index:]\n",
    "\n",
    "print(\"Server handshake: \" + server_handshake_no_finished.hex())\n",
    "print(\"Finished message: \" + server_handshake_finished_message.hex())\n",
    "\n"
   ]
  },
  {
   "cell_type": "markdown",
   "metadata": {},
   "source": [
    "# 9. Application keys:\n",
    "The application keys are nearly the last step when it comes to finishing the handshake. The handshake keys were there decrypt the server's response, containing encrypted extensions, certificates, etc. Once we decrypt the encryption, we then use them to generate another set of keys, called application keys. This will be the main keys we use to communicate with the server. The code themselves are basically the same as the ones used to generate handshake hash"
   ]
  },
  {
   "cell_type": "code",
   "execution_count": null,
   "metadata": {},
   "outputs": [
    {
     "name": "stdout",
     "output_type": "stream",
     "text": [
      "f7 0c c8 8e 34 61 59 14 4f b9 3d 8e 9b 68 4d 0e e3 72 b6 4c e0 f9 df 63 16 d3 f6 fc 97 a2 92 f0 a5 bc 79 1a 98 8c f2 5b 43 e7 56 7a f0 a4 21 aa\n",
      "client secret: 8de3d8552140e9498e9e49fa48b84b1abcb31f760968915d737ed78a33925ed4cad9160bea8a50347f3de5012539a9c3\n",
      "server secret: 02b1c99dc83a20014712d2581f5d80a490d9716f729d1e20d9b8953e934770859a86083a7309ef949ba3021b851a243b\n",
      "client handshake key: de2f4c7672723a692319873e5c227606691a32d1c59d8b9f51dbb9352e9ca9cc\n",
      "client handshake iv: bb007956f474b25de902432f\n",
      "server handshake key: 01f78623f17e3edcc09e944027ba3218d57c8e0db93cd3ac419309274700ac27\n",
      "server handshake iv: 196a750b0c5049c0cc51a541\n"
     ]
    }
   ],
   "source": [
    "##!!!!!!!! Potential bug in generating key hash\n",
    "def application_key_hash(client: bytes, server: bytes, payload: bytes) -> bytes:\n",
    "    digest = hashes.Hash(hashes.SHA384()) # We'll be using SHA384 to create the hash for our messages.\n",
    "    digest.update(client)     # Note that both the ClientHello and ServerHello is used here\n",
    "    digest.update(server)\n",
    "    digest.update(payload)\n",
    "    application_key_hash = digest.finalize()\n",
    "    return application_key_hash\n",
    "\n",
    "application_context = application_key_hash(client_hello_no_record, server_hello_no_record, server_handshake_no_finished)\n",
    "print_bytes_as_hex(application_context)\n",
    "\n",
    "#TestValues. Uncomment this and compare with https://tls13.xargs.org/#server-handshake-keys-calc\n",
    "handshake_secret = bytes.fromhex(\"bdbbe8757494bef20de932598294ea65b5e6bf6dc5c02a960a2de2eaa9b07c929078d2caa0936231c38d1725f179d299\")\n",
    "application_context = bytes.fromhex(\"fa6800169a6baac19159524fa7b9721b41be3c9db6f3f93fa5ff7e3db3ece204d2b456c51046e40ec5312c55a86126f5\")\n",
    "\n",
    "zeros = bytes([0] * 32)\n",
    "derived_secret = hkdf_expand_label(\n",
    "    secret = handshake_secret,\n",
    "    label=\"derived\",\n",
    "    context=empty_hash,\n",
    "    length=48\n",
    ")\n",
    "master_secret = hkdf.HKDF(\n",
    "    algorithm=hashes.SHA384(),\n",
    "    length=48,\n",
    "    salt=derived_secret,  # derived_secret is used as salt\n",
    "    info=None\n",
    ")._extract(b'\\x00' * 48)\n",
    "\n",
    "\n",
    "client_app_secret = hkdf_expand_label(\n",
    "    secret = master_secret,\n",
    "    label=\"c ap traffic\",\n",
    "    context = application_context,\n",
    "    length = 48\n",
    ")\n",
    "\n",
    "server_app_secret = hkdf_expand_label(\n",
    "    secret = master_secret,\n",
    "    label = \"s ap traffic\",\n",
    "    context = application_context,\n",
    "    length = 48\n",
    ")\n",
    "\n",
    "\n",
    "client_app_key = hkdf_expand_label(\n",
    "    secret = client_app_secret,\n",
    "    label = \"key\",\n",
    "    context = b\"\",\n",
    "    length = 32\n",
    ")\n",
    "\n",
    "server_app_key = hkdf_expand_label(\n",
    "    secret = server_app_secret,\n",
    "    label = \"key\",\n",
    "    context = b\"\",\n",
    "    length = 32\n",
    ")\n",
    "\n",
    "client_app_iv = hkdf_expand_label(\n",
    "    secret = client_app_secret,\n",
    "    label = \"iv\",\n",
    "    context = b\"\",\n",
    "    length = 12\n",
    ")\n",
    "\n",
    "server_app_iv = hkdf_expand_label(\n",
    "    secret = server_app_secret,\n",
    "    label = \"iv\",\n",
    "    context = b\"\",\n",
    "    length = 12\n",
    ")\n",
    "\n",
    "print(\"client secret: \" + client_secret.hex())\n",
    "print(\"server secret: \" + server_secret.hex())\n",
    "print(\"client app key: \" + client_app_key.hex())\n",
    "print(\"client app iv: \"+ client_app_iv.hex())\n",
    "print(\"server app key: \" + server_app_key.hex())\n",
    "print(\"server app iv: \" + server_app_iv.hex())\n"
   ]
  },
  {
   "cell_type": "markdown",
   "metadata": {},
   "source": [
    "# 10. Generate the finished message\n",
    "The last step would be to generate the Finished message and send it to the server. After that, we're finished with the handshake, and can start sending over HTTP requests"
   ]
  },
  {
   "cell_type": "code",
   "execution_count": null,
   "metadata": {},
   "outputs": [
    {
     "name": "stdout",
     "output_type": "stream",
     "text": [
      "e2 3d 2b b6 91 f2 d5 cc 80 e7 12 63 0d 1c 44 24 69 bf 27 4c fb 21 8e 4c 76 b2 77 79 d0 6c df e3 14 84 41 ac 7e a1 89 e1 3e 85 d5 f2 19 13 48 53\n",
      "14 00 00 30 e2 3d 2b b6 91 f2 d5 cc 80 e7 12 63 0d 1c 44 24 69 bf 27 4c fb 21 8e 4c 76 b2 77 79 d0 6c df e3 14 84 41 ac 7e a1 89 e1 3e 85 d5 f2 19 13 48 53 16\n",
      "17 03 03 00 45 4f 97 31 f9 e0 bd bd 63 50 7e e7 6b ef 21 da 74 6f 14 62 65 0a ba 1a f4 f4 24 e4 00 30 e3 b0 93 06 dc 2c 28 22 06 23 44 48 6b 0e 07 fd f1 f3 67 11 32 22 d6 d1 8b 52 ca 37 a1 76 70 05 b0 57 6f 7c 7c 77 e9 50\n"
     ]
    }
   ],
   "source": [
    "def calculate_verify_data(client_handshake_secret: bytes, client_hello: bytes, server_hello: bytes, server_handshake: bytes) -> bytes:\n",
    "    # First derive the finished key using HKDF-Expand-Label\n",
    "    finished_key = hkdf_expand_label(\n",
    "        secret=client_handshake_secret, \n",
    "        label=\"finished\", \n",
    "        context=b\"\", \n",
    "        length=48  # SHA-384 output size\n",
    "    )\n",
    "    \n",
    "    # Calculate the transcript hash using SHA-384\n",
    "    transcript = client_hello + server_hello + server_handshake\n",
    "    digest = hashes.Hash(hashes.SHA384())\n",
    "    digest.update(transcript)\n",
    "    finished_hash = digest.finalize()\n",
    "    \n",
    "    # Create HMAC of the transcript hash using finished_key\n",
    "    h = HMAC(finished_key, hashes.SHA384())\n",
    "    h.update(finished_hash)\n",
    "    return h.finalize()\n",
    "\n",
    "def create_client_finished_message(client_handshake_key: bytes, client_handshake_iv: bytes, client_handshake_secret: bytes, \n",
    "                                   client_hello: bytes, server_hello: bytes, server_handshake: bytes) -> bytes:\n",
    "    # Get the verify_data using the function above\n",
    "    verify_data = calculate_verify_data(client_handshake_secret, client_hello, server_hello, server_handshake)\n",
    "    \n",
    "    # Create the Finished message structure\n",
    "    msg = bytes([0x14, 0x00, 0x00]) + len(verify_data).to_bytes(1, 'big')  # Type and length\n",
    "    msg += verify_data                      # The HMAC\n",
    "    msg += bytes([0x16])                    # Handshake message type\n",
    "    \n",
    "    # Record layer header as AAD\n",
    "    print_bytes_as_hex(msg)\n",
    "    msg_len = len(msg) + 16  # AES-GCM adds a 16-byte authentication tag\n",
    "    additional = bytes([0x17, 0x03, 0x03]) + msg_len.to_bytes(2, 'big')\n",
    "    \n",
    "    # Encrypt using AES-GCM\n",
    "    aesgcm = AESGCM(client_handshake_key)\n",
    "    encrypted = aesgcm.encrypt(client_handshake_iv, msg, additional)\n",
    "    \n",
    "    # Return the full TLS record\n",
    "    return additional + encrypted\n",
    "\n",
    "verify_data = calculate_verify_data(client_secret, client_hello_no_record, server_hello_no_record, server_handshake_no_finished)\n",
    "print_bytes_as_hex(verify_data)\n",
    "finished_message = create_client_finished_message(\n",
    "    client_handshake_key=client_handshake_key,\n",
    "    client_handshake_iv=client_handshake_iv,\n",
    "    client_handshake_secret= client_secret,\n",
    "    client_hello= client_hello_no_record,\n",
    "    server_hello= server_hello_no_record,\n",
    "    server_handshake = server_handshake_no_finished\n",
    "    )\n",
    "print_bytes_as_hex(finished_message)\n",
    "\n",
    "# Usage example:\n",
    "# finished_message = create_client_finished_message(\n",
    "#     client_handshake_key,\n",
    "#     client_handshake_iv,\n",
    "#     client_handshake_secret,\n",
    "#     client_hello,\n",
    "#     server_hello,\n",
    "#     server_handshake\n",
    "# )"
   ]
  },
  {
   "cell_type": "code",
   "execution_count": null,
   "metadata": {},
   "outputs": [
    {
     "name": "stdout",
     "output_type": "stream",
     "text": [
      "Sent Client Finished message (74 bytes)\n",
      "Received response after Finished: 24 bytes\n",
      "17 03 03 00 13 b2 4c 61 d7 88 e9 2d 4e 83 06 b8 2b e4 f5 84 77 15 e5 62\n"
     ]
    }
   ],
   "source": [
    "s.sendall(finished_message)\n",
    "print(f\"Sent Client Finished message ({len(finished_message)} bytes)\")\n",
    "\n",
    "# Receive response after Finished\n",
    "response = receive_all_data(s)\n",
    "print(f\"Received response after Finished: {len(response)} bytes\")\n",
    "print_bytes_as_hex(response)\n",
    "\n",
    "\n",
    "\n"
   ]
  },
  {
   "cell_type": "code",
   "execution_count": null,
   "metadata": {},
   "outputs": [],
   "source": []
  },
  {
   "cell_type": "markdown",
   "metadata": {},
   "source": [
    "# 11. Decrypting the handshake response:\n"
   ]
  },
  {
   "cell_type": "code",
   "execution_count": null,
   "metadata": {},
   "outputs": [
    {
     "name": "stdout",
     "output_type": "stream",
     "text": [
      "Response: 1703030013b24c61d788e92d4e8306b82be4f5847715e562\n",
      "Additional data: 1703030013\n",
      "Ciphertext: b24c61d788e92d4e8306b82be4f5847715e562\n",
      "Server app key: 01f78623f17e3edcc09e944027ba3218d57c8e0db93cd3ac419309274700ac27\n",
      "Server app IV: 196a750b0c5049c0cc51a541\n",
      "Nonce: 196a750b0c5049c0cc51a541\n"
     ]
    },
    {
     "ename": "InvalidTag",
     "evalue": "",
     "output_type": "error",
     "traceback": [
      "\u001b[0;31m---------------------------------------------------------------------------\u001b[0m",
      "\u001b[0;31mInvalidTag\u001b[0m                                Traceback (most recent call last)",
      "\u001b[0;32m/var/folders/gc/nmwb_jjd5z34hsx9h6fv2dvh0000gn/T/ipykernel_42504/1420632653.py\u001b[0m in \u001b[0;36m<module>\u001b[0;34m\u001b[0m\n\u001b[1;32m     16\u001b[0m \u001b[0;34m\u001b[0m\u001b[0m\n\u001b[1;32m     17\u001b[0m \u001b[0maesgcm\u001b[0m \u001b[0;34m=\u001b[0m \u001b[0mAESGCM\u001b[0m\u001b[0;34m(\u001b[0m\u001b[0mserver_app_key\u001b[0m\u001b[0;34m)\u001b[0m\u001b[0;34m\u001b[0m\u001b[0;34m\u001b[0m\u001b[0m\n\u001b[0;32m---> 18\u001b[0;31m \u001b[0mplaintext\u001b[0m \u001b[0;34m=\u001b[0m \u001b[0maesgcm\u001b[0m\u001b[0;34m.\u001b[0m\u001b[0mdecrypt\u001b[0m\u001b[0;34m(\u001b[0m\u001b[0mnonce\u001b[0m\u001b[0;34m,\u001b[0m \u001b[0mciphertext\u001b[0m\u001b[0;34m,\u001b[0m \u001b[0madditional_data\u001b[0m\u001b[0;34m)\u001b[0m\u001b[0;34m\u001b[0m\u001b[0;34m\u001b[0m\u001b[0m\n\u001b[0m",
      "\u001b[0;32m~/opt/anaconda3/lib/python3.9/site-packages/cryptography/hazmat/primitives/ciphers/aead.py\u001b[0m in \u001b[0;36mdecrypt\u001b[0;34m(self, nonce, data, associated_data)\u001b[0m\n\u001b[1;32m    200\u001b[0m \u001b[0;34m\u001b[0m\u001b[0m\n\u001b[1;32m    201\u001b[0m         \u001b[0mself\u001b[0m\u001b[0;34m.\u001b[0m\u001b[0m_check_params\u001b[0m\u001b[0;34m(\u001b[0m\u001b[0mnonce\u001b[0m\u001b[0;34m,\u001b[0m \u001b[0mdata\u001b[0m\u001b[0;34m,\u001b[0m \u001b[0massociated_data\u001b[0m\u001b[0;34m)\u001b[0m\u001b[0;34m\u001b[0m\u001b[0;34m\u001b[0m\u001b[0m\n\u001b[0;32m--> 202\u001b[0;31m         \u001b[0;32mreturn\u001b[0m \u001b[0maead\u001b[0m\u001b[0;34m.\u001b[0m\u001b[0m_decrypt\u001b[0m\u001b[0;34m(\u001b[0m\u001b[0mbackend\u001b[0m\u001b[0;34m,\u001b[0m \u001b[0mself\u001b[0m\u001b[0;34m,\u001b[0m \u001b[0mnonce\u001b[0m\u001b[0;34m,\u001b[0m \u001b[0mdata\u001b[0m\u001b[0;34m,\u001b[0m \u001b[0massociated_data\u001b[0m\u001b[0;34m,\u001b[0m \u001b[0;36m16\u001b[0m\u001b[0;34m)\u001b[0m\u001b[0;34m\u001b[0m\u001b[0;34m\u001b[0m\u001b[0m\n\u001b[0m\u001b[1;32m    203\u001b[0m \u001b[0;34m\u001b[0m\u001b[0m\n\u001b[1;32m    204\u001b[0m     def _check_params(\n",
      "\u001b[0;32m~/opt/anaconda3/lib/python3.9/site-packages/cryptography/hazmat/backends/openssl/aead.py\u001b[0m in \u001b[0;36m_decrypt\u001b[0;34m(backend, cipher, nonce, data, associated_data, tag_length)\u001b[0m\n\u001b[1;32m    161\u001b[0m         \u001b[0;32mif\u001b[0m \u001b[0mres\u001b[0m \u001b[0;34m==\u001b[0m \u001b[0;36m0\u001b[0m\u001b[0;34m:\u001b[0m\u001b[0;34m\u001b[0m\u001b[0;34m\u001b[0m\u001b[0m\n\u001b[1;32m    162\u001b[0m             \u001b[0mbackend\u001b[0m\u001b[0;34m.\u001b[0m\u001b[0m_consume_errors\u001b[0m\u001b[0;34m(\u001b[0m\u001b[0;34m)\u001b[0m\u001b[0;34m\u001b[0m\u001b[0;34m\u001b[0m\u001b[0m\n\u001b[0;32m--> 163\u001b[0;31m             \u001b[0;32mraise\u001b[0m \u001b[0mInvalidTag\u001b[0m\u001b[0;34m\u001b[0m\u001b[0;34m\u001b[0m\u001b[0m\n\u001b[0m\u001b[1;32m    164\u001b[0m \u001b[0;34m\u001b[0m\u001b[0m\n\u001b[1;32m    165\u001b[0m     \u001b[0;32mreturn\u001b[0m \u001b[0mprocessed_data\u001b[0m\u001b[0;34m\u001b[0m\u001b[0;34m\u001b[0m\u001b[0m\n",
      "\u001b[0;31mInvalidTag\u001b[0m: "
     ]
    }
   ],
   "source": [
    "sequence_number = 0\n",
    "nonce = bytes([x ^ y for x, y in zip(\n",
    "    server_app_iv,\n",
    "    sequence_number.to_bytes(12, byteorder='big')\n",
    ")])\n",
    "\n",
    "additional_data = response[:5]\n",
    "ciphertext = response[5:]\n",
    "\n",
    "print(\"Response:\", response.hex())\n",
    "print(\"Additional data:\", additional_data.hex())\n",
    "print(\"Ciphertext:\", ciphertext.hex())\n",
    "print(\"Server app key:\", server_app_key.hex())\n",
    "print(\"Server app IV:\", server_app_iv.hex())\n",
    "print(\"Nonce:\", nonce.hex())\n",
    "\n",
    "aesgcm = AESGCM(server_app_key)\n",
    "plaintext = aesgcm.decrypt(nonce, ciphertext, additional_data)"
   ]
  },
  {
   "cell_type": "code",
   "execution_count": null,
   "metadata": {},
   "outputs": [],
   "source": []
  }
 ],
 "metadata": {
  "kernelspec": {
   "display_name": "Python 3",
   "language": "python",
   "name": "python3"
  },
  "language_info": {
   "codemirror_mode": {
    "name": "ipython",
    "version": 3
   },
   "file_extension": ".py",
   "mimetype": "text/x-python",
   "name": "python",
   "nbconvert_exporter": "python",
   "pygments_lexer": "ipython3",
   "version": "3.9.7"
  }
 },
 "nbformat": 4,
 "nbformat_minor": 2
}
