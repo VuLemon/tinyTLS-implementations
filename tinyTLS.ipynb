{
 "cells": [
  {
   "cell_type": "markdown",
   "metadata": {},
   "source": [
    "# Tiny-TLS 1.3 Toy Implementation for COSI107a, Spring 2025, version 0.1\n",
    "\n",
    "This document contains the implementation of a toy version of TLS 1.3, to be used as material for Brandeis' COSI107a course. The goal is to implement a minimalist version of TLS 1.3 that can communicate with a server using the protocol.\n",
    "\n",
    "This is a work in progress, and it is expected that changes will be made to the protocol as we move forward\n"
   ]
  },
  {
   "cell_type": "markdown",
   "metadata": {},
   "source": [
    "## 1. Import the necessary libraries\n",
    "\n",
    "Since we're working with TLS in Python, it is helpful to use Python libraries that allow us to pack our data into binary form. TLS protocol specifies exact byte length and format, and we'll be doing a lot of conversion between numbers and bytes. We'll use the Python Struct library for this purpose\n",
    "\n",
    "We'll also be importing the x25519 curve from the Cryptography library to generate the key used in our messages\n",
    "\n"
   ]
  },
  {
   "cell_type": "code",
   "execution_count": 436,
   "metadata": {},
   "outputs": [],
   "source": [
    "import struct\n",
    "\n",
    "from cryptography.hazmat.primitives.asymmetric import x25519\n",
    "from cryptography.hazmat.primitives import serialization, hashes\n",
    "from cryptography.hazmat.primitives.kdf import hkdf\n",
    "from cryptography.hazmat.primitives.ciphers.aead import AESGCM\n",
    "from cryptography.hazmat.primitives.ciphers import Cipher, algorithms, modes\n",
    "from cryptography.hazmat.backends import default_backend\n",
    "\n",
    "import socket\n",
    "import time\n",
    "from urllib.parse import urlparse\n",
    "\n",
    "\n",
    "import os #for random nonce generation"
   ]
  },
  {
   "cell_type": "markdown",
   "metadata": {},
   "source": [
    "# 2a. Define some helper functions\n",
    "\n",
    "TLS represents all of its messages in byte form. As such, some elements (such as the content length) must be converted from integer to big edian, specifically with 2 bytes. We also need to be able to join the distinct elements in a message into a single byte slice\n"
   ]
  },
  {
   "cell_type": "code",
   "execution_count": 437,
   "metadata": {},
   "outputs": [],
   "source": [
    "def u16_to_byte(x: int) -> bytes:\n",
    "    return struct.pack('>H', x) # Use the struct package to pack a number into big-edian 2 bytes\n",
    "\n",
    "def concatenate(*bufs: bytes) -> bytes: # Concatenate multiple byte slices into one singular byte slice\n",
    "    return b''.join(bufs)\n",
    "\n",
    "def print_bytes_as_hex(b: bytes) -> None: # This is to print the bytes as hex strings. Easier to double check this way\n",
    "    hex_string = ' '.join([f'{x:02x}' for x in b])\n",
    "    print(hex_string)"
   ]
  },
  {
   "cell_type": "markdown",
   "metadata": {},
   "source": [
    "# 2b. Define our private key and public key\n",
    "\n",
    "We can then generate the public key and private key using the x25519 curve from Cryptography\n"
   ]
  },
  {
   "cell_type": "code",
   "execution_count": 438,
   "metadata": {},
   "outputs": [
    {
     "name": "stdout",
     "output_type": "stream",
     "text": [
      "(<cryptography.hazmat.backends.openssl.x25519._X25519PrivateKey object at 0x7fe498164820>, b']h\\xc3\\xa9&m\\xa7!\\x85\\x11\\xeb\\xb5\\x9c]\\x7f\\x8e\\xa2W\\x96N\\xfe\\xc3\\xd6vO\\xae2\\x9a\\t\\xe0[n')\n"
     ]
    }
   ],
   "source": [
    "def key_pair() -> bytes:\n",
    "    private_key = x25519.X25519PrivateKey.generate()\n",
    "    public_key = private_key.public_key().public_bytes(\n",
    "    encoding=serialization.Encoding.Raw,\n",
    "    format=serialization.PublicFormat.Raw\n",
    "    )\n",
    "    return private_key, public_key\n",
    "\n",
    "print(key_pair())\n"
   ]
  },
  {
   "cell_type": "markdown",
   "metadata": {},
   "source": [
    "Notice how each time we run the code, the public_key is different. This is intended behavior, as it prevents attackers from being able to predict our key pairs"
   ]
  },
  {
   "cell_type": "markdown",
   "metadata": {},
   "source": [
    "# 3. The Extension Blueprint:\n",
    "\n",
    "Extensions play a large part in shaping a TLS message. From negotiating supported key group to exchanging keys, all of these are achieved using extensions. Luckily for us, these different extensions have a common blueprint\n",
    "\n"
   ]
  },
  {
   "cell_type": "code",
   "execution_count": 439,
   "metadata": {},
   "outputs": [
    {
     "name": "stdout",
     "output_type": "stream",
     "text": [
      "00 0a 00 02 00 1d\n"
     ]
    }
   ],
   "source": [
    "def extension(id: int, content: bytes) -> bytes:\n",
    "    return concatenate(\n",
    "        u16_to_byte(id),                         #The ID of the extension. (e.g 0x0a = Supported Group)\n",
    "        u16_to_byte(len(content)),               #Length of content\n",
    "        content                                  #The actual content itself\n",
    "    )\n",
    "\n",
    "print_bytes_as_hex(extension(0x0a, bytes([0x00, 0x1d]))) #Example Supported Group extension\n"
   ]
  },
  {
   "cell_type": "markdown",
   "metadata": {},
   "source": [
    "# 4. The ClientHello\n",
    "\n",
    "With those building blocks, we can now write our first TLS message: The ClientHello. The ClientHello is always the first message to be sent in a TLS handshake, indicating that the client wants to connect with the server\n",
    "\n",
    "The ClientHello has these components, in this order:\n",
    "1. ProtocolVersion (Negotiate which version of TLS we're using)\n",
    "2. Random Nonce (32 bit, for key generation)\n",
    "3. Legacy Session ID (For our purposes, we won't be using sessions)\n",
    "4. Cipher Suites (contains a suite of cipher - how to actually encrypt the key once we have it)\n",
    "5. Legacy Compression Method (For TLS 1.3, this is null)\n",
    "6. Extensions \n",
    "\n",
    "The code for it is as follows:"
   ]
  },
  {
   "cell_type": "code",
   "execution_count": 440,
   "metadata": {},
   "outputs": [
    {
     "name": "stdout",
     "output_type": "stream",
     "text": [
      "16 03 01 00 9b 01 00 00 97 03 03 62 ba a6 7d 49 bf df c4 eb 42 85 15 75 09 86 d3 31 cf 55 89 4b a8 d0 ed 11 58 79 94 3b 40 79 0b 00 00 02 13 02 01 00 00 6c 00 00 00 17 00 15 00 00 12 77 77 77 2e 63 6c 6f 75 64 66 6c 61 72 65 2e 63 6f 6d 00 0a 00 04 00 02 00 1d 00 0d 00 14 00 12 04 03 08 04 04 01 05 03 08 05 05 01 08 06 06 01 02 01 00 33 00 26 00 24 00 1d 00 20 e8 02 13 c4 1b 32 12 af af b8 69 d9 25 d2 e4 4f 4f 68 f3 a0 c2 df eb 0f f6 fc 78 a7 85 61 b5 25 00 2b 00 03 02 03 04\n"
     ]
    }
   ],
   "source": [
    "private_key, public_key = key_pair()\n",
    "\n",
    "def client_hello() -> bytes:\n",
    "    client_random = os.urandom(32)\n",
    "    def key_share(pubkey: bytes) -> bytes:      # Encode our public key to be sent over the message\n",
    "        return concatenate(\n",
    "            u16_to_byte(len(pubkey) + 4),       # +4 represents the 4 extra byte before the pubkey (2 bytes for the x25519, 2 bytes for len of pubkey)\n",
    "            u16_to_byte(0x1d),                  # 0x1d is the value for x25519 key\n",
    "            u16_to_byte(len(pubkey)),           \n",
    "            pubkey\n",
    "        )\n",
    "    \n",
    "    def DNI(domain: str) -> bytes:\n",
    "        return concatenate(\n",
    "            u16_to_byte(len(bytes(domain,'utf-8')) + 3),\n",
    "            bytes([0x00]),\n",
    "            u16_to_byte(len(bytes(domain,'utf-8'))),\n",
    "            bytes(domain, 'utf-8')\n",
    "        )\n",
    "    \n",
    "    def extensions() -> bytes: #This intializes the extensions we need in our message\n",
    "        return concatenate(\n",
    "            extension(0x00, DNI('www.cloudflare.com')),\n",
    "            extension(0x0a, bytes([0x00, 0x02, 0x00, 0x1d])), #Supported Group extensions. Currently only contains the x25519 curve\n",
    "            extension(0x0d, bytes([0x00, 0x12, 0x04, 0x03, 0x08, 0x04, 0x04, 0x01, 0x05, 0x03, 0x08, 0x05, 0x05, 0x01, 0x08, 0x06, 0x06, 0x01, 0x02, 0x01])),\n",
    "            extension(0x33, key_share(public_key)), #Key Share. Contains the public key generated from the x25519 curve\n",
    "            extension(0x2b, bytes([0x02, 0x03, 0x04])) #TLS Version. This is how we negotiate TLS 1.3\n",
    "        )\n",
    "    \n",
    "    def handshake() -> bytes: #This constitutes our actual ClientHello message\n",
    "        return concatenate(\n",
    "            bytes([0x03, 0x03]),                          # This value is for TLS 1.2. TLS 1.3 must disguise itself as TLS 1.2 to be received, after which it negotiates into TLS 1.3 through the TLS 1.3 extension\n",
    "            client_random,                             # Random Nonce for key\n",
    "            bytes([0x00]),                                # Session ID. Empty for our purposes\n",
    "            bytes([0x00, 0x02, 0x13, 0x02]),              # Cipher Suite. We have a single cipher for our cipher suite (SHA384)\n",
    "                                                          # I'm aware that there are 2 SHA384 ciphers: AES and CHACHA. I've included one here. Not sure\n",
    "                                                          # if we need the other one or not\n",
    "            bytes([0x01, 0x00]),                          # Compression Method. Empty for our purposes\n",
    "            u16_to_byte(len(extensions())),\n",
    "            extensions()\n",
    "        )\n",
    "    \n",
    "    return concatenate(                                 #Include record layers for TLS 1.3 to complete message\n",
    "        bytes([0x16, 0x03, 0x01]),\n",
    "        u16_to_byte(len(handshake()) + 4),\n",
    "        bytes([0x01,0x00]),\n",
    "        u16_to_byte(len(handshake())),\n",
    "        handshake()\n",
    "    ), client_random\n",
    "\n",
    "client_hello_msg, client_random = client_hello()\n",
    "print_bytes_as_hex(client_hello_msg)\n",
    "client_hello_no_record = client_hello_msg[5:] #This is to calculate the transcript hash\n",
    "\n",
    "\n",
    "## To check the validity of the ClientHello, copy paste the ClientHello into the openSSL_debug.py script and run it. Server should give back a response"
   ]
  },
  {
   "cell_type": "markdown",
   "metadata": {},
   "source": [
    "# 5 Sending the ClientHello:\n",
    "Since we now have the ClientHello, the next step would be to send it over to a public domain and see if the server responds. For this part, we'll be using www.cloudbase.com, as it supports TLS 1.3, and the cipher suite matches with our clientHello.\n"
   ]
  },
  {
   "cell_type": "code",
   "execution_count": 441,
   "metadata": {},
   "outputs": [
    {
     "name": "stdout",
     "output_type": "stream",
     "text": [
      "Attempting to connect to www.cloudflare.com:443\n",
      "Connected to server.\n",
      "Sent ClientHello (160 bytes)\n",
      "\n",
      "Waiting for server response...\n",
      "\n",
      "Received 2813 new bytes\n",
      "16 03 03 00 5a 02 00 00 56 03 03 0c 62 b9 7a 38 7b 5d b9 76 5a 7a 57 5d 6f 91 98 da 73 3d cf 5d a6 20 6e 19 49 16 7c 00 60 d7 15 00 13 02 00 00 2e 00 33 00 24 00 1d 00 20 a6 cc 42 5a 9b 9f 74 9e 5b 00 b6 18 62 34 5c 4f 23 33 9e 5a 57 23 80 a5 cb d5 1b da 8e af 9e 02 00 2b 00 02 03 04 14 03 03 00 01 01 17 03 03 0a 93 46 49 f9 e0 1e 1e f2 ec df 21 b7 b8 e6 b2 92 4f 79 9b cd 76 1b 73 79 03 29 e7 ca 8f c5 0a c5 27 a0 de 61 f9 a8 66 4b 10 64 a5 6e cf 26 fb e3 d7 25 38 d0 72 03 bf 85 63 26 25 0c 2b 3f f3 88 37 5e c4 75 f7 4a aa f1 29 90 14 51 10 c8 b7 e4 d6 a1 5f 6a 2e c0 52 14 65 4a 0f a1 cb 14 92 31 cd 7c e3 e2 3d b0 dc 46 5d 0a 96 8e 2b a4 16 9a 5f e7 35 01 fa 98 b5 72 2f 78 cd b0 ac ed 5a aa 8c e6 5f da 98 1a e7 7e 9a f1 e4 44 78 ff 1e f2 ca e7 6a 91 4e 0f cd 4f ed 3e f9 80 c2 f8 8c 9b 35 82 eb bc d7 61 5c 55 37 77 a9 e3 4a ae 6e c0 3a 91 4e aa 77 b2 bd 59 36 1d 41 21 09 b4 2e 6c d3 e9 81 bd c3 c5 c9 5d 6a 75 45 bd da ce f8 30 1b 79 5b 22 90 36 37 97 a3 15 71 8f 15 a8 09 db c0 eb 11 43 e8 6c bb f2 88 f5 04 38 d1 bc 46 cf ee 4e 1f aa 65 c1 7c ad 11 3f 06 f5 99 da ec 95 66 09 75 67 74 97 d2 5c 04 3c 80 0a 07 75 4e c8 eb e9 9a ff c4 ef d2 11 8b 1e 63 9f 55 e0 3f e6 26 d7 12 d7 d6 0b 3d 3c 88 85 48 8f f9 bf f4 a8 2d 01 cd 9c 2e 01 ce fe b2 1e 76 a5 52 7b 03 4f 51 57 e7 70 5e 6d 6d ac ff 44 e8 1b 87 d4 06 b5 ac 96 06 34 62 3b 34 17 a8 b4 a6 ab 41 37 00 86 c1 89 b1 68 c4 2f b6 af 31 82 5d 9c ef 7b 85 c1 61 ba 19 47 54 9b e9 32 45 64 44 e4 47 49 14 3b 2d 88 f2 5e 8f 39 28 2d cc 04 23 fa e4 bf 91 fd d3 da 9a ae 0e 44 8e 8a e0 80 ff ce 5d 91 d3 45 2d 7b 9f 87 0d 07 76 89 9a 37 02 35 90 aa df 00 0a d4 9e b4 58 75 93 92 fb 49 9f 8c 7d dd 3b 58 2b 86 9b 85 e2 42 87 ec b2 ea e8 e0 48 2f b9 32 63 45 fe 71 63 7c da df 4c 10 ae 19 1f 20 b6 67 f0 d0 26 3f b8 17 97 c9 9b 4f 7a 14 6b 8d 79 0b bd d4 4d a2 14 54 43 9d f9 39 ee 13 d1 e3 37 c8 64 9e 90 c8 ad 56 14 80 03 6e 63 0b a3 91 03 5d 8f f0 a0 47 f0 e5 f8 7d 79 7c 73 3c 40 4f 2a 9d b5 ea 34 de 8c 72 07 21 76 d0 5a e9 78 38 7e d8 0f 06 54 35 3f e7 40 e6 f8 93 c0 02 d4 10 c9 4a 81 ab 7a db 4d 41 13 a5 00 e4 07 c8 6d a0 9f 16 73 dc 9c 1b ce fb 05 cf fe 49 c0 18 ff a4 66 28 a6 d4 c0 36 e4 cb 5b a5 fc f8 75 5d 3a 4d 25 14 e0 f7 09 eb 8d 9f 0b 3f 86 9e de 34 d0 89 24 3e 5f 1a 48 74 d1 3e 32 2a 5c 89 5b a3 6d b0 4b dc dd 2d ff 48 4a 97 51 ad 15 87 cc 93 66 e9 5d e3 c8 c2 85 42 25 6e 73 f9 10 a0 1f bb 09 3f 80 f0 94 e3 c8 77 1c 69 c0 cf 33 79 7f ee 2a e5 d6 cb c7 01 fa 64 ec 19 eb 78 f3 bf 8f c9 1a 54 af 53 7b 3a d0 0f 73 e9 0c 06 cd a7 d2 f8 86 4c 8c d7 a2 19 aa e3 df 62 3a 5f b3 e0 8f e9 0d dc 19 b1 9d 2e 0d 93 5f 59 34 3e 85 17 be 8c 8d 8c 19 25 5a f1 61 00 90 6c 4d 29 08 b1 7a cc 82 70 8e df 9e f7 be d5 64 91 0f 7f 25 02 63 38 bc 3c 62 e1 7c ca 55 fd 06 fa 19 d3 d2 79 e7 e7 b0 1a d4 00 73 6a f5 d3 a7 cc 87 56 1a 0a 1a 6e 61 6a 79 38 38 97 f8 72 fa 80 a5 fb 20 29 a9 1a 28 57 d2 34 5d bd ba 3d de ce 18 c2 2d a1 7f 35 77 ac e4 a2 1f 64 fb 2f b2 6e c2 c5 67 cb be fe 44 cb db 7f ce db dd ea 94 2b cd 02 c4 7b 5f c9 a1 26 ad cd 0d 23 9b eb 68 67 80 4b cc 02 4e 2d 8f 47 75 14 8e d2 49 4c eb 55 2f cc 0e fd 75 b7 80 23 2c 43 b4 2a 76 af 05 0e 48 10 09 b1 32 73 88 9b fe 8b 6e 9f 20 31 25 b7 bf ee 31 1d f5 c0 5b 6d 3b 59 5e 5e 4d 2f d7 4f 26 ae 1e 5d 12 0b 6f ec 37 2c 91 5c 29 c3 44 a7 54 1e a4 a7 7e be 4d dd 23 ca dc 6b 1e 5f 52 c4 c6 ee ae 33 18 18 49 c0 ce 18 d3 2d 73 35 57 69 5f 72 98 b7 bb a7 73 a0 b1 c8 82 2d 96 58 6d 11 05 5a 5b 9d 20 76 ed 60 f7 27 7c 57 ce fe 3d c2 ca 7b 66 ef 3b 4e b3 b3 d5 e0 66 da e2 68 d5 60 85 47 c3 23 f8 5a e6 4e 42 ea 71 f5 99 8e d2 62 68 75 d6 07 74 66 c4 92 5a 76 ff d7 0e 04 b0 85 2e 4f a5 bc 25 50 52 4f 32 ce 83 7a dc 0c 56 b8 17 e0 7c e8 10 48 e5 ae a9 10 e5 13 4c c4 98 f2 6b 5c aa 18 36 76 d4 f9 0d e6 3f cf 81 75 d9 45 bf 62 44 16 26 e5 d3 74 7d a6 38 dc 82 7c 37 8d cc fd 36 3d f9 42 4a 45 7a 23 35 d9 0f 11 25 9a bf 89 39 3f b2 0e c7 69 9e 0b b0 c6 a9 f4 6d cf 03 29 ec d5 2a a3 85 0d ba 32 ec 52 1e d5 ee 8d c6 33 1a a7 95 e7 1c 43 c0 32 9c b5 ac b8 cf 48 01 34 92 d4 40 89 e0 6c 92 f9 b4 0f af 1c 1e c5 6d 8e a2 44 fb 23 b6 87 9b 92 dd 0e d6 5d c9 79 34 b6 c4 10 56 1d df a1 7d 57 86 3d e6 47 31 8d 65 97 8a e6 e3 7a 87 6d a3 86 4b 10 5f 5f 3a ad cb 86 3d 1a 03 1a 81 b1 9d 41 45 38 32 ae ac bb d0 df f1 ef 39 7c 6c 90 8c aa a6 d3 8d 91 88 e7 02 7a 82 5a 78 7b ec 18 a8 1a 07 9f 97 42 e0 b2 ea 3c bd 89 55 8d f6 a8 e4 be d5 5e 8d d6 44 2a e2 83 ad 90 57 cc 5a cc a9 a3 38 61 be 48 ee 84 e8 f4 2e ae 98 a7 29 45 c2 4c be 55 be 74 44 36 b0 67 47 b2 5e 08 c9 b3 61 13 75 2d c2 04 5a c1 d6 b1 69 75 14 a5 3e 91 05 bf 3c 88 02 fe 5f 2d 95 0a f7 86 6f bb b2 c8 a3 50 d4 22 40 0c 9c cf e3 44 89 74 0b 7a 94 62 c0 71 fa 4e 8f d9 74 fb 56 bd ce 05 7e 4e ee 0b 2c ff 35 a6 35 5a 7b 84 e0 d6 59 e2 c5 ef 90 8a 17 31 20 60 5d 0e b7 be 81 a8 a4 a7 37 ef 62 5c dd 18 19 67 51 6e d4 30 f3 f3 69 25 3d 49 b7 e8 cb 98 bd e9 45 80 de 6b 39 8f cf a7 a2 07 db 1d a1 7a 25 03 fb 81 bd c7 a6 d7 87 c1 81 8d 7e 97 93 5e 20 78 1e b3 1c 72 a4 f7 bc 3a 7c 2e 46 f4 92 9e 8d d6 d6 3d 0b 53 e8 eb 8f 02 50 49 16 08 f2 e1 60 1a 3d 1a b3 ac b7 e7 ef 55 96 9d 19 96 b3 ce 21 a0 03 c9 ea b0 01 59 b6 31 39 2a 55 11 2c 23 a3 10 c8 ac e0 2c 73 85 c6 ab ca f0 f4 ed 28 5f 5b 97 c4 d1 bb 3c aa 1b b9 e8 4c 97 75 e3 7f f1 7b 06 f2 17 52 65 b5 fc e8 da 0c 0e 4d d4 3e 9d be e1 37 6b 3b 77 9b cd 55 e9 71 94 79 44 e0 80 ea b0 a1 79 fd ac fd 11 aa 43 45 84 84 00 16 03 15 a0 1b ef c7 69 98 18 ad a5 92 d5 db d0 26 70 a4 a6 25 b0 d8 26 5c 89 9a c9 40 49 01 d4 58 45 1f bf 60 f8 54 01 97 33 b6 0e df af 7b 47 a5 be 08 bd 54 35 96 fd d3 74 05 4c 69 a5 ba 80 8c 5f ef 87 7b b5 52 e5 f2 78 30 ee 59 ec 51 2d 18 78 78 91 4c 41 95 a9 ba 10 89 4d ec 79 f7 23 c4 37 3a ae cc 24 e0 20 c1 6b 8d 3b 8c d7 bf c1 ce 8c 6a 0e 80 ff 7a b9 37 bc 7d c1 b0 42 cc 7a d2 e6 66 76 e0 5f f1 39 91 fd d8 d5 c2 82 22 06 9a b6 5d 55 e7 4e eb 34 58 25 5e fd e7 bb 6e 0f d2 93 a4 f4 8f 85 85 b7 ec e5 08 9e 41 53 6d 79 20 d3 dc de 8b 64 83 ad e2 df 54 ef 0d 5d ee ae 31 7e 8a 86 75 ad 66 35 5a 6c 25 61 55 14 37 63 3a 53 55 99 ed f5 70 16 10 75 e5 3d 80 f9 90 69 96 ea bf d5 08 8c 8c fc 21 06 0a ce ce 86 94 0b ec b5 6d b5 3f 8d 0b 0c 66 1c d3 dc 59 17 f5 67 09 ac 76 47 75 0b 15 f4 c7 23 5b ae 90 3c b6 8b 11 1a fc 20 3c 3c d2 42 89 d2 bf 25 4d 30 1d af f0 28 96 19 ea d8 ac ce 86 11 62 62 1f 60 2b 78 a7 03 a5 15 8d a8 e9 6a ad 00 f1 19 c7 76 d0 52 b5 5b 5f 2f ca 6c 2d 14 19 ff f4 cd 49 ce cd 56 0f 0d 31 27 8c c1 90 2f ba 08 f4 70 f6 69 51 f0 ed 21 bd 18 15 c3 d8 95 82 25 31 a4 ff d2 76 bb d4 32 6a f4 59 7e 54 40 15 f7 28 c2 cd c1 ed b1 62 8c 6c 2c f0 1c 2d c5 bd 2f 34 c2 49 87 76 0c e6 02 66 85 4f 73 92 ae e8 62 97 23 d5 c1 12 21 4f 2f e7 4e fa b6 0a 74 50 66 20 57 98 6c 2b 89 da 9e f4 2b f7 76 79 e8 06 b4 38 4d dd 82 5a f5 bc 44 2b a8 10 7b b2 09 24 09 b8 4a 57 26 4b 55 58 45 1d d8 03 0d 4e a1 31 15 9c df aa 84 dc fc 5f a2 e2 fa 00 65 b8 74 8c d5 21 0c ab 0e 50 d6 68 c7 85 9a a9 b2 7d 1c ec e8 f1 96 3c 2e 91 a8 4f ae 2b 17 ad be f7 d1 96 c1 f9 ea 1e 6d 62 86 20 73 60 62 4d 8f 9f e2 9d 74 3e 7a 43 87 84 79 c2 b8 19 66 fc c2 7b 1d ab 68 d4 34 5c 34 f2 66 4b 6a 13 2f e4 f2 00 68 cf 02 e2 d2 ab 10 84 60 72 29 04 0c 0e 71 f1 ed 0e 73 ee 1a f8 08 11 e4 95 11 9a b7 07 37 ce 93 e8 e4 73 f6 3c eb 47 ef 8e 85 a0 27 4c c1 6f 27 99 44 1e 10 05 69 46 88 67 29 2e c2 fc 40 0a 86 78 d2 de 7b 3a 77 dd b4 02 c8 dd 3a 48 2c 67 66 d7 73 cd 67 61 0e 10 35 65 e4 21 8a 1a 47 36 39 98 a4 91 1f b3 11 08 ce 98 f5 d8 25 e3 23 a9 76 26 ab 89 ac 39 46 7b 7e c6 a8 5b 9d a4 8c 10 0e a1 76 31 74 e1 a7 38 fa ee 4b 98 5f 92 1c 0f bc 76 4a 6b 8c 1e 8d 76 ac ff 0a ed d6 85 65 05 4e f1 62 92 17 e1 dd 28 6b e4 2e 3a f8 e2 ca 1f 2a 29 9c d0 c9 95 1c 2c 5a 78 90 c3 99 35 fe 82 0a c0 4e 96 1b cf e8 9b 0a 77 eb ba c0 51 80 3a 74 09 c5 fe 3b af ea ce b5 27 7b 59 0d c6 fd 4b a8 d6 b1 a6 e1 94 71 4a 62 08 2a ca 46 38 2c f6 9c 8d 25 b7 0d 2b 43 3c eb d6 5c 9a 54 ec 14 59 99 91 04 a3 84 58 70 63 bb e2 5e 1d 61 e3 94 67 87 0e a0 9c e1 ef f4 4f 0c 54 a2 62 2a e2 6d b3 e7 f1 e6 77 02 d9 94 48 0d 00 8d 34 1a d6 d4 2f 1b 8c 3d 72 a1 74 a6 8c 5c 79 b4 4f f1 09 26 21 1e 13 59 29 73 ba 45 96 98 f0 18 04 44 4b 44 41 a5 b8 cd 7f 4e 88 98 5d 24 36 95 34 6b 31 d6 d7 a0 bf 6c 39 93 b0 3f d2 6e 66 81 e9 96 e7 22 18 88 9c c5 78 18 0e df 3a 4a d4 3c 40 9a 9b 0d c2 54 a7 b2 12 64 10 92 63 3a 50 c7 08 13 de 04 67 c1 e0 91 48 e0 99 ec 07 1c d8 6a 8a 1d a6 5e 62 d8 ff b8 c9 9a dd 55 77 8c cd 95 5a f0 79 9b a4 b1 61 85 75 ed 3c 38 ea 6a 75 5e 8f 2f 85 0d 06 28 a9 71 9e 1c e7 b1 fd 6a b9 a8 75 c1 61 d3\n",
      "None\n",
      "\n",
      "==================================================\n",
      "Record Type: Handshake\n",
      "TLS Version: 1.2/1.3\n",
      "Handshake Type: Server Hello\n",
      "Message Length: 86\n",
      "\n",
      "Message Payload:\n",
      "Hex: 02 00 00 56 03 03 0c 62 b9 7a 38 7b 5d b9 76 5a 7a 57 5d 6f 91 98 da 73 3d cf 5d a6 20 6e 19 49 16 7c 00 60 d7 15 00 13 02 00 00 2e 00 33 00 24 00 1d 00 20 a6 cc 42 5a 9b 9f 74 9e 5b 00 b6 18 62 34 5c 4f 23 33 9e 5a 57 23 80 a5 cb d5 1b da 8e af 9e 02 00 2b 00 02 03 04\n",
      "\n",
      "==================================================\n",
      "Record Type: Change Cipher Spec\n",
      "TLS Version: 1.2/1.3\n",
      "\n",
      "Record Payload:\n",
      "Hex: 01\n",
      "\n",
      "==================================================\n",
      "Record Type: Application Data\n",
      "TLS Version: 1.2/1.3\n",
      "\n",
      "Record Payload:\n",
      "Hex: 17 03 03 0a 93 46 49 f9 e0 1e 1e f2 ec df 21 b7 b8 e6 b2 92 4f 79 9b cd 76 1b 73 79 03 29 e7 ca 8f c5 0a c5 27 a0 de 61 f9 a8 66 4b 10 64 a5 6e cf 26 fb e3 d7 25 38 d0 72 03 bf 85 63 26 25 0c 2b 3f f3 88 37 5e c4 75 f7 4a aa f1 29 90 14 51 10 c8 b7 e4 d6 a1 5f 6a 2e c0 52 14 65 4a 0f a1 cb 14 92 31 cd 7c e3 e2 3d b0 dc 46 5d 0a 96 8e 2b a4 16 9a 5f e7 35 01 fa 98 b5 72 2f 78 cd b0 ac ed 5a aa 8c e6 5f da 98 1a e7 7e 9a f1 e4 44 78 ff 1e f2 ca e7 6a 91 4e 0f cd 4f ed 3e f9 80 c2 f8 8c 9b 35 82 eb bc d7 61 5c 55 37 77 a9 e3 4a ae 6e c0 3a 91 4e aa 77 b2 bd 59 36 1d 41 21 09 b4 2e 6c d3 e9 81 bd c3 c5 c9 5d 6a 75 45 bd da ce f8 30 1b 79 5b 22 90 36 37 97 a3 15 71 8f 15 a8 09 db c0 eb 11 43 e8 6c bb f2 88 f5 04 38 d1 bc 46 cf ee 4e 1f aa 65 c1 7c ad 11 3f 06 f5 99 da ec 95 66 09 75 67 74 97 d2 5c 04 3c 80 0a 07 75 4e c8 eb e9 9a ff c4 ef d2 11 8b 1e 63 9f 55 e0 3f e6 26 d7 12 d7 d6 0b 3d 3c 88 85 48 8f f9 bf f4 a8 2d 01 cd 9c 2e 01 ce fe b2 1e 76 a5 52 7b 03 4f 51 57 e7 70 5e 6d 6d ac ff 44 e8 1b 87 d4 06 b5 ac 96 06 34 62 3b 34 17 a8 b4 a6 ab 41 37 00 86 c1 89 b1 68 c4 2f b6 af 31 82 5d 9c ef 7b 85 c1 61 ba 19 47 54 9b e9 32 45 64 44 e4 47 49 14 3b 2d 88 f2 5e 8f 39 28 2d cc 04 23 fa e4 bf 91 fd d3 da 9a ae 0e 44 8e 8a e0 80 ff ce 5d 91 d3 45 2d 7b 9f 87 0d 07 76 89 9a 37 02 35 90 aa df 00 0a d4 9e b4 58 75 93 92 fb 49 9f 8c 7d dd 3b 58 2b 86 9b 85 e2 42 87 ec b2 ea e8 e0 48 2f b9 32 63 45 fe 71 63 7c da df 4c 10 ae 19 1f 20 b6 67 f0 d0 26 3f b8 17 97 c9 9b 4f 7a 14 6b 8d 79 0b bd d4 4d a2 14 54 43 9d f9 39 ee 13 d1 e3 37 c8 64 9e 90 c8 ad 56 14 80 03 6e 63 0b a3 91 03 5d 8f f0 a0 47 f0 e5 f8 7d 79 7c 73 3c 40 4f 2a 9d b5 ea 34 de 8c 72 07 21 76 d0 5a e9 78 38 7e d8 0f 06 54 35 3f e7 40 e6 f8 93 c0 02 d4 10 c9 4a 81 ab 7a db 4d 41 13 a5 00 e4 07 c8 6d a0 9f 16 73 dc 9c 1b ce fb 05 cf fe 49 c0 18 ff a4 66 28 a6 d4 c0 36 e4 cb 5b a5 fc f8 75 5d 3a 4d 25 14 e0 f7 09 eb 8d 9f 0b 3f 86 9e de 34 d0 89 24 3e 5f 1a 48 74 d1 3e 32 2a 5c 89 5b a3 6d b0 4b dc dd 2d ff 48 4a 97 51 ad 15 87 cc 93 66 e9 5d e3 c8 c2 85 42 25 6e 73 f9 10 a0 1f bb 09 3f 80 f0 94 e3 c8 77 1c 69 c0 cf 33 79 7f ee 2a e5 d6 cb c7 01 fa 64 ec 19 eb 78 f3 bf 8f c9 1a 54 af 53 7b 3a d0 0f 73 e9 0c 06 cd a7 d2 f8 86 4c 8c d7 a2 19 aa e3 df 62 3a 5f b3 e0 8f e9 0d dc 19 b1 9d 2e 0d 93 5f 59 34 3e 85 17 be 8c 8d 8c 19 25 5a f1 61 00 90 6c 4d 29 08 b1 7a cc 82 70 8e df 9e f7 be d5 64 91 0f 7f 25 02 63 38 bc 3c 62 e1 7c ca 55 fd 06 fa 19 d3 d2 79 e7 e7 b0 1a d4 00 73 6a f5 d3 a7 cc 87 56 1a 0a 1a 6e 61 6a 79 38 38 97 f8 72 fa 80 a5 fb 20 29 a9 1a 28 57 d2 34 5d bd ba 3d de ce 18 c2 2d a1 7f 35 77 ac e4 a2 1f 64 fb 2f b2 6e c2 c5 67 cb be fe 44 cb db 7f ce db dd ea 94 2b cd 02 c4 7b 5f c9 a1 26 ad cd 0d 23 9b eb 68 67 80 4b cc 02 4e 2d 8f 47 75 14 8e d2 49 4c eb 55 2f cc 0e fd 75 b7 80 23 2c 43 b4 2a 76 af 05 0e 48 10 09 b1 32 73 88 9b fe 8b 6e 9f 20 31 25 b7 bf ee 31 1d f5 c0 5b 6d 3b 59 5e 5e 4d 2f d7 4f 26 ae 1e 5d 12 0b 6f ec 37 2c 91 5c 29 c3 44 a7 54 1e a4 a7 7e be 4d dd 23 ca dc 6b 1e 5f 52 c4 c6 ee ae 33 18 18 49 c0 ce 18 d3 2d 73 35 57 69 5f 72 98 b7 bb a7 73 a0 b1 c8 82 2d 96 58 6d 11 05 5a 5b 9d 20 76 ed 60 f7 27 7c 57 ce fe 3d c2 ca 7b 66 ef 3b 4e b3 b3 d5 e0 66 da e2 68 d5 60 85 47 c3 23 f8 5a e6 4e 42 ea 71 f5 99 8e d2 62 68 75 d6 07 74 66 c4 92 5a 76 ff d7 0e 04 b0 85 2e 4f a5 bc 25 50 52 4f 32 ce 83 7a dc 0c 56 b8 17 e0 7c e8 10 48 e5 ae a9 10 e5 13 4c c4 98 f2 6b 5c aa 18 36 76 d4 f9 0d e6 3f cf 81 75 d9 45 bf 62 44 16 26 e5 d3 74 7d a6 38 dc 82 7c 37 8d cc fd 36 3d f9 42 4a 45 7a 23 35 d9 0f 11 25 9a bf 89 39 3f b2 0e c7 69 9e 0b b0 c6 a9 f4 6d cf 03 29 ec d5 2a a3 85 0d ba 32 ec 52 1e d5 ee 8d c6 33 1a a7 95 e7 1c 43 c0 32 9c b5 ac b8 cf 48 01 34 92 d4 40 89 e0 6c 92 f9 b4 0f af 1c 1e c5 6d 8e a2 44 fb 23 b6 87 9b 92 dd 0e d6 5d c9 79 34 b6 c4 10 56 1d df a1 7d 57 86 3d e6 47 31 8d 65 97 8a e6 e3 7a 87 6d a3 86 4b 10 5f 5f 3a ad cb 86 3d 1a 03 1a 81 b1 9d 41 45 38 32 ae ac bb d0 df f1 ef 39 7c 6c 90 8c aa a6 d3 8d 91 88 e7 02 7a 82 5a 78 7b ec 18 a8 1a 07 9f 97 42 e0 b2 ea 3c bd 89 55 8d f6 a8 e4 be d5 5e 8d d6 44 2a e2 83 ad 90 57 cc 5a cc a9 a3 38 61 be 48 ee 84 e8 f4 2e ae 98 a7 29 45 c2 4c be 55 be 74 44 36 b0 67 47 b2 5e 08 c9 b3 61 13 75 2d c2 04 5a c1 d6 b1 69 75 14 a5 3e 91 05 bf 3c 88 02 fe 5f 2d 95 0a f7 86 6f bb b2 c8 a3 50 d4 22 40 0c 9c cf e3 44 89 74 0b 7a 94 62 c0 71 fa 4e 8f d9 74 fb 56 bd ce 05 7e 4e ee 0b 2c ff 35 a6 35 5a 7b 84 e0 d6 59 e2 c5 ef 90 8a 17 31 20 60 5d 0e b7 be 81 a8 a4 a7 37 ef 62 5c dd 18 19 67 51 6e d4 30 f3 f3 69 25 3d 49 b7 e8 cb 98 bd e9 45 80 de 6b 39 8f cf a7 a2 07 db 1d a1 7a 25 03 fb 81 bd c7 a6 d7 87 c1 81 8d 7e 97 93 5e 20 78 1e b3 1c 72 a4 f7 bc 3a 7c 2e 46 f4 92 9e 8d d6 d6 3d 0b 53 e8 eb 8f 02 50 49 16 08 f2 e1 60 1a 3d 1a b3 ac b7 e7 ef 55 96 9d 19 96 b3 ce 21 a0 03 c9 ea b0 01 59 b6 31 39 2a 55 11 2c 23 a3 10 c8 ac e0 2c 73 85 c6 ab ca f0 f4 ed 28 5f 5b 97 c4 d1 bb 3c aa 1b b9 e8 4c 97 75 e3 7f f1 7b 06 f2 17 52 65 b5 fc e8 da 0c 0e 4d d4 3e 9d be e1 37 6b 3b 77 9b cd 55 e9 71 94 79 44 e0 80 ea b0 a1 79 fd ac fd 11 aa 43 45 84 84 00 16 03 15 a0 1b ef c7 69 98 18 ad a5 92 d5 db d0 26 70 a4 a6 25 b0 d8 26 5c 89 9a c9 40 49 01 d4 58 45 1f bf 60 f8 54 01 97 33 b6 0e df af 7b 47 a5 be 08 bd 54 35 96 fd d3 74 05 4c 69 a5 ba 80 8c 5f ef 87 7b b5 52 e5 f2 78 30 ee 59 ec 51 2d 18 78 78 91 4c 41 95 a9 ba 10 89 4d ec 79 f7 23 c4 37 3a ae cc 24 e0 20 c1 6b 8d 3b 8c d7 bf c1 ce 8c 6a 0e 80 ff 7a b9 37 bc 7d c1 b0 42 cc 7a d2 e6 66 76 e0 5f f1 39 91 fd d8 d5 c2 82 22 06 9a b6 5d 55 e7 4e eb 34 58 25 5e fd e7 bb 6e 0f d2 93 a4 f4 8f 85 85 b7 ec e5 08 9e 41 53 6d 79 20 d3 dc de 8b 64 83 ad e2 df 54 ef 0d 5d ee ae 31 7e 8a 86 75 ad 66 35 5a 6c 25 61 55 14 37 63 3a 53 55 99 ed f5 70 16 10 75 e5 3d 80 f9 90 69 96 ea bf d5 08 8c 8c fc 21 06 0a ce ce 86 94 0b ec b5 6d b5 3f 8d 0b 0c 66 1c d3 dc 59 17 f5 67 09 ac 76 47 75 0b 15 f4 c7 23 5b ae 90 3c b6 8b 11 1a fc 20 3c 3c d2 42 89 d2 bf 25 4d 30 1d af f0 28 96 19 ea d8 ac ce 86 11 62 62 1f 60 2b 78 a7 03 a5 15 8d a8 e9 6a ad 00 f1 19 c7 76 d0 52 b5 5b 5f 2f ca 6c 2d 14 19 ff f4 cd 49 ce cd 56 0f 0d 31 27 8c c1 90 2f ba 08 f4 70 f6 69 51 f0 ed 21 bd 18 15 c3 d8 95 82 25 31 a4 ff d2 76 bb d4 32 6a f4 59 7e 54 40 15 f7 28 c2 cd c1 ed b1 62 8c 6c 2c f0 1c 2d c5 bd 2f 34 c2 49 87 76 0c e6 02 66 85 4f 73 92 ae e8 62 97 23 d5 c1 12 21 4f 2f e7 4e fa b6 0a 74 50 66 20 57 98 6c 2b 89 da 9e f4 2b f7 76 79 e8 06 b4 38 4d dd 82 5a f5 bc 44 2b a8 10 7b b2 09 24 09 b8 4a 57 26 4b 55 58 45 1d d8 03 0d 4e a1 31 15 9c df aa 84 dc fc 5f a2 e2 fa 00 65 b8 74 8c d5 21 0c ab 0e 50 d6 68 c7 85 9a a9 b2 7d 1c ec e8 f1 96 3c 2e 91 a8 4f ae 2b 17 ad be f7 d1 96 c1 f9 ea 1e 6d 62 86 20 73 60 62 4d 8f 9f e2 9d 74 3e 7a 43 87 84 79 c2 b8 19 66 fc c2 7b 1d ab 68 d4 34 5c 34 f2 66 4b 6a 13 2f e4 f2 00 68 cf 02 e2 d2 ab 10 84 60 72 29 04 0c 0e 71 f1 ed 0e 73 ee 1a f8 08 11 e4 95 11 9a b7 07 37 ce 93 e8 e4 73 f6 3c eb 47 ef 8e 85 a0 27 4c c1 6f 27 99 44 1e 10 05 69 46 88 67 29 2e c2 fc 40 0a 86 78 d2 de 7b 3a 77 dd b4 02 c8 dd 3a 48 2c 67 66 d7 73 cd 67 61 0e 10 35 65 e4 21 8a 1a 47 36 39 98 a4 91 1f b3 11 08 ce 98 f5 d8 25 e3 23 a9 76 26 ab 89 ac 39 46 7b 7e c6 a8 5b 9d a4 8c 10 0e a1 76 31 74 e1 a7 38 fa ee 4b 98 5f 92 1c 0f bc 76 4a 6b 8c 1e 8d 76 ac ff 0a ed d6 85 65 05 4e f1 62 92 17 e1 dd 28 6b e4 2e 3a f8 e2 ca 1f 2a 29 9c d0 c9 95 1c 2c 5a 78 90 c3 99 35 fe 82 0a c0 4e 96 1b cf e8 9b 0a 77 eb ba c0 51 80 3a 74 09 c5 fe 3b af ea ce b5 27 7b 59 0d c6 fd 4b a8 d6 b1 a6 e1 94 71 4a 62 08 2a ca 46 38 2c f6 9c 8d 25 b7 0d 2b 43 3c eb d6 5c 9a 54 ec 14 59 99 91 04 a3 84 58 70 63 bb e2 5e 1d 61 e3 94 67 87 0e a0 9c e1 ef f4 4f 0c 54 a2 62 2a e2 6d b3 e7 f1 e6 77 02 d9 94 48 0d 00 8d 34 1a d6 d4 2f 1b 8c 3d 72 a1 74 a6 8c 5c 79 b4 4f f1 09 26 21 1e 13 59 29 73 ba 45 96 98 f0 18 04 44 4b 44 41 a5 b8 cd 7f 4e 88 98 5d 24 36 95 34 6b 31 d6 d7 a0 bf 6c 39 93 b0 3f d2 6e 66 81 e9 96 e7 22 18 88 9c c5 78 18 0e df 3a 4a d4 3c 40 9a 9b 0d c2 54 a7 b2 12 64 10 92 63 3a 50 c7 08 13 de 04 67 c1 e0 91 48 e0 99 ec 07 1c d8 6a 8a 1d a6 5e 62 d8 ff b8 c9 9a dd 55 77 8c cd 95 5a f0 79 9b a4 b1 61 85 75 ed 3c 38 ea 6a 75 5e 8f 2f 85 0d 06 28 a9 71 9e 1c e7 b1 fd 6a b9 a8 75 c1 61 d3\n",
      "\n",
      "Extracted Data:\n",
      "\n",
      "Server Hello (without record header):\n",
      "02 00 00 56 03 03 0c 62 b9 7a 38 7b 5d b9 76 5a 7a 57 5d 6f 91 98 da 73 3d cf 5d a6 20 6e 19 49 16 7c 00 60 d7 15 00 13 02 00 00 2e 00 33 00 24 00 1d 00 20 a6 cc 42 5a 9b 9f 74 9e 5b 00 b6 18 62 34 5c 4f 23 33 9e 5a 57 23 80 a5 cb d5 1b da 8e af 9e 02 00 2b 00 02 03 04\n",
      "None\n",
      "\n",
      "Encrypted Payload (with record header):\n",
      "17 03 03 0a 93 46 49 f9 e0 1e 1e f2 ec df 21 b7 b8 e6 b2 92 4f 79 9b cd 76 1b 73 79 03 29 e7 ca 8f c5 0a c5 27 a0 de 61 f9 a8 66 4b 10 64 a5 6e cf 26 fb e3 d7 25 38 d0 72 03 bf 85 63 26 25 0c 2b 3f f3 88 37 5e c4 75 f7 4a aa f1 29 90 14 51 10 c8 b7 e4 d6 a1 5f 6a 2e c0 52 14 65 4a 0f a1 cb 14 92 31 cd 7c e3 e2 3d b0 dc 46 5d 0a 96 8e 2b a4 16 9a 5f e7 35 01 fa 98 b5 72 2f 78 cd b0 ac ed 5a aa 8c e6 5f da 98 1a e7 7e 9a f1 e4 44 78 ff 1e f2 ca e7 6a 91 4e 0f cd 4f ed 3e f9 80 c2 f8 8c 9b 35 82 eb bc d7 61 5c 55 37 77 a9 e3 4a ae 6e c0 3a 91 4e aa 77 b2 bd 59 36 1d 41 21 09 b4 2e 6c d3 e9 81 bd c3 c5 c9 5d 6a 75 45 bd da ce f8 30 1b 79 5b 22 90 36 37 97 a3 15 71 8f 15 a8 09 db c0 eb 11 43 e8 6c bb f2 88 f5 04 38 d1 bc 46 cf ee 4e 1f aa 65 c1 7c ad 11 3f 06 f5 99 da ec 95 66 09 75 67 74 97 d2 5c 04 3c 80 0a 07 75 4e c8 eb e9 9a ff c4 ef d2 11 8b 1e 63 9f 55 e0 3f e6 26 d7 12 d7 d6 0b 3d 3c 88 85 48 8f f9 bf f4 a8 2d 01 cd 9c 2e 01 ce fe b2 1e 76 a5 52 7b 03 4f 51 57 e7 70 5e 6d 6d ac ff 44 e8 1b 87 d4 06 b5 ac 96 06 34 62 3b 34 17 a8 b4 a6 ab 41 37 00 86 c1 89 b1 68 c4 2f b6 af 31 82 5d 9c ef 7b 85 c1 61 ba 19 47 54 9b e9 32 45 64 44 e4 47 49 14 3b 2d 88 f2 5e 8f 39 28 2d cc 04 23 fa e4 bf 91 fd d3 da 9a ae 0e 44 8e 8a e0 80 ff ce 5d 91 d3 45 2d 7b 9f 87 0d 07 76 89 9a 37 02 35 90 aa df 00 0a d4 9e b4 58 75 93 92 fb 49 9f 8c 7d dd 3b 58 2b 86 9b 85 e2 42 87 ec b2 ea e8 e0 48 2f b9 32 63 45 fe 71 63 7c da df 4c 10 ae 19 1f 20 b6 67 f0 d0 26 3f b8 17 97 c9 9b 4f 7a 14 6b 8d 79 0b bd d4 4d a2 14 54 43 9d f9 39 ee 13 d1 e3 37 c8 64 9e 90 c8 ad 56 14 80 03 6e 63 0b a3 91 03 5d 8f f0 a0 47 f0 e5 f8 7d 79 7c 73 3c 40 4f 2a 9d b5 ea 34 de 8c 72 07 21 76 d0 5a e9 78 38 7e d8 0f 06 54 35 3f e7 40 e6 f8 93 c0 02 d4 10 c9 4a 81 ab 7a db 4d 41 13 a5 00 e4 07 c8 6d a0 9f 16 73 dc 9c 1b ce fb 05 cf fe 49 c0 18 ff a4 66 28 a6 d4 c0 36 e4 cb 5b a5 fc f8 75 5d 3a 4d 25 14 e0 f7 09 eb 8d 9f 0b 3f 86 9e de 34 d0 89 24 3e 5f 1a 48 74 d1 3e 32 2a 5c 89 5b a3 6d b0 4b dc dd 2d ff 48 4a 97 51 ad 15 87 cc 93 66 e9 5d e3 c8 c2 85 42 25 6e 73 f9 10 a0 1f bb 09 3f 80 f0 94 e3 c8 77 1c 69 c0 cf 33 79 7f ee 2a e5 d6 cb c7 01 fa 64 ec 19 eb 78 f3 bf 8f c9 1a 54 af 53 7b 3a d0 0f 73 e9 0c 06 cd a7 d2 f8 86 4c 8c d7 a2 19 aa e3 df 62 3a 5f b3 e0 8f e9 0d dc 19 b1 9d 2e 0d 93 5f 59 34 3e 85 17 be 8c 8d 8c 19 25 5a f1 61 00 90 6c 4d 29 08 b1 7a cc 82 70 8e df 9e f7 be d5 64 91 0f 7f 25 02 63 38 bc 3c 62 e1 7c ca 55 fd 06 fa 19 d3 d2 79 e7 e7 b0 1a d4 00 73 6a f5 d3 a7 cc 87 56 1a 0a 1a 6e 61 6a 79 38 38 97 f8 72 fa 80 a5 fb 20 29 a9 1a 28 57 d2 34 5d bd ba 3d de ce 18 c2 2d a1 7f 35 77 ac e4 a2 1f 64 fb 2f b2 6e c2 c5 67 cb be fe 44 cb db 7f ce db dd ea 94 2b cd 02 c4 7b 5f c9 a1 26 ad cd 0d 23 9b eb 68 67 80 4b cc 02 4e 2d 8f 47 75 14 8e d2 49 4c eb 55 2f cc 0e fd 75 b7 80 23 2c 43 b4 2a 76 af 05 0e 48 10 09 b1 32 73 88 9b fe 8b 6e 9f 20 31 25 b7 bf ee 31 1d f5 c0 5b 6d 3b 59 5e 5e 4d 2f d7 4f 26 ae 1e 5d 12 0b 6f ec 37 2c 91 5c 29 c3 44 a7 54 1e a4 a7 7e be 4d dd 23 ca dc 6b 1e 5f 52 c4 c6 ee ae 33 18 18 49 c0 ce 18 d3 2d 73 35 57 69 5f 72 98 b7 bb a7 73 a0 b1 c8 82 2d 96 58 6d 11 05 5a 5b 9d 20 76 ed 60 f7 27 7c 57 ce fe 3d c2 ca 7b 66 ef 3b 4e b3 b3 d5 e0 66 da e2 68 d5 60 85 47 c3 23 f8 5a e6 4e 42 ea 71 f5 99 8e d2 62 68 75 d6 07 74 66 c4 92 5a 76 ff d7 0e 04 b0 85 2e 4f a5 bc 25 50 52 4f 32 ce 83 7a dc 0c 56 b8 17 e0 7c e8 10 48 e5 ae a9 10 e5 13 4c c4 98 f2 6b 5c aa 18 36 76 d4 f9 0d e6 3f cf 81 75 d9 45 bf 62 44 16 26 e5 d3 74 7d a6 38 dc 82 7c 37 8d cc fd 36 3d f9 42 4a 45 7a 23 35 d9 0f 11 25 9a bf 89 39 3f b2 0e c7 69 9e 0b b0 c6 a9 f4 6d cf 03 29 ec d5 2a a3 85 0d ba 32 ec 52 1e d5 ee 8d c6 33 1a a7 95 e7 1c 43 c0 32 9c b5 ac b8 cf 48 01 34 92 d4 40 89 e0 6c 92 f9 b4 0f af 1c 1e c5 6d 8e a2 44 fb 23 b6 87 9b 92 dd 0e d6 5d c9 79 34 b6 c4 10 56 1d df a1 7d 57 86 3d e6 47 31 8d 65 97 8a e6 e3 7a 87 6d a3 86 4b 10 5f 5f 3a ad cb 86 3d 1a 03 1a 81 b1 9d 41 45 38 32 ae ac bb d0 df f1 ef 39 7c 6c 90 8c aa a6 d3 8d 91 88 e7 02 7a 82 5a 78 7b ec 18 a8 1a 07 9f 97 42 e0 b2 ea 3c bd 89 55 8d f6 a8 e4 be d5 5e 8d d6 44 2a e2 83 ad 90 57 cc 5a cc a9 a3 38 61 be 48 ee 84 e8 f4 2e ae 98 a7 29 45 c2 4c be 55 be 74 44 36 b0 67 47 b2 5e 08 c9 b3 61 13 75 2d c2 04 5a c1 d6 b1 69 75 14 a5 3e 91 05 bf 3c 88 02 fe 5f 2d 95 0a f7 86 6f bb b2 c8 a3 50 d4 22 40 0c 9c cf e3 44 89 74 0b 7a 94 62 c0 71 fa 4e 8f d9 74 fb 56 bd ce 05 7e 4e ee 0b 2c ff 35 a6 35 5a 7b 84 e0 d6 59 e2 c5 ef 90 8a 17 31 20 60 5d 0e b7 be 81 a8 a4 a7 37 ef 62 5c dd 18 19 67 51 6e d4 30 f3 f3 69 25 3d 49 b7 e8 cb 98 bd e9 45 80 de 6b 39 8f cf a7 a2 07 db 1d a1 7a 25 03 fb 81 bd c7 a6 d7 87 c1 81 8d 7e 97 93 5e 20 78 1e b3 1c 72 a4 f7 bc 3a 7c 2e 46 f4 92 9e 8d d6 d6 3d 0b 53 e8 eb 8f 02 50 49 16 08 f2 e1 60 1a 3d 1a b3 ac b7 e7 ef 55 96 9d 19 96 b3 ce 21 a0 03 c9 ea b0 01 59 b6 31 39 2a 55 11 2c 23 a3 10 c8 ac e0 2c 73 85 c6 ab ca f0 f4 ed 28 5f 5b 97 c4 d1 bb 3c aa 1b b9 e8 4c 97 75 e3 7f f1 7b 06 f2 17 52 65 b5 fc e8 da 0c 0e 4d d4 3e 9d be e1 37 6b 3b 77 9b cd 55 e9 71 94 79 44 e0 80 ea b0 a1 79 fd ac fd 11 aa 43 45 84 84 00 16 03 15 a0 1b ef c7 69 98 18 ad a5 92 d5 db d0 26 70 a4 a6 25 b0 d8 26 5c 89 9a c9 40 49 01 d4 58 45 1f bf 60 f8 54 01 97 33 b6 0e df af 7b 47 a5 be 08 bd 54 35 96 fd d3 74 05 4c 69 a5 ba 80 8c 5f ef 87 7b b5 52 e5 f2 78 30 ee 59 ec 51 2d 18 78 78 91 4c 41 95 a9 ba 10 89 4d ec 79 f7 23 c4 37 3a ae cc 24 e0 20 c1 6b 8d 3b 8c d7 bf c1 ce 8c 6a 0e 80 ff 7a b9 37 bc 7d c1 b0 42 cc 7a d2 e6 66 76 e0 5f f1 39 91 fd d8 d5 c2 82 22 06 9a b6 5d 55 e7 4e eb 34 58 25 5e fd e7 bb 6e 0f d2 93 a4 f4 8f 85 85 b7 ec e5 08 9e 41 53 6d 79 20 d3 dc de 8b 64 83 ad e2 df 54 ef 0d 5d ee ae 31 7e 8a 86 75 ad 66 35 5a 6c 25 61 55 14 37 63 3a 53 55 99 ed f5 70 16 10 75 e5 3d 80 f9 90 69 96 ea bf d5 08 8c 8c fc 21 06 0a ce ce 86 94 0b ec b5 6d b5 3f 8d 0b 0c 66 1c d3 dc 59 17 f5 67 09 ac 76 47 75 0b 15 f4 c7 23 5b ae 90 3c b6 8b 11 1a fc 20 3c 3c d2 42 89 d2 bf 25 4d 30 1d af f0 28 96 19 ea d8 ac ce 86 11 62 62 1f 60 2b 78 a7 03 a5 15 8d a8 e9 6a ad 00 f1 19 c7 76 d0 52 b5 5b 5f 2f ca 6c 2d 14 19 ff f4 cd 49 ce cd 56 0f 0d 31 27 8c c1 90 2f ba 08 f4 70 f6 69 51 f0 ed 21 bd 18 15 c3 d8 95 82 25 31 a4 ff d2 76 bb d4 32 6a f4 59 7e 54 40 15 f7 28 c2 cd c1 ed b1 62 8c 6c 2c f0 1c 2d c5 bd 2f 34 c2 49 87 76 0c e6 02 66 85 4f 73 92 ae e8 62 97 23 d5 c1 12 21 4f 2f e7 4e fa b6 0a 74 50 66 20 57 98 6c 2b 89 da 9e f4 2b f7 76 79 e8 06 b4 38 4d dd 82 5a f5 bc 44 2b a8 10 7b b2 09 24 09 b8 4a 57 26 4b 55 58 45 1d d8 03 0d 4e a1 31 15 9c df aa 84 dc fc 5f a2 e2 fa 00 65 b8 74 8c d5 21 0c ab 0e 50 d6 68 c7 85 9a a9 b2 7d 1c ec e8 f1 96 3c 2e 91 a8 4f ae 2b 17 ad be f7 d1 96 c1 f9 ea 1e 6d 62 86 20 73 60 62 4d 8f 9f e2 9d 74 3e 7a 43 87 84 79 c2 b8 19 66 fc c2 7b 1d ab 68 d4 34 5c 34 f2 66 4b 6a 13 2f e4 f2 00 68 cf 02 e2 d2 ab 10 84 60 72 29 04 0c 0e 71 f1 ed 0e 73 ee 1a f8 08 11 e4 95 11 9a b7 07 37 ce 93 e8 e4 73 f6 3c eb 47 ef 8e 85 a0 27 4c c1 6f 27 99 44 1e 10 05 69 46 88 67 29 2e c2 fc 40 0a 86 78 d2 de 7b 3a 77 dd b4 02 c8 dd 3a 48 2c 67 66 d7 73 cd 67 61 0e 10 35 65 e4 21 8a 1a 47 36 39 98 a4 91 1f b3 11 08 ce 98 f5 d8 25 e3 23 a9 76 26 ab 89 ac 39 46 7b 7e c6 a8 5b 9d a4 8c 10 0e a1 76 31 74 e1 a7 38 fa ee 4b 98 5f 92 1c 0f bc 76 4a 6b 8c 1e 8d 76 ac ff 0a ed d6 85 65 05 4e f1 62 92 17 e1 dd 28 6b e4 2e 3a f8 e2 ca 1f 2a 29 9c d0 c9 95 1c 2c 5a 78 90 c3 99 35 fe 82 0a c0 4e 96 1b cf e8 9b 0a 77 eb ba c0 51 80 3a 74 09 c5 fe 3b af ea ce b5 27 7b 59 0d c6 fd 4b a8 d6 b1 a6 e1 94 71 4a 62 08 2a ca 46 38 2c f6 9c 8d 25 b7 0d 2b 43 3c eb d6 5c 9a 54 ec 14 59 99 91 04 a3 84 58 70 63 bb e2 5e 1d 61 e3 94 67 87 0e a0 9c e1 ef f4 4f 0c 54 a2 62 2a e2 6d b3 e7 f1 e6 77 02 d9 94 48 0d 00 8d 34 1a d6 d4 2f 1b 8c 3d 72 a1 74 a6 8c 5c 79 b4 4f f1 09 26 21 1e 13 59 29 73 ba 45 96 98 f0 18 04 44 4b 44 41 a5 b8 cd 7f 4e 88 98 5d 24 36 95 34 6b 31 d6 d7 a0 bf 6c 39 93 b0 3f d2 6e 66 81 e9 96 e7 22 18 88 9c c5 78 18 0e df 3a 4a d4 3c 40 9a 9b 0d c2 54 a7 b2 12 64 10 92 63 3a 50 c7 08 13 de 04 67 c1 e0 91 48 e0 99 ec 07 1c d8 6a 8a 1d a6 5e 62 d8 ff b8 c9 9a dd 55 77 8c cd 95 5a f0 79 9b a4 b1 61 85 75 ed 3c 38 ea 6a 75 5e 8f 2f 85 0d 06 28 a9 71 9e 1c e7 b1 fd 6a b9 a8 75 c1 61 d3\n",
      "None\n"
     ]
    }
   ],
   "source": [
    "server_hello_no_record = b\"\"\n",
    "encrypted_payload = b\"\"\n",
    "\n",
    "def parse_tls_record(data):\n",
    "    #Parse a TLS record and return its components\n",
    "    if len(data) < 5:  # Minimum TLS record length\n",
    "        return None, None, None, data\n",
    "    \n",
    "    content_type = data[0] #Parse the record header to see which type of record this is.\n",
    "    if (data[1] == 3) and (data[2] == 3):\n",
    "        version = \"1.2/1.3\"\n",
    "    length = int.from_bytes(data[3:5], byteorder='big')\n",
    "    \n",
    "    if len(data) < length + 5:\n",
    "        return None, None, None, data\n",
    "        \n",
    "    if content_type == 0x17:\n",
    "        payload = data[:5+length]  # Include the header for application data. We need the header for the decryption algorithm\n",
    "        remaining_data = data[5+length:]\n",
    "    else:\n",
    "        payload = data[5:5+length]  # Original behavior for other types\n",
    "        remaining_data = data[5+length:]\n",
    "    \n",
    "    content_type_names = { #Dictionary indicating the types of TLS records we may receive\n",
    "        0x14: \"Change Cipher Spec\",\n",
    "        0x15: \"Alert\",\n",
    "        0x16: \"Handshake\",\n",
    "        0x17: \"Application Data\"\n",
    "    }\n",
    "    \n",
    "    type_name = content_type_names.get(content_type, f\"Unknown ({content_type})\")\n",
    "    \n",
    "    return type_name, version, payload, remaining_data\n",
    "\n",
    "def parse_handshake_message(data): #This is exclusive for Handshake messages. We'll primarily use this to identify serverHellos.\n",
    "    \"\"\"Parse a TLS handshake message.\"\"\"\n",
    "    if len(data) < 4:\n",
    "        return None, None, None\n",
    "        \n",
    "    msg_type = data[0]\n",
    "    length = int.from_bytes(data[1:4], byteorder='big')\n",
    "    \n",
    "    handshake_types = {\n",
    "        0x00: \"Hello Request\",\n",
    "        0x01: \"Client Hello\",\n",
    "        0x02: \"Server Hello\",\n",
    "        0x0b: \"Certificate\",\n",
    "        0x0c: \"Server Key Exchange\",\n",
    "        0x0d: \"Certificate Request\",\n",
    "        0x0e: \"Server Hello Done\",\n",
    "        0x0f: \"Certificate Verify\",\n",
    "        0x10: \"Client Key Exchange\",\n",
    "        0x14: \"Finished\",\n",
    "        0x08: \"Encrypted Extensions\",  # Added TLS 1.3 message types\n",
    "        0x13: \"Certificate Status\"\n",
    "    }\n",
    "    \n",
    "    type_name = handshake_types.get(msg_type, f\"Unknown ({msg_type})\")\n",
    "    if len(data) >= 4+length:\n",
    "        payload = data[:4+length]\n",
    "    \n",
    "    return type_name, length, payload\n",
    "\n",
    "def format_bytes(data):\n",
    "    \"\"\"Format bytes as a hexadecimal string with ASCII representation.\"\"\"\n",
    "    hex_dump = ' '.join(f'{b:02x}' for b in data)\n",
    "    return f\"Hex: {hex_dump}\"\n",
    "\n",
    "def receive_all_data(sock, timeout=5):\n",
    "    \"\"\"Receive all data from the socket until timeout or connection close.\"\"\"\n",
    "    buffer = b\"\"\n",
    "    sock.settimeout(timeout)\n",
    "    start_time = time.time()\n",
    "    \n",
    "    while True:\n",
    "        try:\n",
    "            chunk = sock.recv(16384)\n",
    "            if not chunk:  # Connection closed by server\n",
    "                break\n",
    "            buffer += chunk\n",
    "            \n",
    "            # Check timeout\n",
    "            if time.time() - start_time > timeout:\n",
    "                break\n",
    "                \n",
    "        except socket.timeout:\n",
    "            break\n",
    "            \n",
    "    return buffer\n",
    "# Parse the URL to get the hostname\n",
    "parsed_url = urlparse('https://www.cloudflare.com/')\n",
    "host = parsed_url.hostname\n",
    "port = 443\n",
    "\n",
    "# Your existing client_hello\n",
    "try:\n",
    "    with socket.socket(socket.AF_INET, socket.SOCK_STREAM) as s:\n",
    "        s.settimeout(5)\n",
    "        print(f\"Attempting to connect to {host}:{port}\")\n",
    "        s.connect((host, port))\n",
    "        print(\"Connected to server.\")\n",
    "        \n",
    "        bytes_sent = s.sendall(client_hello_msg)\n",
    "        print(f\"Sent ClientHello ({len(client_hello_msg)} bytes)\")\n",
    "        \n",
    "        print(\"\\nWaiting for server response...\")\n",
    "        try:\n",
    "            buffer = receive_all_data(s)\n",
    "            print(f\"\\nReceived {len(buffer)} new bytes\")\n",
    "            print(print_bytes_as_hex(buffer))\n",
    "\n",
    "\n",
    "            \n",
    "            # Process all complete TLS records in the buffer\n",
    "            while buffer:\n",
    "                record_type, version, payload, remaining = parse_tls_record(buffer)\n",
    "                if record_type is None:  # Incomplete record\n",
    "                    break\n",
    "                    \n",
    "                buffer = remaining\n",
    "                print(\"\\n\" + \"=\"*50)\n",
    "                print(f\"Record Type: {record_type}\")\n",
    "                print(f\"TLS Version: {version}\")\n",
    "                \n",
    "                if record_type == \"Handshake\":\n",
    "                    msg_type, msg_length, msg_payload = parse_handshake_message(payload)\n",
    "                    if msg_type:\n",
    "                        print(f\"Handshake Type: {msg_type}\")\n",
    "                        print(f\"Message Length: {msg_length}\")\n",
    "                        if msg_payload:\n",
    "                            print(\"\\nMessage Payload:\")\n",
    "                            print(format_bytes(msg_payload))\n",
    "                            server_hello_no_record = msg_payload\n",
    "                else:\n",
    "                    print(\"\\nRecord Payload:\")\n",
    "                    if record_type == \"Application Data\":\n",
    "                        encrypted_payload = payload\n",
    "                    print(format_bytes(payload))\n",
    "                \n",
    "        except socket.timeout:\n",
    "            print(\"Timeout while waiting for server response\")\n",
    "            \n",
    "except ConnectionRefusedError:\n",
    "    print(\"Connection refused. Is the OpenSSL server running?\")\n",
    "except socket.timeout:\n",
    "    print(\"Connection attempt timed out\")\n",
    "except Exception as e:\n",
    "    print(f\"Error: {e}\")\n",
    "\n",
    "print(\"\\nExtracted Data:\")\n",
    "if server_hello_no_record:\n",
    "    print(\"\\nServer Hello (without record header):\")\n",
    "    print(print_bytes_as_hex(server_hello_no_record))\n",
    "if encrypted_payload:\n",
    "    print(\"\\nEncrypted Payload (with record header):\")\n",
    "    print(print_bytes_as_hex(encrypted_payload))"
   ]
  },
  {
   "cell_type": "markdown",
   "metadata": {},
   "source": [
    "# 5. Parsing the ServerHello\n",
    "\n",
    "Once the ClientHello is sent, the server responds with its own message. This message contains the ServerHello, the CipherChangeSpec, and the encrypted payload. Assuming that our ClientHello message is configured correctly, the server will respond with its chosen cipher suite and its own key. \n",
    "\n",
    "We are particularly interested in the server's key and server random, which we use to establish cryptographic parameters. We can then extract these properties and start the key calculation process"
   ]
  },
  {
   "cell_type": "markdown",
   "metadata": {},
   "source": [
    "# 5a. Creating a Parser class \n",
    "\n",
    "The ServerHello message isn't always of the same size. Certain elements like the sessionID, as well as the content of extensions, may have variable length depending on the message itself. That's why we can't just extract the information based on indexes alone. We need a parser that would keep track of what element we're at and how many bytes we have to skip forward\n"
   ]
  },
  {
   "cell_type": "code",
   "execution_count": 442,
   "metadata": {},
   "outputs": [],
   "source": [
    "\n",
    "class Parser:\n",
    "    def __init__(self, data: bytes) -> None:\n",
    "        self.data = data\n",
    "        self.cursor = 0\n",
    "    \n",
    "    def skip(self, position: int) -> None:\n",
    "        self.cursor += position\n",
    "\n",
    "    def read(self, position: int) -> bytes:\n",
    "        result = self.data[self.cursor : self.cursor + position]\n",
    "        self.cursor += position\n",
    "        return result \n",
    "    \n",
    "    def read_uint8_prefixed(self) -> bytes:                           #Most extensions with variable lengths have bytes that denote their length. We can use this to skip forward appropriately \n",
    "        length = self.data[self.cursor]\n",
    "        self.cursor += 1\n",
    "        result = self.data[self.cursor : self.cursor + length]\n",
    "        self.cursor += length\n",
    "        return result\n",
    "\n",
    "    def read_uint16_prefixed(self) -> bytes:\n",
    "        length = int.from_bytes(self.data[self.cursor:self.cursor + 2], 'big') #Since some lengths are represented with 2 bytes, we need to convert them \n",
    "        self.cursor += 2\n",
    "        result = self.data[self.cursor:self.cursor + length]\n",
    "        self.cursor += length\n",
    "        return result\n"
   ]
  },
  {
   "cell_type": "markdown",
   "metadata": {},
   "source": [
    "# 5b. Parsing the ServerHello\n",
    "\n",
    "With our Parser class, we can now parse the ServerHello to extract the ServerRandom and the public key. Keep in mind that we are only dealing with 1 cipher suite, 1 cryptographic and as such expects only 1 public key. A full version of TLS 1.3 will be much more complex"
   ]
  },
  {
   "cell_type": "code",
   "execution_count": 443,
   "metadata": {},
   "outputs": [
    {
     "name": "stdout",
     "output_type": "stream",
     "text": [
      "0c 62 b9 7a 38 7b 5d b9 76 5a 7a 57 5d 6f 91 98 da 73 3d cf 5d a6 20 6e 19 49 16 7c 00 60 d7 15\n",
      "a6 cc 42 5a 9b 9f 74 9e 5b 00 b6 18 62 34 5c 4f 23 33 9e 5a 57 23 80 a5 cb d5 1b da 8e af 9e 02\n"
     ]
    }
   ],
   "source": [
    "def server_hello_parser(msg: bytes):\n",
    "    parser = Parser(msg)\n",
    "    parser.skip(4)                                  #Skip HandShake Header\n",
    "    parser.skip(2)                                  #Skip Server Version\n",
    "    server_random = parser.read(32)                 #Get the serverRandom\n",
    "    parser.read_uint8_prefixed()                    #Skip SessionID\n",
    "    parser.skip(2)                                  #Skip Cipher Suite\n",
    "    parser.skip(1)                                  #Skip Compression Method\n",
    "    public_key = None\n",
    "    extensions = parser.read_uint16_prefixed()\n",
    "    extension_reader = Parser(extensions)\n",
    "    while(extension_reader.cursor < len(extensions)):\n",
    "        extension_type = extension_reader.read(2)\n",
    "        extension_data = extension_reader.read_uint16_prefixed()\n",
    "        if (extension_type == b'\\x00\\x33'):\n",
    "            data = Parser(extension_data)\n",
    "            data.skip(2)\n",
    "            public_key = data.read_uint16_prefixed()\n",
    "    return server_random, public_key\n",
    "\n",
    "\n",
    "#Pre-generated server_hello_msg, used for debugging purposes\n",
    "#server_hello_msg = b'\\x02\\x00\\x00\\x76\\x03\\x03\\x70\\x71\\x72\\x73\\x74\\x75\\x76\\x77\\x78\\x79\\x7a\\x7b\\x7c\\x7d\\x7e\\x7f\\x80\\x81\\x82\\x83\\x84\\x85\\x86\\x87\\x88\\x89\\x8a\\x8b\\x8c\\x8d\\x8e\\x8f\\x20\\xe0\\xe1\\xe2\\xe3\\xe4\\xe5\\xe6\\xe7\\xe8\\xe9\\xea\\xeb\\xec\\xed\\xee\\xef\\xf0\\xf1\\xf2\\xf3\\xf4\\xf5\\xf6\\xf7\\xf8\\xf9\\xfa\\xfb\\xfc\\xfd\\xfe\\xff\\x13\\x02\\x00\\x00\\x2e\\x00\\x2b\\x00\\x02\\x03\\x04\\x00\\x33\\x00\\x24\\x00\\x1d\\x00\\x20\\x9f\\xd7\\xad\\x6d\\xcf\\xf4\\x29\\x8d\\xd3\\xf9\\x6d\\x5b\\x1b\\x2a\\xf9\\x10\\xa0\\x53\\x5b\\x14\\x88\\xd7\\xf8\\xfa\\xbb\\x34\\x9a\\x98\\x28\\x80\\xb6\\x15'\n",
    "#Run the script with the pre-generated server hello and compare with https://tls13.xargs.org/#server-handshake-keys-calc to see if the script is working\n",
    "#Current serverHello generated from www.cloudbase.com. Right now I'm copy-pasting from the terminal when I run the debug.py script. Also parser is ignoring the record header.\n",
    "server_random, public_key = server_hello_parser(server_hello_no_record)\n",
    "print_bytes_as_hex(server_random)\n",
    "print_bytes_as_hex(public_key)\n",
    "\n",
    "\n",
    "           \n",
    "\n",
    "        \n",
    "        \n",
    "        \n"
   ]
  },
  {
   "cell_type": "markdown",
   "metadata": {},
   "source": [
    "# 6. Key Derivation\n",
    "\n",
    "Now that we have our private key and the server has sent back their public key, we can now encrypt our data to the server via key calculations. We can break down the key calculations into a few steps"
   ]
  },
  {
   "cell_type": "markdown",
   "metadata": {},
   "source": [
    "# 6a. Transcript Hash\n",
    "\n",
    "Transcript Hash refers to the hash of the ClientHello and the ServerHello messages. The idea is to associate these messages with the keys we are about to derive: These keys work with these messages. That way, even if an attacker somehow got hold of our keys, it would not work with whatever messages they try to send\n",
    "\n"
   ]
  },
  {
   "cell_type": "code",
   "execution_count": 444,
   "metadata": {},
   "outputs": [
    {
     "name": "stdout",
     "output_type": "stream",
     "text": [
      "01 00 00 97 03 03 62 ba a6 7d 49 bf df c4 eb 42 85 15 75 09 86 d3 31 cf 55 89 4b a8 d0 ed 11 58 79 94 3b 40 79 0b 00 00 02 13 02 01 00 00 6c 00 00 00 17 00 15 00 00 12 77 77 77 2e 63 6c 6f 75 64 66 6c 61 72 65 2e 63 6f 6d 00 0a 00 04 00 02 00 1d 00 0d 00 14 00 12 04 03 08 04 04 01 05 03 08 05 05 01 08 06 06 01 02 01 00 33 00 26 00 24 00 1d 00 20 e8 02 13 c4 1b 32 12 af af b8 69 d9 25 d2 e4 4f 4f 68 f3 a0 c2 df eb 0f f6 fc 78 a7 85 61 b5 25 00 2b 00 03 02 03 04\n",
      "02 00 00 56 03 03 0c 62 b9 7a 38 7b 5d b9 76 5a 7a 57 5d 6f 91 98 da 73 3d cf 5d a6 20 6e 19 49 16 7c 00 60 d7 15 00 13 02 00 00 2e 00 33 00 24 00 1d 00 20 a6 cc 42 5a 9b 9f 74 9e 5b 00 b6 18 62 34 5c 4f 23 33 9e 5a 57 23 80 a5 cb d5 1b da 8e af 9e 02 00 2b 00 02 03 04\n",
      "14 fb a4 0c dd 52 20 02 00 11 9b 36 30 34 9f 0e d9 8e 55 5a fb 35 ac 19 a7 6e 02 ca 71 92 83 de e0 22 8a 18 ac ef e8 a2 30 8e d5 f2 6f 05 72 66\n"
     ]
    }
   ],
   "source": [
    "def transcript_hash(client: bytes, server: bytes) -> bytes:\n",
    "    digest = hashes.Hash(hashes.SHA384()) # We'll be using SHA384 to create the hash for our messages.\n",
    "    digest.update(client)     # Note that both the ClientHello and ServerHello is used here\n",
    "    digest.update(server)\n",
    "    transcript_hash = digest.finalize()\n",
    "    return transcript_hash\n",
    "\n",
    "print_bytes_as_hex(client_hello_no_record)       #This is the clientHello message we generated from our code\n",
    "print_bytes_as_hex(server_hello_no_record)       #Right now, this server_hello is pre-generated for testing purposes. We'll be parsing an actual server hello when the entire thing is ready\n",
    "\n",
    "hello_hash = transcript_hash(client_hello_no_record, server_hello_no_record)\n",
    "print_bytes_as_hex(hello_hash)"
   ]
  },
  {
   "cell_type": "markdown",
   "metadata": {},
   "source": [
    "# 6a. Shared secret\n",
    "The idea of the key exchange is that given the private key and the public key of the other party, both client and server can perform calculations to arrive at the same number. Essentially, client private x server public = server private x client public. This is called the shared secret. We'll perform the calculations on our side while the server does it on theirs.\n"
   ]
  },
  {
   "cell_type": "code",
   "execution_count": 445,
   "metadata": {},
   "outputs": [
    {
     "name": "stdout",
     "output_type": "stream",
     "text": [
      "41 aa 49 9e 66 8a a8 66 f5 31 f1 f9 48 f0 c3 26 f7 05 ee 16 eb 58 3e fc d9 f3 98 1b 97 55 db 73\n"
     ]
    }
   ],
   "source": [
    "# Our public key right now is raw bytes. Our private key, on the other hand, is a x25519PrivateKey object. The most convenient way to calculate the \n",
    "# shared secret is to turn the public key into a x25519PublicKey object and leverage the built in methods to generate the shared secret\n",
    "\n",
    "server_public_key = x25519.X25519PublicKey.from_public_bytes(public_key) \n",
    "shared_secret = private_key.exchange(server_public_key)\n",
    "print_bytes_as_hex(shared_secret)\n",
    "\n"
   ]
  },
  {
   "cell_type": "markdown",
   "metadata": {},
   "source": [
    "# 6b. Early Secret, Derived Secret, Handshake Secret\n",
    "We then go on to generate the early secret, the derived secret and finally the handshake secret. \n",
    "\n",
    "- Early secret is for 0-RTT data (essentially data sent with pre-shared keys). Since we're not using PSKs, this is a bunch of 0 bytes.\n",
    "- Derived secret is mainly used as salt, mixed in with the early secret to get the handshake key. This way, even if an attacker has the early secret, it's hard to determine the handshake key\n",
    "\n",
    "Each of these secrets have a \"label\" associated with them to identify their use, usually with the format \"tls13 + ID of the component\". \n",
    "\n",
    "* Note 1: We can pass in the label directly into the HKDF info parameter, or we can make a method that will append the TLS13 infront and add the necessary bytes for length, after which it is passed into the infor parameter. To avoid hardcoding, I went with the second options. If this example works, we can go back and try hardcoding the labels to see if it affects anything\n"
   ]
  },
  {
   "cell_type": "code",
   "execution_count": 446,
   "metadata": {},
   "outputs": [],
   "source": [
    "## REMEMBER TO CHANGE IT BACK TO SHA256 AFTER TESTING. Algorithm goes back to SHA256, Length goes back to 32.\n",
    "\n",
    "\n",
    "# UNCOMMENT THIS FOR TESTING. SHOULD WORK FOR SHA384 IMPLEMENTATIONS:\n",
    "\n",
    "#shared_secret = bytes.fromhex('df4a291baa1eb7cfa6934b29b474baad2697e29f1f920dcc77c8a0a088447624')\n",
    "#hello_hash = bytes.fromhex('e05f64fcd082bdb0dce473adf669c2769f257a1c75a51b7887468b5e0e7a7de4f4d34555112077f16e079019d5a845bd')\n",
    "\n",
    "# expected result\n",
    "# handshake secret: bdbbe8757494bef20de932598294ea65b5e6bf6dc5c02a960a2de2eaa9b07c929078d2caa09362.31c38d1725f179d299\n",
    "# client secret: db89d2d6df0e84fed74a2288f8fd4d0959f790ff23946cdf4c26d85e51bebd42ae184501972f8d30c4a3e4a3693d0ef0\n",
    "# server secret: 23323da031634b241dd37d61032b62a4f450584d1f7f47983ba2f7cc0cdcc39a68f481f2b019f9403a3051908a5d1622\n",
    "# client handshake key: 1135b4826a9a70257e5a391ad93093dfd7c4214812f493b3e3daae1eb2b1ac69\n",
    "# client handshake iv: 4256d2e0e88babdd05eb2f27\n",
    "# server handshake key: 9f13575ce3f8cfc1df64a77ceaffe89700b492ad31b4fab01c4792be1b266b7f\n",
    "# server handshake iv: 9563bc8b590f671f488d2da3\n",
    "\n",
    "\n",
    "# TLS specs make use of 2 methods: HKDF-Extract and HKDF-Expand. HKDF-Extract can be found in hkdf.HKDF()_extract(). HKDF-Expand is hkdf.HKDFExpand()\n",
    "\n",
    "\n",
    "#Define our own hkdf_expand_label. This is basically calling HKDF to derive secrets, with an added step of configuring the labels associated with the component.\n",
    "\n",
    "def hkdf_expand_label(secret: bytes, label: str, context: bytes, length: int) -> bytes:\n",
    "    # Construct the HkdfLabel as specified in TLS 1.3\n",
    "    label = b\"tls13 \" + label.encode('utf-8')\n",
    "    hkdf_label = (\n",
    "        struct.pack(\"!H\", length) +  # 2 bytes for length\n",
    "        struct.pack(\"!B\", len(label)) + label +  # 1 byte for label length + label\n",
    "        struct.pack(\"!B\", len(context)) + context  # 1 byte for context length + context\n",
    "    )\n",
    "    \n",
    "    # Use HKDF-Expand\n",
    "    encryption = hkdf.HKDFExpand(\n",
    "        algorithm=hashes.SHA384(),\n",
    "        length=length,\n",
    "        info=hkdf_label,\n",
    "    )\n",
    "    \n",
    "    return encryption.derive(secret)\n",
    "\n",
    "\n",
    "early_secret = hkdf.HKDF(\n",
    "    algorithm=hashes.SHA384(), #We negotiated SHA256 in our cipher suite\n",
    "    length=48,\n",
    "    salt=b'\\x00',\n",
    "    info=b'\\x00'\n",
    ")._extract(b'\\x00' * 48) #The first input key is simply 00\n",
    "\n",
    "empty_hash = hashes.Hash(hashes.SHA384())\n",
    "empty_hash.update(b\"\")  # Empty string\n",
    "empty_hash = empty_hash.finalize()\n",
    "\n",
    "# We then derive another secret called the derived secret from the early secret\n",
    "derived_secret = hkdf_expand_label(\n",
    "    secret = early_secret,\n",
    "    label=\"derived\",\n",
    "    context=empty_hash,\n",
    "    length=48\n",
    ")\n",
    "\n",
    "# The derived secret is mixed into the early secret to get the handshake secret\n",
    "handshake_secret = hkdf.HKDF(\n",
    "    algorithm=hashes.SHA384(),\n",
    "    length=48,\n",
    "    salt=derived_secret,  # derived_secret is used as salt\n",
    "    info=None\n",
    ")._extract(shared_secret)"
   ]
  },
  {
   "cell_type": "markdown",
   "metadata": {},
   "source": [
    "# 6c. Traffic Secrets and Key derivation\n",
    "\n",
    "Now that we have our handshake secret, we can now move on to derive the traffic secrets, and subsequently the keys and IVs for both the client and the server"
   ]
  },
  {
   "cell_type": "code",
   "execution_count": 447,
   "metadata": {},
   "outputs": [
    {
     "name": "stdout",
     "output_type": "stream",
     "text": [
      "handshake secret: b0a8055959e44ef9dc888bd4189114cf2d2a0b5a930b7df9962bd2c1a42dd9a3ea682e9f23e2eb5437faa115d5a0a5cd\n",
      "client secret: 1b075c198b4233260dc8ed2c610b284bbc8bc64ab4b7350db78b62b3bc8ec5e729c8ebb7743f4d4caa082ff6f4a077df\n",
      "server secret: 30d6929668747a27ff1c2430d75e2db3581a6c11b382991b7735e6d57923997a9d9b30fb23a349dc81c51c4e47af8919\n",
      "client handshake key: d918de04f11b925e3a5d513cf9849fbbd4b1ce537319c72f512bf3c8825d9b04\n",
      "client handshake iv: aaf86f6737d45b6d4881930c\n",
      "server handshake key: ce901dc6af0df7fa79d1ed5e618846bff2a099c8e1dd4bab95ca3d5bd0020b40\n",
      "server handshake iv: a3439a0b644e83e66264c971\n"
     ]
    }
   ],
   "source": [
    "# Deriving the secrets and subsequent keys + IVs.\n",
    "client_secret = hkdf_expand_label(\n",
    "    secret = handshake_secret, \n",
    "    label = \"c hs traffic\", \n",
    "    context = hello_hash, \n",
    "    length = 48\n",
    ")\n",
    "\n",
    "server_secret = hkdf_expand_label(\n",
    "    secret = handshake_secret,\n",
    "    label = \"s hs traffic\",\n",
    "    context = hello_hash,\n",
    "    length = 48\n",
    ")\n",
    "\n",
    "\n",
    "client_handshake_key = hkdf_expand_label(\n",
    "    secret = client_secret,\n",
    "    label = \"key\",\n",
    "    context = b\"\",\n",
    "    length = 32\n",
    ")\n",
    "\n",
    "server_handshake_key = hkdf_expand_label(\n",
    "    secret = server_secret,\n",
    "    label = \"key\",\n",
    "    context = b\"\",\n",
    "    length = 32\n",
    ")\n",
    "\n",
    "client_handshake_iv = hkdf_expand_label(\n",
    "    secret = client_secret,\n",
    "    label = \"iv\",\n",
    "    context = b\"\",\n",
    "    length = 12\n",
    ")\n",
    "\n",
    "server_handshake_iv = hkdf_expand_label(\n",
    "    secret = server_secret,\n",
    "    label = \"iv\",\n",
    "    context = b\"\",\n",
    "    length = 12\n",
    ")\n",
    "\n",
    "\n",
    "\n",
    "\n",
    "print(\"handshake secret: \" + handshake_secret.hex())\n",
    "print(\"client secret: \" + client_secret.hex())\n",
    "print(\"server secret: \" + server_secret.hex())\n",
    "print(\"client handshake key: \" + client_handshake_key.hex())\n",
    "print(\"client handshake iv: \"+ client_handshake_iv.hex())\n",
    "print(\"server handshake key: \" + server_handshake_key.hex())\n",
    "print(\"server handshake iv: \" + server_handshake_iv.hex())\n"
   ]
  },
  {
   "cell_type": "markdown",
   "metadata": {},
   "source": [
    "## 7. Decryption\n",
    "\n",
    "Now that we have the keys and IVs, the next step would be to decrypt the encrypted records. When sending the ClientHello, the server sends back a massive binary dump, including the ServerHello, the change cipher specs, and the actual payload, which is encrypted. We will use the keys and ivs generated to decrypt these records.\n",
    "\n",
    "Normally, you'll see a bunch of records, each with its own "
   ]
  },
  {
   "cell_type": "code",
   "execution_count": 448,
   "metadata": {},
   "outputs": [
    {
     "name": "stdout",
     "output_type": "stream",
     "text": [
      "08 00 00 06 00 04 00 00 00 00 0b 00 09 f1 00 00 09 ed 00 03 bd 30 82 03 b9 30 82 03 5f a0 03 02 01 02 02 10 6f 5c 9f ee 22 4c 96 2b 13 89 36 20 ce e5 f6 e4 30 0a 06 08 2a 86 48 ce 3d 04 03 02 30 3b 31 0b 30 09 06 03 55 04 06 13 02 55 53 31 1e 30 1c 06 03 55 04 0a 13 15 47 6f 6f 67 6c 65 20 54 72 75 73 74 20 53 65 72 76 69 63 65 73 31 0c 30 0a 06 03 55 04 03 13 03 57 45 31 30 1e 17 0d 32 35 30 31 31 34 32 30 35 38 34 32 5a 17 0d 32 35 30 34 31 34 32 31 35 38 33 39 5a 30 1d 31 1b 30 19 06 03 55 04 03 13 12 77 77 77 2e 63 6c 6f 75 64 66 6c 61 72 65 2e 63 6f 6d 30 59 30 13 06 07 2a 86 48 ce 3d 02 01 06 08 2a 86 48 ce 3d 03 01 07 03 42 00 04 9f ae 94 5d 92 32 76 30 52 f9 e0 0a 8b 22 e1 02 c9 0e dd 9d c8 50 7d cb fb 33 e7 8d b3 6d 46 3d cc ab 06 07 6b e4 60 7c e9 3d 49 fc 9c 0f c8 b9 96 09 a4 9e 5a 8c 8a 33 27 1f 1b 6d 25 c5 38 e9 a3 82 02 61 30 82 02 5d 30 0e 06 03 55 1d 0f 01 01 ff 04 04 03 02 07 80 30 13 06 03 55 1d 25 04 0c 30 0a 06 08 2b 06 01 05 05 07 03 01 30 0c 06 03 55 1d 13 01 01 ff 04 02 30 00 30 1d 06 03 55 1d 0e 04 16 04 14 03 93 09 fb 84 52 c5 e8 61 fa 46 e2 bd 6c 74 51 e4 8d 6a 58 30 1f 06 03 55 1d 23 04 18 30 16 80 14 90 77 92 35 67 c4 ff a8 cc a9 e6 7b d9 80 79 7b cc 93 f9 38 30 5e 06 08 2b 06 01 05 05 07 01 01 04 52 30 50 30 27 06 08 2b 06 01 05 05 07 30 01 86 1b 68 74 74 70 3a 2f 2f 6f 2e 70 6b 69 2e 67 6f 6f 67 2f 73 2f 77 65 31 2f 62 31 77 30 25 06 08 2b 06 01 05 05 07 30 02 86 19 68 74 74 70 3a 2f 2f 69 2e 70 6b 69 2e 67 6f 6f 67 2f 77 65 31 2e 63 72 74 30 33 06 03 55 1d 11 04 2c 30 2a 82 12 77 77 77 2e 63 6c 6f 75 64 66 6c 61 72 65 2e 63 6f 6d 82 14 2a 2e 77 77 77 2e 63 6c 6f 75 64 66 6c 61 72 65 2e 63 6f 6d 30 13 06 03 55 1d 20 04 0c 30 0a 30 08 06 06 67 81 0c 01 02 01 30 36 06 03 55 1d 1f 04 2f 30 2d 30 2b a0 29 a0 27 86 25 68 74 74 70 3a 2f 2f 63 2e 70 6b 69 2e 67 6f 6f 67 2f 77 65 31 2f 52 37 4c 67 41 6e 4b 44 34 4c 6b 2e 63 72 6c 30 82 01 04 06 0a 2b 06 01 04 01 d6 79 02 04 02 04 81 f5 04 81 f2 00 f0 00 76 00 4e 75 a3 27 5c 9a 10 c3 38 5b 6c d4 df 3f 52 eb 1d f0 e0 8e 1b 8d 69 c0 b1 fa 64 b1 62 9a 39 df 00 00 01 94 66 d3 79 88 00 00 04 03 00 47 30 45 02 21 00 8d 31 ba 55 f0 fc ba 53 ab ea ae 9b 26 89 49 77 08 bc ee 41 fc f6 a2 a1 bb 80 26 db a6 50 2e db 02 20 1d 5a f0 37 f6 98 76 db b3 72 79 6d 8d de 6b c1 c5 60 8c d0 71 eb 26 38 ef c8 04 64 27 ef d6 14 00 76 00 73 20 22 0f 08 16 8a f9 f3 c4 a6 8b 0a b2 6a 9a 4a 00 ee f5 77 85 8a 08 4d 05 00 d4 a5 42 44 59 00 00 01 94 66 d3 79 a6 00 00 04 03 00 47 30 45 02 20 7a 68 50 9c 87 22 f3 ce db 02 2b dc f2 23 dd c0 d7 29 74 7a 41 c8 4c 4a a6 40 b6 4f 97 fe 37 3f 02 21 00 b7 c8 d9 f9 44 db b1 6e ce 15 e0 18 f7 27 fa 01 42 af 2a 10 7c 70 0f be 6e 72 1a 3a 91 7b 47 26 30 0a 06 08 2a 86 48 ce 3d 04 03 02 03 48 00 30 45 02 21 00 ea b4 57 21 93 d6 60 8c 77 0c a0 e6 9d 37 fd 29 8d 9c e6 27 f1 d0 3a ec de cf db cd 71 c3 dd 89 02 20 38 83 5e 45 05 15 71 41 02 0b 76 9c bb 4b 5c ed 54 6c 20 b1 d0 72 12 98 fa 44 dd 01 87 13 74 ca 00 00 00 02 a3 30 82 02 9f 30 82 02 25 a0 03 02 01 02 02 10 7f f3 19 77 97 2c 22 4a 76 15 5d 13 b6 d6 85 e3 30 0a 06 08 2a 86 48 ce 3d 04 03 03 30 47 31 0b 30 09 06 03 55 04 06 13 02 55 53 31 22 30 20 06 03 55 04 0a 13 19 47 6f 6f 67 6c 65 20 54 72 75 73 74 20 53 65 72 76 69 63 65 73 20 4c 4c 43 31 14 30 12 06 03 55 04 03 13 0b 47 54 53 20 52 6f 6f 74 20 52 34 30 1e 17 0d 32 33 31 32 31 33 30 39 30 30 30 30 5a 17 0d 32 39 30 32 32 30 31 34 30 30 30 30 5a 30 3b 31 0b 30 09 06 03 55 04 06 13 02 55 53 31 1e 30 1c 06 03 55 04 0a 13 15 47 6f 6f 67 6c 65 20 54 72 75 73 74 20 53 65 72 76 69 63 65 73 31 0c 30 0a 06 03 55 04 03 13 03 57 45 31 30 59 30 13 06 07 2a 86 48 ce 3d 02 01 06 08 2a 86 48 ce 3d 03 01 07 03 42 00 04 6f cd 3a fe 67 57 47 4c 21 03 85 40 c2 47 5d bb 58 47 0f 40 c1 5c 17 85 c6 19 37 e7 d5 7c ed 86 4b 9b 81 d9 d7 1a 13 a5 0a 03 f8 98 c4 c6 e8 9e ff 10 59 8f 2c 26 98 f5 e6 26 25 bb 0f 02 fa 56 a3 81 fe 30 81 fb 30 0e 06 03 55 1d 0f 01 01 ff 04 04 03 02 01 86 30 1d 06 03 55 1d 25 04 16 30 14 06 08 2b 06 01 05 05 07 03 01 06 08 2b 06 01 05 05 07 03 02 30 12 06 03 55 1d 13 01 01 ff 04 08 30 06 01 01 ff 02 01 00 30 1d 06 03 55 1d 0e 04 16 04 14 90 77 92 35 67 c4 ff a8 cc a9 e6 7b d9 80 79 7b cc 93 f9 38 30 1f 06 03 55 1d 23 04 18 30 16 80 14 80 4c d6 eb 74 ff 49 36 a3 d5 d8 fc b5 3e c5 6a f0 94 1d 8c 30 34 06 08 2b 06 01 05 05 07 01 01 04 28 30 26 30 24 06 08 2b 06 01 05 05 07 30 02 86 18 68 74 74 70 3a 2f 2f 69 2e 70 6b 69 2e 67 6f 6f 67 2f 72 34 2e 63 72 74 30 2b 06 03 55 1d 1f 04 24 30 22 30 20 a0 1e a0 1c 86 1a 68 74 74 70 3a 2f 2f 63 2e 70 6b 69 2e 67 6f 6f 67 2f 72 2f 72 34 2e 63 72 6c 30 13 06 03 55 1d 20 04 0c 30 0a 30 08 06 06 67 81 0c 01 02 01 30 0a 06 08 2a 86 48 ce 3d 04 03 03 03 68 00 30 65 02 31 00 e7 02 ab 51 d6 f7 43 95 ce 75 fe d1 11 94 d5 cc 40 41 7a 26 be d8 0c f3 32 2d 3d 90 ae 15 0f 23 48 12 52 8f 3e 64 79 13 af f5 a6 2c 02 6e 55 b1 02 30 26 89 cc 68 01 62 e7 89 ab 7e 17 e8 14 d6 44 7e e3 4c 49 0e bf 6c 80 62 34 b8 b2 a1 7e 3a 16 88 50 bc a7 88 a0 9f 7d 73 1e ec 52 41 4d ee e2 56 00 00 00 03 7e 30 82 03 7a 30 82 02 62 a0 03 02 01 02 02 10 7f e5 30 bf 33 13 43 be dd 82 16 10 49 3d 8a 1b 30 0d 06 09 2a 86 48 86 f7 0d 01 01 0b 05 00 30 57 31 0b 30 09 06 03 55 04 06 13 02 42 45 31 19 30 17 06 03 55 04 0a 13 10 47 6c 6f 62 61 6c 53 69 67 6e 20 6e 76 2d 73 61 31 10 30 0e 06 03 55 04 0b 13 07 52 6f 6f 74 20 43 41 31 1b 30 19 06 03 55 04 03 13 12 47 6c 6f 62 61 6c 53 69 67 6e 20 52 6f 6f 74 20 43 41 30 1e 17 0d 32 33 31 31 31 35 30 33 34 33 32 31 5a 17 0d 32 38 30 31 32 38 30 30 30 30 34 32 5a 30 47 31 0b 30 09 06 03 55 04 06 13 02 55 53 31 22 30 20 06 03 55 04 0a 13 19 47 6f 6f 67 6c 65 20 54 72 75 73 74 20 53 65 72 76 69 63 65 73 20 4c 4c 43 31 14 30 12 06 03 55 04 03 13 0b 47 54 53 20 52 6f 6f 74 20 52 34 30 76 30 10 06 07 2a 86 48 ce 3d 02 01 06 05 2b 81 04 00 22 03 62 00 04 f3 74 73 a7 68 8b 60 ae 43 b8 35 c5 81 30 7b 4b 49 9d fb c1 61 ce e6 de 46 bd 6b d5 61 18 35 ae 40 dd 73 f7 89 91 30 5a eb 3c ee 85 7c a2 40 76 3b a9 c6 b8 47 d8 2a e7 92 91 6a 73 e9 b1 72 39 9f 29 9f a2 98 d3 5f 5e 58 86 65 0f a1 84 65 06 d1 dc 8b c9 c7 73 c8 8c 6a 2f e5 c4 ab d1 1d 8a a3 81 ff 30 81 fc 30 0e 06 03 55 1d 0f 01 01 ff 04 04 03 02 01 86 30 1d 06 03 55 1d 25 04 16 30 14 06 08 2b 06 01 05 05 07 03 01 06 08 2b 06 01 05 05 07 03 02 30 0f 06 03 55 1d 13 01 01 ff 04 05 30 03 01 01 ff 30 1d 06 03 55 1d 0e 04 16 04 14 80 4c d6 eb 74 ff 49 36 a3 d5 d8 fc b5 3e c5 6a f0 94 1d 8c 30 1f 06 03 55 1d 23 04 18 30 16 80 14 60 7b 66 1a 45 0d 97 ca 89 50 2f 7d 04 cd 34 a8 ff fc fd 4b 30 36 06 08 2b 06 01 05 05 07 01 01 04 2a 30 28 30 26 06 08 2b 06 01 05 05 07 30 02 86 1a 68 74 74 70 3a 2f 2f 69 2e 70 6b 69 2e 67 6f 6f 67 2f 67 73 72 31 2e 63 72 74 30 2d 06 03 55 1d 1f 04 26 30 24 30 22 a0 20 a0 1e 86 1c 68 74 74 70 3a 2f 2f 63 2e 70 6b 69 2e 67 6f 6f 67 2f 72 2f 67 73 72 31 2e 63 72 6c 30 13 06 03 55 1d 20 04 0c 30 0a 30 08 06 06 67 81 0c 01 02 01 30 0d 06 09 2a 86 48 86 f7 0d 01 01 0b 05 00 03 82 01 01 00 18 42 bb 0f 06 d6 03 87 96 e3 3f 63 81 0f 09 a4 a1 68 48 0c 39 22 73 9e f8 cb 4e 2d 7f 31 e9 9f e7 09 a1 d2 36 0f 84 ac 79 eb 10 e9 b0 eb 6a b6 7b 0b 7d 1d 74 b8 9b 65 ab 68 2a 2c 2c dd 42 fd c6 71 0b cf 87 2d f7 6b c8 0f 6e 05 7d 56 e2 23 58 58 f9 25 ba 16 85 47 90 d7 96 20 fd 06 09 b6 8c e0 2e ae 55 d1 79 75 35 2c 31 5b 3f 65 bc cd 9c 87 42 a7 91 b1 9b 1e 5e 8e f1 1a bb ca 2d 47 f0 ac 90 63 7e 86 bf d6 e4 6b d3 d6 d3 01 8e 05 8a 67 58 b8 ff f7 a6 84 0d 49 1b 50 5b 3f 3a 0b 25 0b f2 12 8b 5c d3 79 57 8d 36 82 ce ff 26 11 b7 a9 f1 1a 99 ed ad 82 3e c8 11 6e eb d3 3c 1c 1c 38 c0 41 9a e1 5e 53 cf 3e 15 20 57 eb ee e2 3f 48 a5 f1 be 19 d1 01 6a 23 0c 0c 1d fb 3f 2f a2 b5 bd ea 6e a3 1b 46 ce 2e 02 67 af 33 26 98 aa d5 4b d2 a9 36 c5 26 3b 5b 0f 8b 1e 88 c1 e5 00 00 0f 00 00 4b 04 03 00 47 30 45 02 20 60 ba b3 bd 2f 4f 6a 7c ee 06 44 a7 74 da 1b 2e e9 02 cd 73 e1 0c 40 e9 08 26 a5 bb 9b 38 18 d7 02 21 00 d2 7a 68 78 a0 81 86 cf e5 e5 24 26 be ec f2 56 e4 a3 70 7c 7b 72 20 45 3c 55 c6 de 5c 93 b3 2a 14 00 00 30 7b 9c 7d 3c d2 5e f2 51 8a 66 c3 ed b1 77 ee 5b d0 bc 22 18 48 7b 21 1d 5b 32 97 3f 78 46 61 3a 5e ca f8 cc e5 8e 06 26 96 fb 31 d2 74 f1 1a 2d 16\n"
     ]
    }
   ],
   "source": [
    "def decrypt(key, iv, wrapper):\n",
    "    # Split the wrapper into additional authenticated data (AAD) and ciphertext\n",
    "    additional = wrapper[:5]\n",
    "    ciphertext = wrapper[5:]\n",
    "    \n",
    "    # Initialize AES-GCM with the provided key\n",
    "    aesgcm = AESGCM(key)\n",
    "    \n",
    "    # Decrypt the ciphertext\n",
    "    try:\n",
    "        plaintext = aesgcm.decrypt(iv, ciphertext, additional)\n",
    "    except Exception as e:\n",
    "        raise ValueError(f\"Decryption failed: {e}\")\n",
    "    \n",
    "    return plaintext\n",
    "\n",
    "# Right now I'm doing a lot of copy pasting. I run the openSSL_debug script to retrieve the server's response, and then replace the serverHello, as well as the encrypted record under this line. Managed to decrypt the thing.\n",
    "\n",
    "print_bytes_as_hex((decrypt(server_handshake_key, server_handshake_iv, encrypted_payload)))"
   ]
  },
  {
   "cell_type": "code",
   "execution_count": null,
   "metadata": {},
   "outputs": [],
   "source": []
  },
  {
   "cell_type": "code",
   "execution_count": null,
   "metadata": {},
   "outputs": [],
   "source": []
  },
  {
   "cell_type": "code",
   "execution_count": null,
   "metadata": {},
   "outputs": [],
   "source": []
  }
 ],
 "metadata": {
  "kernelspec": {
   "display_name": "Python 3",
   "language": "python",
   "name": "python3"
  },
  "language_info": {
   "codemirror_mode": {
    "name": "ipython",
    "version": 3
   },
   "file_extension": ".py",
   "mimetype": "text/x-python",
   "name": "python",
   "nbconvert_exporter": "python",
   "pygments_lexer": "ipython3",
   "version": "3.9.7"
  }
 },
 "nbformat": 4,
 "nbformat_minor": 2
}
