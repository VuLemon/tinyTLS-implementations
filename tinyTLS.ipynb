{
 "cells": [
  {
   "cell_type": "markdown",
   "metadata": {},
   "source": [
    "# Tiny-TLS 1.3 Toy Implementation for COSI107a, Spring 2025, version 0.1\n",
    "\n",
    "This document contains the implementation of a toy version of TLS 1.3, to be used as material for Brandeis' COSI107a course. The goal is to implement a minimalist version of TLS 1.3 that can communicate with a server using the protocol.\n",
    "\n",
    "This is a work in progress, and it is expected that changes will be made to the protocol as we move forward\n"
   ]
  },
  {
   "cell_type": "markdown",
   "metadata": {},
   "source": [
    "## 1. Import the necessary libraries\n",
    "\n",
    "Since we're working with TLS in Python, it is helpful to use Python libraries that allow us to pack our data into binary form. TLS protocol specifies exact byte length and format, and we'll be doing a lot of conversion between numbers and bytes. We'll use the Python Struct library for this purpose\n",
    "\n",
    "We'll also be importing the x25519 curve from the Cryptography library to generate the key used in our messages\n",
    "\n"
   ]
  },
  {
   "cell_type": "code",
   "execution_count": 53,
   "metadata": {},
   "outputs": [],
   "source": [
    "import struct\n",
    "from cryptography.hazmat.primitives.asymmetric import x25519\n",
    "from cryptography.hazmat.primitives import serialization, hashes\n",
    "from cryptography.hazmat.primitives.kdf import hkdf\n",
    "\n",
    "\n",
    "import os #for random nonce generation"
   ]
  },
  {
   "cell_type": "markdown",
   "metadata": {},
   "source": [
    "# 2a. Define some helper functions\n",
    "\n",
    "TLS represents all of its messages in byte form. As such, some elements (such as the content length) must be converted from integer to big edian, specifically with 2 bytes. We also need to be able to join the distinct elements in a message into a single byte slice\n"
   ]
  },
  {
   "cell_type": "code",
   "execution_count": 54,
   "metadata": {},
   "outputs": [],
   "source": [
    "def u16_to_byte(x: int) -> bytes:\n",
    "    return struct.pack('>H', x) # Use the struct package to pack a number into big-edian 2 bytes\n",
    "\n",
    "def concatenate(*bufs: bytes) -> bytes: # Concatenate multiple byte slices into one singular byte slice\n",
    "    return b''.join(bufs)\n",
    "\n"
   ]
  },
  {
   "cell_type": "markdown",
   "metadata": {},
   "source": [
    "# 2b. Define our private key and public key\n",
    "\n",
    "We can then generate the public key and private key using the x25519 curve from Cryptography\n"
   ]
  },
  {
   "cell_type": "code",
   "execution_count": 55,
   "metadata": {},
   "outputs": [
    {
     "name": "stdout",
     "output_type": "stream",
     "text": [
      "(<cryptography.hazmat.backends.openssl.x25519._X25519PrivateKey object at 0x7fd2f9888250>, b'\\\\Bm\\x9d\\xbf[9\\xb8\\xd5\\xf6\\xaa\\x1a#\\xf9\\xc6\\xf4\\x15\\x90\\xa18\\xd5\\xdbt\\x0f\\xbd\\xfa\\x99&l\\xe9C\\x1d')\n"
     ]
    }
   ],
   "source": [
    "def key_pair() -> bytes:\n",
    "    private_key = x25519.X25519PrivateKey.generate()\n",
    "    public_key = private_key.public_key().public_bytes(\n",
    "    encoding=serialization.Encoding.Raw,\n",
    "    format=serialization.PublicFormat.Raw\n",
    "    )\n",
    "    return private_key, public_key\n",
    "\n",
    "print(key_pair())\n"
   ]
  },
  {
   "cell_type": "markdown",
   "metadata": {},
   "source": [
    "Notice how each time we run the code, the public_key is different. This is intended behavior, as it prevents attackers from being able to predict our key pairs"
   ]
  },
  {
   "cell_type": "markdown",
   "metadata": {},
   "source": [
    "# 3. The Extension Blueprint:\n",
    "\n",
    "Extensions play a large part in shaping a TLS message. From negotiating supported key group to exchanging keys, all of these are achieved using extensions. Luckily for us, these different extensions have a common blueprint\n",
    "\n"
   ]
  },
  {
   "cell_type": "code",
   "execution_count": 56,
   "metadata": {},
   "outputs": [
    {
     "name": "stdout",
     "output_type": "stream",
     "text": [
      "b'\\x00\\n\\x00\\x02\\x00\\x1d'\n"
     ]
    }
   ],
   "source": [
    "def extension(id: int, content: bytes) -> bytes:\n",
    "    return concatenate(\n",
    "        u16_to_byte(id),                         #The ID of the extension. (e.g 0x0a = Supported Group)\n",
    "        u16_to_byte(len(content)),               #Length of content\n",
    "        content                                  #The actual content itself\n",
    "    )\n",
    "\n",
    "print(extension(0x0a, bytes([0x00, 0x1d]))) #Example Supported Group extension\n"
   ]
  },
  {
   "cell_type": "markdown",
   "metadata": {},
   "source": [
    "# 4. The ClientHello\n",
    "\n",
    "With those building blocks, we can now write our first TLS message: The ClientHello. The ClientHello is always the first message to be sent in a TLS handshake, indicating that the client wants to connect with the server\n",
    "\n",
    "The ClientHello has these components, in this order:\n",
    "1. ProtocolVersion (Negotiate which version of TLS we're using)\n",
    "2. Random Nonce (32 bit, for key generation)\n",
    "3. Legacy Session ID (For our purposes, we won't be using sessions)\n",
    "4. Cipher Suites (contains a suite of cipher - how to actually encrypt the key once we have it)\n",
    "5. Legacy Compression Method (For TLS 1.3, this is null)\n",
    "6. Extensions \n",
    "\n",
    "The code for it is as follows:"
   ]
  },
  {
   "cell_type": "code",
   "execution_count": 57,
   "metadata": {},
   "outputs": [
    {
     "name": "stdout",
     "output_type": "stream",
     "text": [
      "b'\\x16\\x03\\x01\\x00\\x80\\x01\\x00|\\x03\\x03\\xcc(T\\x8e_\\xcd2\\x9b0\\xb02U\\x9cg\\n\\x04@\\xd3\\xdf\\xd7\\xb7\\xfd\\x11\\xe3\\xb5\\xf3J\\x1e&\\xdd L\\x00\\x02\\x13\\x01\\x01\\x00\\x00R\\x00\\x00\\x00\\x15\\x00\\x13\\x00\\x00\\x10www.brandeis.edu\\x00\\n\\x00\\x04\\x00\\x02\\x00\\x1d\\x003\\x00&\\x00$\\x00\\x1d\\x00 =\\x0e\\xe7\\xcd\\xe7i\\x8b\\x9e\\xc0\\xf5F\\x9e\\x0f\\x93\\xe5\\xfd\\xae\\x02\\xdf\\x8fB\\x88\\x9bs\\xb4\\xa6\\xac\\x84f\\x08Pv\\x00+\\x00\\x03\\x02\\x03\\x04'\n",
      "hello lmao\n",
      "b'\\xcc(T\\x8e_\\xcd2\\x9b0\\xb02U\\x9cg\\n\\x04@\\xd3\\xdf\\xd7\\xb7\\xfd\\x11\\xe3\\xb5\\xf3J\\x1e&\\xdd L'\n"
     ]
    }
   ],
   "source": [
    "private_key, public_key = key_pair()\n",
    "\n",
    "def client_hello() -> bytes:\n",
    "    client_random = os.urandom(32)\n",
    "    def key_share(pubkey: bytes) -> bytes:      # Encode our public key to be sent over the message\n",
    "        return concatenate(\n",
    "            u16_to_byte(len(pubkey) + 4),       # +4 represents the 4 extra byte before the pubkey (2 bytes for the x25519, 2 bytes for len of pubkey)\n",
    "            u16_to_byte(0x1d),                  # 0x1d is the value for x25519 key\n",
    "            u16_to_byte(len(pubkey)),           \n",
    "            pubkey\n",
    "        )\n",
    "    \n",
    "    def DNI(domain: str) -> bytes:\n",
    "        return concatenate(\n",
    "            u16_to_byte(len(bytes(domain,'utf-8')) + 3),\n",
    "            bytes([0x00]),\n",
    "            u16_to_byte(len(bytes(domain,'utf-8'))),\n",
    "            bytes(domain, 'utf-8')\n",
    "        )\n",
    "    \n",
    "    def extensions() -> bytes: #This intializes the extensions we need in our message\n",
    "        return concatenate(\n",
    "            extension(0x00, DNI('www.brandeis.edu')),\n",
    "            extension(0x0a, bytes([0x00, 0x02, 0x00, 0x1d])), #Supported Group extensions. Currently only contains the x25519 curve\n",
    "            extension(0x33, key_share(public_key)), #Key Share. Contains the public key generated from the x25519 curve\n",
    "            extension(0x2b, bytes([0x02, 0x03, 0x04])) #TLS Version. This is how we negotiate TLS 1.3\n",
    "        )\n",
    "    \n",
    "    def handshake() -> bytes: #This constitutes our actual ClientHello message\n",
    "        return concatenate(\n",
    "            bytes([0x03, 0x03]),                          # This value is for TLS 1.2. TLS 1.3 must disguise itself as TLS 1.2 to be received, after which it negotiates into TLS 1.3 through the TLS 1.3 extension\n",
    "            client_random,                             # Random Nonce for key\n",
    "            bytes(0x00),                                # Session ID. Empty for our purposes\n",
    "            bytes([0x00, 0x02, 0x13, 0x01]),              # Cipher Suite. We have a single cipher for our cipher suite (SHA256)\n",
    "                                                          # I'm aware that there are 2 SHA256 ciphers: AES and CHACHA. I've included one here. Not sure\n",
    "                                                          # if we need the other one or not\n",
    "            bytes([0x01, 0x00]),                          # Compression Method. Empty for our purposes\n",
    "            u16_to_byte(len(extensions())),\n",
    "            extensions()\n",
    "        )\n",
    "    \n",
    "    return concatenate(                                 #Include record layers for TLS 1.3 to complete message\n",
    "        bytes([0x16, 0x03, 0x01]),\n",
    "        u16_to_byte(len(handshake()) + 4),\n",
    "        bytes([0x01]),\n",
    "        u16_to_byte(len(handshake())),\n",
    "        handshake()\n",
    "    ), client_random\n",
    "\n",
    "client_hello_msg, client_random = client_hello()\n",
    "print(client_hello_msg)\n",
    "print(\"hello lmao\")\n",
    "print(client_random)\n",
    "        "
   ]
  },
  {
   "cell_type": "markdown",
   "metadata": {},
   "source": [
    "# 5. Parsing the ServerHello\n",
    "\n",
    "Once the ClientHello is sent, the server responds with its own message, called the ServerHello. Assuming that our ClientHello message is configured correctly, the server will respond with its chosen cipher suite and its own key. \n",
    "\n",
    "We are particularly interested in the server's key and server random, which we use to establish cryptographic parameters. We can then extract these properties and start the key calculation process"
   ]
  },
  {
   "cell_type": "markdown",
   "metadata": {},
   "source": [
    "# 5a. Creating a Parser class \n",
    "\n",
    "The ServerHello message isn't always of the same size. Certain elements like the sessionID, as well as the content of extensions, may have variable length depending on the message itself. That's why we can't just extract the information based on indexes alone. We need a parser that would keep track of what element we're at and how many bytes we have to skip forward\n"
   ]
  },
  {
   "cell_type": "code",
   "execution_count": 58,
   "metadata": {},
   "outputs": [],
   "source": [
    "\n",
    "class Parser:\n",
    "    def __init__(self, data: bytes) -> None:\n",
    "        self.data = data\n",
    "        self.cursor = 0\n",
    "    \n",
    "    def skip(self, position: int) -> None:\n",
    "        self.cursor += position\n",
    "\n",
    "    def read(self, position: int) -> bytes:\n",
    "        result = self.data[self.cursor : self.cursor + position]\n",
    "        self.cursor += position\n",
    "        return result \n",
    "    \n",
    "    def read_uint8_prefixed(self) -> bytes:                           #Most extensions with variable lengths have bytes that denote their length. We can use this to skip forward appropriately \n",
    "        length = self.data[self.cursor]\n",
    "        self.cursor += 1\n",
    "        result = self.data[self.cursor : self.cursor + length]\n",
    "        self.cursor += length\n",
    "        return result\n",
    "\n",
    "    def read_uint16_prefixed(self) -> bytes:\n",
    "        length = int.from_bytes(self.data[self.cursor:self.cursor + 2], 'big') #Since some lengths are represented with 2 bytes, we need to convert them \n",
    "        self.cursor += 2\n",
    "        result = self.data[self.cursor:self.cursor + length]\n",
    "        self.cursor += length\n",
    "        return result\n"
   ]
  },
  {
   "cell_type": "markdown",
   "metadata": {},
   "source": [
    "# 5b. Parsing the ServerHello\n",
    "\n",
    "With our Parser class, we can now parse the ServerHello to extract the ServerRandom and the public key. Keep in mind that we are only dealing with 1 cipher suite, 1 cryptographic and as such expects only 1 public key. A full version of TLS 1.3 will be much more complex"
   ]
  },
  {
   "cell_type": "code",
   "execution_count": 59,
   "metadata": {},
   "outputs": [
    {
     "name": "stdout",
     "output_type": "stream",
     "text": [
      "b'pqrstuvwxyz{|}~\\x7f\\x80\\x81\\x82\\x83\\x84\\x85\\x86\\x87\\x88\\x89\\x8a\\x8b\\x8c\\x8d\\x8e\\x8f'\n",
      "b'\\x9f\\xd7\\xadm\\xcf\\xf4)\\x8d\\xd3\\xf9m[\\x1b*\\xf9\\x10\\xa0S[\\x14\\x88\\xd7\\xf8\\xfa\\xbb4\\x9a\\x98(\\x80\\xb6\\x15'\n"
     ]
    }
   ],
   "source": [
    "def server_hello_parser(msg: bytes):\n",
    "    parser = Parser(msg)\n",
    "    parser.skip(4)                                  #Skip HandShake Header\n",
    "    parser.skip(2)                                  #Skip Server Version\n",
    "    server_random = parser.read(32)                 #Get the serverRandom\n",
    "    parser.read_uint8_prefixed()                    #Skip SessionID\n",
    "    parser.skip(2)                                  #Skip Cipher Suite\n",
    "    parser.skip(1)                                  #Skip Compression Method\n",
    "    public_key = None\n",
    "    extensions = parser.read_uint16_prefixed()\n",
    "    extension_reader = Parser(extensions)\n",
    "    while(extension_reader.cursor < len(extensions)):\n",
    "        extension_type = extension_reader.read(2)\n",
    "        extension_data = extension_reader.read_uint16_prefixed()\n",
    "        if (extension_type == b'\\x00\\x33'):\n",
    "            data = Parser(extension_data)\n",
    "            data.skip(2)\n",
    "            public_key = data.read_uint16_prefixed()\n",
    "    return server_random, public_key\n",
    "\n",
    "    # extension_number = int.from_bytes(parser.read(2), 'big')\n",
    "    # print(extension_number)\n",
    "    # for i in range (extension_number):\n",
    "    #     extension_type = parser.read(2)\n",
    "    #     extension_content = parser.read_uint16_prefixed()\n",
    "    #     if extension_type == 0x0033:\n",
    "    #         print(\"Key_Share Identified\")\n",
    "    #         extension_parser = Parser(extension_content)\n",
    "    #         extension_parser.skip(2)\n",
    "    #         public_key = extension_parser.read_uint16_prefixed()\n",
    "    # return server_random, public_key\n",
    "\n",
    "server_hello_msg = b'\\x02\\x00\\x00\\x76\\x03\\x03\\x70\\x71\\x72\\x73\\x74\\x75\\x76\\x77\\x78\\x79\\x7a\\x7b\\x7c\\x7d\\x7e\\x7f\\x80\\x81\\x82\\x83\\x84\\x85\\x86\\x87\\x88\\x89\\x8a\\x8b\\x8c\\x8d\\x8e\\x8f\\x20\\xe0\\xe1\\xe2\\xe3\\xe4\\xe5\\xe6\\xe7\\xe8\\xe9\\xea\\xeb\\xec\\xed\\xee\\xef\\xf0\\xf1\\xf2\\xf3\\xf4\\xf5\\xf6\\xf7\\xf8\\xf9\\xfa\\xfb\\xfc\\xfd\\xfe\\xff\\x13\\x02\\x00\\x00\\x2e\\x00\\x2b\\x00\\x02\\x03\\x04\\x00\\x33\\x00\\x24\\x00\\x1d\\x00\\x20\\x9f\\xd7\\xad\\x6d\\xcf\\xf4\\x29\\x8d\\xd3\\xf9\\x6d\\x5b\\x1b\\x2a\\xf9\\x10\\xa0\\x53\\x5b\\x14\\x88\\xd7\\xf8\\xfa\\xbb\\x34\\x9a\\x98\\x28\\x80\\xb6\\x15'\n",
    "server_random, public_key = server_hello_parser(server_hello_msg)\n",
    "print(server_random)\n",
    "print(public_key)\n",
    "\n",
    "\n",
    "           \n",
    "\n",
    "        \n",
    "        \n",
    "        \n"
   ]
  },
  {
   "cell_type": "markdown",
   "metadata": {},
   "source": [
    "# 6. Key Derivation\n",
    "\n",
    "Now that we have our private key and the server has sent back their public key, we can now encrypt our data to the server via key calculations. We can break down the key calculations into a few steps"
   ]
  },
  {
   "cell_type": "markdown",
   "metadata": {},
   "source": [
    "# 6a. Transcript Hash\n",
    "\n",
    "Transcript Hash refers to the hash of the ClientHello and the ServerHello messages. The idea is to associate these messages with the keys we are about to derive: These keys work with these messages. That way, even if an attacker somehow got hold of our keys, it would not work with whatever messages they try to send\n",
    "\n"
   ]
  },
  {
   "cell_type": "code",
   "execution_count": 60,
   "metadata": {},
   "outputs": [
    {
     "name": "stdout",
     "output_type": "stream",
     "text": [
      "b'\\x16\\x03\\x01\\x00\\x80\\x01\\x00|\\x03\\x03\\xcc(T\\x8e_\\xcd2\\x9b0\\xb02U\\x9cg\\n\\x04@\\xd3\\xdf\\xd7\\xb7\\xfd\\x11\\xe3\\xb5\\xf3J\\x1e&\\xdd L\\x00\\x02\\x13\\x01\\x01\\x00\\x00R\\x00\\x00\\x00\\x15\\x00\\x13\\x00\\x00\\x10www.brandeis.edu\\x00\\n\\x00\\x04\\x00\\x02\\x00\\x1d\\x003\\x00&\\x00$\\x00\\x1d\\x00 =\\x0e\\xe7\\xcd\\xe7i\\x8b\\x9e\\xc0\\xf5F\\x9e\\x0f\\x93\\xe5\\xfd\\xae\\x02\\xdf\\x8fB\\x88\\x9bs\\xb4\\xa6\\xac\\x84f\\x08Pv\\x00+\\x00\\x03\\x02\\x03\\x04'\n",
      "b'\\x02\\x00\\x00v\\x03\\x03pqrstuvwxyz{|}~\\x7f\\x80\\x81\\x82\\x83\\x84\\x85\\x86\\x87\\x88\\x89\\x8a\\x8b\\x8c\\x8d\\x8e\\x8f \\xe0\\xe1\\xe2\\xe3\\xe4\\xe5\\xe6\\xe7\\xe8\\xe9\\xea\\xeb\\xec\\xed\\xee\\xef\\xf0\\xf1\\xf2\\xf3\\xf4\\xf5\\xf6\\xf7\\xf8\\xf9\\xfa\\xfb\\xfc\\xfd\\xfe\\xff\\x13\\x02\\x00\\x00.\\x00+\\x00\\x02\\x03\\x04\\x003\\x00$\\x00\\x1d\\x00 \\x9f\\xd7\\xadm\\xcf\\xf4)\\x8d\\xd3\\xf9m[\\x1b*\\xf9\\x10\\xa0S[\\x14\\x88\\xd7\\xf8\\xfa\\xbb4\\x9a\\x98(\\x80\\xb6\\x15'\n"
     ]
    }
   ],
   "source": [
    "def transcript_hash(client: bytes, server: bytes) -> bytes:\n",
    "    digest = hashes.Hash(hashes.SHA256()) # We'll be using SHA384 to create the hash for our messages.\n",
    "    digest.update(client)     # Note that both the ClientHello and ServerHello is used here\n",
    "    digest.update(server)\n",
    "    transcript_hash = digest.finalize()\n",
    "    return transcript_hash\n",
    "\n",
    "print(client_hello_msg)       #This is the clientHello message we generated from our code\n",
    "print(server_hello_msg)       #Right now, this server_hello is pre-generated for testing purposes. We'll be parsing an actual server hello when the entire thing is ready\n",
    "\n",
    "hello_hash = transcript_hash(client_hello_msg, server_hello_msg)"
   ]
  },
  {
   "cell_type": "markdown",
   "metadata": {},
   "source": [
    "# 6a. Shared secret\n",
    "The idea of the key exchange is that given the private key and the public key of the other party, both client and server can perform calculations to arrive at the same number. Essentially, client private x server public = server private x client public. This is called the shared secret. We'll perform the calculations on our side while the server does it on theirs.\n"
   ]
  },
  {
   "cell_type": "code",
   "execution_count": 61,
   "metadata": {},
   "outputs": [
    {
     "name": "stdout",
     "output_type": "stream",
     "text": [
      "b\"\\x04\\xce\\x02'\\xd4\\xaa\\x00\\xf1G\\x12\\xf0\\x94Of\\x1eS\\xf3b]\\x95h!<a\\xb5\\x84\\x0e<\\x9al\\x0bK\"\n"
     ]
    }
   ],
   "source": [
    "# Our public key right now is raw bytes. Our private key, on the other hand, is a x25519PrivateKey object. The most convenient way to calculate the \n",
    "# shared secret is to turn the public key into a x25519PublicKey object and leverage the built in methods to generate the shared secret\n",
    "\n",
    "server_public_key = x25519.X25519PublicKey.from_public_bytes(public_key) \n",
    "shared_secret = private_key.exchange(server_public_key)\n",
    "print(shared_secret)\n",
    "\n"
   ]
  },
  {
   "cell_type": "markdown",
   "metadata": {},
   "source": [
    "# 6b. Early Secret, Derived Secret, Handshake Secret\n",
    "We then go on to generate the early secret, the derived secret and finally the handshake secret. \n",
    "\n",
    "- Early secret is for 0-RTT data (essentially data sent with pre-shared keys). Since we're not using PSKs, this is a bunch of 0 bytes.\n",
    "- Derived secret is mainly used as salt, mixed in with the early secret to get the handshake key. This way, even if an attacker has the early secret, it's hard to determine the handshake key\n",
    "\n",
    "Each of these secrets have a \"label\" associated with them to identify their use, usually with the format \"tls13 + ID of the component\". \n",
    "\n",
    "* Note 1: We can pass in the label directly into the HKDF info parameter, or we can make a method that will append the TLS13 infront and add the necessary bytes for length, after which it is passed into the infor parameter. To avoid hardcoding, I went with the second options. If this example works, we can go back and try hardcoding the labels to see if it affects anything\n"
   ]
  },
  {
   "cell_type": "code",
   "execution_count": 62,
   "metadata": {},
   "outputs": [],
   "source": [
    "## REMEMBER TO CHANGE IT BACK TO SHA256 AFTER TESTING. Algorithm goes back to SHA256, Length goes back to 32.\n",
    "\n",
    "\n",
    "# UNCOMMENT THIS FOR TESTING. SHOULD WORK FOR SHA384 IMPLEMENTATIONS:\n",
    "\n",
    "#shared_secret = bytes.fromhex('df4a291baa1eb7cfa6934b29b474baad2697e29f1f920dcc77c8a0a088447624')\n",
    "#hello_hash = bytes.fromhex('e05f64fcd082bdb0dce473adf669c2769f257a1c75a51b7887468b5e0e7a7de4f4d34555112077f16e079019d5a845bd')\n",
    "\n",
    "# expected result\n",
    "# handshake secret: bdbbe8757494bef20de932598294ea65b5e6bf6dc5c02a960a2de2eaa9b07c929078d2caa0936231c38d1725f179d299\n",
    "# client secret: db89d2d6df0e84fed74a2288f8fd4d0959f790ff23946cdf4c26d85e51bebd42ae184501972f8d30c4a3e4a3693d0ef0\n",
    "# server secret: 23323da031634b241dd37d61032b62a4f450584d1f7f47983ba2f7cc0cdcc39a68f481f2b019f9403a3051908a5d1622\n",
    "# client handshake key: 1135b4826a9a70257e5a391ad93093dfd7c4214812f493b3e3daae1eb2b1ac69\n",
    "# client handshake iv: 4256d2e0e88babdd05eb2f27\n",
    "# server handshake key: 9f13575ce3f8cfc1df64a77ceaffe89700b492ad31b4fab01c4792be1b266b7f\n",
    "# server handshake iv: 9563bc8b590f671f488d2da3\n",
    "\n",
    "\n",
    "# TLS specs make use of 2 methods: HKDF-Extract and HKDF-Expand. HKDF-Extract can be found in hkdf.HKDF()_extract(). HKDF-Expand is hkdf.HKDFExpand()\n",
    "\n",
    "\n",
    "#Define our own hkdf_expand_label. This is basically calling HKDF to derive secrets, with an added step of configuring the labels associated with the component.\n",
    "\n",
    "def hkdf_expand_label(secret: bytes, label: str, context: bytes, length: int) -> bytes:\n",
    "    # Construct the HkdfLabel as specified in TLS 1.3\n",
    "    label = b\"tls13 \" + label.encode('utf-8')\n",
    "    hkdf_label = (\n",
    "        struct.pack(\"!H\", length) +  # 2 bytes for length\n",
    "        struct.pack(\"!B\", len(label)) + label +  # 1 byte for label length + label\n",
    "        struct.pack(\"!B\", len(context)) + context  # 1 byte for context length + context\n",
    "    )\n",
    "    \n",
    "    # Use HKDF-Expand\n",
    "    encryption = hkdf.HKDFExpand(\n",
    "        algorithm=hashes.SHA256(),\n",
    "        length=length,\n",
    "        info=hkdf_label,\n",
    "    )\n",
    "    \n",
    "    return encryption.derive(secret)\n",
    "\n",
    "\n",
    "early_secret = hkdf.HKDF(\n",
    "    algorithm=hashes.SHA256(), #We negotiated SHA256 in our cipher suite\n",
    "    length=32,\n",
    "    salt=b'\\x00',\n",
    "    info=b'\\x00'\n",
    ")._extract(b'\\x00' * 48) #The first input key is simply 00\n",
    "\n",
    "empty_hash = hashes.Hash(hashes.SHA384())\n",
    "empty_hash.update(b\"\")  # Empty string\n",
    "empty_hash = empty_hash.finalize()\n",
    "\n",
    "# We then derive another secret called the derived secret from the early secret\n",
    "derived_secret = hkdf_expand_label(\n",
    "    secret = early_secret,\n",
    "    label=\"derived\",\n",
    "    context=empty_hash,\n",
    "    length=32\n",
    ")\n",
    "\n",
    "# The derived secret is mixed into the early secret to get the handshake secret\n",
    "handshake_secret = hkdf.HKDF(\n",
    "    algorithm=hashes.SHA256(),\n",
    "    length=32,\n",
    "    salt=derived_secret,  # derived_secret is used as salt\n",
    "    info=None\n",
    ")._extract(shared_secret)"
   ]
  },
  {
   "cell_type": "markdown",
   "metadata": {},
   "source": [
    "# 6c. Traffic Secrets and Key derivation\n",
    "\n",
    "Now that we have our handshake secret, we can now move on to derive the traffic secrets, and subsequently the keys and IVs for both the client and the server"
   ]
  },
  {
   "cell_type": "code",
   "execution_count": 63,
   "metadata": {},
   "outputs": [
    {
     "name": "stdout",
     "output_type": "stream",
     "text": [
      "handshake secret: aa9e4e5a9f72a7ffe2f7a8cd5a6e6a4c08e8f4c2a85002e077ff9c166745f971\n",
      "client secret: 13c6f6d395684fe3e00ad590c9f10d370785a727dfd668f9cdf8a4c6b51f85fd\n",
      "server secret: 4da087cf5612f6b7f391570c0b79e369876609af65cb9d97e2acc37f71b5b379\n",
      "client handshake key: 33e9884a8e478c463358f0b8260ffd05\n",
      "client handshake iv: bf566b739942fe2f2e751768\n",
      "server handshake key: 7e11c9303a0b18c8d815bc66e21a2c82\n",
      "server handshake iv: 9c24614595e5a4fb9de63273\n"
     ]
    }
   ],
   "source": [
    "# Deriving the secrets and subsequent keys + IVs.\n",
    "client_secret = hkdf_expand_label(\n",
    "    secret = handshake_secret, \n",
    "    label = \"c hs traffic\", \n",
    "    context = hello_hash, \n",
    "    length = 32\n",
    ")\n",
    "\n",
    "server_secret = hkdf_expand_label(\n",
    "    secret = handshake_secret,\n",
    "    label = \"s hs traffic\",\n",
    "    context = hello_hash,\n",
    "    length = 32\n",
    ")\n",
    "\n",
    "\n",
    "client_handshake_key = hkdf_expand_label(\n",
    "    secret = client_secret,\n",
    "    label = \"key\",\n",
    "    context = b\"\",\n",
    "    length = 16\n",
    ")\n",
    "\n",
    "server_handshake_key = hkdf_expand_label(\n",
    "    secret = server_secret,\n",
    "    label = \"key\",\n",
    "    context = b\"\",\n",
    "    length = 16\n",
    ")\n",
    "\n",
    "client_handshake_iv = hkdf_expand_label(\n",
    "    secret = client_secret,\n",
    "    label = \"iv\",\n",
    "    context = b\"\",\n",
    "    length = 12\n",
    ")\n",
    "\n",
    "server_handshake_iv = hkdf_expand_label(\n",
    "    secret = server_secret,\n",
    "    label = \"iv\",\n",
    "    context = b\"\",\n",
    "    length = 12\n",
    ")\n",
    "\n",
    "\n",
    "\n",
    "\n",
    "print(\"handshake secret: \" + handshake_secret.hex())\n",
    "print(\"client secret: \" + client_secret.hex())\n",
    "print(\"server secret: \" + server_secret.hex())\n",
    "print(\"client handshake key: \" + client_handshake_key.hex())\n",
    "print(\"client handshake iv: \"+ client_handshake_iv.hex())\n",
    "print(\"server handshake key: \" + server_handshake_key.hex())\n",
    "print(\"server handshake iv: \" + server_handshake_iv.hex())\n"
   ]
  },
  {
   "cell_type": "code",
   "execution_count": null,
   "metadata": {},
   "outputs": [],
   "source": []
  }
 ],
 "metadata": {
  "kernelspec": {
   "display_name": "Python 3",
   "language": "python",
   "name": "python3"
  },
  "language_info": {
   "codemirror_mode": {
    "name": "ipython",
    "version": 3
   },
   "file_extension": ".py",
   "mimetype": "text/x-python",
   "name": "python",
   "nbconvert_exporter": "python",
   "pygments_lexer": "ipython3",
   "version": "3.9.7"
  }
 },
 "nbformat": 4,
 "nbformat_minor": 2
}
